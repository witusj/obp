{
 "cells": [
  {
   "cell_type": "code",
   "execution_count": 239,
   "metadata": {},
   "outputs": [],
   "source": [
    "import numpy as np"
   ]
  },
  {
   "cell_type": "markdown",
   "metadata": {},
   "source": [
    "Create random individual"
   ]
  },
  {
   "cell_type": "code",
   "execution_count": 243,
   "metadata": {},
   "outputs": [
    {
     "name": "stdout",
     "output_type": "stream",
     "text": [
      "[0. 0. 0. 0. 0. 0. 0. 0. 0. 0.]\n"
     ]
    },
    {
     "data": {
      "text/plain": [
       "array([0., 0., 0., 0., 1., 0., 1., 0., 2., 4.])"
      ]
     },
     "execution_count": 243,
     "metadata": {},
     "output_type": "execute_result"
    }
   ],
   "source": [
    "class Schedule:\n",
    "    def __init__(self, I, N):\n",
    "        self.I = I  # Number of intervals\n",
    "        self.N = N  # Number of patients\n",
    "        self.x = np.zeros(self.I) # Empty schedule\n",
    "\n",
    "    def create_random_schedule(self):\n",
    "        for i in range(self.N):\n",
    "            i = np.random.choice(self.I, 1)  # Interval ID\n",
    "            self.x[i] = self.x[i] + 1\n",
    "    def get_schedule(self): return(self.x)\n",
    "    def print_schedule(self): print(self.x)\n",
    "        \n",
    "I = 10  # Number of time slots\n",
    "N = 8  # Number of patients\n",
    "scheduleObject = Schedule(I, N)\n",
    "scheduleObject.print_schedule()\n",
    "scheduleObject.create_random_schedule()\n",
    "schedule = scheduleObject.get_schedule()\n",
    "schedule\n"
   ]
  },
  {
   "cell_type": "code",
   "execution_count": 244,
   "metadata": {},
   "outputs": [
    {
     "data": {
      "text/plain": [
       "[array([0., 1., 0., 1., 1., 0., 0., 0., 2., 3.]),\n",
       " array([2., 1., 1., 0., 0., 1., 0., 1., 1., 1.]),\n",
       " array([0., 1., 2., 0., 1., 1., 0., 2., 0., 1.]),\n",
       " array([1., 1., 0., 1., 1., 1., 1., 1., 0., 1.]),\n",
       " array([0., 0., 1., 3., 0., 0., 0., 2., 0., 2.]),\n",
       " array([0., 2., 2., 0., 0., 1., 1., 0., 1., 1.]),\n",
       " array([1., 0., 2., 2., 0., 0., 1., 1., 0., 1.]),\n",
       " array([0., 0., 1., 1., 1., 1., 2., 0., 0., 2.]),\n",
       " array([0., 0., 1., 1., 1., 2., 0., 1., 1., 1.]),\n",
       " array([0., 2., 0., 0., 0., 0., 3., 0., 0., 3.]),\n",
       " array([2., 1., 0., 0., 2., 1., 1., 0., 1., 0.]),\n",
       " array([0., 1., 0., 1., 1., 2., 0., 2., 0., 1.])]"
      ]
     },
     "execution_count": 244,
     "metadata": {},
     "output_type": "execute_result"
    }
   ],
   "source": [
    "class Population:\n",
    "    def __init__(self, I, N, size):\n",
    "        self.I = I\n",
    "        self.N = N\n",
    "        self.size = size\n",
    "        self.individuals = []\n",
    "        self.__create_new_individuals()\n",
    "\n",
    "    def create_new_individuals(self):\n",
    "        for i in range(self.size):\n",
    "            x = Schedule(self.I, self.N)\n",
    "            x.create_random_schedule()\n",
    "            x = x.get_schedule()\n",
    "            self.individuals.append(x)\n",
    "            \n",
    "    __create_new_individuals = create_new_individuals\n",
    "            \n",
    "size = 12\n",
    "populationObject = Population(I, N, size)\n",
    "populationObject.individuals\n"
   ]
  },
  {
   "cell_type": "code",
   "execution_count": 245,
   "metadata": {},
   "outputs": [
    {
     "data": {
      "text/plain": [
       "(10, 8, 12)"
      ]
     },
     "execution_count": 245,
     "metadata": {},
     "output_type": "execute_result"
    }
   ],
   "source": [
    "populationObject.I, populationObject.N, populationObject.size\n"
   ]
  }
 ],
 "metadata": {
  "interpreter": {
   "hash": "ebe0e52ce679db3954db162ec27d93377bfab37d36ecacfe9aed97e2f61381f0"
  },
  "kernelspec": {
   "display_name": "Python 3.10.2 64-bit ('ga': conda)",
   "language": "python",
   "name": "python3"
  },
  "language_info": {
   "codemirror_mode": {
    "name": "ipython",
    "version": 3
   },
   "file_extension": ".py",
   "mimetype": "text/x-python",
   "name": "python",
   "nbconvert_exporter": "python",
   "pygments_lexer": "ipython3",
   "version": "3.10.2"
  },
  "orig_nbformat": 4
 },
 "nbformat": 4,
 "nbformat_minor": 2
}
