{
 "cells": [
  {
   "cell_type": "code",
   "execution_count": 1,
   "metadata": {},
   "outputs": [],
   "source": [
    "import numpy as np"
   ]
  },
  {
   "cell_type": "markdown",
   "metadata": {},
   "source": [
    "Create random individual"
   ]
  },
  {
   "cell_type": "code",
   "execution_count": 175,
   "metadata": {},
   "outputs": [
    {
     "name": "stdout",
     "output_type": "stream",
     "text": [
      "[0. 0. 0. 0. 0. 0. 0. 0. 0. 0.]\n",
      "[2. 0. 0. 1. 2. 0. 0. 1. 2. 0.]\n"
     ]
    },
    {
     "data": {
      "text/plain": [
       "array([0., 0., 2., 0., 0., 2., 2., 1., 1., 0.])"
      ]
     },
     "execution_count": 175,
     "metadata": {},
     "output_type": "execute_result"
    }
   ],
   "source": [
    "class Schedule:\n",
    "    def __init__(self, I, N):\n",
    "        self.I = I  # Number of intervals\n",
    "        self.N = N  # Number of patients\n",
    "        self.x = np.zeros(I) # Empty schedule\n",
    "\n",
    "    def set_random_schedule(self):\n",
    "        for i in range(self.N):\n",
    "            i = np.random.choice(self.I, 1)  # Interval ID\n",
    "            self.x[i] = self.x[i] + 1\n",
    "    def get_schedule(self): return(self.x)\n",
    "    def print_schedule(self): print(self.x)\n",
    "        \n",
    "I = 10  # Number of time slots\n",
    "N = 8  # Number of patients\n",
    "x = Schedule(I, N)\n",
    "x.print_schedule()\n",
    "x.set_random_schedule()\n",
    "x.print_schedule()\n",
    "\n",
    "y = Schedule(I, N)\n",
    "y.set_random_schedule()\n",
    "y = y.get_schedule()\n",
    "y"
   ]
  },
  {
   "cell_type": "code",
   "execution_count": 108,
   "metadata": {},
   "outputs": [
    {
     "data": {
      "text/plain": [
       "array([1., 0., 0., 2., 1., 1., 1., 1., 0., 1.])"
      ]
     },
     "execution_count": 108,
     "metadata": {},
     "output_type": "execute_result"
    }
   ],
   "source": [
    "class Population:\n",
    "    def __init__(self, size):\n",
    "        self.size = size\n",
    "        self.population = []\n",
    "    def create_population(self):\n",
    "        for i in range(self.size):\n",
    "            x = Schedule\n",
    "            self.population.append\n",
    "            "
   ]
  }
 ],
 "metadata": {
  "interpreter": {
   "hash": "ebe0e52ce679db3954db162ec27d93377bfab37d36ecacfe9aed97e2f61381f0"
  },
  "kernelspec": {
   "display_name": "Python 3.10.2 64-bit ('ga': conda)",
   "language": "python",
   "name": "python3"
  },
  "language_info": {
   "codemirror_mode": {
    "name": "ipython",
    "version": 3
   },
   "file_extension": ".py",
   "mimetype": "text/x-python",
   "name": "python",
   "nbconvert_exporter": "python",
   "pygments_lexer": "ipython3",
   "version": "3.10.2"
  },
  "orig_nbformat": 4
 },
 "nbformat": 4,
 "nbformat_minor": 2
}
