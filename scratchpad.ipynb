{
 "cells": [
  {
   "cell_type": "code",
   "execution_count": 49,
   "metadata": {},
   "outputs": [],
   "source": [
    "import numpy as np"
   ]
  },
  {
   "cell_type": "markdown",
   "metadata": {},
   "source": [
    "Create random individual"
   ]
  },
  {
   "cell_type": "code",
   "execution_count": 50,
   "metadata": {},
   "outputs": [
    {
     "name": "stdout",
     "output_type": "stream",
     "text": [
      "[0. 0. 0. 0. 0. 0. 0. 0. 0. 0.]\n"
     ]
    },
    {
     "data": {
      "text/plain": [
       "array([0., 2., 0., 0., 2., 2., 0., 1., 1., 0.])"
      ]
     },
     "execution_count": 50,
     "metadata": {},
     "output_type": "execute_result"
    }
   ],
   "source": [
    "class Schedule:\n",
    "    def __init__(self, I, N):\n",
    "        self.I = I  # Number of intervals\n",
    "        self.N = N  # Number of patients\n",
    "        self.x = np.zeros(self.I) # Empty schedule\n",
    "\n",
    "    def create_random_schedule(self):\n",
    "        for i in range(self.N):\n",
    "            i = np.random.choice(self.I, 1)  # Interval ID\n",
    "            self.x[i] = self.x[i] + 1\n",
    "    def get_schedule(self): return(self.x)\n",
    "    def print_schedule(self): print(self.x)\n",
    "        \n",
    "I = 10  # Number of time slots\n",
    "N = 8  # Number of patients\n",
    "scheduleObject = Schedule(I, N)\n",
    "scheduleObject.print_schedule()\n",
    "scheduleObject.create_random_schedule()\n",
    "schedule = scheduleObject.get_schedule()\n",
    "schedule\n"
   ]
  },
  {
   "cell_type": "markdown",
   "metadata": {},
   "source": [
    "Create population of individuals"
   ]
  },
  {
   "cell_type": "code",
   "execution_count": 51,
   "metadata": {},
   "outputs": [
    {
     "data": {
      "text/plain": [
       "[array([1., 4., 0., 0., 0., 1., 0., 1., 0., 1.]),\n",
       " array([0., 1., 2., 0., 1., 2., 1., 0., 1., 0.]),\n",
       " array([1., 0., 1., 3., 0., 1., 0., 2., 0., 0.]),\n",
       " array([1., 0., 0., 0., 2., 2., 1., 1., 0., 1.]),\n",
       " array([0., 2., 2., 1., 0., 1., 0., 1., 0., 1.]),\n",
       " array([1., 0., 0., 1., 1., 1., 1., 0., 1., 2.]),\n",
       " array([1., 3., 0., 1., 3., 0., 0., 0., 0., 0.]),\n",
       " array([2., 0., 0., 0., 0., 1., 1., 3., 1., 0.]),\n",
       " array([1., 1., 1., 1., 0., 2., 0., 2., 0., 0.]),\n",
       " array([1., 0., 1., 1., 0., 3., 0., 1., 0., 1.]),\n",
       " array([1., 0., 3., 0., 2., 0., 0., 1., 0., 1.]),\n",
       " array([0., 2., 1., 1., 1., 0., 0., 2., 0., 1.])]"
      ]
     },
     "execution_count": 51,
     "metadata": {},
     "output_type": "execute_result"
    }
   ],
   "source": [
    "class Population:\n",
    "    def __init__(self, I, N, size):\n",
    "        self.I = I\n",
    "        self.N = N\n",
    "        self.size = size\n",
    "        self.individuals = []\n",
    "        self.__create_new_individuals()\n",
    "\n",
    "    def create_new_individuals(self):\n",
    "        for i in range(self.size):\n",
    "            x = Schedule(self.I, self.N)\n",
    "            x.create_random_schedule()\n",
    "            x = x.get_schedule()\n",
    "            self.individuals.append(x)\n",
    "            \n",
    "    __create_new_individuals = create_new_individuals\n",
    "    \n",
    "    def get_individuals(self): return(self.individuals)\n",
    "    \n",
    "            \n",
    "size = 12\n",
    "populationObject = Population(I, N, size)\n",
    "populationObject.individuals"
   ]
  },
  {
   "cell_type": "code",
   "execution_count": 6,
   "metadata": {},
   "outputs": [
    {
     "data": {
      "text/plain": [
       "(10, 8, 12)"
      ]
     },
     "execution_count": 6,
     "metadata": {},
     "output_type": "execute_result"
    }
   ],
   "source": [
    "populationObject.I, populationObject.N, populationObject.size"
   ]
  },
  {
   "cell_type": "code",
   "execution_count": 54,
   "metadata": {},
   "outputs": [
    {
     "name": "stdout",
     "output_type": "stream",
     "text": [
      "[1. 4. 0. 0. 0. 1. 0. 1. 0. 1.] [0. 1. 2. 0. 1. 2. 1. 0. 1. 0.]\n"
     ]
    },
    {
     "data": {
      "text/plain": [
       "(array([1., 3., 0., 0., 0., 1., 1., 1., 0., 1.]),\n",
       " array([0., 2., 2., 0., 1., 2., 0., 0., 1., 0.]))"
      ]
     },
     "execution_count": 54,
     "metadata": {},
     "output_type": "execute_result"
    }
   ],
   "source": [
    "def crossover(parent1, parent2, I, n):\n",
    "    child1 = parent1.copy()\n",
    "    child2 = parent2.copy()\n",
    "    p1 = np.linalg.norm(child1)\n",
    "    p2 = np.linalg.norm(child2)\n",
    "    \n",
    "    i = np.random.choice(I, n, p1)\n",
    "    j = np.random.choice(I, n, p2)\n",
    "\n",
    "    for i in i:\n",
    "        if child1[i] > 0:\n",
    "            child1[i] += -1\n",
    "            child2[i] += 1\n",
    "\n",
    "    for j in j:\n",
    "        if child2[j] > 0:\n",
    "            child1[j] += 1\n",
    "            child2[j] += -1\n",
    "    return(child1, child2)\n",
    "\n",
    "\n",
    "population = populationObject.get_individuals()\n",
    "parent1 = population[0]\n",
    "parent2 = population[1]\n",
    "\n",
    "print(parent1, parent2)\n",
    "n = 4\n",
    "children = crossover(parent1, parent2, I, n)\n",
    "children\n"
   ]
  }
 ],
 "metadata": {
  "interpreter": {
   "hash": "ebe0e52ce679db3954db162ec27d93377bfab37d36ecacfe9aed97e2f61381f0"
  },
  "kernelspec": {
   "display_name": "Python 3.10.2 64-bit ('ga': conda)",
   "language": "python",
   "name": "python3"
  },
  "language_info": {
   "codemirror_mode": {
    "name": "ipython",
    "version": 3
   },
   "file_extension": ".py",
   "mimetype": "text/x-python",
   "name": "python",
   "nbconvert_exporter": "python",
   "pygments_lexer": "ipython3",
   "version": "3.10.2"
  },
  "orig_nbformat": 4
 },
 "nbformat": 4,
 "nbformat_minor": 2
}
