{
  "nbformat": 4,
  "nbformat_minor": 0,
  "metadata": {
    "colab": {
      "name": "outpatient_scheduling.ipynb",
      "provenance": [],
      "include_colab_link": true
    },
    "kernelspec": {
      "name": "python3",
      "display_name": "Python 3"
    },
    "language_info": {
      "name": "python"
    }
  },
  "cells": [
    {
      "cell_type": "markdown",
      "metadata": {
        "id": "view-in-github",
        "colab_type": "text"
      },
      "source": [
        "<a href=\"https://colab.research.google.com/github/witusj/obp/blob/master/outpatient_scheduling.ipynb\" target=\"_parent\"><img src=\"https://colab.research.google.com/assets/colab-badge.svg\" alt=\"Open In Colab\"/></a>"
      ]
    },
    {
      "cell_type": "code",
      "metadata": {
        "id": "q__0Cso8SFQK"
      },
      "source": [
        "## Import packages\n",
        "import numpy as np\n",
        "import math\n",
        "import random"
      ],
      "execution_count": null,
      "outputs": []
    },
    {
      "cell_type": "markdown",
      "metadata": {
        "id": "yFXRf7KGRoui"
      },
      "source": [
        "## Setup problem definition"
      ]
    },
    {
      "cell_type": "code",
      "metadata": {
        "colab": {
          "base_uri": "https://localhost:8080/"
        },
        "id": "yLzG-_SeRfC4",
        "outputId": "8ea4af8f-8ce9-4e0c-d78d-f6e3f57eb1e0"
      },
      "source": [
        "class schedule:\n",
        "  def __init__(self, beta: int, T: int, d: int, N: int):\n",
        "    self.beta = beta\n",
        "    self.T = T\n",
        "    self.d = d\n",
        "    self.N = N\n",
        "    self.x:list[int] = np.repeat(0, self.T)\n",
        "  def make_random_schedule(self, min_x: int, max_x: int, step: int=1):\n",
        "    n = self.N\n",
        "    for i in range(0,self.T, step):\n",
        "      if n >= 0:\n",
        "        r = random.randint(min_x, max_x)\n",
        "        self.x[i] = min(r,n)\n",
        "        n = n - r\n",
        "        print(n, self.x[i])\n",
        "      else:\n",
        "        return\n",
        "\n",
        "\n",
        "beta = 20\n",
        "T = 48\n",
        "d = 5\n",
        "N = 10\n",
        "s1 = schedule(20,48,5,10)\n",
        "step = math.floor(beta/d)\n",
        "s1.make_random_schedule(0,2, step)\n",
        "print(s1.x)\n",
        "print(f'total number of patients in schedule {sum(s1.x)}')"
      ],
      "execution_count": null,
      "outputs": [
        {
          "output_type": "stream",
          "name": "stdout",
          "text": [
            "8 2\n",
            "7 1\n",
            "6 1\n",
            "5 1\n",
            "3 2\n",
            "2 1\n",
            "0 2\n",
            "0 0\n",
            "-1 0\n",
            "[2 0 0 0 1 0 0 0 1 0 0 0 1 0 0 0 2 0 0 0 1 0 0 0 2 0 0 0 0 0 0 0 0 0 0 0 0\n",
            " 0 0 0 0 0 0 0 0 0 0 0]\n",
            "total number of patients in schedule 10\n"
          ]
        }
      ]
    },
    {
      "cell_type": "markdown",
      "metadata": {
        "id": "lc8GnVez7ZGl"
      },
      "source": [
        "## Functions"
      ]
    },
    {
      "cell_type": "code",
      "metadata": {
        "colab": {
          "base_uri": "https://localhost:8080/"
        },
        "id": "DHVmKKsR4srX",
        "outputId": "9eb28847-ab21-445d-99ea-b2b52fe62753"
      },
      "source": [
        "def recursive_sum(i):\n",
        "  if i==1:\n",
        "    return 1\n",
        "  return i+recursive_sum(i-1)\n",
        "\n",
        "recursive_sum(5)"
      ],
      "execution_count": null,
      "outputs": [
        {
          "output_type": "execute_result",
          "data": {
            "text/plain": [
              "15"
            ]
          },
          "metadata": {},
          "execution_count": 6
        }
      ]
    },
    {
      "cell_type": "code",
      "metadata": {
        "colab": {
          "base_uri": "https://localhost:8080/"
        },
        "id": "OVEJ8XeO8CZN",
        "outputId": "251114c5-53a6-4ef6-f603-5b50728a7314"
      },
      "source": [
        "def factorial(i):\n",
        "  if i==1:\n",
        "    return 1\n",
        "  return i * factorial(i-1)\n",
        "\n",
        "factorial(5)"
      ],
      "execution_count": null,
      "outputs": [
        {
          "output_type": "execute_result",
          "data": {
            "text/plain": [
              "120"
            ]
          },
          "metadata": {},
          "execution_count": 9
        }
      ]
    },
    {
      "cell_type": "code",
      "metadata": {
        "colab": {
          "base_uri": "https://localhost:8080/"
        },
        "id": "ejsk3dWmJYX3",
        "outputId": "ee1f1f1d-fbef-4aef-c742-abde62254f6c"
      },
      "source": [
        "def service(k, beta):\n",
        "  return pow(beta,k)*math.exp(-beta) / factorial(k)\n",
        "\n",
        "service(10,20)"
      ],
      "execution_count": null,
      "outputs": [
        {
          "output_type": "execute_result",
          "data": {
            "text/plain": [
              "0.005816306518345136"
            ]
          },
          "metadata": {},
          "execution_count": 21
        }
      ]
    },
    {
      "cell_type": "code",
      "metadata": {
        "colab": {
          "base_uri": "https://localhost:8080/"
        },
        "id": "hU4AbuGynDF-",
        "outputId": "a9f51526-558f-472e-f5f5-e6c91033ce09"
      },
      "source": [
        "def binomial_coef(n,k):\n",
        "  return factorial(n)/(factorial(k)*factorial(n-k))\n",
        "\n",
        "print(f'{binomial_coef(4,1)} {binomial_coef(4,2)} {binomial_coef(4,3)}')"
      ],
      "execution_count": null,
      "outputs": [
        {
          "output_type": "stream",
          "name": "stdout",
          "text": [
            "4.0 6.0 4.0\n"
          ]
        }
      ]
    },
    {
      "cell_type": "code",
      "metadata": {
        "colab": {
          "base_uri": "https://localhost:8080/"
        },
        "id": "6gyJwRgxJeid",
        "outputId": "6274b4fd-1c42-44b5-cc30-776e7cb293dc"
      },
      "source": [
        "def iteration_small(x, results, I, n):\n",
        "  x_new = x.copy()\n",
        "  for m in range(1, I-1):\n",
        "    for k in list(range(1, I))[::-1]:\n",
        "      if x_new[k] > 0:\n",
        "        x_new[k] -= 1\n",
        "        x_new[((k + m - 1) % I) + 1] += 1\n",
        "        results_temp = results(x_new, 0) # class for storing results?\n",
        "        if results_temp['objVal'] < results['objVal']): # need to use eval method instead?\n",
        "          return x_new, results_temp\n",
        "        else: \n",
        "          x_new[k] += 1\n",
        "          x_new[((k + m - 1) % I) + 1] -= 1 # store index as variable?\n",
        "  return X, None"
      ],
      "execution_count": null,
      "outputs": [
        {
          "output_type": "stream",
          "name": "stdout",
          "text": [
            "test\n"
          ]
        }
      ]
    }
  ]
}