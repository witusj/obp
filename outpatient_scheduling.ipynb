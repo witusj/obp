{
  "nbformat": 4,
  "nbformat_minor": 0,
  "metadata": {
    "colab": {
      "name": "outpatient_scheduling.ipynb",
      "provenance": [],
      "collapsed_sections": [],
      "include_colab_link": true
    },
    "kernelspec": {
      "name": "python3",
      "display_name": "Python 3"
    },
    "language_info": {
      "name": "python"
    }
  },
  "cells": [
    {
      "cell_type": "markdown",
      "metadata": {
        "id": "view-in-github",
        "colab_type": "text"
      },
      "source": [
        "<a href=\"https://colab.research.google.com/github/witusj/obp/blob/master/outpatient_scheduling.ipynb\" target=\"_parent\"><img src=\"https://colab.research.google.com/assets/colab-badge.svg\" alt=\"Open In Colab\"/></a>"
      ]
    },
    {
      "cell_type": "code",
      "metadata": {
        "id": "q__0Cso8SFQK"
      },
      "source": [
        "## Import packages\n",
        "import numpy as np\n",
        "import math\n",
        "import random\n",
        "from scipy.stats import poisson\n",
        "from scipy.special import binom"
      ],
      "execution_count": 36,
      "outputs": []
    },
    {
      "cell_type": "markdown",
      "metadata": {
        "id": "yFXRf7KGRoui"
      },
      "source": [
        "## Setup problem definition"
      ]
    },
    {
      "cell_type": "markdown",
      "metadata": {
        "id": "zVFKVKXyPiwm"
      },
      "source": [
        "## Test case\n",
        "\n",
        "- T = 4h\n",
        "- d = 5 min\n",
        "- beta = 9 minutes service time (exponential)\n",
        "- N = 24 patients"
      ]
    },
    {
      "cell_type": "code",
      "metadata": {
        "colab": {
          "base_uri": "https://localhost:8080/"
        },
        "id": "yLzG-_SeRfC4",
        "outputId": "0f3f2688-1164-4212-9a5b-a50426977f49"
      },
      "source": [
        "class schedule:\n",
        "  def __init__(self, beta: int, T: int, d: int, N: int):\n",
        "    self.beta = beta # = 1/μ : average service time\n",
        "    self.T = T # number of intervals\n",
        "    self.d = d # length of interval\n",
        "    self.N = N # total number of patients\n",
        "    self.x:list[int] = np.repeat(0, self.T) # schedule with x[t] as number of \n",
        "                                            # patients scheduled at the start of\n",
        "                                            # interval t, t = 1,...,T; initially\n",
        "                                            # set at zero\n",
        "  def reset_schedule(self):\n",
        "    for t in range(self.T):\n",
        "      self.x[t] = 0\n",
        "  def make_random_schedule(self, min_x: int, max_x: int, step: int=1):\n",
        "    n = self.N\n",
        "    for i in range(0,self.T, step):\n",
        "      if n >= 0:\n",
        "        r = random.randint(min_x, max_x)\n",
        "        self.x[i] = min(r,n)\n",
        "        n = n - r\n",
        "        print(n, self.x[i])\n",
        "      else:\n",
        "        return\n",
        "  def make_initial_schedule(self):\n",
        "    for i in range(self.N):\n",
        "      t = round(i*self.T / self.N)\n",
        "      print(i)\n",
        "      if i > self.T:\n",
        "        i-= 1\n",
        "      self.x[t] += 1\n",
        "\n",
        "beta = 20\n",
        "T = 48\n",
        "d = 5\n",
        "N = 10\n",
        "s1 = schedule(beta,T,d,N)\n",
        "step = math.floor(beta/d)\n",
        "s1.make_random_schedule(0,2, step)\n",
        "print(s1.x)\n",
        "print(f'total number of patients in schedule {sum(s1.x)}')\n",
        "s1.reset_schedule()\n",
        "print(s1.x)\n",
        "s1.make_initial_schedule()\n",
        "print(s1.x)\n",
        "print(f'total number of patients in schedule {sum(s1.x)}')"
      ],
      "execution_count": 37,
      "outputs": [
        {
          "output_type": "stream",
          "name": "stdout",
          "text": [
            "10 0\n",
            "8 2\n",
            "8 0\n",
            "7 1\n",
            "5 2\n",
            "5 0\n",
            "5 0\n",
            "5 0\n",
            "5 0\n",
            "4 1\n",
            "3 1\n",
            "3 0\n",
            "[0 0 0 0 2 0 0 0 0 0 0 0 1 0 0 0 2 0 0 0 0 0 0 0 0 0 0 0 0 0 0 0 0 0 0 0 1\n",
            " 0 0 0 1 0 0 0 0 0 0 0]\n",
            "total number of patients in schedule 7\n",
            "[0 0 0 0 0 0 0 0 0 0 0 0 0 0 0 0 0 0 0 0 0 0 0 0 0 0 0 0 0 0 0 0 0 0 0 0 0\n",
            " 0 0 0 0 0 0 0 0 0 0 0]\n",
            "0\n",
            "1\n",
            "2\n",
            "3\n",
            "4\n",
            "5\n",
            "6\n",
            "7\n",
            "8\n",
            "9\n",
            "[1 0 0 0 0 1 0 0 0 0 1 0 0 0 1 0 0 0 0 1 0 0 0 0 1 0 0 0 0 1 0 0 0 0 1 0 0\n",
            " 0 1 0 0 0 0 1 0 0 0 0]\n",
            "total number of patients in schedule 10\n"
          ]
        }
      ]
    },
    {
      "cell_type": "markdown",
      "metadata": {
        "id": "lc8GnVez7ZGl"
      },
      "source": [
        "## Functions"
      ]
    },
    {
      "cell_type": "code",
      "metadata": {
        "colab": {
          "base_uri": "https://localhost:8080/"
        },
        "id": "DHVmKKsR4srX",
        "outputId": "8e016f54-26e6-4a8e-bd9d-a02010372e1a"
      },
      "source": [
        "def recursive_sum(i):\n",
        "  if i==1:\n",
        "    return 1\n",
        "  return i+recursive_sum(i-1)\n",
        "\n",
        "recursive_sum(5)"
      ],
      "execution_count": 38,
      "outputs": [
        {
          "output_type": "execute_result",
          "data": {
            "text/plain": [
              "15"
            ]
          },
          "metadata": {},
          "execution_count": 38
        }
      ]
    },
    {
      "cell_type": "code",
      "metadata": {
        "colab": {
          "base_uri": "https://localhost:8080/"
        },
        "id": "OVEJ8XeO8CZN",
        "outputId": "c2dca5d8-1fea-451f-d0a0-e44a342f5e4d"
      },
      "source": [
        "#not used because of recursion depth limit in Python\n",
        "#def factorial(i):\n",
        "#  if i==1:\n",
        "#    return 1\n",
        "#  return i * factorial(i-1)\n",
        "#\n",
        "#factorial(5)\n",
        "\n",
        "for i in range(10):\n",
        "  print(math.factorial(i))"
      ],
      "execution_count": 39,
      "outputs": [
        {
          "output_type": "stream",
          "name": "stdout",
          "text": [
            "1\n",
            "1\n",
            "2\n",
            "6\n",
            "24\n",
            "120\n",
            "720\n",
            "5040\n",
            "40320\n",
            "362880\n"
          ]
        }
      ]
    },
    {
      "cell_type": "code",
      "metadata": {
        "colab": {
          "base_uri": "https://localhost:8080/"
        },
        "id": "ejsk3dWmJYX3",
        "outputId": "af32ffb8-cdc8-437c-9c63-651bfa7c8fea"
      },
      "source": [
        "# Not necessary - use scipy poisson.pmf instead\n",
        "def service(k, beta):\n",
        "  return pow(beta,k)*math.exp(-beta) / math.factorial(k)\n",
        "\n",
        "service(10,20)"
      ],
      "execution_count": 40,
      "outputs": [
        {
          "output_type": "execute_result",
          "data": {
            "text/plain": [
              "0.005816306518345136"
            ]
          },
          "metadata": {},
          "execution_count": 40
        }
      ]
    },
    {
      "cell_type": "code",
      "metadata": {
        "id": "hU4AbuGynDF-"
      },
      "source": [
        "# Not necessary - use scipy binom instead\n",
        "#def binomial_coef(n,k):\n",
        "#  return factorial(n)/(factorial(k)*factorial(n-k))\n",
        "\n",
        "#print(f'{binomial_coef(4,1)} {binomial_coef(4,2)} {binomial_coef(4,3)}')"
      ],
      "execution_count": 41,
      "outputs": []
    },
    {
      "cell_type": "code",
      "metadata": {
        "colab": {
          "base_uri": "https://localhost:8080/"
        },
        "id": "Liux9pxVwnS3",
        "outputId": "a247f72e-15d1-478b-897c-7c138a6d6383"
      },
      "source": [
        "print(f'{binom(4,1)} {binom(4,2)} {binom(4,3)}')"
      ],
      "execution_count": 42,
      "outputs": [
        {
          "output_type": "stream",
          "name": "stdout",
          "text": [
            "4.0 6.0 4.0\n"
          ]
        }
      ]
    },
    {
      "cell_type": "code",
      "metadata": {
        "id": "6gyJwRgxJeid"
      },
      "source": [
        "# moving patients iteratively, local search\n",
        "def iteration_small(x, results, I, n): # name of function should be meaningful; add types.\n",
        "  x_new = x.copy()\n",
        "  for m in range(1, I-1):\n",
        "    for k in list(range(1, I))[::-1]:\n",
        "      if x_new[k] > 0:\n",
        "        x_new[k] -= 1\n",
        "        x_new[((k + m - 1) % I) + 1] += 1\n",
        "        results_temp = results(x_new, 0) # class for storing results?\n",
        "        if results_temp['objVal'] < results['objVal']: # need to use eval method instead?\n",
        "          return x_new, results_temp\n",
        "        else: \n",
        "          x_new[k] += 1\n",
        "          x_new[((k + m - 1) % I) + 1] -= 1 # store index as variable?\n",
        "  return X, None"
      ],
      "execution_count": 43,
      "outputs": []
    },
    {
      "cell_type": "code",
      "metadata": {
        "colab": {
          "base_uri": "https://localhost:8080/"
        },
        "id": "s7aVoG6vTDUw",
        "outputId": "a9558261-c082-4556-91d1-6b60127420b5"
      },
      "source": [
        "def limit(mu): # name of function should be meaningful\n",
        "  return int(max(mu+4*math.sqrt(mu),100))\n",
        "\n",
        "limit(1/beta)"
      ],
      "execution_count": 44,
      "outputs": [
        {
          "output_type": "execute_result",
          "data": {
            "text/plain": [
              "100"
            ]
          },
          "metadata": {},
          "execution_count": 44
        }
      ]
    },
    {
      "cell_type": "code",
      "metadata": {
        "id": "3aweyabGgcoi"
      },
      "source": [
        "#def create_a1(beta, precision=0.9999): #Poisson P(potential departures = k)\n",
        "#  k = 0\n",
        "#  a=[]\n",
        "#  while sum(a) < precision:\n",
        "#    a.append(service(k, beta)) # Service function not necessary - use scipy poisson instead\n",
        "#    k+=1\n",
        "#  return(a)\n",
        "\n",
        "#a1=create_a(10)\n",
        "#a1"
      ],
      "execution_count": 45,
      "outputs": []
    },
    {
      "cell_type": "code",
      "metadata": {
        "colab": {
          "base_uri": "https://localhost:8080/"
        },
        "id": "JJM6vfRgviN9",
        "outputId": "b2862ab3-b386-40cc-ade9-11b270cdb5f8"
      },
      "source": [
        "def create_a2(beta, precision=0.9999): #Poisson P(potential departures = k)\n",
        "  k = 0\n",
        "  a=[]\n",
        "  while sum(a) < precision:\n",
        "    a.append(poisson.pmf(k=k, mu=beta))\n",
        "    k+=1\n",
        "  return(a)\n",
        "\n",
        "a2=create_a2(10)\n",
        "a2"
      ],
      "execution_count": 46,
      "outputs": [
        {
          "output_type": "execute_result",
          "data": {
            "text/plain": [
              "[4.5399929762484854e-05,\n",
              " 0.0004539992976248486,\n",
              " 0.0022699964881242435,\n",
              " 0.007566654960414144,\n",
              " 0.01891663740103538,\n",
              " 0.03783327480207079,\n",
              " 0.06305545800345125,\n",
              " 0.090079225719216,\n",
              " 0.11259903214902009,\n",
              " 0.12511003572113372,\n",
              " 0.12511003572113372,\n",
              " 0.11373639611012128,\n",
              " 0.09478033009176803,\n",
              " 0.07290794622443707,\n",
              " 0.05207710444602615,\n",
              " 0.034718069630684245,\n",
              " 0.021698793519177594,\n",
              " 0.012763996187751505,\n",
              " 0.007091108993195334,\n",
              " 0.003732162627997529,\n",
              " 0.0018660813139987742,\n",
              " 0.0008886101495232241,\n",
              " 0.0004039137043287357,\n",
              " 0.00017561465405597286,\n",
              " 7.317277252332212e-05]"
            ]
          },
          "metadata": {},
          "execution_count": 46
        }
      ]
    },
    {
      "cell_type": "code",
      "metadata": {
        "id": "xPhH_iHrpJlf"
      },
      "source": [
        "def calcExponentialLimit(mu):\n",
        "  return int(max(mu+4*math.sqrt(mu),100))"
      ],
      "execution_count": 47,
      "outputs": []
    },
    {
      "cell_type": "code",
      "metadata": {
        "id": "V3xzZRbS4Yl_"
      },
      "source": [
        "def binomCoeff(k, i):\n",
        "  return math.factorial(k) / (math.factorial(k - i) * math.factorial(i))\n",
        "\n",
        "def binomPMF(k, i, m, add_v, no_show):\n",
        "  return binomCoeff(k, m) * add_v[m][i] * (1 - no_show)**m * no_show**(k-m)"
      ],
      "execution_count": 48,
      "outputs": []
    },
    {
      "cell_type": "code",
      "metadata": {
        "id": "Fb17kE-AlY06"
      },
      "source": [
        "# two main components\n",
        "# find a schedule to evaluate <- efficient search procedure to still end up with a good schedule\n",
        "# evaluate a specific schedule <- as fast a possible\n",
        "def calculateProbabilities(x, p, beta, precision, n, no_show, I):\n",
        "  n_temp = n\n",
        "  count = len(p)\n",
        "  waiting = 0\n",
        "  idletime = 0\n",
        "  tardiness = 0\n",
        "  p_plus = np.zeros((1000,1000))\n",
        "  p_min = np.zeros((1000,1000))\n",
        "  v = np.zeros((1000,1000))\n",
        "  w = np.zeros((1000,1000,1000))\n",
        "  add_v = np.zeros((1000,1000)) # needs a predetermined size\n",
        "\n",
        "#\tv[k][i]=probability of having i units of work given that \n",
        "#\tk patients are scheduled for the interval.\n",
        "#\tp[i]= probability of serving the patient in i mins given that\n",
        "#\tthe average service time is beta.\n",
        "\n",
        "  for k in range(n_temp):\n",
        "    limit = calcExponentialLimit(beta*k)\n",
        "    i = 0\n",
        "    sum_k = 0\n",
        "    while sum_k < precision and i <= limit:\n",
        "      if k == 0:\n",
        "        if i > 0:\n",
        "          add_v[k][i] = 0\n",
        "        elif i == 0:\n",
        "          add_v[k][i] = 1\n",
        "      else:\n",
        "        n = 0\n",
        "        while n < count:\n",
        "          add_v[k][i] += p[n] * add_v[k-1][i-n]\n",
        "          n += 1\n",
        "      sum_k += add_v[k][i]\n",
        "      i += 1\n",
        "  \n",
        "  for k in range(n_temp):\n",
        "        i = 0\n",
        "        sum_k = 0\n",
        "        while sum_k < precision and i <= limit:\n",
        "          for m in range(k):\n",
        "            v[k][i] += binomPMF(k, i, m, add_v, no_show)\n",
        "          sum_k += v[k][i]\n",
        "          i += 1\n",
        "  \n",
        "  # Constraint 2\n",
        "  sum_p = 0\n",
        "  i = 0\n",
        "  while sum_p < precision and i <= limit:\n",
        "    if i == 0:\n",
        "      p_min[1][i] = 1\n",
        "    else:\n",
        "      p_min[1][i] = 0\n",
        "    p_plus[1][i] = v[x[1]][i] * p_min[1][0]\n",
        "    sum_p += p_plus[1][i]\n",
        "    i += 1\n",
        "  for t in range(2, I+1):\n",
        "    if not x[t]:\n",
        "      x[t] = 0\n",
        "    # Constraint 3\n",
        "    for k in range(d):\n",
        "      p_min[t][0] += p_plus[t-1][k]\n",
        "    # Constraint 4\n",
        "    for i in range(1,limit):\n",
        "      p_min[t][i] = p_plus[t-1][i+d]\n",
        "    # Constraint 5\n",
        "    if t != I+1:\n",
        "      for i in range(limit):\n",
        "        for j in range(i):\n",
        "          p_plus[t][i] += p_min[t][j] * v[x[t]][i-j]\n",
        "  # Tardiness calcs\n",
        "  for k in range(limit):\n",
        "    tardiness += k * p_min[I+1][k]\n",
        "\n",
        "  # Idle time calcs new array of given shape and type, filled with zeros.\n",
        "  idletime = (I * d) + tardiness - (n_temp * (1 - no_show) * beta)\n",
        "\n",
        "  # Waiting time calcs\n",
        "  for t in range(1, I):\n",
        "    if x[t] > 0:\n",
        "      for k in range(limit):\n",
        "        w[t][1][k] = p_min[t][k]\n",
        "    if x[t] > 1:\n",
        "      for i in range(2, x[t]):\n",
        "        for k in range(limit):\n",
        "          for j in range(k):\n",
        "            w[t][i][k] += w[t][i-1][j] * p[k-j]\n",
        "  for t in range(1, I):\n",
        "    for i in range(1, x[t]):\n",
        "      for k in range(limit):\n",
        "        waiting += w[t][i][k] * k\n",
        "  waiting /= n_temp\n",
        "\n",
        "  return(p_min, waiting, idletime, tardiness)"
      ],
      "execution_count": 49,
      "outputs": []
    },
    {
      "cell_type": "code",
      "metadata": {
        "id": "dJacKId_JeWX",
        "colab": {
          "base_uri": "https://localhost:8080/"
        },
        "outputId": "933ed5e4-ca35-4821-8dc4-9feb76988d3c"
      },
      "source": [
        "precision = 0.9999\n",
        "n = 5\n",
        "beta = 5\n",
        "T = 60\n",
        "d = 5\n",
        "I = 12\n",
        "s = schedule(beta,T,d,n)\n",
        "s.make_initial_schedule()\n",
        "x = s.x\n",
        "p = create_a2(beta, precision)\n",
        "no_show = 0\n",
        "result = calculateProbabilities(x, p, beta, precision, n, no_show, I)"
      ],
      "execution_count": 50,
      "outputs": [
        {
          "output_type": "stream",
          "name": "stdout",
          "text": [
            "0\n",
            "1\n",
            "2\n",
            "3\n",
            "4\n"
          ]
        }
      ]
    },
    {
      "cell_type": "code",
      "metadata": {
        "colab": {
          "base_uri": "https://localhost:8080/"
        },
        "id": "7kfOpyurPGi-",
        "outputId": "d6f25c23-2356-4a0e-fe69-56bcd8d47f2a"
      },
      "source": [
        "print(f'p_min: {result[0]}, waiting: {result[1]}, idletime: {result[2]}, tardiness: {result[3]}')"
      ],
      "execution_count": 51,
      "outputs": [
        {
          "output_type": "stream",
          "name": "stdout",
          "text": [
            "p_min: [[0. 0. 0. ... 0. 0. 0.]\n",
            " [1. 0. 0. ... 0. 0. 0.]\n",
            " [0. 0. 0. ... 0. 0. 0.]\n",
            " ...\n",
            " [0. 0. 0. ... 0. 0. 0.]\n",
            " [0. 0. 0. ... 0. 0. 0.]\n",
            " [0. 0. 0. ... 0. 0. 0.]], waiting: 0.0, idletime: 35.0, tardiness: 0.0\n"
          ]
        }
      ]
    },
    {
      "cell_type": "code",
      "metadata": {
        "colab": {
          "base_uri": "https://localhost:8080/"
        },
        "id": "wQYXxPgTQ2QY",
        "outputId": "8a23172c-c2a1-4ba6-c2f1-56de030984cb"
      },
      "source": [
        "precision = 0.9999\n",
        "n = 24\n",
        "beta = 5\n",
        "T = 4*60\n",
        "d = 5\n",
        "I = 48\n",
        "s = schedule(beta,T,d,n)\n",
        "s.make_initial_schedule()\n",
        "x = s.x\n",
        "p = create_a2(beta, precision)\n",
        "no_show = 0\n",
        "result = calculateProbabilities(x, p, beta, precision, n, no_show, I)"
      ],
      "execution_count": 52,
      "outputs": [
        {
          "output_type": "stream",
          "name": "stdout",
          "text": [
            "0\n",
            "1\n",
            "2\n",
            "3\n",
            "4\n",
            "5\n",
            "6\n",
            "7\n",
            "8\n",
            "9\n",
            "10\n",
            "11\n",
            "12\n",
            "13\n",
            "14\n",
            "15\n",
            "16\n",
            "17\n",
            "18\n",
            "19\n",
            "20\n",
            "21\n",
            "22\n",
            "23\n"
          ]
        }
      ]
    },
    {
      "cell_type": "code",
      "metadata": {
        "colab": {
          "base_uri": "https://localhost:8080/"
        },
        "id": "F_wmGbx5SeHV",
        "outputId": "f662d214-9f84-43b6-ee0e-98473be7e8ff"
      },
      "source": [
        "print(f'p_min: {result[0]}, waiting: {result[1]}, idletime: {result[2]}, tardiness: {result[3]}')"
      ],
      "execution_count": 53,
      "outputs": [
        {
          "output_type": "stream",
          "name": "stdout",
          "text": [
            "p_min: [[0. 0. 0. ... 0. 0. 0.]\n",
            " [1. 0. 0. ... 0. 0. 0.]\n",
            " [0. 0. 0. ... 0. 0. 0.]\n",
            " ...\n",
            " [0. 0. 0. ... 0. 0. 0.]\n",
            " [0. 0. 0. ... 0. 0. 0.]\n",
            " [0. 0. 0. ... 0. 0. 0.]], waiting: 0.0, idletime: 120.0, tardiness: 0.0\n"
          ]
        }
      ]
    }
  ]
}