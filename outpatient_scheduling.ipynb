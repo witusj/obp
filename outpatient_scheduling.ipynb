{
  "nbformat": 4,
  "nbformat_minor": 0,
  "metadata": {
    "colab": {
      "name": "outpatient_scheduling.ipynb",
      "provenance": [],
      "collapsed_sections": []
    },
    "kernelspec": {
      "name": "python3",
      "display_name": "Python 3"
    },
    "language_info": {
      "name": "python"
    }
  },
  "cells": [
    {
      "cell_type": "code",
      "metadata": {
        "id": "q__0Cso8SFQK"
      },
      "source": [
        "## Import packages\n",
        "import numpy as np\n",
        "import pandas as pd\n",
        "import math\n",
        "import random\n",
        "from scipy.stats import poisson\n",
        "from scipy.special import binom\n",
        "import seaborn as sns"
      ],
      "execution_count": 1,
      "outputs": []
    },
    {
      "cell_type": "markdown",
      "metadata": {
        "id": "yFXRf7KGRoui"
      },
      "source": [
        "## Setup problem definition"
      ]
    },
    {
      "cell_type": "markdown",
      "metadata": {
        "id": "zVFKVKXyPiwm"
      },
      "source": [
        "## Test case\n",
        "\n",
        "- T = 4h\n",
        "- d = 5 min\n",
        "- beta = 9 minutes service time (exponential)\n",
        "- N = 24 patients\n",
        "- I = T / d # the number of intervals"
      ]
    },
    {
      "cell_type": "code",
      "metadata": {
        "id": "yLzG-_SeRfC4"
      },
      "source": [
        "class schedule:\n",
        "  def __init__(self, beta: int, T: int, d: int, N: int):\n",
        "    self.beta = beta # = 1/μ : average service time\n",
        "    self.T = T # number of intervals\n",
        "    self.d = d # length of interval\n",
        "    self.N = N # total number of patients\n",
        "    self.x:list[int] = np.repeat(0, self.T) # schedule with x[t] as number of \n",
        "                                            # patients scheduled at the start of\n",
        "                                            # interval t, t = 1,...,T; initially\n",
        "                                            # set at zero\n",
        "  def reset_schedule(self):\n",
        "    for t in range(self.T):\n",
        "      self.x[t] = 0\n",
        "  def make_random_schedule(self, min_x: int, max_x: int, step: int=1):\n",
        "    n = self.N\n",
        "    for i in range(0,self.T, step):\n",
        "      if n >= 0:\n",
        "        r = random.randint(min_x, max_x)\n",
        "        self.x[i] = min(r,n)\n",
        "        n = n - r\n",
        "        print(n, self.x[i])\n",
        "      else:\n",
        "        return\n",
        "  def make_initial_schedule(self):\n",
        "    for i in range(self.N):\n",
        "      t = round(i*self.T / self.N)\n",
        "      print(i)\n",
        "      if i > self.T:\n",
        "        i-= 1\n",
        "      self.x[t] += 1\n",
        "\n",
        "# beta = 20\n",
        "# T = 48\n",
        "# d = 5\n",
        "# N = 10\n",
        "# s1 = schedule(beta,T,d,N)\n",
        "# step = math.floor(beta/d)\n",
        "# s1.make_random_schedule(0,2, step)\n",
        "# print(s1.x)\n",
        "# print(f'total number of patients in schedule {sum(s1.x)}')\n",
        "# s1.reset_schedule()\n",
        "# print(s1.x)\n",
        "# s1.make_initial_schedule()\n",
        "# print(s1.x)\n",
        "# print(f'total number of patients in schedule {sum(s1.x)}')"
      ],
      "execution_count": 2,
      "outputs": []
    },
    {
      "cell_type": "markdown",
      "metadata": {
        "id": "lc8GnVez7ZGl"
      },
      "source": [
        "## Functions"
      ]
    },
    {
      "cell_type": "code",
      "metadata": {
        "colab": {
          "base_uri": "https://localhost:8080/"
        },
        "id": "DHVmKKsR4srX",
        "outputId": "5fd10369-29a3-411b-b63a-1ca2591ebc25"
      },
      "source": [
        "def recursive_sum(i):\n",
        "  if i==1:\n",
        "    return 1\n",
        "  return i+recursive_sum(i-1)\n",
        "\n",
        "recursive_sum(5)"
      ],
      "execution_count": 3,
      "outputs": [
        {
          "output_type": "execute_result",
          "data": {
            "text/plain": [
              "15"
            ]
          },
          "metadata": {},
          "execution_count": 3
        }
      ]
    },
    {
      "cell_type": "code",
      "metadata": {
        "colab": {
          "base_uri": "https://localhost:8080/"
        },
        "id": "OVEJ8XeO8CZN",
        "outputId": "d3cfaac2-5635-40ba-ea0a-b81c5c80ef60"
      },
      "source": [
        "#not used because of recursion depth limit in Python\n",
        "#def factorial(i):\n",
        "#  if i==1:\n",
        "#    return 1\n",
        "#  return i * factorial(i-1)\n",
        "#\n",
        "#factorial(5)\n",
        "\n",
        "for i in range(10):\n",
        "  print(math.factorial(i))"
      ],
      "execution_count": 4,
      "outputs": [
        {
          "output_type": "stream",
          "name": "stdout",
          "text": [
            "1\n",
            "1\n",
            "2\n",
            "6\n",
            "24\n",
            "120\n",
            "720\n",
            "5040\n",
            "40320\n",
            "362880\n"
          ]
        }
      ]
    },
    {
      "cell_type": "code",
      "metadata": {
        "colab": {
          "base_uri": "https://localhost:8080/"
        },
        "id": "ejsk3dWmJYX3",
        "outputId": "7c5d960a-2a35-4ac0-9338-c4a19de5d5c5"
      },
      "source": [
        "# Not necessary - use scipy poisson.pmf instead\n",
        "def service(k, beta):\n",
        "  return pow(beta,k)*math.exp(-beta) / math.factorial(k)\n",
        "\n",
        "service(10,20)"
      ],
      "execution_count": 5,
      "outputs": [
        {
          "output_type": "execute_result",
          "data": {
            "text/plain": [
              "0.005816306518345136"
            ]
          },
          "metadata": {},
          "execution_count": 5
        }
      ]
    },
    {
      "cell_type": "code",
      "metadata": {
        "id": "hU4AbuGynDF-"
      },
      "source": [
        "# Not necessary - use scipy binom instead\n",
        "#def binomial_coef(n,k):\n",
        "#  return factorial(n)/(factorial(k)*factorial(n-k))\n",
        "\n",
        "#print(f'{binomial_coef(4,1)} {binomial_coef(4,2)} {binomial_coef(4,3)}')"
      ],
      "execution_count": 6,
      "outputs": []
    },
    {
      "cell_type": "code",
      "metadata": {
        "colab": {
          "base_uri": "https://localhost:8080/"
        },
        "id": "Liux9pxVwnS3",
        "outputId": "e455de17-04d3-43a5-c57f-8a6620c5f31f"
      },
      "source": [
        "print(f'{binom(4,1)} {binom(4,2)} {binom(4,3)}')"
      ],
      "execution_count": 7,
      "outputs": [
        {
          "output_type": "stream",
          "name": "stdout",
          "text": [
            "4.0 6.0 4.0\n"
          ]
        }
      ]
    },
    {
      "cell_type": "code",
      "metadata": {
        "id": "6gyJwRgxJeid"
      },
      "source": [
        "# moving patients iteratively, local search\n",
        "def iteration_small(x, p, beta, precision, precision_limit, n, no_show, I, d, alpha_W, alpha_I, alpha_T, results): # name of function should be meaningful\n",
        "  x_new = x.copy()\n",
        "  for m in range(0, I-1):\n",
        "    for k in list(range(0, I)): # [::-1]\n",
        "      if x_new[k] > 0: # Adding one vector is equivalent to moving the arrival of one patient from interval k to interval k-1\n",
        "        x_new[k] -= 1\n",
        "        # x_new[((k + m - 1) % I) + 1] += 1\n",
        "        x_new[(k + m + 1) % I] += 1 # x_new[(k + m - 1) % I] += 1\n",
        "        results_temp = calcResults(x_new, p, beta, precision, precision_limit, n, no_show, I, d, 0, alpha_W, alpha_I, alpha_T) # messy x, p, beta, precision, n, no_show, I, d, eind, alpha_W, alpha_I, alpha_T\n",
        "        print(x_new, results_temp)\n",
        "        if results_temp['objVal'] < results['objVal']: # super costly to recalculate probabilities every iteration\n",
        "          return x_new, results_temp\n",
        "        else: \n",
        "          x_new[k] += 1\n",
        "          # x_new[((k + m - 1) % I) + 1] -= 1 # store index as variable?\n",
        "          x_new[(k + m + 1) % I] -= 1 # x_new[(k + m - 1) % I] -= 1\n",
        "  return x, None"
      ],
      "execution_count": 8,
      "outputs": []
    },
    {
      "cell_type": "code",
      "metadata": {
        "id": "s7aVoG6vTDUw"
      },
      "source": [
        "def limit(mu): # name of function should be meaningful\n",
        "  return int(max(mu+4*math.sqrt(mu),100))\n",
        "\n",
        "# limit(1/beta)"
      ],
      "execution_count": 9,
      "outputs": []
    },
    {
      "cell_type": "code",
      "metadata": {
        "id": "3aweyabGgcoi"
      },
      "source": [
        "#def create_a1(beta, precision=0.9999): #Poisson P(potential departures = k)\n",
        "#  k = 0\n",
        "#  a=[]\n",
        "#  while sum(a) < precision:\n",
        "#    a.append(service(k, beta)) # Service function not necessary - use scipy poisson instead\n",
        "#    k+=1\n",
        "#  return(a)\n",
        "\n",
        "#a1=create_a(10)\n",
        "#a1"
      ],
      "execution_count": 10,
      "outputs": []
    },
    {
      "cell_type": "code",
      "metadata": {
        "id": "JJM6vfRgviN9"
      },
      "source": [
        "# def create_p(beta, precision=0.9999): #Poisson P(potential departures = k)\n",
        "#   k = 0\n",
        "#   p = []\n",
        "#   while sum(p) < precision:\n",
        "#     p.append(service(k, beta))\n",
        "#     k+=1\n",
        "#   return(p)\n",
        "\n",
        "# p = create_p(9)\n",
        "# p"
      ],
      "execution_count": 11,
      "outputs": []
    },
    {
      "cell_type": "code",
      "metadata": {
        "id": "slAlBKqfc-4n"
      },
      "source": [
        "def create_p(beta, size, precision=0.9999): #Poisson P(potential departures = k)\n",
        "  k = 0\n",
        "  p = []\n",
        "  while sum(p) < precision:\n",
        "    p.append(poisson.pmf(k, beta))\n",
        "    k+=1\n",
        "  while len(p) < size:\n",
        "    p.append(0)\n",
        "  return p, k"
      ],
      "execution_count": 12,
      "outputs": []
    },
    {
      "cell_type": "code",
      "metadata": {
        "id": "GWq_TyUWQNma"
      },
      "source": [
        "# p_dist = np.array([range(len(p)), p])\n",
        "# p_dist = pd.DataFrame({'i':p_dist[0,:], 'p':p_dist[1,:]})\n",
        "# p_dist"
      ],
      "execution_count": 13,
      "outputs": []
    },
    {
      "cell_type": "code",
      "metadata": {
        "id": "aafyCz8JfyzO"
      },
      "source": [
        "# data = p_dist[p_dist['p']>0]\n",
        "# sns.barplot(data=data, x=\"i\", y=\"p\")"
      ],
      "execution_count": 14,
      "outputs": []
    },
    {
      "cell_type": "code",
      "metadata": {
        "id": "s-FZsHmaPjYU"
      },
      "source": [
        "# def create_p(beta, precision=0.9999): #Poisson P(potential departures = k)\n",
        "#   k = 0\n",
        "#   p = []\n",
        "#   while sum(p) < precision:\n",
        "#     p.append(poisson.pmf(k=k, mu=beta))\n",
        "#     k+=1\n",
        "#   return(p)\n",
        "\n",
        "# p = create_p(9)\n",
        "# p"
      ],
      "execution_count": 15,
      "outputs": []
    },
    {
      "cell_type": "code",
      "metadata": {
        "id": "Pfrx371uNjgl"
      },
      "source": [
        ""
      ],
      "execution_count": 15,
      "outputs": []
    },
    {
      "cell_type": "code",
      "metadata": {
        "id": "xPhH_iHrpJlf"
      },
      "source": [
        "def calcExponentialLimit(mu):\n",
        "  return int(max(mu+4*mu**0.5,100))"
      ],
      "execution_count": 16,
      "outputs": []
    },
    {
      "cell_type": "code",
      "metadata": {
        "id": "V3xzZRbS4Yl_"
      },
      "source": [
        "def binomCoeff(k, i):\n",
        "  return math.factorial(k) / (math.factorial(k - i) * math.factorial(i))\n",
        "\n",
        "def binomPMF(k, i, m, add_v, no_show):\n",
        "  return binomCoeff(k, m) * add_v[m][i] * (1 - no_show)**m * no_show**(k-m)"
      ],
      "execution_count": 17,
      "outputs": []
    },
    {
      "cell_type": "code",
      "metadata": {
        "id": "Fb17kE-AlY06"
      },
      "source": [
        "# two main components\n",
        "# find a schedule to evaluate <- efficient search procedure to still end up with a good schedule\n",
        "# evaluate a specific schedule <- as fast a possible\n",
        "def calculateProbabilities(x, p, beta, precision, precision_limit, n, no_show, I, d):\n",
        "  # count = len(p)\n",
        "  count = precision_limit\n",
        "  waiting = 0\n",
        "  idletime = 0\n",
        "  tardiness = 0\n",
        "  p_plus = np.zeros((1000,1000))\n",
        "  p_min = np.zeros((1000,1000))\n",
        "  v = np.zeros((1000,1000))\n",
        "  w = np.zeros((1000,1000,1000))\n",
        "  add_v = np.zeros((1000,1000)) # needs a predetermined size\n",
        "\n",
        "#\tv[k][i]=probability of having i units of work given that \n",
        "#\tk patients are scheduled for the interval.\n",
        "#\tp[i]= probability of serving the patient in i mins given that\n",
        "#\tthe average service time is beta.\n",
        "  add_v[0][0] = 1\n",
        "  for k in range(n+1):\n",
        "    limit = calcExponentialLimit(beta*k)\n",
        "    # print(f'limit={limit}')\n",
        "    i = 0\n",
        "    sum_v = 0\n",
        "    while sum_v < precision and i <= limit:\n",
        "      z = 0\n",
        "      while n < count:\n",
        "        add_v[k][i] += p[z] * add_v[k-1][i-n]\n",
        "        z += 1\n",
        "      sum_v += add_v[k][i] \n",
        "      i += 1\n",
        "\n",
        "  for k in range(n+1): \n",
        "    i = 0\n",
        "    sum_v = 0\n",
        "    while sum_v < precision and i <= limit:\n",
        "      for m in range(k):\n",
        "        v[k][i] += binomPMF(k, i, m, add_v, no_show)\n",
        "      sum_v += v[k][i]\n",
        "      i += 1\n",
        "\n",
        "  # Constraint 2\n",
        "  p_min[0][0] = 1\n",
        "  sum_p = 0\n",
        "  i = 1\n",
        "  while sum_p < precision and i <= limit:\n",
        "    p_plus[0][i] = v[x[0]][i]\n",
        "    sum_p += p_plus[0][i]\n",
        "    i += 1\n",
        "\n",
        "  for t in range(1, I):\n",
        "    # Constraint 3\n",
        "    for k in range(d):\n",
        "      p_min[t][0] += p_plus[t-1][k]\n",
        "\n",
        "  for t in range(1, I):\n",
        "    # Constraint 4\n",
        "    for i in range(1,limit):\n",
        "      p_min[t][i] = p_plus[t-1][i+d]\n",
        "\n",
        "  for t in range(1, I):\n",
        "    # Constraint 5\n",
        "    if t != I+1:\n",
        "      for i in range(limit):\n",
        "        for j in range(i):\n",
        "          p_plus[t][i] += p_min[t][j] * v[x[t]][i-j]\n",
        "\n",
        "  # Tardiness calcs\n",
        "  for k in range(limit):\n",
        "    tardiness += k * p_min[I][k] # I+1\n",
        "\n",
        "  # print('p_min:', p_min[I]) # tardiness always 0 atm\n",
        "\n",
        "  # Idle time calcs new array of given shape and type, filled with zeros.\n",
        "  idletime = (I * d) + tardiness - (n * (1 - no_show) * beta) # I-1?\n",
        "\n",
        "  # Waiting time calcs\n",
        "  for t in range(0, I):\n",
        "    if x[t] > 0:\n",
        "      for k in range(limit):\n",
        "        w[t][0][k] = p_min[t][k] # w[t][1][k]\n",
        "    if x[t] > 1:\n",
        "      for i in range(1, x[t]+1): # range(2, x[t]+1)\n",
        "        for k in range(limit+1):\n",
        "          # temp_p = poisson.pmf(-np.arange(0,k+1)+k, mu=beta) # calculating all at once is far faster\n",
        "          for j in range(k+1):\n",
        "            w[t][i][k] += w[t][i-1][j] * p[k-j] # limit max 100 so k can be > 23 which is length of p, error when j=0 k=23\n",
        "  for t in range(0, I):\n",
        "    for i in range(0, x[t]):\n",
        "      for k in range(limit+1):\n",
        "        waiting += w[t][i][k] * k\n",
        "  waiting /= n\n",
        "\n",
        "  return p_min, waiting, idletime, tardiness"
      ],
      "execution_count": 18,
      "outputs": []
    },
    {
      "cell_type": "code",
      "metadata": {
        "id": "kUvu-ZJsrTwQ"
      },
      "source": [
        "def calcFracExcess(p_min, I):\n",
        "  fracExcess = 0\n",
        "  t = I+1\n",
        "  for j in range(1, len(p_min[t])):\n",
        "    fracExcess += p_min[t][j]\n",
        "  fracExcess *= 100\n",
        "  return fracExcess"
      ],
      "execution_count": 19,
      "outputs": []
    },
    {
      "cell_type": "code",
      "metadata": {
        "id": "e4i7ppSpjMYq"
      },
      "source": [
        "def calcResults(x, p, beta, precision, precision_limit, n, no_show, I, d, eind, alpha_W, alpha_I, alpha_T):\n",
        "  p_min, waitingTime, idleTime, tardiness = calculateProbabilities(x, p, beta, precision, precision_limit, n, no_show, I, d)\n",
        "  objVal = alpha_W*waitingTime + alpha_I*idleTime + alpha_T*tardiness\n",
        "  results = {'p_min' : p_min, 'waitingTime' : waitingTime, 'idleTime' : idleTime, 'tardiness' : tardiness, 'objVal' : objVal}\n",
        "  \n",
        "  if eind == 1:\n",
        "    fracExcess = calcFracExcess(p_min, I)\n",
        "    results['fracExcess'] = fracExcess\n",
        "  \n",
        "  return results"
      ],
      "execution_count": 20,
      "outputs": []
    },
    {
      "cell_type": "code",
      "metadata": {
        "id": "dJacKId_JeWX"
      },
      "source": [
        "# precision = 0.9999\n",
        "# n = 5\n",
        "# beta = 5\n",
        "# T = 60\n",
        "# d = 5\n",
        "# I = int(T/d)\n",
        "# s = schedule(beta,T,d,n)\n",
        "# s.make_initial_schedule()\n",
        "# x = s.x\n",
        "# p = create_a2(beta, precision)\n",
        "# no_show = 0\n",
        "# result = calculateProbabilities(x, p, beta, precision, n, no_show, I)"
      ],
      "execution_count": 21,
      "outputs": []
    },
    {
      "cell_type": "code",
      "metadata": {
        "id": "7kfOpyurPGi-"
      },
      "source": [
        "# print(f'p_min: {result[0]}\\n waiting: {result[1]}\\n idletime: {result[2]}\\n tardiness: {result[3]}')"
      ],
      "execution_count": 22,
      "outputs": []
    },
    {
      "cell_type": "code",
      "metadata": {
        "id": "wQYXxPgTQ2QY",
        "colab": {
          "base_uri": "https://localhost:8080/"
        },
        "outputId": "94a65e0f-508a-4f80-9163-8923ecf6b572"
      },
      "source": [
        "precision = 0.9999\n",
        "n = 50\n",
        "beta = 9\n",
        "T = 4*60 # total time\n",
        "d = 5 # interval size\n",
        "I = int(T/d) # number of intervals\n",
        "s = schedule(beta,T,d,n)\n",
        "s.make_initial_schedule()\n",
        "x = s.x\n",
        "size = calcExponentialLimit(beta*n)+1 # size of p has to be at least as big as the limit value here\n",
        "print(size)\n",
        "p, precision_limit = create_p(beta, size, precision)\n",
        "no_show = 0\n",
        "#x = list(np.zeros(I, dtype=int))\n",
        "#x[0] = n\n",
        "iend = 0\n",
        "# alpha_I = 0.2\n",
        "# alpha_T = 0.4 - 0.00000001 # patient doctor centric slider\n",
        "# alpha_W = (1 - alpha_T) + 0.00000001 - 0.2\n",
        "alpha_I = 0.2\n",
        "alpha_T = 0.4 # patient doctor centric slider\n",
        "alpha_W = 0.4\n",
        "res = calcResults(x, p, beta, precision, precision_limit, n, no_show, I, d, iend, alpha_W, alpha_I, alpha_T)\n",
        "print(x)\n",
        "print(res)\n",
        "while res['objVal'] > 0:\n",
        "  x, res = iteration_small(x, p, beta, precision, precision_limit, n, no_show, I, d, alpha_W, alpha_I, alpha_T, res)\n",
        "print(x)\n",
        "print(res)\n",
        "# p = create_a2(beta, precision)\n",
        "# no_show = 0\n",
        "# result = calculateProbabilities(x, p, beta, precision, n, no_show, I)"
      ],
      "execution_count": 23,
      "outputs": [
        {
          "output_type": "stream",
          "name": "stdout",
          "text": [
            "0\n",
            "1\n",
            "2\n",
            "3\n",
            "4\n",
            "5\n",
            "6\n",
            "7\n",
            "8\n",
            "9\n",
            "10\n",
            "11\n",
            "12\n",
            "13\n",
            "14\n",
            "15\n",
            "16\n",
            "17\n",
            "18\n",
            "19\n",
            "20\n",
            "21\n",
            "22\n",
            "23\n",
            "24\n",
            "25\n",
            "26\n",
            "27\n",
            "28\n",
            "29\n",
            "30\n",
            "31\n",
            "32\n",
            "33\n",
            "34\n",
            "35\n",
            "36\n",
            "37\n",
            "38\n",
            "39\n",
            "40\n",
            "41\n",
            "42\n",
            "43\n",
            "44\n",
            "45\n",
            "46\n",
            "47\n",
            "48\n",
            "49\n",
            "535\n",
            "[1 0 0 0 0 1 0 0 0 0 1 0 0 0 1 0 0 0 0 1 0 0 0 0 1 0 0 0 0 1 0 0 0 0 1 0 0\n",
            " 0 1 0 0 0 0 1 0 0 0 0 1 0 0 0 0 1 0 0 0 0 1 0 0 0 1 0 0 0 0 1 0 0 0 0 1 0\n",
            " 0 0 0 1 0 0 0 0 1 0 0 0 1 0 0 0 0 1 0 0 0 0 1 0 0 0 0 1 0 0 0 0 1 0 0 0 1\n",
            " 0 0 0 0 1 0 0 0 0 1 0 0 0 0 1 0 0 0 0 1 0 0 0 1 0 0 0 0 1 0 0 0 0 1 0 0 0\n",
            " 0 1 0 0 0 0 1 0 0 0 1 0 0 0 0 1 0 0 0 0 1 0 0 0 0 1 0 0 0 0 1 0 0 0 1 0 0\n",
            " 0 0 1 0 0 0 0 1 0 0 0 0 1 0 0 0 0 1 0 0 0 1 0 0 0 0 1 0 0 0 0 1 0 0 0 0 1\n",
            " 0 0 0 0 1 0 0 0 1 0 0 0 0 1 0 0 0 0]\n",
            "{'p_min': array([[1., 0., 0., ..., 0., 0., 0.],\n",
            "       [0., 0., 0., ..., 0., 0., 0.],\n",
            "       [0., 0., 0., ..., 0., 0., 0.],\n",
            "       ...,\n",
            "       [0., 0., 0., ..., 0., 0., 0.],\n",
            "       [0., 0., 0., ..., 0., 0., 0.],\n",
            "       [0., 0., 0., ..., 0., 0., 0.]]), 'waitingTime': 0.0, 'idleTime': -210.0, 'tardiness': 0.0, 'objVal': -42.0}\n",
            "[1 0 0 0 0 1 0 0 0 0 1 0 0 0 1 0 0 0 0 1 0 0 0 0 1 0 0 0 0 1 0 0 0 0 1 0 0\n",
            " 0 1 0 0 0 0 1 0 0 0 0 1 0 0 0 0 1 0 0 0 0 1 0 0 0 1 0 0 0 0 1 0 0 0 0 1 0\n",
            " 0 0 0 1 0 0 0 0 1 0 0 0 1 0 0 0 0 1 0 0 0 0 1 0 0 0 0 1 0 0 0 0 1 0 0 0 1\n",
            " 0 0 0 0 1 0 0 0 0 1 0 0 0 0 1 0 0 0 0 1 0 0 0 1 0 0 0 0 1 0 0 0 0 1 0 0 0\n",
            " 0 1 0 0 0 0 1 0 0 0 1 0 0 0 0 1 0 0 0 0 1 0 0 0 0 1 0 0 0 0 1 0 0 0 1 0 0\n",
            " 0 0 1 0 0 0 0 1 0 0 0 0 1 0 0 0 0 1 0 0 0 1 0 0 0 0 1 0 0 0 0 1 0 0 0 0 1\n",
            " 0 0 0 0 1 0 0 0 1 0 0 0 0 1 0 0 0 0]\n",
            "{'p_min': array([[1., 0., 0., ..., 0., 0., 0.],\n",
            "       [0., 0., 0., ..., 0., 0., 0.],\n",
            "       [0., 0., 0., ..., 0., 0., 0.],\n",
            "       ...,\n",
            "       [0., 0., 0., ..., 0., 0., 0.],\n",
            "       [0., 0., 0., ..., 0., 0., 0.],\n",
            "       [0., 0., 0., ..., 0., 0., 0.]]), 'waitingTime': 0.0, 'idleTime': -210.0, 'tardiness': 0.0, 'objVal': -42.0}\n"
          ]
        }
      ]
    }
  ]
}