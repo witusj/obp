{
 "cells": [
  {
   "cell_type": "code",
   "execution_count": 207,
   "metadata": {
    "id": "q__0Cso8SFQK"
   },
   "outputs": [],
   "source": [
    "## Import packages\n",
    "import numpy as np\n",
    "import math\n",
    "import random\n",
    "from scipy.stats import poisson\n",
    "import time"
   ]
  },
  {
   "cell_type": "markdown",
   "metadata": {
    "id": "yFXRf7KGRoui"
   },
   "source": [
    "## Setup problem definition"
   ]
  },
  {
   "cell_type": "markdown",
   "metadata": {
    "id": "zVFKVKXyPiwm"
   },
   "source": [
    "## Test case\n",
    "\n",
    "- T = 4h\n",
    "- d = 5 min # the size of an interval\n",
    "- beta = 9 minutes # service time (model by the exponential distribution)\n",
    "- N = 24 patients\n",
    "- I = T / d # the number of intervals"
   ]
  },
  {
   "cell_type": "code",
   "execution_count": 208,
   "metadata": {
    "id": "yLzG-_SeRfC4"
   },
   "outputs": [],
   "source": [
    "class schedule:\n",
    "  def __init__(self, beta: int, I: int, d: int, N: int):\n",
    "    self.beta = beta # = 1/μ : average service time\n",
    "    self.I = I # number of intervals\n",
    "    self.d = d # length of interval\n",
    "    self.N = N # total number of patients\n",
    "    self.x:list[int] = np.repeat(0, self.I) # schedule with x[t] as number of \n",
    "                                            # patients scheduled at the start of\n",
    "                                            # interval t, t = 1,...,T; initially\n",
    "                                            # set at zero\n",
    "                                            \n",
    "  def reset_schedule(self):\n",
    "    for t in range(self.I):\n",
    "      self.x[t] = 0\n",
    "\n",
    "  def make_random_schedule(self, min_x: int, max_x: int, step: int=1):\n",
    "    n = self.N\n",
    "    for i in range(0,self.I, step):\n",
    "      if n >= 0:\n",
    "        r = random.randint(min_x, max_x)\n",
    "        self.x[i] = min(r,n)\n",
    "        n = n - r\n",
    "        print(n, self.x[i])\n",
    "      else:\n",
    "        return\n",
    "        \n",
    "  def make_initial_schedule(self):\n",
    "    for i in range(self.N):\n",
    "      t = round(i*self.I / self.N)\n",
    "      if i > self.I:\n",
    "        i-= 1\n",
    "      self.x[t] += 1"
   ]
  },
  {
   "cell_type": "markdown",
   "metadata": {
    "id": "lc8GnVez7ZGl"
   },
   "source": [
    "## Functions"
   ]
  },
  {
   "cell_type": "code",
   "execution_count": 209,
   "metadata": {
    "id": "6gyJwRgxJeid"
   },
   "outputs": [],
   "source": [
    "# moving patients around iteratively \n",
    "# local search\n",
    "def simpleSearch(x, beta, precision, limit, v, n, no_show, I, d, alpha_W, alpha_I, alpha_T, results):\n",
    "  for m in range(0, I-1):\n",
    "    # for k in list(range(0, I))[::-1]: # [::-1]\n",
    "    k = I-1\n",
    "    while k >= 0:\n",
    "      x_current = x.copy()\n",
    "      if x_current[k] > 0: # Adding one vector is equivalent to moving the arrival of one patient from interval k to interval k+1\n",
    "        next_k = (k + m + 1) % I\n",
    "\n",
    "        x_current[k] -= 1\n",
    "        x_current[next_k] += 1\n",
    "\n",
    "        temp_results = calcResults(x_current, beta, precision, limit, v, n, no_show, I, d, 0, alpha_W, alpha_I, alpha_T)\n",
    "        \n",
    "        if temp_results['objVal'] < results['objVal']:\n",
    "          x = x_current\n",
    "          results = temp_results\n",
    "          k += 1\n",
    "\n",
    "        else: # undo the previous move\n",
    "          x_current[k] += 1\n",
    "          x_current[next_k] -= 1\n",
    "          k -= 1\n",
    "        \n",
    "      else:\n",
    "        k -= 1\n",
    "    \n",
    "  return x, results"
   ]
  },
  {
   "cell_type": "code",
   "execution_count": 210,
   "metadata": {
    "id": "slAlBKqfc-4n"
   },
   "outputs": [],
   "source": [
    "# Distribution to calculate service time of patients\n",
    "#\tp[i]= probability of serving the patient in i mins given that\n",
    "#\tthe average service time is beta.\n",
    "def calculate_p(beta, size, precision=0.9999): # Poisson distribution \n",
    "  k = 0\n",
    "  p = []\n",
    "\n",
    "  while sum(p) < precision: # fill accurate values up to precision limit\n",
    "    p.append(poisson.pmf(k, beta))\n",
    "    k+=1\n",
    "\n",
    "  while len(p) < size: # fill the rest of the values with 0\n",
    "    p.append(0)\n",
    "  return p, k"
   ]
  },
  {
   "cell_type": "code",
   "execution_count": 211,
   "metadata": {
    "id": "xPhH_iHrpJlf"
   },
   "outputs": [],
   "source": [
    "def calcExponentialLimit(mu):\n",
    "  return int(max(mu+4*mu**0.5,100))"
   ]
  },
  {
   "cell_type": "code",
   "execution_count": 212,
   "metadata": {
    "id": "V3xzZRbS4Yl_"
   },
   "outputs": [],
   "source": [
    "def binomCoeff(k, i):\n",
    "  return math.factorial(k) / (math.factorial(k - i) * math.factorial(i))\n",
    "\n",
    "def binomPMF(k, i, m, add_v, no_show):\n",
    "  return binomCoeff(k, m) * add_v[m][i] * (1 - no_show)**m * no_show**(k-m)"
   ]
  },
  {
   "cell_type": "code",
   "execution_count": 213,
   "metadata": {},
   "outputs": [],
   "source": [
    "def calcTardiness(p_min, limit, I):\n",
    "  tardiness = 0\n",
    "  # print(p_min[I])\n",
    "  for k in range(limit):\n",
    "    tardiness += k * p_min[I][k] # I+1\n",
    "  return tardiness\n",
    "\n",
    "\n",
    "def calcIdletime(I, d, tardiness, n, no_show, beta):\n",
    "  return (I * d) + tardiness - (n * (1 - no_show) * beta) # I-1?\n",
    "\n",
    "\n",
    "def calcWaitingtime(p_min, x, p, limit, I, n):\n",
    "  w = np.zeros((I+1, n+1, limit+1))\n",
    "  waitingtime = 0\n",
    "\n",
    "  for t in range(0, I):\n",
    "    if x[t] > 0:\n",
    "      for k in range(limit):\n",
    "        w[t][0][k] = p_min[t][k] \n",
    "    if x[t] > 1:\n",
    "      for i in range(1, x[t]+1):\n",
    "        for k in range(limit+1):\n",
    "          for j in range(k+1):\n",
    "            w[t][i][k] += w[t][i-1][j] * p[k-j]\n",
    "\n",
    "  for t in range(0, I):\n",
    "    for i in range(0, x[t]):\n",
    "      for k in range(limit+1):\n",
    "        waitingtime += w[t][i][k] * k\n",
    "\n",
    "  waitingtime /= n\n",
    "  return waitingtime"
   ]
  },
  {
   "cell_type": "code",
   "execution_count": 214,
   "metadata": {},
   "outputs": [],
   "source": [
    "def calculate_v(p, beta, precision, precision_limit, n, d, no_show=0):\n",
    "  count = precision_limit\n",
    "  limit = calcExponentialLimit(beta*n) + 1\n",
    "  v = np.zeros((n+1, limit+d))\n",
    "  add_v = np.zeros((n+1, limit+d))\n",
    "\n",
    "  add_v[0][0] = 1\n",
    "  for k in range(1, n+1):\n",
    "    limit = calcExponentialLimit(beta*k)\n",
    "    i = 0\n",
    "    sum_v = 0\n",
    "    while sum_v < precision and i <= limit:\n",
    "      z = 0\n",
    "      while z <= count:\n",
    "        add_v[k][i] += p[z] * add_v[k-1][i-z]\n",
    "        z += 1\n",
    "      sum_v += add_v[k][i] \n",
    "      i += 1\n",
    "\n",
    "  for k in range(n+1):\n",
    "    i = 0\n",
    "    sum_v = 0\n",
    "    while sum_v < precision and i <= limit:\n",
    "      for m in range(k+1):\n",
    "        v[k][i] += binomPMF(k, i, m, add_v, no_show)\n",
    "      sum_v += v[k][i]\n",
    "      i += 1\n",
    "          \n",
    "  return v, limit"
   ]
  },
  {
   "cell_type": "code",
   "execution_count": 215,
   "metadata": {
    "id": "Fb17kE-AlY06"
   },
   "outputs": [],
   "source": [
    "\n",
    "def calculateProbabilities(x, precision, limit, v, I, d):\n",
    "  p_plus = np.zeros((I+1,limit+d+1))\n",
    "  p_min = np.zeros((I+1,limit+d+1))\n",
    "\n",
    "  # Constraint 1\n",
    "  p_min[0][0] = 1\n",
    "\n",
    "  # Constraint 2\n",
    "  sum_p = 0\n",
    "  i = 0\n",
    "  while sum_p < precision and i <= limit:\n",
    "    p_plus[0][i] = v[x[0]][i]\n",
    "    sum_p += p_plus[0][i]\n",
    "    i += 1\n",
    "\n",
    "  for t in range(1, I+1): # calculate p_min and p_plus iteratively \n",
    "    # Constraint 3\n",
    "    for k in range(d+1):\n",
    "      p_min[t][0] += p_plus[t-1][k]\n",
    "\n",
    "    # Constraint 4\n",
    "    for i in range(1,limit+1):\n",
    "      p_min[t][i] = p_plus[t-1][i+d]\n",
    "\n",
    "    # Constraint 5\n",
    "    if t != I: # I or I+1\n",
    "      for i in range(limit+1):\n",
    "        for j in range(i+1):\n",
    "          p_plus[t][i] += p_min[t][j] * v[x[t]][i-j]\n",
    "\n",
    "  return p_min, limit"
   ]
  },
  {
   "cell_type": "code",
   "execution_count": 216,
   "metadata": {
    "id": "kUvu-ZJsrTwQ"
   },
   "outputs": [],
   "source": [
    "def calcFracExcess(p_min, I):\n",
    "  fracExcess = 0\n",
    "  t = I+1\n",
    "  for j in range(1, len(p_min[t])):\n",
    "    fracExcess += p_min[t][j]\n",
    "  fracExcess *= 100\n",
    "  return fracExcess"
   ]
  },
  {
   "cell_type": "code",
   "execution_count": 217,
   "metadata": {
    "id": "e4i7ppSpjMYq"
   },
   "outputs": [],
   "source": [
    "def calcResults(x, beta, precision, limit, v, n, no_show, I, d, eind, alpha_W, alpha_I, alpha_T):\n",
    "  tic = time.perf_counter()\n",
    "  p_min, limit = calculateProbabilities(x, precision, limit, v, I, d)\n",
    "  toc = time.perf_counter()\n",
    "  probT = toc-tic\n",
    "\n",
    "  # Tardiness calcs\n",
    "  tic = time.perf_counter()\n",
    "  tardiness = calcTardiness(p_min, limit, I)\n",
    "  toc = time.perf_counter()\n",
    "  tardT = toc-tic\n",
    "\n",
    "  # Idle time calcs new array of given shape and type, filled with zeros.\n",
    "  tic = time.perf_counter()\n",
    "  idletime = calcIdletime(I, d, tardiness, n, no_show, beta)\n",
    "  toc = time.perf_counter()\n",
    "  idletimeT = toc-tic\n",
    "\n",
    "  # Waiting time calcs\n",
    "  tic = time.perf_counter()\n",
    "  waitingtime = calcWaitingtime(p_min, x, p, limit, I, n)\n",
    "  toc = time.perf_counter()\n",
    "  waitingtimeT = toc-tic\n",
    "\n",
    "  objVal = alpha_W*waitingtime + alpha_I*idletime + alpha_T*tardiness\n",
    "  \n",
    "  print(f\"Schedule: {x},\\nObjective value: {objVal},\\nProb calculation time: {probT} sec,\\nWaiting time (timer): {waitingtime} ({waitingtimeT} sec),\\nIdle time (timer): {idletime} ({idletimeT} sec),\\nTardiness (timer): {tardiness} ({tardT} sec)\\n\")\n",
    "\n",
    "  # Collect into a dictionary\n",
    "  results = {'p_min' : p_min, 'waitingTime' : waitingtime, 'idleTime' : idletime, 'tardiness' : tardiness, 'objVal' : objVal}\n",
    "  \n",
    "  if eind == 1:\n",
    "    fracExcess = calcFracExcess(p_min, I)\n",
    "    results['fracExcess'] = fracExcess\n",
    "  \n",
    "  return results\n"
   ]
  },
  {
   "cell_type": "markdown",
   "metadata": {},
   "source": [
    "# Main Function"
   ]
  },
  {
   "cell_type": "code",
   "execution_count": 218,
   "metadata": {
    "colab": {
     "base_uri": "https://localhost:8080/"
    },
    "id": "wQYXxPgTQ2QY",
    "outputId": "94a65e0f-508a-4f80-9163-8923ecf6b572"
   },
   "outputs": [
    {
     "name": "stdout",
     "output_type": "stream",
     "text": [
      "Schedule: [23, 1, 0, 0, 0, 0, 0, 0, 0, 0, 0, 0, 0, 0, 0, 0, 0, 0, 0, 0, 0, 0, 0, 0, 0, 0, 0, 0, 0, 0, 0, 0, 0, 0, 0, 0, 0, 0, 0, 0, 0, 0, 0, 0, 0, 0, 0, 0],\n",
      "Objective value: 46.26666712764462,\n",
      "Prob calculation time: 2.0043516049991013 sec,\n",
      "Waiting time (timer): 103.16846587730623 (1.1519774430016696 sec),\n",
      "Idle time (timer): 24.332134627870204 (1.8560021999292076e-06 sec),\n",
      "Tardiness (timer): 0.33213462787020853 (0.00015204599912976846 sec)\n",
      "\n",
      "Schedule: [23, 0, 1, 0, 0, 0, 0, 0, 0, 0, 0, 0, 0, 0, 0, 0, 0, 0, 0, 0, 0, 0, 0, 0, 0, 0, 0, 0, 0, 0, 0, 0, 0, 0, 0, 0, 0, 0, 0, 0, 0, 0, 0, 0, 0, 0, 0, 0],\n",
      "Objective value: 46.183507274143565,\n",
      "Prob calculation time: 2.0112138410004263 sec,\n",
      "Waiting time (timer): 102.96053456632457 (1.1398954830001458 sec),\n",
      "Idle time (timer): 24.33215574602289 (2.420998498564586e-06 sec),\n",
      "Tardiness (timer): 0.33215574602289205 (0.0001564979975228198 sec)\n",
      "\n",
      "Schedule: [23, 0, 0, 1, 0, 0, 0, 0, 0, 0, 0, 0, 0, 0, 0, 0, 0, 0, 0, 0, 0, 0, 0, 0, 0, 0, 0, 0, 0, 0, 0, 0, 0, 0, 0, 0, 0, 0, 0, 0, 0, 0, 0, 0, 0, 0, 0, 0],\n",
      "Objective value: 46.10033486724002,\n",
      "Prob calculation time: 2.0110882640001364 sec,\n",
      "Waiting time (timer): 102.75260325534316 (1.1478391729979194 sec),\n",
      "Idle time (timer): 24.332155941837925 (2.0660008885897696e-06 sec),\n",
      "Tardiness (timer): 0.3321559418379287 (0.00015046800035634078 sec)\n",
      "\n",
      "Schedule: [23, 0, 0, 0, 1, 0, 0, 0, 0, 0, 0, 0, 0, 0, 0, 0, 0, 0, 0, 0, 0, 0, 0, 0, 0, 0, 0, 0, 0, 0, 0, 0, 0, 0, 0, 0, 0, 0, 0, 0, 0, 0, 0, 0, 0, 0, 0, 0],\n",
      "Objective value: 46.01716234284739,\n",
      "Prob calculation time: 1.9947320140017837 sec,\n",
      "Waiting time (timer): 102.5446719443616 (1.1357209349989716 sec),\n",
      "Idle time (timer): 24.332155941837925 (1.8020000425167382e-06 sec),\n",
      "Tardiness (timer): 0.3321559418379287 (0.0001543239995953627 sec)\n",
      "\n",
      "Schedule: [23, 0, 0, 0, 0, 1, 0, 0, 0, 0, 0, 0, 0, 0, 0, 0, 0, 0, 0, 0, 0, 0, 0, 0, 0, 0, 0, 0, 0, 0, 0, 0, 0, 0, 0, 0, 0, 0, 0, 0, 0, 0, 0, 0, 0, 0, 0, 0],\n",
      "Objective value: 45.93398981845476,\n",
      "Prob calculation time: 1.9542134490002354 sec,\n",
      "Waiting time (timer): 102.33674063338002 (1.1963190479982586 sec),\n",
      "Idle time (timer): 24.332155941837925 (2.684900027816184e-05 sec),\n",
      "Tardiness (timer): 0.3321559418379287 (0.0002853189980669413 sec)\n",
      "\n",
      "Schedule: [23, 0, 0, 0, 0, 0, 1, 0, 0, 0, 0, 0, 0, 0, 0, 0, 0, 0, 0, 0, 0, 0, 0, 0, 0, 0, 0, 0, 0, 0, 0, 0, 0, 0, 0, 0, 0, 0, 0, 0, 0, 0, 0, 0, 0, 0, 0, 0],\n",
      "Objective value: 45.85081729406223,\n",
      "Prob calculation time: 2.080681015002483 sec,\n",
      "Waiting time (timer): 102.1288093223987 (1.1517125489990576 sec),\n",
      "Idle time (timer): 24.332155941837925 (2.519998815841973e-06 sec),\n",
      "Tardiness (timer): 0.3321559418379287 (0.00016000600226107053 sec)\n",
      "\n"
     ]
    },
    {
     "ename": "KeyboardInterrupt",
     "evalue": "",
     "output_type": "error",
     "traceback": [
      "\u001b[0;31m---------------------------------------------------------------------------\u001b[0m",
      "\u001b[0;31mKeyboardInterrupt\u001b[0m                         Traceback (most recent call last)",
      "\u001b[0;32m<ipython-input-218-5576805e638c>\u001b[0m in \u001b[0;36m<module>\u001b[0;34m\u001b[0m\n\u001b[1;32m     27\u001b[0m \u001b[0;34m\u001b[0m\u001b[0m\n\u001b[1;32m     28\u001b[0m \u001b[0;31m# bestObjVal = results['objVal']\u001b[0m\u001b[0;34m\u001b[0m\u001b[0;34m\u001b[0m\u001b[0;34m\u001b[0m\u001b[0m\n\u001b[0;32m---> 29\u001b[0;31m \u001b[0mx\u001b[0m\u001b[0;34m,\u001b[0m \u001b[0mresults\u001b[0m \u001b[0;34m=\u001b[0m \u001b[0msimpleSearch\u001b[0m\u001b[0;34m(\u001b[0m\u001b[0mx\u001b[0m\u001b[0;34m,\u001b[0m \u001b[0mbeta\u001b[0m\u001b[0;34m,\u001b[0m \u001b[0mprecision\u001b[0m\u001b[0;34m,\u001b[0m \u001b[0mlimit\u001b[0m\u001b[0;34m,\u001b[0m \u001b[0mv\u001b[0m\u001b[0;34m,\u001b[0m \u001b[0mn\u001b[0m\u001b[0;34m,\u001b[0m \u001b[0mno_show\u001b[0m\u001b[0;34m,\u001b[0m \u001b[0mI\u001b[0m\u001b[0;34m,\u001b[0m \u001b[0md\u001b[0m\u001b[0;34m,\u001b[0m \u001b[0malpha_W\u001b[0m\u001b[0;34m,\u001b[0m \u001b[0malpha_I\u001b[0m\u001b[0;34m,\u001b[0m \u001b[0malpha_T\u001b[0m\u001b[0;34m,\u001b[0m \u001b[0mresults\u001b[0m\u001b[0;34m)\u001b[0m\u001b[0;34m\u001b[0m\u001b[0;34m\u001b[0m\u001b[0m\n\u001b[0m\u001b[1;32m     30\u001b[0m \u001b[0;31m# while results['objVal'] < bestObjVal:\u001b[0m\u001b[0;34m\u001b[0m\u001b[0;34m\u001b[0m\u001b[0;34m\u001b[0m\u001b[0m\n\u001b[1;32m     31\u001b[0m \u001b[0;31m#   bestObjVal = results['objVal']\u001b[0m\u001b[0;34m\u001b[0m\u001b[0;34m\u001b[0m\u001b[0;34m\u001b[0m\u001b[0m\n",
      "\u001b[0;32m<ipython-input-209-22e0c224b2ad>\u001b[0m in \u001b[0;36msimpleSearch\u001b[0;34m(x, beta, precision, limit, v, n, no_show, I, d, alpha_W, alpha_I, alpha_T, results)\u001b[0m\n\u001b[1;32m     13\u001b[0m         \u001b[0mx_current\u001b[0m\u001b[0;34m[\u001b[0m\u001b[0mnext_k\u001b[0m\u001b[0;34m]\u001b[0m \u001b[0;34m+=\u001b[0m \u001b[0;36m1\u001b[0m\u001b[0;34m\u001b[0m\u001b[0;34m\u001b[0m\u001b[0m\n\u001b[1;32m     14\u001b[0m \u001b[0;34m\u001b[0m\u001b[0m\n\u001b[0;32m---> 15\u001b[0;31m         \u001b[0mtemp_results\u001b[0m \u001b[0;34m=\u001b[0m \u001b[0mcalcResults\u001b[0m\u001b[0;34m(\u001b[0m\u001b[0mx_current\u001b[0m\u001b[0;34m,\u001b[0m \u001b[0mbeta\u001b[0m\u001b[0;34m,\u001b[0m \u001b[0mprecision\u001b[0m\u001b[0;34m,\u001b[0m \u001b[0mlimit\u001b[0m\u001b[0;34m,\u001b[0m \u001b[0mv\u001b[0m\u001b[0;34m,\u001b[0m \u001b[0mn\u001b[0m\u001b[0;34m,\u001b[0m \u001b[0mno_show\u001b[0m\u001b[0;34m,\u001b[0m \u001b[0mI\u001b[0m\u001b[0;34m,\u001b[0m \u001b[0md\u001b[0m\u001b[0;34m,\u001b[0m \u001b[0;36m0\u001b[0m\u001b[0;34m,\u001b[0m \u001b[0malpha_W\u001b[0m\u001b[0;34m,\u001b[0m \u001b[0malpha_I\u001b[0m\u001b[0;34m,\u001b[0m \u001b[0malpha_T\u001b[0m\u001b[0;34m)\u001b[0m\u001b[0;34m\u001b[0m\u001b[0;34m\u001b[0m\u001b[0m\n\u001b[0m\u001b[1;32m     16\u001b[0m \u001b[0;34m\u001b[0m\u001b[0m\n\u001b[1;32m     17\u001b[0m         \u001b[0;32mif\u001b[0m \u001b[0mtemp_results\u001b[0m\u001b[0;34m[\u001b[0m\u001b[0;34m'objVal'\u001b[0m\u001b[0;34m]\u001b[0m \u001b[0;34m<\u001b[0m \u001b[0mresults\u001b[0m\u001b[0;34m[\u001b[0m\u001b[0;34m'objVal'\u001b[0m\u001b[0;34m]\u001b[0m\u001b[0;34m:\u001b[0m\u001b[0;34m\u001b[0m\u001b[0;34m\u001b[0m\u001b[0m\n",
      "\u001b[0;32m<ipython-input-217-72764f26075c>\u001b[0m in \u001b[0;36mcalcResults\u001b[0;34m(x, beta, precision, limit, v, n, no_show, I, d, eind, alpha_W, alpha_I, alpha_T)\u001b[0m\n\u001b[1;32m     19\u001b[0m   \u001b[0;31m# Waiting time calcs\u001b[0m\u001b[0;34m\u001b[0m\u001b[0;34m\u001b[0m\u001b[0;34m\u001b[0m\u001b[0m\n\u001b[1;32m     20\u001b[0m   \u001b[0mtic\u001b[0m \u001b[0;34m=\u001b[0m \u001b[0mtime\u001b[0m\u001b[0;34m.\u001b[0m\u001b[0mperf_counter\u001b[0m\u001b[0;34m(\u001b[0m\u001b[0;34m)\u001b[0m\u001b[0;34m\u001b[0m\u001b[0;34m\u001b[0m\u001b[0m\n\u001b[0;32m---> 21\u001b[0;31m   \u001b[0mwaitingtime\u001b[0m \u001b[0;34m=\u001b[0m \u001b[0mcalcWaitingtime\u001b[0m\u001b[0;34m(\u001b[0m\u001b[0mp_min\u001b[0m\u001b[0;34m,\u001b[0m \u001b[0mx\u001b[0m\u001b[0;34m,\u001b[0m \u001b[0mp\u001b[0m\u001b[0;34m,\u001b[0m \u001b[0mlimit\u001b[0m\u001b[0;34m,\u001b[0m \u001b[0mI\u001b[0m\u001b[0;34m,\u001b[0m \u001b[0mn\u001b[0m\u001b[0;34m)\u001b[0m\u001b[0;34m\u001b[0m\u001b[0;34m\u001b[0m\u001b[0m\n\u001b[0m\u001b[1;32m     22\u001b[0m   \u001b[0mtoc\u001b[0m \u001b[0;34m=\u001b[0m \u001b[0mtime\u001b[0m\u001b[0;34m.\u001b[0m\u001b[0mperf_counter\u001b[0m\u001b[0;34m(\u001b[0m\u001b[0;34m)\u001b[0m\u001b[0;34m\u001b[0m\u001b[0;34m\u001b[0m\u001b[0m\n\u001b[1;32m     23\u001b[0m   \u001b[0mwaitingtimeT\u001b[0m \u001b[0;34m=\u001b[0m \u001b[0mtoc\u001b[0m\u001b[0;34m-\u001b[0m\u001b[0mtic\u001b[0m\u001b[0;34m\u001b[0m\u001b[0;34m\u001b[0m\u001b[0m\n",
      "\u001b[0;32m<ipython-input-213-bf641a73c5be>\u001b[0m in \u001b[0;36mcalcWaitingtime\u001b[0;34m(p_min, x, p, limit, I, n)\u001b[0m\n\u001b[1;32m     23\u001b[0m         \u001b[0;32mfor\u001b[0m \u001b[0mk\u001b[0m \u001b[0;32min\u001b[0m \u001b[0mrange\u001b[0m\u001b[0;34m(\u001b[0m\u001b[0mlimit\u001b[0m\u001b[0;34m+\u001b[0m\u001b[0;36m1\u001b[0m\u001b[0;34m)\u001b[0m\u001b[0;34m:\u001b[0m\u001b[0;34m\u001b[0m\u001b[0;34m\u001b[0m\u001b[0m\n\u001b[1;32m     24\u001b[0m           \u001b[0;32mfor\u001b[0m \u001b[0mj\u001b[0m \u001b[0;32min\u001b[0m \u001b[0mrange\u001b[0m\u001b[0;34m(\u001b[0m\u001b[0mk\u001b[0m\u001b[0;34m+\u001b[0m\u001b[0;36m1\u001b[0m\u001b[0;34m)\u001b[0m\u001b[0;34m:\u001b[0m\u001b[0;34m\u001b[0m\u001b[0;34m\u001b[0m\u001b[0m\n\u001b[0;32m---> 25\u001b[0;31m             \u001b[0mw\u001b[0m\u001b[0;34m[\u001b[0m\u001b[0mt\u001b[0m\u001b[0;34m]\u001b[0m\u001b[0;34m[\u001b[0m\u001b[0mi\u001b[0m\u001b[0;34m]\u001b[0m\u001b[0;34m[\u001b[0m\u001b[0mk\u001b[0m\u001b[0;34m]\u001b[0m \u001b[0;34m+=\u001b[0m \u001b[0mw\u001b[0m\u001b[0;34m[\u001b[0m\u001b[0mt\u001b[0m\u001b[0;34m]\u001b[0m\u001b[0;34m[\u001b[0m\u001b[0mi\u001b[0m\u001b[0;34m-\u001b[0m\u001b[0;36m1\u001b[0m\u001b[0;34m]\u001b[0m\u001b[0;34m[\u001b[0m\u001b[0mj\u001b[0m\u001b[0;34m]\u001b[0m \u001b[0;34m*\u001b[0m \u001b[0mp\u001b[0m\u001b[0;34m[\u001b[0m\u001b[0mk\u001b[0m\u001b[0;34m-\u001b[0m\u001b[0mj\u001b[0m\u001b[0;34m]\u001b[0m\u001b[0;34m\u001b[0m\u001b[0;34m\u001b[0m\u001b[0m\n\u001b[0m\u001b[1;32m     26\u001b[0m \u001b[0;34m\u001b[0m\u001b[0m\n\u001b[1;32m     27\u001b[0m   \u001b[0;32mfor\u001b[0m \u001b[0mt\u001b[0m \u001b[0;32min\u001b[0m \u001b[0mrange\u001b[0m\u001b[0;34m(\u001b[0m\u001b[0;36m0\u001b[0m\u001b[0;34m,\u001b[0m \u001b[0mI\u001b[0m\u001b[0;34m)\u001b[0m\u001b[0;34m:\u001b[0m\u001b[0;34m\u001b[0m\u001b[0;34m\u001b[0m\u001b[0m\n",
      "\u001b[0;31mKeyboardInterrupt\u001b[0m: "
     ]
    }
   ],
   "source": [
    "precision = 0.9999\n",
    "# n = 50 # number of patients\n",
    "n = 24\n",
    "beta = 9 # average service time for a patient\n",
    "T = 4*60 # total time\n",
    "d = 5 # interval size\n",
    "I = int(T/d) # number of intervals\n",
    "\n",
    "no_show = 0\n",
    "iend = 0\n",
    "\n",
    "s = schedule(beta,I,d,n)\n",
    "s.make_initial_schedule()\n",
    "# x = s.x\n",
    "x = list(np.zeros(I, dtype=int)) # alternate x with all patients at the beginning\n",
    "x[0] = n\n",
    "\n",
    "size = calcExponentialLimit(beta*n)+1 # size of p has to be at least as big as the limit value here\n",
    "p, precision_limit = calculate_p(beta, size, precision)\n",
    "v, limit = calculate_v(p, beta, precision, precision_limit, n, d, no_show)\n",
    "\n",
    "alpha_I = 0.2\n",
    "alpha_T = 0.4 # patient doctor centric slider\n",
    "alpha_W = 0.4\n",
    "\n",
    "# results = calcResults(x, beta, precision, limit, v, n, no_show, I, d, 0, alpha_W, alpha_I, alpha_T)\n",
    "\n",
    "# bestObjVal = results['objVal']\n",
    "x, results = simpleSearch(x, beta, precision, limit, v, n, no_show, I, d, alpha_W, alpha_I, alpha_T, results)\n",
    "# while results['objVal'] < bestObjVal:\n",
    "#   bestObjVal = results['objVal']\n",
    "#   x, results = simpleSearch(x, beta, precision, limit, v, n, no_show, I, d, alpha_W, alpha_I, alpha_T, results)"
   ]
  },
  {
   "cell_type": "markdown",
   "metadata": {},
   "source": [
    "# A problem is introduced when the precision is not enough for p_min when there are few patients in a large schedule\n",
    "\n",
    "# TODO schedule metrics bugged with certain schedules -> p_min not calced properly? or issue with precision?\n",
    "\n",
    "# TODO search can be finished but still has to perform I**2 number of probability calculations, introduce sane limit for objval?\n",
    "\n",
    "# TODO optimal schedule is not found after one iteration of simpleSearch, efficiency of first patients moved depend on position of earlier patients in the list\n",
    "\n",
    "# is it quicker to move everything per iteration or abandon an iteration if something is moved?"
   ]
  }
 ],
 "metadata": {
  "colab": {
   "collapsed_sections": [],
   "name": "outpatient_scheduling.ipynb",
   "provenance": []
  },
  "interpreter": {
   "hash": "e7370f93d1d0cde622a1f8e1c04877d8463912d04d973331ad4851f04de6915a"
  },
  "kernelspec": {
   "display_name": "Python 3.10.1 64-bit",
   "name": "python3"
  },
  "language_info": {
   "codemirror_mode": {
    "name": "ipython",
    "version": 3
   },
   "file_extension": ".py",
   "mimetype": "text/x-python",
   "name": "python",
   "nbconvert_exporter": "python",
   "pygments_lexer": "ipython3",
   "version": "3.10.1"
  }
 },
 "nbformat": 4,
 "nbformat_minor": 1
}
