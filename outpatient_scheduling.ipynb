{
  "nbformat": 4,
  "nbformat_minor": 0,
  "metadata": {
    "colab": {
      "name": "outpatient_scheduling.ipynb",
      "provenance": [],
      "collapsed_sections": [],
      "include_colab_link": true
    },
    "kernelspec": {
      "name": "python3",
      "display_name": "Python 3"
    },
    "language_info": {
      "name": "python"
    }
  },
  "cells": [
    {
      "cell_type": "markdown",
      "metadata": {
        "id": "view-in-github",
        "colab_type": "text"
      },
      "source": [
        "<a href=\"https://colab.research.google.com/github/witusj/obp/blob/master/outpatient_scheduling.ipynb\" target=\"_parent\"><img src=\"https://colab.research.google.com/assets/colab-badge.svg\" alt=\"Open In Colab\"/></a>"
      ]
    },
    {
      "cell_type": "code",
      "metadata": {
        "id": "q__0Cso8SFQK"
      },
      "source": [
        "## Import packages\n",
        "import numpy as np\n",
        "import math\n",
        "import random\n",
        "from scipy.stats import poisson\n",
        "from scipy.special import binom"
      ],
      "execution_count": null,
      "outputs": []
    },
    {
      "cell_type": "markdown",
      "metadata": {
        "id": "yFXRf7KGRoui"
      },
      "source": [
        "## Setup problem definition"
      ]
    },
    {
      "cell_type": "markdown",
      "metadata": {
        "id": "zVFKVKXyPiwm"
      },
      "source": [
        "## Test case\n",
        "\n",
        "- T = 4h\n",
        "- d = 5 min\n",
        "- beta = 9 minutes service time (exponential)\n",
        "- N = 24 patients"
      ]
    },
    {
      "cell_type": "code",
      "metadata": {
        "colab": {
          "base_uri": "https://localhost:8080/"
        },
        "id": "yLzG-_SeRfC4",
        "outputId": "7ed028ab-5a18-4389-a110-d398692d2b1d"
      },
      "source": [
        "class schedule:\n",
        "  def __init__(self, beta: int, T: int, d: int, N: int):\n",
        "    self.beta = beta # = 1/μ : average service time\n",
        "    self.T = T # number of intervals\n",
        "    self.d = d # length of interval\n",
        "    self.N = N # total number of patients\n",
        "    self.x:list[int] = np.repeat(0, self.T) # schedule with x[t] as number of \n",
        "                                            # patients scheduled at the start of\n",
        "                                            # interval t, t = 1,...,T; initially\n",
        "                                            # set at zero\n",
        "  def reset_schedule(self):\n",
        "    for t in range(self.T):\n",
        "      self.x[t] = 0\n",
        "  def make_random_schedule(self, min_x: int, max_x: int, step: int=1):\n",
        "    n = self.N\n",
        "    for i in range(0,self.T, step):\n",
        "      if n >= 0:\n",
        "        r = random.randint(min_x, max_x)\n",
        "        self.x[i] = min(r,n)\n",
        "        n = n - r\n",
        "        print(n, self.x[i])\n",
        "      else:\n",
        "        return\n",
        "  def make_initial_schedule(self):\n",
        "    for i in range(self.N):\n",
        "      t = round(i*self.T / self.N)\n",
        "      print(i)\n",
        "      if i > self.T:\n",
        "        i-= 1\n",
        "      self.x[t] += 1\n",
        "\n",
        "beta = 20\n",
        "T = 48\n",
        "d = 5\n",
        "N = 10\n",
        "s1 = schedule(beta,T,d,N)\n",
        "step = math.floor(beta/d)\n",
        "s1.make_random_schedule(0,2, step)\n",
        "print(s1.x)\n",
        "print(f'total number of patients in schedule {sum(s1.x)}')\n",
        "s1.reset_schedule()\n",
        "print(s1.x)\n",
        "s1.make_initial_schedule()\n",
        "print(s1.x)\n",
        "print(f'total number of patients in schedule {sum(s1.x)}')"
      ],
      "execution_count": null,
      "outputs": [
        {
          "output_type": "stream",
          "name": "stdout",
          "text": [
            "9 1\n",
            "9 0\n",
            "9 0\n",
            "9 0\n",
            "9 0\n",
            "9 0\n",
            "8 1\n",
            "8 0\n",
            "6 2\n",
            "5 1\n",
            "4 1\n",
            "2 2\n",
            "[1 0 0 0 0 0 0 0 0 0 0 0 0 0 0 0 0 0 0 0 0 0 0 0 1 0 0 0 0 0 0 0 2 0 0 0 1\n",
            " 0 0 0 1 0 0 0 2 0 0 0]\n",
            "total number of patients in schedule 8\n",
            "[0 0 0 0 0 0 0 0 0 0 0 0 0 0 0 0 0 0 0 0 0 0 0 0 0 0 0 0 0 0 0 0 0 0 0 0 0\n",
            " 0 0 0 0 0 0 0 0 0 0 0]\n",
            "0\n",
            "1\n",
            "2\n",
            "3\n",
            "4\n",
            "5\n",
            "6\n",
            "7\n",
            "8\n",
            "9\n",
            "[1 0 0 0 0 1 0 0 0 0 1 0 0 0 1 0 0 0 0 1 0 0 0 0 1 0 0 0 0 1 0 0 0 0 1 0 0\n",
            " 0 1 0 0 0 0 1 0 0 0 0]\n",
            "total number of patients in schedule 10\n"
          ]
        }
      ]
    },
    {
      "cell_type": "markdown",
      "metadata": {
        "id": "lc8GnVez7ZGl"
      },
      "source": [
        "## Functions"
      ]
    },
    {
      "cell_type": "code",
      "metadata": {
        "colab": {
          "base_uri": "https://localhost:8080/"
        },
        "id": "DHVmKKsR4srX",
        "outputId": "ee42b3ed-1c11-4780-9ee6-c7ad16362fb4"
      },
      "source": [
        "def recursive_sum(i):\n",
        "  if i==1:\n",
        "    return 1\n",
        "  return i+recursive_sum(i-1)\n",
        "\n",
        "recursive_sum(5)"
      ],
      "execution_count": null,
      "outputs": [
        {
          "output_type": "execute_result",
          "data": {
            "text/plain": [
              "15"
            ]
          },
          "metadata": {},
          "execution_count": 22
        }
      ]
    },
    {
      "cell_type": "code",
      "metadata": {
        "colab": {
          "base_uri": "https://localhost:8080/"
        },
        "id": "OVEJ8XeO8CZN",
        "outputId": "a03b45c8-0c10-4a38-a9d0-50d173f74883"
      },
      "source": [
        "#not used because of recursion depth limit in Python\n",
        "#def factorial(i):\n",
        "#  if i==1:\n",
        "#    return 1\n",
        "#  return i * factorial(i-1)\n",
        "#\n",
        "#factorial(5)\n",
        "\n",
        "for i in range(10):\n",
        "  print(math.factorial(i))"
      ],
      "execution_count": null,
      "outputs": [
        {
          "output_type": "stream",
          "name": "stdout",
          "text": [
            "1\n",
            "1\n",
            "2\n",
            "6\n",
            "24\n",
            "120\n",
            "720\n",
            "5040\n",
            "40320\n",
            "362880\n"
          ]
        }
      ]
    },
    {
      "cell_type": "code",
      "metadata": {
        "colab": {
          "base_uri": "https://localhost:8080/"
        },
        "id": "ejsk3dWmJYX3",
        "outputId": "3d2051a5-6f89-46db-a03e-7b4aae91e746"
      },
      "source": [
        "# Not necessary - use scipy poisson.pmf instead\n",
        "def service(k, beta):\n",
        "  return pow(beta,k)*math.exp(-beta) / math.factorial(k)\n",
        "\n",
        "service(10,20)"
      ],
      "execution_count": null,
      "outputs": [
        {
          "output_type": "execute_result",
          "data": {
            "text/plain": [
              "0.005816306518345136"
            ]
          },
          "metadata": {},
          "execution_count": 41
        }
      ]
    },
    {
      "cell_type": "code",
      "metadata": {
        "colab": {
          "base_uri": "https://localhost:8080/"
        },
        "id": "hU4AbuGynDF-",
        "outputId": "9a289d4e-51cd-4bdc-a711-130e1bd7d1c8"
      },
      "source": [
        "# Not necessary - use scipy binom instead\n",
        "def binomial_coef(n,k):\n",
        "  return factorial(n)/(factorial(k)*factorial(n-k))\n",
        "\n",
        "print(f'{binomial_coef(4,1)} {binomial_coef(4,2)} {binomial_coef(4,3)}')"
      ],
      "execution_count": null,
      "outputs": [
        {
          "output_type": "stream",
          "name": "stdout",
          "text": [
            "4.0 6.0 4.0\n"
          ]
        }
      ]
    },
    {
      "cell_type": "code",
      "metadata": {
        "colab": {
          "base_uri": "https://localhost:8080/"
        },
        "id": "Liux9pxVwnS3",
        "outputId": "b7ace2f0-8091-443c-9200-d4ff0c15f2da"
      },
      "source": [
        "print(f'{binom(4,1)} {binom(4,2)} {binom(4,3)}')"
      ],
      "execution_count": null,
      "outputs": [
        {
          "output_type": "stream",
          "name": "stdout",
          "text": [
            "4.0 6.0 4.0\n"
          ]
        }
      ]
    },
    {
      "cell_type": "code",
      "metadata": {
        "id": "6gyJwRgxJeid"
      },
      "source": [
        "# moving patients iteratively, local search\n",
        "def iteration_small(x, results, I, n): # name of function should be meaningful; add types.\n",
        "  x_new = x.copy()\n",
        "  for m in range(1, I-1):\n",
        "    for k in list(range(1, I))[::-1]:\n",
        "      if x_new[k] > 0:\n",
        "        x_new[k] -= 1\n",
        "        x_new[((k + m - 1) % I) + 1] += 1\n",
        "        results_temp = results(x_new, 0) # class for storing results?\n",
        "        if results_temp['objVal'] < results['objVal']: # need to use eval method instead?\n",
        "          return x_new, results_temp\n",
        "        else: \n",
        "          x_new[k] += 1\n",
        "          x_new[((k + m - 1) % I) + 1] -= 1 # store index as variable?\n",
        "  return X, None"
      ],
      "execution_count": null,
      "outputs": []
    },
    {
      "cell_type": "code",
      "metadata": {
        "colab": {
          "base_uri": "https://localhost:8080/"
        },
        "id": "s7aVoG6vTDUw",
        "outputId": "8c486cb9-32ba-453b-9439-dcf1627c9677"
      },
      "source": [
        "def limit(mu): # name of function should be meaningful\n",
        "  return max(mu+4*math.sqrt(mu),100)\n",
        "\n",
        "limit(1/beta)"
      ],
      "execution_count": null,
      "outputs": [
        {
          "output_type": "execute_result",
          "data": {
            "text/plain": [
              "100"
            ]
          },
          "metadata": {},
          "execution_count": 69
        }
      ]
    },
    {
      "cell_type": "code",
      "metadata": {
        "colab": {
          "base_uri": "https://localhost:8080/"
        },
        "id": "3aweyabGgcoi",
        "outputId": "ad0a86b0-50ef-41be-f122-6d6b7a5a6583"
      },
      "source": [
        "def create_a(beta, precision=0.9999): #Poisson P(potential departures = k)\n",
        "  k = 0\n",
        "  a=[]\n",
        "  while sum(a) < precision:\n",
        "    a.append(service(k, beta)) # Service function not necessary - use scipy poisson instead\n",
        "    k+=1\n",
        "  return(a)\n",
        "\n",
        "a1=create_a(10)\n",
        "a1"
      ],
      "execution_count": null,
      "outputs": [
        {
          "output_type": "execute_result",
          "data": {
            "text/plain": [
              "[4.5399929762484854e-05,\n",
              " 0.00045399929762484856,\n",
              " 0.0022699964881242427,\n",
              " 0.007566654960414142,\n",
              " 0.018916637401035354,\n",
              " 0.03783327480207071,\n",
              " 0.06305545800345118,\n",
              " 0.09007922571921599,\n",
              " 0.11259903214901998,\n",
              " 0.1251100357211333,\n",
              " 0.1251100357211333,\n",
              " 0.11373639611012118,\n",
              " 0.09478033009176766,\n",
              " 0.07290794622443666,\n",
              " 0.05207710444602619,\n",
              " 0.03471806963068413,\n",
              " 0.021698793519177577,\n",
              " 0.012763996187751515,\n",
              " 0.007091108993195286,\n",
              " 0.0037321626279975192,\n",
              " 0.0018660813139987594,\n",
              " 0.0008886101495232189,\n",
              " 0.00040391370432873584,\n",
              " 0.00017561465405597208,\n",
              " 7.317277252332172e-05]"
            ]
          },
          "metadata": {},
          "execution_count": 75
        }
      ]
    },
    {
      "cell_type": "code",
      "metadata": {
        "colab": {
          "base_uri": "https://localhost:8080/"
        },
        "id": "JJM6vfRgviN9",
        "outputId": "626f58d7-86ea-4864-f563-01577c25a4e7"
      },
      "source": [
        "def create_a(beta, precision=0.9999): #Poisson P(potential departures = k)\n",
        "  k = 0\n",
        "  a=[]\n",
        "  while sum(a) < precision:\n",
        "    a.append(poisson.pmf(k=k, mu=beta))\n",
        "    k+=1\n",
        "  return(a)\n",
        "\n",
        "a2=create_a(10)\n",
        "a2"
      ],
      "execution_count": null,
      "outputs": [
        {
          "output_type": "execute_result",
          "data": {
            "text/plain": [
              "[4.5399929762484854e-05,\n",
              " 0.0004539992976248486,\n",
              " 0.0022699964881242435,\n",
              " 0.007566654960414144,\n",
              " 0.01891663740103538,\n",
              " 0.03783327480207079,\n",
              " 0.06305545800345125,\n",
              " 0.090079225719216,\n",
              " 0.11259903214902009,\n",
              " 0.12511003572113372,\n",
              " 0.12511003572113372,\n",
              " 0.11373639611012128,\n",
              " 0.09478033009176803,\n",
              " 0.07290794622443707,\n",
              " 0.05207710444602615,\n",
              " 0.034718069630684245,\n",
              " 0.021698793519177594,\n",
              " 0.012763996187751505,\n",
              " 0.007091108993195334,\n",
              " 0.003732162627997529,\n",
              " 0.0018660813139987742,\n",
              " 0.0008886101495232241,\n",
              " 0.0004039137043287357,\n",
              " 0.00017561465405597286,\n",
              " 7.317277252332212e-05]"
            ]
          },
          "metadata": {},
          "execution_count": 2
        }
      ]
    },
    {
      "cell_type": "code",
      "metadata": {
        "id": "xPhH_iHrpJlf"
      },
      "source": [
        "def calcExponentialLimit(mu):\n",
        "  return max(mu+4*math.sqrt(mu),100)"
      ],
      "execution_count": null,
      "outputs": []
    },
    {
      "cell_type": "code",
      "metadata": {
        "id": "V3xzZRbS4Yl_"
      },
      "source": [
        "def binomCoeff(k, i):\n",
        "  math.factorial(k) / (math.factorial(k - i) * math.factorial(i))\n",
        "\n",
        "def binomPMF(k, i, m, add_v, no_show):\n",
        "  binomCoeff(k, m) * add_v[m][i] * (1 - no_show)^m * no_show^(k-m)"
      ],
      "execution_count": null,
      "outputs": []
    },
    {
      "cell_type": "code",
      "metadata": {
        "id": "Fb17kE-AlY06"
      },
      "source": [
        "# two main components\n",
        "# find a schedule to evaluate <- efficient search procedure to still end up with a good schedule\n",
        "# evaluate a specific schedule <- as fast a possible\n",
        "def calculateProbabilities(x, p, beta, precision, n, n_temp, no_show, I):\n",
        "  count = len(p)\n",
        "  waiting = 0\n",
        "  idletime = 0\n",
        "  tardiness = 0\n",
        "  p_plus = []\n",
        "  p_min = []\n",
        "  v = []\n",
        "  w = []\n",
        "  add_v = [] # needs a predetermined size\n",
        "\n",
        "#\tv[k][i]=probability of having i units of work given that \n",
        "#\tk patients are scheduled for the interval.\n",
        "#\tp[i]= probability of serving the patient in i mins given that\n",
        "#\tthe average service time is beta.\n",
        "\n",
        "  for k in range(n_temp):\n",
        "    limit = calcExponentialLimit(beta*k)\n",
        "    i = 0\n",
        "    sum_k = 0\n",
        "    while sum_k < precision and i <= limit:\n",
        "      if k == 0:\n",
        "        if i > 0:\n",
        "          add_v[k][i] = 0\n",
        "        else if i == 0:\n",
        "          add_v[k][i] = 1\n",
        "      else:\n",
        "        n = 0\n",
        "        while n <= count:\n",
        "          add_v[k][i] += p[n] * add_v[k-1][i-n]\n",
        "          n++\n",
        "      sum_k += add_v[k][i]\n",
        "      i++\n",
        "  for k in range(n_temp):\n",
        "    i = 0\n",
        "    sum_k = 0\n",
        "    while sum_k < precision and i <= limit:\n",
        "      for m in range(k):\n",
        "        v[k][i] += binomPMF(k, i, m, add_v, no_show)\n",
        "\t    sum_k += v[k][i]\n",
        "\t    i++\n",
        "  \n",
        "  # Constraint 2\n",
        "  sum_p = 0\n",
        "  i = 0\n",
        "  while sum_p < precision and i <= limit:\n",
        "    if i == 0:\n",
        "      p_min[1][i] = 1\n",
        "    else: \n",
        "      p_min[1][i] = 0\n",
        "    p_plus[1][i] = v[x[1]][i] * p_min[1][0]\n",
        "    sum_p += p_plus[1][i]\n",
        "    i++\n",
        "  for t in range(2, I+1):\n",
        "    if not x[t]:\n",
        "      x[t] = 0\n",
        "    # Constraint 3\n",
        "    for k in range(d):\n",
        "      p_min[t]][0] += p_plus[t-1][k]\n",
        "    # Constraint 4\n",
        "    for i in range(1,limit):\n",
        "      p_min[t][i] = p_plus[t-1][i+d]\n",
        "    # Constraint 5\n",
        "    if t != I+1:\n",
        "\n",
        "\t    "
      ],
      "execution_count": null,
      "outputs": []
    }
  ]
}