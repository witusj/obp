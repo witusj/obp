{
 "cells": [
  {
   "cell_type": "code",
   "execution_count": 18,
   "metadata": {
    "slideshow": {
     "slide_type": "skip"
    }
   },
   "outputs": [],
   "source": [
    "import numpy as np\n",
    "import math\n",
    "import random\n",
    "from scipy.stats import poisson\n",
    "import time"
   ]
  },
  {
   "cell_type": "markdown",
   "metadata": {},
   "source": [
    "## Functions"
   ]
  },
  {
   "cell_type": "code",
   "execution_count": 19,
   "metadata": {},
   "outputs": [],
   "source": [
    "I = 8  # Number of intervals\n",
    "d = 5  # length of interval\n",
    "x = np.random.choice(5, I)\n",
    "N = sum(x)\n",
    "precision = 0.9999\n",
    "beta = 9  # Average service time for a patient\n",
    "no_show = 0 # Fraction of scheduled patients not showing up\n",
    "eind = 0\n",
    "alpha_I = 0.2\n",
    "alpha_T = 0.4  # patient doctor centric slider\n",
    "alpha_W = 0.4"
   ]
  },
  {
   "cell_type": "code",
   "execution_count": 20,
   "metadata": {},
   "outputs": [],
   "source": [
    "def calcExponentialLimit(mu):\n",
    "    return int(max(mu+4*mu**0.5, 100))"
   ]
  },
  {
   "cell_type": "code",
   "execution_count": 21,
   "metadata": {},
   "outputs": [],
   "source": [
    "def binomCoeff(k, i):\n",
    "  return math.factorial(k) / (math.factorial(k - i) * math.factorial(i))\n",
    "\n",
    "\n",
    "def binomPMF(k, i, m, add_v, no_show):\n",
    "  return binomCoeff(k, m) * add_v[m][i] * (1 - no_show)**m * no_show**(k-m)"
   ]
  },
  {
   "cell_type": "code",
   "execution_count": 22,
   "metadata": {},
   "outputs": [
    {
     "data": {
      "text/plain": [
       "([0.00012340980408667956,\n",
       "  0.0011106882367801166,\n",
       "  0.004998097065510523,\n",
       "  0.014994291196531574,\n",
       "  0.033737155192196056,\n",
       "  0.06072687934595293,\n",
       "  0.09109031901892926,\n",
       "  0.1171161244529091,\n",
       "  0.13175564000952278,\n",
       "  0.13175564000952278,\n",
       "  0.11858007600857066,\n",
       "  0.09702006218883041,\n",
       "  0.0727650466416229,\n",
       "  0.050375801521123684,\n",
       "  0.03238444383500792,\n",
       "  0.01943066630100472,\n",
       "  0.010929749794315179,\n",
       "  0.005786338126402172,\n",
       "  0.0028931690632010803,\n",
       "  0.0013704485036215655,\n",
       "  0.0006167018266297063,\n",
       "  0.0002643007828413016,\n",
       "  0.00010812304752598687,\n",
       "  0,\n",
       "  0,\n",
       "  0,\n",
       "  0,\n",
       "  0,\n",
       "  0,\n",
       "  0,\n",
       "  0,\n",
       "  0,\n",
       "  0,\n",
       "  0,\n",
       "  0,\n",
       "  0,\n",
       "  0,\n",
       "  0,\n",
       "  0,\n",
       "  0,\n",
       "  0,\n",
       "  0,\n",
       "  0,\n",
       "  0,\n",
       "  0,\n",
       "  0,\n",
       "  0,\n",
       "  0,\n",
       "  0,\n",
       "  0,\n",
       "  0,\n",
       "  0,\n",
       "  0,\n",
       "  0,\n",
       "  0,\n",
       "  0,\n",
       "  0,\n",
       "  0,\n",
       "  0,\n",
       "  0,\n",
       "  0,\n",
       "  0,\n",
       "  0,\n",
       "  0,\n",
       "  0,\n",
       "  0,\n",
       "  0,\n",
       "  0,\n",
       "  0,\n",
       "  0,\n",
       "  0,\n",
       "  0,\n",
       "  0,\n",
       "  0,\n",
       "  0,\n",
       "  0,\n",
       "  0,\n",
       "  0,\n",
       "  0,\n",
       "  0,\n",
       "  0,\n",
       "  0,\n",
       "  0,\n",
       "  0,\n",
       "  0,\n",
       "  0,\n",
       "  0,\n",
       "  0,\n",
       "  0,\n",
       "  0,\n",
       "  0,\n",
       "  0,\n",
       "  0,\n",
       "  0,\n",
       "  0,\n",
       "  0,\n",
       "  0,\n",
       "  0,\n",
       "  0,\n",
       "  0,\n",
       "  0,\n",
       "  0,\n",
       "  0,\n",
       "  0,\n",
       "  0,\n",
       "  0,\n",
       "  0,\n",
       "  0,\n",
       "  0,\n",
       "  0,\n",
       "  0,\n",
       "  0,\n",
       "  0,\n",
       "  0,\n",
       "  0,\n",
       "  0,\n",
       "  0,\n",
       "  0,\n",
       "  0,\n",
       "  0,\n",
       "  0,\n",
       "  0,\n",
       "  0,\n",
       "  0,\n",
       "  0,\n",
       "  0,\n",
       "  0,\n",
       "  0,\n",
       "  0,\n",
       "  0,\n",
       "  0,\n",
       "  0,\n",
       "  0,\n",
       "  0,\n",
       "  0,\n",
       "  0,\n",
       "  0,\n",
       "  0,\n",
       "  0,\n",
       "  0,\n",
       "  0,\n",
       "  0,\n",
       "  0,\n",
       "  0,\n",
       "  0,\n",
       "  0,\n",
       "  0,\n",
       "  0,\n",
       "  0,\n",
       "  0,\n",
       "  0,\n",
       "  0,\n",
       "  0,\n",
       "  0,\n",
       "  0,\n",
       "  0,\n",
       "  0,\n",
       "  0,\n",
       "  0,\n",
       "  0,\n",
       "  0,\n",
       "  0,\n",
       "  0,\n",
       "  0,\n",
       "  0,\n",
       "  0,\n",
       "  0,\n",
       "  0,\n",
       "  0,\n",
       "  0,\n",
       "  0],\n",
       " 23)"
      ]
     },
     "execution_count": 22,
     "metadata": {},
     "output_type": "execute_result"
    }
   ],
   "source": [
    "# Distribution to calculate service time of patients\n",
    "#\tp[i]= probability of serving the patient in i mins given that\n",
    "#\tthe average service time is beta.\n",
    "def calculate_p(beta, size, precision=0.9999):  # Poisson distribution\n",
    "    k = 0\n",
    "    p = []\n",
    "\n",
    "    while sum(p) < precision:  # fill accurate values up to precision limit\n",
    "        p.append(poisson.pmf(k, beta))\n",
    "        k += 1\n",
    "\n",
    "    while len(p) < size:  # fill the rest of the values with 0\n",
    "        p.append(0)\n",
    "    return p, k\n",
    "\n",
    "##########\n",
    "## TEST ##\n",
    "##########\n",
    "\n",
    "probSize = calcExponentialLimit(beta*N)+1\n",
    "calculate_p(beta, probSize, precision)\n"
   ]
  },
  {
   "cell_type": "code",
   "execution_count": 23,
   "metadata": {},
   "outputs": [
    {
     "data": {
      "text/plain": [
       "(array([[1.00000000e+00, 0.00000000e+00, 0.00000000e+00, ...,\n",
       "         0.00000000e+00, 0.00000000e+00, 0.00000000e+00],\n",
       "        [1.23409804e-04, 1.11068824e-03, 4.99809707e-03, ...,\n",
       "         0.00000000e+00, 0.00000000e+00, 0.00000000e+00],\n",
       "        [1.52299797e-08, 2.74139635e-07, 2.46725672e-06, ...,\n",
       "         0.00000000e+00, 0.00000000e+00, 0.00000000e+00],\n",
       "        ...,\n",
       "        [1.24794646e-47, 1.34778218e-45, 7.27802377e-44, ...,\n",
       "         0.00000000e+00, 0.00000000e+00, 0.00000000e+00],\n",
       "        [1.54008828e-51, 1.80190329e-49, 1.05411343e-47, ...,\n",
       "         0.00000000e+00, 0.00000000e+00, 0.00000000e+00],\n",
       "        [5.38695255e-07, 2.54327543e-07, 1.13518871e-07, ...,\n",
       "         0.00000000e+00, 0.00000000e+00, 0.00000000e+00]]),\n",
       " 170)"
      ]
     },
     "execution_count": 23,
     "metadata": {},
     "output_type": "execute_result"
    }
   ],
   "source": [
    "def calculate_v(p, beta, precision, precision_limit, n, d, no_show=0):\n",
    "  count = precision_limit\n",
    "  limit = calcExponentialLimit(beta*n) + 1\n",
    "  v = np.zeros((n+1, limit+d))\n",
    "  add_v = np.zeros((n+1, limit+d))\n",
    "\n",
    "  add_v[0][0] = 1\n",
    "  for k in range(1, n+1):\n",
    "    limit = calcExponentialLimit(beta*k)\n",
    "    i = 0\n",
    "    sum_v = 0\n",
    "    while sum_v < precision and i <= limit:\n",
    "      z = 0\n",
    "      while z <= count:\n",
    "        add_v[k][i] += p[z] * add_v[k-1][i-z]\n",
    "        z += 1\n",
    "      sum_v += add_v[k][i]\n",
    "      i += 1\n",
    "\n",
    "  for k in range(n+1):\n",
    "    i = 0\n",
    "    sum_v = 0\n",
    "    while sum_v < precision and i <= limit:\n",
    "      for m in range(k+1):\n",
    "        v[k][i] += binomPMF(k, i, m, add_v, no_show)\n",
    "      sum_v += v[k][i]\n",
    "      i += 1\n",
    "\n",
    "  return v, limit\n",
    "\n",
    "##########\n",
    "## TEST ##\n",
    "##########\n",
    "\n",
    "p, precision_limit = calculate_p(beta, probSize, precision)\n",
    "calculate_v(p, beta, precision, precision_limit, N, d, no_show)\n"
   ]
  },
  {
   "cell_type": "code",
   "execution_count": 24,
   "metadata": {
    "id": "Fb17kE-AlY06"
   },
   "outputs": [
    {
     "data": {
      "text/plain": [
       "(array([[1.00000000e+00, 0.00000000e+00, 0.00000000e+00, ...,\n",
       "         0.00000000e+00, 0.00000000e+00, 0.00000000e+00],\n",
       "        [1.15690521e-01, 9.10903190e-02, 1.17116124e-01, ...,\n",
       "         0.00000000e+00, 0.00000000e+00, 0.00000000e+00],\n",
       "        [1.75360063e-11, 9.39355084e-11, 4.97199148e-10, ...,\n",
       "         0.00000000e+00, 0.00000000e+00, 0.00000000e+00],\n",
       "        ...,\n",
       "        [1.62371117e-12, 6.59128290e-12, 2.77562616e-11, ...,\n",
       "         0.00000000e+00, 0.00000000e+00, 0.00000000e+00],\n",
       "        [2.34072091e-12, 6.30424881e-12, 2.07008832e-11, ...,\n",
       "         0.00000000e+00, 0.00000000e+00, 0.00000000e+00],\n",
       "        [4.83216691e-22, 2.85994871e-21, 1.67197250e-20, ...,\n",
       "         0.00000000e+00, 0.00000000e+00, 0.00000000e+00]]),\n",
       " 170)"
      ]
     },
     "execution_count": 24,
     "metadata": {},
     "output_type": "execute_result"
    }
   ],
   "source": [
    "def calculateProbabilities(x, precision, limit, v, I, d):\n",
    "  p_plus = np.zeros((I+1, limit+d+1))\n",
    "  p_min = np.zeros((I+1, limit+d+1))\n",
    "\n",
    "  # Constraint 1\n",
    "  p_min[0][0] = 1\n",
    "\n",
    "  # Constraint 2\n",
    "  sum_p = 0\n",
    "  i = 0\n",
    "  while sum_p < precision and i <= limit:\n",
    "    p_plus[0][i] = v[x[0]][i]\n",
    "    sum_p += p_plus[0][i]\n",
    "    i += 1\n",
    "\n",
    "  for t in range(1, I+1):  # calculate p_min and p_plus iteratively\n",
    "    # Constraint 3\n",
    "    for k in range(d+1):\n",
    "      # probability of amount of work = 0 just before the start of t equals the cummulative probablity of amount of work less or equal to duration of the interval just at the start of the previous interval, t-1\n",
    "      p_min[t][0] += p_plus[t-1][k]\n",
    "    # Constraint 4\n",
    "    for i in range(1, limit+1):\n",
    "\n",
    "      # probability of amount of work = i just before the start of interval t equals the probablity of amount of work exceeding the duration of the interval by i just at the start of the previous interval, t-1\n",
    "      p_min[t][i] = p_plus[t-1][i+d]\n",
    "\n",
    "    # Constraint 5\n",
    "    if t != I:  # I or I+1\n",
    "      for i in range(limit+1):\n",
    "        for j in range(i+1):\n",
    "          p_plus[t][i] += p_min[t][j] * v[x[t]][i-j]\n",
    "\n",
    "  return p_min, limit\n",
    "\n",
    "##########\n",
    "## TEST ##\n",
    "##########\n",
    "\n",
    "\n",
    "\n",
    "v, limit = calculate_v(p, beta, precision, precision_limit, N, d, no_show)\n",
    "calculateProbabilities(x, precision, limit, v, I, d)\n"
   ]
  },
  {
   "cell_type": "code",
   "execution_count": 25,
   "metadata": {},
   "outputs": [],
   "source": [
    "def calcTardiness(p_min, limit, I):\n",
    "  tardiness = 0\n",
    "  # print(p_min[I])\n",
    "  for k in range(limit):\n",
    "    tardiness += k * p_min[I][k]  # I+1\n",
    "  return tardiness\n",
    "\n",
    "\n",
    "def calcIdletime(I, d, tardiness, n, no_show, beta):\n",
    "  return (I * d) + tardiness - (n * (1 - no_show) * beta)  # I-1?\n",
    "\n",
    "\n",
    "def calcWaitingtime(p_min, x, p, limit, I, n):\n",
    "  w = np.zeros((I+1, n+1, limit+1))\n",
    "  waitingtime = 0\n",
    "\n",
    "  for t in range(0, I):\n",
    "    if x[t] > 0:\n",
    "      for k in range(limit):\n",
    "        w[t][0][k] = p_min[t][k]\n",
    "    if x[t] > 1:\n",
    "      for i in range(1, x[t]+1):\n",
    "        for k in range(limit+1):\n",
    "          for j in range(k+1):\n",
    "            w[t][i][k] += w[t][i-1][j] * p[k-j]\n",
    "\n",
    "  for t in range(0, I):\n",
    "    for i in range(0, x[t]):\n",
    "      for k in range(limit+1):\n",
    "        waitingtime += w[t][i][k] * k\n",
    "\n",
    "  waitingtime /= n\n",
    "  return waitingtime"
   ]
  },
  {
   "cell_type": "code",
   "execution_count": 26,
   "metadata": {
    "id": "kUvu-ZJsrTwQ"
   },
   "outputs": [],
   "source": [
    "def calcFracExcess(p_min, I):\n",
    "  fracExcess = 0\n",
    "  t = I+1\n",
    "  for j in range(1, len(p_min[t])):\n",
    "    fracExcess += p_min[t][j]\n",
    "  fracExcess *= 100\n",
    "  return fracExcess"
   ]
  },
  {
   "cell_type": "code",
   "execution_count": 27,
   "metadata": {
    "id": "e4i7ppSpjMYq"
   },
   "outputs": [
    {
     "name": "stdout",
     "output_type": "stream",
     "text": [
      "Schedule: [1 4 0 1 0 3 1 4],\n",
      "Objective value: 49.813140724994156,\n",
      "Prob calculation time: 0.111767 sec,\n",
      "Waiting time (timer): 38.54834317685784 (0.159089 sec),\n",
      "Idle time (timer): -0.01032757624830083 (0.000003 sec),\n",
      "Tardiness (timer): 85.9896724237517 (0.000082 sec)\n",
      "\n"
     ]
    }
   ],
   "source": [
    "def calcFitness(x, beta, precision, limit, v, n, no_show, I, d, eind, alpha_W, alpha_I, alpha_T):\n",
    "  tic = time.perf_counter()\n",
    "  p_min, limit = calculateProbabilities(x, precision, limit, v, I, d)\n",
    "  toc = time.perf_counter()\n",
    "  probT = toc-tic\n",
    "\n",
    "  # Tardiness calcs\n",
    "  tic = time.perf_counter()\n",
    "  tardiness = calcTardiness(p_min, limit, I)\n",
    "  toc = time.perf_counter()\n",
    "  tardT = toc-tic\n",
    "\n",
    "  # Idle time calcs new array of given shape and type, filled with zeros.\n",
    "  tic = time.perf_counter()\n",
    "  idletime = calcIdletime(I, d, tardiness, n, no_show, beta)\n",
    "  toc = time.perf_counter()\n",
    "  idletimeT = toc-tic\n",
    "\n",
    "  # Waiting time calcs\n",
    "  tic = time.perf_counter()\n",
    "  waitingtime = calcWaitingtime(p_min, x, p, limit, I, n)\n",
    "  toc = time.perf_counter()\n",
    "  waitingtimeT = toc-tic\n",
    "\n",
    "  objVal = alpha_W*waitingtime + alpha_I*idletime + alpha_T*tardiness\n",
    "\n",
    "  print(f\"Schedule: {x},\\nObjective value: {objVal},\\nProb calculation time: {probT:.6f} sec,\\nWaiting time (timer): {waitingtime} ({waitingtimeT:.6f} sec),\\nIdle time (timer): {idletime} ({idletimeT:.6f} sec),\\nTardiness (timer): {tardiness} ({tardT:.6f} sec)\\n\")\n",
    "\n",
    "  # Collect into a dictionary\n",
    "  results = {'p_min': p_min, 'waitingTime': waitingtime,\n",
    "            'idleTime': idletime, 'tardiness': tardiness, 'objVal': objVal}\n",
    "\n",
    "  if eind == 1:\n",
    "    fracExcess = calcFracExcess(p_min, I)\n",
    "    results['fracExcess'] = fracExcess\n",
    "\n",
    "  return results\n",
    "\n",
    "##########\n",
    "## TEST ##\n",
    "##########\n",
    "\n",
    "\n",
    "p, precision_limit = calculate_p(beta, probSize, precision)\n",
    "v, limit = calculate_v(p, beta, precision, precision_limit, N, d, no_show)\n",
    "\n",
    "\n",
    "\n",
    "results = calcFitness(x, beta, precision, limit, v, N, no_show,\n",
    "                  I, d, eind, alpha_W, alpha_I, alpha_T)\n"
   ]
  },
  {
   "cell_type": "markdown",
   "metadata": {},
   "source": [
    "<div>\n",
    "<img src=\"https://github.com/witusj/obp/blob/master/images/crossover.png?raw=true\" width=\"450\">\n",
    "<img src=\"https://github.com/witusj/obp/blob/master/images/crossover2.png?raw=true\" width=\"450\">\n",
    "</div>"
   ]
  },
  {
   "cell_type": "code",
   "execution_count": 28,
   "metadata": {},
   "outputs": [
    {
     "name": "stdout",
     "output_type": "stream",
     "text": [
      "[1 3 3 1 2 1 1 2] [1 1 0 4 0 4 3 0]\n"
     ]
    },
    {
     "data": {
      "text/plain": [
       "(array([1, 4, 3, 1, 2, 1, 0, 2]), array([1, 0, 0, 4, 0, 4, 4, 0]))"
      ]
     },
     "execution_count": 28,
     "metadata": {},
     "output_type": "execute_result"
    }
   ],
   "source": [
    "def crossover(parent1, parent2, nSwaps):\n",
    "    child1 = parent1.copy()\n",
    "    child2 = parent2.copy()\n",
    "    \n",
    "    I = len(child1)\n",
    "    \n",
    "    # Calculate distribution for choosing intervals that will swap patients\n",
    "    # The distribution is the normalized schedule. Intervals with zero patients will never be selected.\n",
    "    norm1 = sum(child1)\n",
    "    p1 = child1 / norm1\n",
    "    \n",
    "    # The number of swaps should not exceed the maximum number of patients in any interval. Otherwise it might happen that the number of patients that are transfered exceeds availability, resulting in a negative amount.\n",
    "    max1 = int(max(child1))\n",
    "    max2 = int(max(child2))\n",
    "    n = min(nSwaps, max1, max2)\n",
    "    \n",
    "    # Swap patients parent1 to parent 2\n",
    "    i = np.random.choice(I, nSwaps, p=p1)\n",
    "    for i in i:\n",
    "        child1[i] += -1\n",
    "        child2[i] += 1\n",
    "    \n",
    "    # Swap patients parent2 to parent 1\n",
    "    norm2 = sum(child2)\n",
    "    p2 = child2 / norm2\n",
    "    j = np.random.choice(I, nSwaps, p=p2)\n",
    "    for j in j:\n",
    "        child1[j] += 1\n",
    "        child2[j] += -1\n",
    "    return(child1, child2)\n",
    "\n",
    "##########\n",
    "## TEST ##\n",
    "##########\n",
    "\n",
    "\n",
    "parent1 = np.random.choice(5, I)\n",
    "parent2 = np.random.choice(5, I)\n",
    "\n",
    "print(parent1, parent2)\n",
    "n = 3\n",
    "children = crossover(parent1, parent2, n)\n",
    "children\n"
   ]
  },
  {
   "cell_type": "markdown",
   "metadata": {
    "slideshow": {
     "slide_type": "slide"
    }
   },
   "source": [
    "\n",
    "<div>\n",
    "    <img src=\"https://github.com/witusj/obp/blob/master/images/mutation.png?raw=true\" width=\"450\">\n",
    "    <img src=\"https://github.com/witusj/obp/blob/master/images/mutation1.png?raw=true\" width=\"450\">\n",
    "</div>"
   ]
  },
  {
   "cell_type": "code",
   "execution_count": 29,
   "metadata": {},
   "outputs": [
    {
     "name": "stdout",
     "output_type": "stream",
     "text": [
      "[1 4 3 1 2 1 0 2]\n",
      "[1 0 3 1 2 1 4 2]\n"
     ]
    }
   ],
   "source": [
    "def mutate(child, rate):\n",
    "    if np.random.rand() < rate:\n",
    "        x = len(child)\n",
    "        i, j = np.random.choice(x, 2, replace=False).astype(int)\n",
    "        a, b = child[i], child[j]\n",
    "        child[i], child[j] = b, a\n",
    "    return(child)\n",
    "\n",
    "##########\n",
    "## TEST ##\n",
    "##########\n",
    "\n",
    "child = children[0].copy()\n",
    "print(child)\n",
    "child = mutate(child, 1)\n",
    "print(child)\n"
   ]
  },
  {
   "cell_type": "markdown",
   "metadata": {},
   "source": [
    "## Classes"
   ]
  },
  {
   "cell_type": "markdown",
   "metadata": {},
   "source": [
    "Create a data object to store and generate initial data."
   ]
  },
  {
   "cell_type": "code",
   "execution_count": 42,
   "metadata": {},
   "outputs": [
    {
     "data": {
      "text/plain": [
       "array([[1.00000000e+00, 0.00000000e+00, 0.00000000e+00, ...,\n",
       "        0.00000000e+00, 0.00000000e+00, 0.00000000e+00],\n",
       "       [1.23409804e-04, 1.11068824e-03, 4.99809707e-03, ...,\n",
       "        0.00000000e+00, 0.00000000e+00, 0.00000000e+00],\n",
       "       [1.52299797e-08, 2.74139635e-07, 2.46725672e-06, ...,\n",
       "        0.00000000e+00, 0.00000000e+00, 0.00000000e+00],\n",
       "       ...,\n",
       "       [1.24794646e-47, 1.34778218e-45, 7.27802377e-44, ...,\n",
       "        0.00000000e+00, 0.00000000e+00, 0.00000000e+00],\n",
       "       [1.54008828e-51, 1.80190329e-49, 1.05411343e-47, ...,\n",
       "        0.00000000e+00, 0.00000000e+00, 0.00000000e+00],\n",
       "       [5.38695255e-07, 2.54327543e-07, 1.13518871e-07, ...,\n",
       "        0.00000000e+00, 0.00000000e+00, 0.00000000e+00]])"
      ]
     },
     "execution_count": 42,
     "metadata": {},
     "output_type": "execute_result"
    }
   ],
   "source": [
    "class Data:\n",
    "    def __init__(self, I=40, N=8, d=5, popSize=5, beta=9, precision=0.9999, no_show=0, eind=0, alpha_I=None, alpha_T=None, alpha_W=None):\n",
    "        self.I = I\n",
    "        self.N = N\n",
    "        self.d = d\n",
    "        self.popSize = popSize\n",
    "        self.beta = beta\n",
    "        self.precision = precision\n",
    "        self.no_show = no_show\n",
    "        self.probSize = calcExponentialLimit(self.beta*self.N)+1\n",
    "        self.p, self.precision_limit = self.__calculate_p()\n",
    "        self.v, self.limit = self.__calculate_v()\n",
    "        self.eind = eind\n",
    "        self.alpha_I, self.alpha_T, self.alpha_W = alpha_I, alpha_T, alpha_W\n",
    "    \n",
    "    def get_initial_data(self): return np.array((self.I, self.N, self.d, self.beta, self.popSize),\n",
    "                                                dtype={'names': ('I', 'N', 'd', 'beta', 'popSize'),\n",
    "                                                'formats': ('i4', 'i4', 'i4', 'i4', 'i4')})\n",
    "\n",
    "    def get_prob_data(self): return np.array((self.precision, self.no_show, self.probSize, self_p, self.precision_limit, self.v, self.limit),\n",
    "                                                dtype={'names': ('precision', 'no_show', 'probSize', 'p', 'precision_limit', 'v', 'limit'),\n",
    "                                                'formats': ('f8', 'f8', 'i4', 'f8', 'i4', 'f8', 'i4')})\n",
    "\n",
    "    def calculate_p(self):  return calculate_p(self.beta, self.probSize, self.precision)\n",
    "    __calculate_p = calculate_p\n",
    "    \n",
    "    def calculate_v(self): return calculate_v(self.p, self.beta, self.precision, self.precision_limit, self.N, self.d, self.no_show)\n",
    "    __calculate_v = calculate_v\n",
    "    \n",
    "\n",
    "##########\n",
    "## TEST ##\n",
    "##########\n",
    "\n",
    "newDataObject = Data(I, N)\n",
    "initData = newDataObject.get_initial_data()\n",
    "initData['popSize']\n",
    "probData = newDataObject.v\n",
    "probData\n",
    "\n"
   ]
  },
  {
   "cell_type": "markdown",
   "metadata": {
    "slideshow": {
     "slide_type": "slide"
    }
   },
   "source": [
    "<img src=\"https://github.com/witusj/obp/blob/master/images/population.png?raw=true\" width=\"600\">"
   ]
  },
  {
   "cell_type": "markdown",
   "metadata": {
    "slideshow": {
     "slide_type": "slide"
    }
   },
   "source": [
    "Create a random individual. An individual is in this case one schedule."
   ]
  },
  {
   "cell_type": "code",
   "execution_count": null,
   "metadata": {},
   "outputs": [
    {
     "name": "stdout",
     "output_type": "stream",
     "text": [
      "[0 0 0 0 0 0 0 0]\n"
     ]
    },
    {
     "data": {
      "text/plain": [
       "array([2, 0, 2, 4, 4, 1, 1, 1])"
      ]
     },
     "execution_count": 14,
     "metadata": {},
     "output_type": "execute_result"
    }
   ],
   "source": [
    "class Schedule:\n",
    "    def __init__(self, dataObject):\n",
    "        self.I = dataObject.get_initial_data()['I']  # Number of intervals\n",
    "        self.N = dataObject.get_initial_data()['N']  # Number of patients\n",
    "        self.x = np.zeros(self.I).astype(int)# Empty schedule\n",
    "\n",
    "    def create_random_schedule(self):\n",
    "        for i in range(self.N):\n",
    "            i = np.random.choice(self.I, 1)  # Interval ID\n",
    "            self.x[i] = self.x[i] + 1\n",
    "    def get_schedule(self): return(self.x)\n",
    "    def print_schedule(self): print(self.x)\n",
    "\n",
    "##########\n",
    "## TEST ##\n",
    "##########\n",
    "\n",
    "dataObject = Data(I=I, N=N, d=d)\n",
    "scheduleObject = Schedule(dataObject)\n",
    "scheduleObject.print_schedule()\n",
    "scheduleObject.create_random_schedule()\n",
    "schedule = scheduleObject.get_schedule()\n",
    "schedule"
   ]
  },
  {
   "cell_type": "markdown",
   "metadata": {
    "slideshow": {
     "slide_type": "slide"
    }
   },
   "source": [
    "Create population of individuals"
   ]
  },
  {
   "cell_type": "code",
   "execution_count": null,
   "metadata": {},
   "outputs": [
    {
     "data": {
      "text/plain": [
       "[array([3, 1, 1, 2, 2, 3, 0, 3]),\n",
       " array([3, 1, 2, 2, 2, 2, 1, 2]),\n",
       " array([3, 2, 3, 1, 3, 1, 1, 1])]"
      ]
     },
     "execution_count": 15,
     "metadata": {},
     "output_type": "execute_result"
    }
   ],
   "source": [
    "class Population:\n",
    "    def __init__(self, dataObject, individuals=None):\n",
    "        self.dataObject = dataObject\n",
    "        self.popSize = self.dataObject.get_initial_data()['popSize']\n",
    "        self.individuals = individuals\n",
    "        if self.individuals == None: self.__create_new_individuals()    \n",
    "\n",
    "    def create_new_individuals(self):\n",
    "        self.individuals = []\n",
    "        for i in range(self.popSize):\n",
    "            x = Schedule(self.dataObject)\n",
    "            x.create_random_schedule()\n",
    "            x = x.get_schedule()\n",
    "            self.individuals.append(x)\n",
    "            \n",
    "    __create_new_individuals = create_new_individuals\n",
    "    \n",
    "    def get_individuals(self): return(self.individuals)\n",
    "    \n",
    "    \n",
    "    \n",
    "##########\n",
    "## TEST ##\n",
    "##########\n",
    "\n",
    "populationObject = Population(dataObject)\n",
    "populationObject.individuals\n"
   ]
  },
  {
   "cell_type": "markdown",
   "metadata": {},
   "source": [
    "## Fitness function"
   ]
  },
  {
   "cell_type": "code",
   "execution_count": null,
   "metadata": {},
   "outputs": [
    {
     "name": "stdout",
     "output_type": "stream",
     "text": [
      "Schedule: [3 1 1 2 2 3 0 3],\n",
      "Objective value: 56.053169682582705,\n",
      "Prob calculation time: 0.122942 sec,\n",
      "Waiting time (timer): 45.29757640830109 (0.211448 sec),\n",
      "Idle time (timer): -0.10976813456289847 (0.000003 sec),\n",
      "Tardiness (timer): 94.89023186543712 (0.000084 sec)\n",
      "\n",
      "Schedule: [3 1 2 2 2 2 1 2],\n",
      "Objective value: 56.586208985663134,\n",
      "Prob calculation time: 0.098981 sec,\n",
      "Waiting time (timer): 46.6301747804201 (0.212458 sec),\n",
      "Idle time (timer): -0.10976821084150856 (0.000002 sec),\n",
      "Tardiness (timer): 94.89023178915849 (0.000068 sec)\n",
      "\n",
      "Schedule: [3 2 3 1 3 1 1 1],\n",
      "Objective value: 57.65224310741141,\n",
      "Prob calculation time: 0.119201 sec,\n",
      "Waiting time (timer): 49.29526024125805 (0.171547 sec),\n",
      "Idle time (timer): -0.1097683151530191 (0.000003 sec),\n",
      "Tardiness (timer): 94.89023168484697 (0.000074 sec)\n",
      "\n"
     ]
    },
    {
     "data": {
      "text/plain": [
       "[56.053169682582705, 56.586208985663134, 57.65224310741141]"
      ]
     },
     "execution_count": 16,
     "metadata": {},
     "output_type": "execute_result"
    }
   ],
   "source": [
    "##########\n",
    "## TEST ##\n",
    "##########\n",
    "\n",
    "schedules = populationObject.individuals\n",
    "\n",
    "fitnessScores = list(map(lambda x: calcFitness(x, beta, precision, limit, v, N, no_show,\n",
    "                                                I, d, eind, alpha_W, alpha_I, alpha_T)['objVal'], schedules))\n",
    "fitnessScores\n"
   ]
  }
 ],
 "metadata": {
  "celltoolbar": "Slideshow",
  "interpreter": {
   "hash": "ebe0e52ce679db3954db162ec27d93377bfab37d36ecacfe9aed97e2f61381f0"
  },
  "kernelspec": {
   "display_name": "Python 3",
   "language": "python",
   "name": "python3"
  },
  "language_info": {
   "codemirror_mode": {
    "name": "ipython",
    "version": 3
   },
   "file_extension": ".py",
   "mimetype": "text/x-python",
   "name": "python",
   "nbconvert_exporter": "python",
   "pygments_lexer": "ipython3",
   "version": "3.10.2"
  }
 },
 "nbformat": 4,
 "nbformat_minor": 2
}
