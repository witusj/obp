{
 "cells": [
  {
   "cell_type": "markdown",
   "metadata": {},
   "source": [
    "<img src=\"https://miro.medium.com/max/1400/1*zF3DzW57qD_LOGO1jQwdcg.png\" width=\"600\">"
   ]
  },
  {
   "cell_type": "code",
   "execution_count": 37,
   "metadata": {},
   "outputs": [],
   "source": [
    "import numpy as np"
   ]
  },
  {
   "cell_type": "markdown",
   "metadata": {},
   "source": [
    "Create a random individual. An individual is in this case one schedule."
   ]
  },
  {
   "cell_type": "code",
   "execution_count": 38,
   "metadata": {},
   "outputs": [
    {
     "name": "stdout",
     "output_type": "stream",
     "text": [
      "[0. 0. 0. 0. 0. 0. 0. 0. 0. 0.]\n"
     ]
    },
    {
     "data": {
      "text/plain": [
       "array([0., 0., 2., 0., 2., 0., 1., 1., 2., 0.])"
      ]
     },
     "execution_count": 38,
     "metadata": {},
     "output_type": "execute_result"
    }
   ],
   "source": [
    "class Schedule:\n",
    "    def __init__(self, I, N):\n",
    "        self.I = I  # Number of intervals\n",
    "        self.N = N  # Number of patients\n",
    "        self.x = np.zeros(self.I) # Empty schedule\n",
    "\n",
    "    def create_random_schedule(self):\n",
    "        for i in range(self.N):\n",
    "            i = np.random.choice(self.I, 1)  # Interval ID\n",
    "            self.x[i] = self.x[i] + 1\n",
    "    def get_schedule(self): return(self.x)\n",
    "    def print_schedule(self): print(self.x)\n",
    "\n",
    "##########\n",
    "## TEST ##\n",
    "##########\n",
    "\n",
    "I = 10  # Number of time slots\n",
    "N = 8  # Number of patients\n",
    "scheduleObject = Schedule(I, N)\n",
    "scheduleObject.print_schedule()\n",
    "scheduleObject.create_random_schedule()\n",
    "schedule = scheduleObject.get_schedule()\n",
    "schedule\n"
   ]
  },
  {
   "cell_type": "markdown",
   "metadata": {},
   "source": [
    "Create population of individuals"
   ]
  },
  {
   "cell_type": "code",
   "execution_count": 39,
   "metadata": {},
   "outputs": [
    {
     "data": {
      "text/plain": [
       "[array([2., 1., 2., 1., 0., 0., 0., 1., 0., 1.]),\n",
       " array([0., 1., 1., 2., 0., 2., 0., 0., 0., 2.]),\n",
       " array([3., 1., 0., 0., 2., 0., 1., 0., 0., 1.]),\n",
       " array([1., 3., 0., 0., 0., 2., 0., 1., 0., 1.]),\n",
       " array([1., 2., 0., 0., 1., 2., 0., 0., 2., 0.]),\n",
       " array([1., 0., 0., 1., 1., 1., 2., 1., 1., 0.]),\n",
       " array([1., 0., 0., 0., 1., 1., 2., 1., 2., 0.]),\n",
       " array([2., 0., 0., 2., 0., 1., 1., 1., 0., 1.]),\n",
       " array([1., 0., 2., 0., 3., 0., 1., 0., 1., 0.]),\n",
       " array([0., 1., 1., 2., 1., 1., 1., 1., 0., 0.]),\n",
       " array([0., 1., 1., 1., 2., 1., 1., 0., 1., 0.]),\n",
       " array([1., 1., 1., 1., 0., 0., 2., 1., 1., 0.])]"
      ]
     },
     "execution_count": 39,
     "metadata": {},
     "output_type": "execute_result"
    }
   ],
   "source": [
    "class Population:\n",
    "    def __init__(self, I, N, size):\n",
    "        self.I = I\n",
    "        self.N = N\n",
    "        self.size = size\n",
    "        self.individuals = []\n",
    "        self.__create_new_individuals()\n",
    "\n",
    "    def create_new_individuals(self):\n",
    "        for i in range(self.size):\n",
    "            x = Schedule(self.I, self.N)\n",
    "            x.create_random_schedule()\n",
    "            x = x.get_schedule()\n",
    "            self.individuals.append(x)\n",
    "            \n",
    "    __create_new_individuals = create_new_individuals\n",
    "    \n",
    "    def get_individuals(self): return(self.individuals)\n",
    "    \n",
    "##########\n",
    "## TEST ##\n",
    "##########\n",
    "\n",
    "size = 12\n",
    "populationObject = Population(I, N, size)\n",
    "populationObject.individuals\n"
   ]
  },
  {
   "cell_type": "markdown",
   "metadata": {},
   "source": [
    "<img src=\"crossover.png\" width=\"600\">"
   ]
  },
  {
   "cell_type": "code",
   "execution_count": 40,
   "metadata": {},
   "outputs": [
    {
     "name": "stdout",
     "output_type": "stream",
     "text": [
      "[2. 1. 2. 1. 0. 0. 0. 1. 0. 1.] [0. 1. 1. 2. 0. 2. 0. 0. 0. 2.]\n"
     ]
    },
    {
     "data": {
      "text/plain": [
       "(array([1., 1., 1., 2., 0., 1., 0., 1., 0., 1.]),\n",
       " array([1., 1., 2., 1., 0., 1., 0., 0., 0., 2.]))"
      ]
     },
     "execution_count": 40,
     "metadata": {},
     "output_type": "execute_result"
    }
   ],
   "source": [
    "def crossover(parent1, parent2, I, n):\n",
    "    child1 = parent1.copy()\n",
    "    child2 = parent2.copy()\n",
    "    \n",
    "    # Calculate distribution for choosing intervals that will swap patients\n",
    "    # The distribution is the normalized schedule. Intervals with zero patients will never be selected.\n",
    "    norm1 = sum(child1)\n",
    "    max1 = int(max(child1))\n",
    "    n1 = min(n, max1)  # The number of swaps should not exceed the maximum number of patients in an interval. Otherwise it might happen that more patients are transfered than available.\n",
    "    p1 = child1 / norm1\n",
    "    \n",
    "    # Swap patients\n",
    "    i = np.random.choice(I, n1, p=p1)\n",
    "    for i in i:\n",
    "        child1[i] += -1\n",
    "        child2[i] += 1\n",
    "    \n",
    "    # Calculate distribution for choosing intervals that will swap patients\n",
    "    # The distribution is the normalized schedule. Intervals with zero patients will never be selected.\n",
    "    norm2 = sum(child2)\n",
    "    max2 = int(max(child2))\n",
    "    n2 = min(n, max1)\n",
    "    p2 = child2 / norm2\n",
    "    j = np.random.choice(I, n2, p=p2)\n",
    "    for j in j:\n",
    "        child1[j] += 1\n",
    "        child2[j] += -1\n",
    "    return(child1, child2)\n",
    "\n",
    "##########\n",
    "## TEST ##\n",
    "##########\n",
    "\n",
    "population = populationObject.get_individuals()\n",
    "parent1 = population[0]\n",
    "parent2 = population[1]\n",
    "\n",
    "print(parent1, parent2)\n",
    "n = 4\n",
    "children = crossover(parent1, parent2, I, n)\n",
    "children\n"
   ]
  },
  {
   "cell_type": "code",
   "execution_count": 52,
   "metadata": {},
   "outputs": [
    {
     "name": "stdout",
     "output_type": "stream",
     "text": [
      "[1. 1. 1. 2. 0. 1. 0. 1. 0. 1.]\n",
      "[1. 1. 1. 0. 0. 1. 2. 1. 0. 1.]\n"
     ]
    }
   ],
   "source": [
    "def mutate(child, rate):\n",
    "    if np.random.rand() < rate:\n",
    "        x = len(child)\n",
    "        i, j = np.random.choice(x, 2, replace=False).astype(int)\n",
    "        a, b = child[i], child[j]\n",
    "        child[i], child[j] = b, a\n",
    "    return(child)\n",
    "\n",
    "##########\n",
    "## TEST ##\n",
    "##########\n",
    "\n",
    "child = children[0].copy()\n",
    "print(child)\n",
    "child = mutate(child, 1)\n",
    "print(child)\n"
   ]
  }
 ],
 "metadata": {
  "interpreter": {
   "hash": "ebe0e52ce679db3954db162ec27d93377bfab37d36ecacfe9aed97e2f61381f0"
  },
  "kernelspec": {
   "display_name": "Python 3.10.2 64-bit ('ga': conda)",
   "language": "python",
   "name": "python3"
  },
  "language_info": {
   "codemirror_mode": {
    "name": "ipython",
    "version": 3
   },
   "file_extension": ".py",
   "mimetype": "text/x-python",
   "name": "python",
   "nbconvert_exporter": "python",
   "pygments_lexer": "ipython3",
   "version": "3.10.2"
  },
  "orig_nbformat": 4
 },
 "nbformat": 4,
 "nbformat_minor": 2
}
