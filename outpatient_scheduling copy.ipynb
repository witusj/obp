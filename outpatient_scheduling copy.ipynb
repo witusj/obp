{
 "cells": [
  {
   "cell_type": "code",
   "execution_count": 105,
   "metadata": {
    "id": "q__0Cso8SFQK"
   },
   "outputs": [],
   "source": [
    "## Import packages\n",
    "import numpy as np\n",
    "import math\n",
    "import random\n",
    "from scipy.stats import poisson"
   ]
  },
  {
   "cell_type": "markdown",
   "metadata": {
    "id": "yFXRf7KGRoui"
   },
   "source": [
    "## Setup problem definition"
   ]
  },
  {
   "cell_type": "markdown",
   "metadata": {
    "id": "zVFKVKXyPiwm"
   },
   "source": [
    "## Test case\n",
    "\n",
    "- T = 4h\n",
    "- d = 5 min # the size of an interval\n",
    "- beta = 9 minutes # service time (model by the exponential distribution)\n",
    "- N = 24 patients\n",
    "- I = T / d # the number of intervals"
   ]
  },
  {
   "cell_type": "code",
   "execution_count": 106,
   "metadata": {
    "id": "yLzG-_SeRfC4"
   },
   "outputs": [],
   "source": [
    "class schedule:\n",
    "  def __init__(self, beta: int, T: int, d: int, N: int):\n",
    "    self.beta = beta # = 1/μ : average service time\n",
    "    self.T = T # number of intervals\n",
    "    self.d = d # length of interval\n",
    "    self.N = N # total number of patients\n",
    "    self.x:list[int] = np.repeat(0, self.T) # schedule with x[t] as number of \n",
    "                                            # patients scheduled at the start of\n",
    "                                            # interval t, t = 1,...,T; initially\n",
    "                                            # set at zero\n",
    "                                            \n",
    "  def reset_schedule(self):\n",
    "    for t in range(self.T):\n",
    "      self.x[t] = 0\n",
    "\n",
    "  def make_random_schedule(self, min_x: int, max_x: int, step: int=1):\n",
    "    n = self.N\n",
    "    for i in range(0,self.T, step):\n",
    "      if n >= 0:\n",
    "        r = random.randint(min_x, max_x)\n",
    "        self.x[i] = min(r,n)\n",
    "        n = n - r\n",
    "        print(n, self.x[i])\n",
    "      else:\n",
    "        return\n",
    "        \n",
    "  def make_initial_schedule(self):\n",
    "    for i in range(self.N):\n",
    "      t = round(i*self.T / self.N)\n",
    "      if i > self.T:\n",
    "        i-= 1\n",
    "      self.x[t] += 1"
   ]
  },
  {
   "cell_type": "markdown",
   "metadata": {
    "id": "lc8GnVez7ZGl"
   },
   "source": [
    "## Functions"
   ]
  },
  {
   "cell_type": "code",
   "execution_count": 107,
   "metadata": {
    "id": "6gyJwRgxJeid"
   },
   "outputs": [],
   "source": [
    "# moving patients around iteratively \n",
    "# local search\n",
    "def simpleSearch(x, p, beta, precision, precision_limit, n, no_show, I, d, alpha_W, alpha_I, alpha_T, results, limit, v):\n",
    "  for m in range(0, I-1):\n",
    "    # for k in list(range(0, I))[::-1]: # [::-1]\n",
    "    k = I-1\n",
    "    while k >= 0:\n",
    "      x_current = x.copy()\n",
    "      if x_current[k] > 0: # Adding one vector is equivalent to moving the arrival of one patient from interval k to interval k+1\n",
    "        next_k = (k + m + 1) % I\n",
    "\n",
    "        x_current[k] -= 1\n",
    "        x_current[next_k] += 1\n",
    "\n",
    "        temp_results = calcResults(x, p, beta, precision, precision_limit, n, no_show, I, d, eind, alpha_W, alpha_I, alpha_T, limit, v)\n",
    "        print(x)\n",
    "        print(results)\n",
    "        \n",
    "        if temp_results['objVal'] < results['objVal']:\n",
    "          # return x_new, temp_results\n",
    "          x = x_current\n",
    "          results = temp_results\n",
    "          k += 1\n",
    "          print(x)\n",
    "          print(results)\n",
    "\n",
    "        else: # undo the previous move\n",
    "          x_current[k] += 1\n",
    "          x_current[next_k] -= 1\n",
    "          k -= 1\n",
    "        \n",
    "      else:\n",
    "        k -= 1\n",
    "  \n",
    "  return x, results\n"
   ]
  },
  {
   "cell_type": "code",
   "execution_count": 108,
   "metadata": {
    "id": "slAlBKqfc-4n"
   },
   "outputs": [],
   "source": [
    "# Distribution to calculate service time of patients\n",
    "#\tp[i]= probability of serving the patient in i mins given that\n",
    "#\tthe average service time is beta.\n",
    "def create_p(beta, size, precision=0.9999): # Poisson distribution \n",
    "  k = 0\n",
    "  p = []\n",
    "\n",
    "  while sum(p) < precision: # fill accurate values up to precision limit\n",
    "    p.append(poisson.pmf(k, beta))\n",
    "    k+=1\n",
    "\n",
    "  while len(p) < size: # fill the rest of the values with 0\n",
    "    p.append(0)\n",
    "  return p, k"
   ]
  },
  {
   "cell_type": "code",
   "execution_count": 109,
   "metadata": {
    "id": "xPhH_iHrpJlf"
   },
   "outputs": [],
   "source": [
    "def calcExponentialLimit(mu):\n",
    "  return int(max(mu+4*mu**0.5,100))"
   ]
  },
  {
   "cell_type": "code",
   "execution_count": 110,
   "metadata": {
    "id": "V3xzZRbS4Yl_"
   },
   "outputs": [],
   "source": [
    "def binomCoeff(k, i):\n",
    "  return math.factorial(k) / (math.factorial(k - i) * math.factorial(i))\n",
    "\n",
    "def binomPMF(k, i, m, add_v, no_show):\n",
    "  return binomCoeff(k, m) * add_v[m][i] * (1 - no_show)**m * no_show**(k-m)"
   ]
  },
  {
   "cell_type": "code",
   "execution_count": 111,
   "metadata": {},
   "outputs": [],
   "source": [
    "def calcTardiness(p_min, limit, I):\n",
    "  tardiness = 0\n",
    "  for k in range(limit):\n",
    "    tardiness += k * p_min[I][k] # I+1\n",
    "  return tardiness\n",
    "\n",
    "\n",
    "def calcIdletime(I, d, tardiness, n, no_show, beta):\n",
    "  return (I * d) + tardiness - (n * (1 - no_show) * beta) # I-1?\n",
    "\n",
    "\n",
    "def calcWaitingtime(p_min, x, p, limit, I, n):\n",
    "  w = np.zeros((I+1, n+1, limit+1))\n",
    "  waitingtime = 0\n",
    "\n",
    "  for t in range(0, I):\n",
    "    if x[t] > 0:\n",
    "      for k in range(limit):\n",
    "        w[t][0][k] = p_min[t][k] \n",
    "    if x[t] > 1:\n",
    "      for i in range(1, x[t]+1):\n",
    "        for k in range(limit+1):\n",
    "          for j in range(k+1):\n",
    "            w[t][i][k] += w[t][i-1][j] * p[k-j]\n",
    "\n",
    "  for t in range(0, I):\n",
    "    for i in range(0, x[t]):\n",
    "      for k in range(limit+1):\n",
    "        waitingtime += w[t][i][k] * k\n",
    "\n",
    "  waitingtime /= n\n",
    "\n",
    "  return waitingtime"
   ]
  },
  {
   "cell_type": "code",
   "execution_count": 112,
   "metadata": {},
   "outputs": [
    {
     "name": "stdout",
     "output_type": "stream",
     "text": [
      "19 5\n",
      "14 5\n",
      "10 4\n",
      "7 3\n",
      "3 4\n",
      "0 3\n",
      "-1 0\n"
     ]
    }
   ],
   "source": [
    "def calculate_v(x, p, beta, precision, precision_limit, n, I, d, no_show=0):\n",
    "    # count = len(p)\n",
    "    count = precision_limit\n",
    "    # waiting = 0\n",
    "    # idletime = 0\n",
    "    limit = calcExponentialLimit(beta*n) + 1\n",
    "    p_plus = np.zeros((I+1, limit+d))\n",
    "    p_min = np.zeros((I+1, limit+d))\n",
    "    v = np.zeros((n+1, limit+d))\n",
    "    add_v = np.zeros((n+1, limit+d))  # needs a predetermined size\n",
    "\n",
    "    #\tv[k][i]=probability of having i units of work given that\n",
    "    #\tk patients are scheduled for the interval.\n",
    "    #\tp[i]= probability of serving the patient in i mins given that\n",
    "    #\tthe average service time is beta.\n",
    "\n",
    "    add_v[0][0] = 1\n",
    "    for k in range(1, n+1):\n",
    "        limit = calcExponentialLimit(beta*k)\n",
    "        i = 0\n",
    "        sum_v = 0\n",
    "        while sum_v < precision and i <= limit:\n",
    "            z = 0\n",
    "            while z <= count:\n",
    "                add_v[k][i] += p[z] * add_v[k-1][i-z]\n",
    "                z += 1\n",
    "            sum_v += add_v[k][i] \n",
    "            i += 1\n",
    "\n",
    "    for k in range(n+1):\n",
    "        i = 0\n",
    "        sum_v = 0\n",
    "        while sum_v < precision and i <= limit:\n",
    "            for m in range(k+1):\n",
    "                v[k][i] += binomPMF(k, i, m, add_v, no_show)\n",
    "            sum_v += v[k][i]\n",
    "            i += 1\n",
    "    return v, limit\n",
    "\n",
    "\n",
    "precision = 0.9999\n",
    "n = 24\n",
    "beta = 9  # average service time for a patient\n",
    "T = 4*60  # total time\n",
    "d = 5  # interval size\n",
    "I = int(T/d)  # number of intervals\n",
    "s = schedule(beta, T, d, n)\n",
    "s.make_random_schedule(1, 5)\n",
    "x = s.x\n",
    "# size of p has to be at least as big as the limit value here\n",
    "size = calcExponentialLimit(beta*n)+1\n",
    "p, precision_limit = create_p(beta, size, precision)\n",
    "v, limit = calculate_v(x, p, beta, precision, precision_limit, n, I, d)\n"
   ]
  },
  {
   "cell_type": "code",
   "execution_count": 113,
   "metadata": {
    "id": "Fb17kE-AlY06"
   },
   "outputs": [
    {
     "name": "stdout",
     "output_type": "stream",
     "text": [
      "22 2\n",
      "21 1\n",
      "20 1\n",
      "15 5\n",
      "11 4\n",
      "7 4\n",
      "3 4\n",
      "0 3\n",
      "-3 0\n"
     ]
    },
    {
     "data": {
      "text/plain": [
       "(array([[1.00000000e+00, 0.00000000e+00, 0.00000000e+00, ...,\n",
       "         0.00000000e+00, 0.00000000e+00, 0.00000000e+00],\n",
       "        [3.23993451e-04, 7.19452059e-04, 1.85001958e-03, ...,\n",
       "         0.00000000e+00, 0.00000000e+00, 0.00000000e+00],\n",
       "        [1.54361169e-04, 2.59311131e-04, 5.87758961e-04, ...,\n",
       "         0.00000000e+00, 0.00000000e+00, 0.00000000e+00],\n",
       "        ...,\n",
       "        [8.37391792e-01, 1.57251485e-02, 1.46379050e-02, ...,\n",
       "         0.00000000e+00, 0.00000000e+00, 0.00000000e+00],\n",
       "        [9.05349030e-01, 1.05284757e-02, 9.59318518e-03, ...,\n",
       "         0.00000000e+00, 0.00000000e+00, 0.00000000e+00],\n",
       "        [9.49114941e-01, 6.33984070e-03, 5.65685540e-03, ...,\n",
       "         0.00000000e+00, 0.00000000e+00, 0.00000000e+00]]),\n",
       " 274)"
      ]
     },
     "execution_count": 113,
     "metadata": {},
     "output_type": "execute_result"
    }
   ],
   "source": [
    "\n",
    "def calculateProbabilities(x, p, beta, precision, precision_limit, limit, v, n, I, d):\n",
    "  # count = len(p)\n",
    "  count = precision_limit\n",
    "  # waiting = 0\n",
    "  # idletime = 0\n",
    "  # limit = calcExponentialLimit(beta*n) + 1\n",
    "  \n",
    "  p_plus = np.zeros((I+1, calcExponentialLimit(beta*n)+1+d))\n",
    "  p_min = np.zeros((I+1, calcExponentialLimit(beta*n)+1+d))\n",
    "  #v = np.zeros((n+1,limit+d))\n",
    "  #add_v = np.zeros((n+1,limit+d)) # needs a predetermined size\n",
    "\n",
    "#\tv[k][i]=probability of having i units of work given that \n",
    "#\tk patients are scheduled for the interval.\n",
    "#\tp[i]= probability of serving the patient in i mins given that\n",
    "#\tthe average service time is beta.\n",
    "\n",
    "  # add_v[0][0] = 1\n",
    "  # for k in range(1, n+1):\n",
    "  #   limit = calcExponentialLimit(beta*k)\n",
    "  #   i = 0\n",
    "  #   sum_v = 0\n",
    "  #   while sum_v < precision and i <= limit:\n",
    "  #     z = 0\n",
    "  #     while z <= count:\n",
    "  #       add_v[k][i] += p[z] * add_v[k-1][i-z]\n",
    "  #       z += 1\n",
    "  #     sum_v += add_v[k][i] \n",
    "  #     i += 1\n",
    "\n",
    "  # for k in range(n+1): \n",
    "  #   i = 0\n",
    "  #   sum_v = 0\n",
    "  #   while sum_v < precision and i <= limit:\n",
    "  #     for m in range(k+1):\n",
    "  #       v[k][i] += binomPMF(k, i, m, add_v, no_show)\n",
    "  #     sum_v += v[k][i]\n",
    "  #     i += 1\n",
    "  #v, limit = calculate_v(x, p, beta, precision, precision_limit, n, no_show, I, d)\n",
    "  # Constraint 1\n",
    "  p_min[0][0] = 1\n",
    "\n",
    "  # Constraint 2\n",
    "  sum_p = 0\n",
    "  i = 0\n",
    "  while sum_p < precision and i <= limit:\n",
    "    p_plus[0][i] = v[x[0]][i] # when x[0] == 0 the probability calculations bug\n",
    "    # probability of i minutes of work after interval 0 is equal to the probability of having i minutes of work given that 0 patients are scheduled\n",
    "    sum_p += p_plus[0][i]\n",
    "    i += 1\n",
    "\n",
    "  for t in range(1, I+1): # calculate p_min and p_plus iteratively \n",
    "    # Constraint 3\n",
    "    for k in range(d+1):\n",
    "      p_min[t][0] += p_plus[t-1][k]\n",
    "\n",
    "    # Constraint 4\n",
    "    for i in range(1,limit+1):\n",
    "      p_min[t][i] = p_plus[t-1][i+d]\n",
    "\n",
    "    # Constraint 5\n",
    "    if t != I:\n",
    "      for i in range(limit+1):\n",
    "        for j in range(i+1):\n",
    "          p_plus[t][i] += p_min[t][j] * v[x[t]][i-j]\n",
    "\n",
    "    # print(p_min[t])\n",
    "    # print(p_plus[t])\n",
    "  \n",
    "\n",
    "  # Tardiness calcs\n",
    "  # tardiness = calcTardiness(p_min, limit, I)\n",
    "\n",
    "  # Idle time calcs new array of given shape and type, filled with zeros.\n",
    "  # idletime = calcIdletime(I, d, tardiness, n, no_show, beta)\n",
    "\n",
    "  # Waiting time calcs\n",
    "  # waitingtime = calcWaitingtime(p_min, x, w, p, limit, I, n)\n",
    "\n",
    "  # return p_min, waiting, idletime, tardiness\n",
    "  return p_min, limit\n",
    "\n",
    "\n",
    "### Test\n",
    "precision = 0.9999\n",
    "n = 24\n",
    "beta = 9  # average service time for a patient\n",
    "T = 4*60  # total time\n",
    "d = 5  # interval size\n",
    "I = int(T/d)  # number of intervals\n",
    "s = schedule(beta, T, d, n)\n",
    "s.make_random_schedule(1, 5)\n",
    "x = s.x\n",
    "# size of p has to be at least as big as the limit value here\n",
    "size = calcExponentialLimit(beta*n)+1\n",
    "p, precision_limit = create_p(beta, size, precision)\n",
    "v, limit = calculate_v(x, p, beta, precision, precision_limit, n, I, d)\n",
    "calculateProbabilities(x, p, beta, precision, precision_limit, limit, v, n, I, d)\n"
   ]
  },
  {
   "cell_type": "code",
   "execution_count": 114,
   "metadata": {
    "id": "kUvu-ZJsrTwQ"
   },
   "outputs": [],
   "source": [
    "def calcFracExcess(p_min, I):\n",
    "  fracExcess = 0\n",
    "  t = I+1\n",
    "  for j in range(1, len(p_min[t])):\n",
    "    fracExcess += p_min[t][j]\n",
    "  fracExcess *= 100\n",
    "  return fracExcess"
   ]
  },
  {
   "cell_type": "code",
   "execution_count": 115,
   "metadata": {
    "id": "e4i7ppSpjMYq"
   },
   "outputs": [],
   "source": [
    "def calcResults(x, p, beta, precision, precision_limit, n, no_show, I, d, eind, alpha_W, alpha_I, alpha_T, limit, v):\n",
    "  p_min, limit = calculateProbabilities(x, p, beta, precision, precision_limit, limit, v, n, I, d)\n",
    "  # p_min, waitingTime, idleTime, tardiness = calculateProbabilities(x, p, beta, precision, precision_limit, n, no_show, I, d)\n",
    "  \n",
    "  # Tardiness calcs\n",
    "  tardiness = calcTardiness(p_min, limit, I)\n",
    "\n",
    "  # Idle time calcs new array of given shape and type, filled with zeros.\n",
    "  idletime = calcIdletime(I, d, tardiness, n, no_show, beta)\n",
    "\n",
    "  # Waiting time calcs\n",
    "  waitingtime = calcWaitingtime(p_min, x, p, limit, I, n)\n",
    "\n",
    "\n",
    "  objVal = alpha_W*waitingtime + alpha_I*idletime + alpha_T*tardiness\n",
    "\n",
    "  # Collect into a dictionary\n",
    "  results = {'p_min' : p_min, 'waitingTime' : waitingtime, 'idleTime' : idletime, 'tardiness' : tardiness, 'objVal' : objVal}\n",
    "  \n",
    "  if eind == 1:\n",
    "    fracExcess = calcFracExcess(p_min, I)\n",
    "    results['fracExcess'] = fracExcess\n",
    "  \n",
    "  return results\n"
   ]
  },
  {
   "cell_type": "markdown",
   "metadata": {},
   "source": [
    "# Main Function"
   ]
  },
  {
   "cell_type": "code",
   "execution_count": 116,
   "metadata": {
    "colab": {
     "base_uri": "https://localhost:8080/"
    },
    "id": "wQYXxPgTQ2QY",
    "outputId": "94a65e0f-508a-4f80-9163-8923ecf6b572"
   },
   "outputs": [
    {
     "name": "stdout",
     "output_type": "stream",
     "text": [
      "[0, 2, 0, 1, 1, 0, 1, 0, 1, 0, 1, 1, 0, 1, 0, 1, 0, 1, 0, 1, 0, 1, 0, 1, 0, 1, 0, 1, 0, 1, 0, 1, 0, 1, 0, 1, 0, 1, 0, 0, 1, 0, 1, 0, 1, 0, 0, 0]\n",
      "{'p_min': array([[1.00000000e+00, 0.00000000e+00, 0.00000000e+00, ...,\n",
      "        0.00000000e+00, 0.00000000e+00, 0.00000000e+00],\n",
      "       [1.00000000e+00, 0.00000000e+00, 0.00000000e+00, ...,\n",
      "        0.00000000e+00, 0.00000000e+00, 0.00000000e+00],\n",
      "       [3.23993451e-04, 7.19452059e-04, 1.85001958e-03, ...,\n",
      "        0.00000000e+00, 0.00000000e+00, 0.00000000e+00],\n",
      "       ...,\n",
      "       [4.51041466e-01, 8.62308139e-02, 7.62235662e-02, ...,\n",
      "        0.00000000e+00, 0.00000000e+00, 0.00000000e+00],\n",
      "       [7.74667704e-01, 3.48898822e-02, 2.82382383e-02, ...,\n",
      "        0.00000000e+00, 0.00000000e+00, 0.00000000e+00],\n",
      "       [8.95888127e-01, 1.35562823e-02, 1.16380295e-02, ...,\n",
      "        0.00000000e+00, 0.00000000e+00, 0.00000000e+00]]), 'waitingTime': 8.23493720285018, 'idleTime': 24.740113049226125, 'tardiness': 0.740113049226116, 'objVal': 8.538042710675743}\n"
     ]
    },
    {
     "ename": "KeyboardInterrupt",
     "evalue": "",
     "output_type": "error",
     "traceback": [
      "\u001b[0;31m---------------------------------------------------------------------------\u001b[0m",
      "\u001b[0;31mKeyboardInterrupt\u001b[0m                         Traceback (most recent call last)",
      "\u001b[0;32m<ipython-input-116-5a4036ee541d>\u001b[0m in \u001b[0;36m<module>\u001b[0;34m\u001b[0m\n\u001b[1;32m     27\u001b[0m \u001b[0;34m\u001b[0m\u001b[0m\n\u001b[1;32m     28\u001b[0m \u001b[0;32mwhile\u001b[0m \u001b[0mres\u001b[0m\u001b[0;34m[\u001b[0m\u001b[0;34m'objVal'\u001b[0m\u001b[0;34m]\u001b[0m \u001b[0;34m>\u001b[0m \u001b[0;36m5\u001b[0m\u001b[0;34m:\u001b[0m\u001b[0;34m\u001b[0m\u001b[0;34m\u001b[0m\u001b[0m\n\u001b[0;32m---> 29\u001b[0;31m     \u001b[0mx\u001b[0m\u001b[0;34m,\u001b[0m \u001b[0mres\u001b[0m \u001b[0;34m=\u001b[0m \u001b[0msimpleSearch\u001b[0m\u001b[0;34m(\u001b[0m\u001b[0mx\u001b[0m\u001b[0;34m,\u001b[0m \u001b[0mp\u001b[0m\u001b[0;34m,\u001b[0m \u001b[0mbeta\u001b[0m\u001b[0;34m,\u001b[0m \u001b[0mprecision\u001b[0m\u001b[0;34m,\u001b[0m \u001b[0mprecision_limit\u001b[0m\u001b[0;34m,\u001b[0m \u001b[0mn\u001b[0m\u001b[0;34m,\u001b[0m \u001b[0mno_show\u001b[0m\u001b[0;34m,\u001b[0m \u001b[0mI\u001b[0m\u001b[0;34m,\u001b[0m \u001b[0md\u001b[0m\u001b[0;34m,\u001b[0m \u001b[0malpha_W\u001b[0m\u001b[0;34m,\u001b[0m \u001b[0malpha_I\u001b[0m\u001b[0;34m,\u001b[0m \u001b[0malpha_T\u001b[0m\u001b[0;34m,\u001b[0m \u001b[0mres\u001b[0m\u001b[0;34m,\u001b[0m \u001b[0mlimit\u001b[0m\u001b[0;34m,\u001b[0m\u001b[0mv\u001b[0m\u001b[0;34m)\u001b[0m\u001b[0;34m\u001b[0m\u001b[0;34m\u001b[0m\u001b[0m\n\u001b[0m\u001b[1;32m     30\u001b[0m \u001b[0mprint\u001b[0m\u001b[0;34m(\u001b[0m\u001b[0mx\u001b[0m\u001b[0;34m)\u001b[0m\u001b[0;34m\u001b[0m\u001b[0;34m\u001b[0m\u001b[0m\n\u001b[1;32m     31\u001b[0m \u001b[0mprint\u001b[0m\u001b[0;34m(\u001b[0m\u001b[0mres\u001b[0m\u001b[0;34m)\u001b[0m\u001b[0;34m\u001b[0m\u001b[0;34m\u001b[0m\u001b[0m\n",
      "\u001b[0;32m<ipython-input-107-dbbb099fe537>\u001b[0m in \u001b[0;36msimpleSearch\u001b[0;34m(x, p, beta, precision, precision_limit, n, no_show, I, d, alpha_W, alpha_I, alpha_T, results, limit, v)\u001b[0m\n\u001b[1;32m     13\u001b[0m         \u001b[0mx_current\u001b[0m\u001b[0;34m[\u001b[0m\u001b[0mnext_k\u001b[0m\u001b[0;34m]\u001b[0m \u001b[0;34m+=\u001b[0m \u001b[0;36m1\u001b[0m\u001b[0;34m\u001b[0m\u001b[0;34m\u001b[0m\u001b[0m\n\u001b[1;32m     14\u001b[0m \u001b[0;34m\u001b[0m\u001b[0m\n\u001b[0;32m---> 15\u001b[0;31m         \u001b[0mtemp_results\u001b[0m \u001b[0;34m=\u001b[0m \u001b[0mcalcResults\u001b[0m\u001b[0;34m(\u001b[0m\u001b[0mx\u001b[0m\u001b[0;34m,\u001b[0m \u001b[0mp\u001b[0m\u001b[0;34m,\u001b[0m \u001b[0mbeta\u001b[0m\u001b[0;34m,\u001b[0m \u001b[0mprecision\u001b[0m\u001b[0;34m,\u001b[0m \u001b[0mprecision_limit\u001b[0m\u001b[0;34m,\u001b[0m \u001b[0mn\u001b[0m\u001b[0;34m,\u001b[0m \u001b[0mno_show\u001b[0m\u001b[0;34m,\u001b[0m \u001b[0mI\u001b[0m\u001b[0;34m,\u001b[0m \u001b[0md\u001b[0m\u001b[0;34m,\u001b[0m \u001b[0meind\u001b[0m\u001b[0;34m,\u001b[0m \u001b[0malpha_W\u001b[0m\u001b[0;34m,\u001b[0m \u001b[0malpha_I\u001b[0m\u001b[0;34m,\u001b[0m \u001b[0malpha_T\u001b[0m\u001b[0;34m,\u001b[0m \u001b[0mlimit\u001b[0m\u001b[0;34m,\u001b[0m \u001b[0mv\u001b[0m\u001b[0;34m)\u001b[0m\u001b[0;34m\u001b[0m\u001b[0;34m\u001b[0m\u001b[0m\n\u001b[0m\u001b[1;32m     16\u001b[0m \u001b[0;34m\u001b[0m\u001b[0m\n\u001b[1;32m     17\u001b[0m         \u001b[0;32mif\u001b[0m \u001b[0mtemp_results\u001b[0m\u001b[0;34m[\u001b[0m\u001b[0;34m'objVal'\u001b[0m\u001b[0;34m]\u001b[0m \u001b[0;34m<\u001b[0m \u001b[0mresults\u001b[0m\u001b[0;34m[\u001b[0m\u001b[0;34m'objVal'\u001b[0m\u001b[0;34m]\u001b[0m\u001b[0;34m:\u001b[0m\u001b[0;34m\u001b[0m\u001b[0;34m\u001b[0m\u001b[0m\n",
      "\u001b[0;32m<ipython-input-115-3f850f8162c0>\u001b[0m in \u001b[0;36mcalcResults\u001b[0;34m(x, p, beta, precision, precision_limit, n, no_show, I, d, eind, alpha_W, alpha_I, alpha_T, limit, v)\u001b[0m\n\u001b[1;32m      1\u001b[0m \u001b[0;32mdef\u001b[0m \u001b[0mcalcResults\u001b[0m\u001b[0;34m(\u001b[0m\u001b[0mx\u001b[0m\u001b[0;34m,\u001b[0m \u001b[0mp\u001b[0m\u001b[0;34m,\u001b[0m \u001b[0mbeta\u001b[0m\u001b[0;34m,\u001b[0m \u001b[0mprecision\u001b[0m\u001b[0;34m,\u001b[0m \u001b[0mprecision_limit\u001b[0m\u001b[0;34m,\u001b[0m \u001b[0mn\u001b[0m\u001b[0;34m,\u001b[0m \u001b[0mno_show\u001b[0m\u001b[0;34m,\u001b[0m \u001b[0mI\u001b[0m\u001b[0;34m,\u001b[0m \u001b[0md\u001b[0m\u001b[0;34m,\u001b[0m \u001b[0meind\u001b[0m\u001b[0;34m,\u001b[0m \u001b[0malpha_W\u001b[0m\u001b[0;34m,\u001b[0m \u001b[0malpha_I\u001b[0m\u001b[0;34m,\u001b[0m \u001b[0malpha_T\u001b[0m\u001b[0;34m,\u001b[0m \u001b[0mlimit\u001b[0m\u001b[0;34m,\u001b[0m \u001b[0mv\u001b[0m\u001b[0;34m)\u001b[0m\u001b[0;34m:\u001b[0m\u001b[0;34m\u001b[0m\u001b[0;34m\u001b[0m\u001b[0m\n\u001b[0;32m----> 2\u001b[0;31m   \u001b[0mp_min\u001b[0m\u001b[0;34m,\u001b[0m \u001b[0mlimit\u001b[0m \u001b[0;34m=\u001b[0m \u001b[0mcalculateProbabilities\u001b[0m\u001b[0;34m(\u001b[0m\u001b[0mx\u001b[0m\u001b[0;34m,\u001b[0m \u001b[0mp\u001b[0m\u001b[0;34m,\u001b[0m \u001b[0mbeta\u001b[0m\u001b[0;34m,\u001b[0m \u001b[0mprecision\u001b[0m\u001b[0;34m,\u001b[0m \u001b[0mprecision_limit\u001b[0m\u001b[0;34m,\u001b[0m \u001b[0mlimit\u001b[0m\u001b[0;34m,\u001b[0m \u001b[0mv\u001b[0m\u001b[0;34m,\u001b[0m \u001b[0mn\u001b[0m\u001b[0;34m,\u001b[0m \u001b[0mI\u001b[0m\u001b[0;34m,\u001b[0m \u001b[0md\u001b[0m\u001b[0;34m)\u001b[0m\u001b[0;34m\u001b[0m\u001b[0;34m\u001b[0m\u001b[0m\n\u001b[0m\u001b[1;32m      3\u001b[0m   \u001b[0;31m# p_min, waitingTime, idleTime, tardiness = calculateProbabilities(x, p, beta, precision, precision_limit, n, no_show, I, d)\u001b[0m\u001b[0;34m\u001b[0m\u001b[0;34m\u001b[0m\u001b[0;34m\u001b[0m\u001b[0m\n\u001b[1;32m      4\u001b[0m \u001b[0;34m\u001b[0m\u001b[0m\n\u001b[1;32m      5\u001b[0m   \u001b[0;31m# Tardiness calcs\u001b[0m\u001b[0;34m\u001b[0m\u001b[0;34m\u001b[0m\u001b[0;34m\u001b[0m\u001b[0m\n",
      "\u001b[0;32m<ipython-input-113-167c11105752>\u001b[0m in \u001b[0;36mcalculateProbabilities\u001b[0;34m(x, p, beta, precision, precision_limit, limit, v, n, I, d)\u001b[0m\n\u001b[1;32m     63\u001b[0m       \u001b[0;32mfor\u001b[0m \u001b[0mi\u001b[0m \u001b[0;32min\u001b[0m \u001b[0mrange\u001b[0m\u001b[0;34m(\u001b[0m\u001b[0mlimit\u001b[0m\u001b[0;34m+\u001b[0m\u001b[0;36m1\u001b[0m\u001b[0;34m)\u001b[0m\u001b[0;34m:\u001b[0m\u001b[0;34m\u001b[0m\u001b[0;34m\u001b[0m\u001b[0m\n\u001b[1;32m     64\u001b[0m         \u001b[0;32mfor\u001b[0m \u001b[0mj\u001b[0m \u001b[0;32min\u001b[0m \u001b[0mrange\u001b[0m\u001b[0;34m(\u001b[0m\u001b[0mi\u001b[0m\u001b[0;34m+\u001b[0m\u001b[0;36m1\u001b[0m\u001b[0;34m)\u001b[0m\u001b[0;34m:\u001b[0m\u001b[0;34m\u001b[0m\u001b[0;34m\u001b[0m\u001b[0m\n\u001b[0;32m---> 65\u001b[0;31m           \u001b[0mp_plus\u001b[0m\u001b[0;34m[\u001b[0m\u001b[0mt\u001b[0m\u001b[0;34m]\u001b[0m\u001b[0;34m[\u001b[0m\u001b[0mi\u001b[0m\u001b[0;34m]\u001b[0m \u001b[0;34m+=\u001b[0m \u001b[0mp_min\u001b[0m\u001b[0;34m[\u001b[0m\u001b[0mt\u001b[0m\u001b[0;34m]\u001b[0m\u001b[0;34m[\u001b[0m\u001b[0mj\u001b[0m\u001b[0;34m]\u001b[0m \u001b[0;34m*\u001b[0m \u001b[0mv\u001b[0m\u001b[0;34m[\u001b[0m\u001b[0mx\u001b[0m\u001b[0;34m[\u001b[0m\u001b[0mt\u001b[0m\u001b[0;34m]\u001b[0m\u001b[0;34m]\u001b[0m\u001b[0;34m[\u001b[0m\u001b[0mi\u001b[0m\u001b[0;34m-\u001b[0m\u001b[0mj\u001b[0m\u001b[0;34m]\u001b[0m\u001b[0;34m\u001b[0m\u001b[0;34m\u001b[0m\u001b[0m\n\u001b[0m\u001b[1;32m     66\u001b[0m \u001b[0;34m\u001b[0m\u001b[0m\n\u001b[1;32m     67\u001b[0m     \u001b[0;31m# print(p_min[t])\u001b[0m\u001b[0;34m\u001b[0m\u001b[0;34m\u001b[0m\u001b[0;34m\u001b[0m\u001b[0m\n",
      "\u001b[0;31mKeyboardInterrupt\u001b[0m: "
     ]
    }
   ],
   "source": [
    "precision = 0.9999\n",
    "n = 24\n",
    "beta = 9  # average service time for a patient\n",
    "T = 4*60  # total time\n",
    "d = 5  # interval size\n",
    "I = int(T/d)  # number of intervals\n",
    "# s = schedule(beta, T, d, n)\n",
    "# s.make_random_schedule(1, 5)\n",
    "# x = s.x\n",
    "x = [0, 2, 0, 1, 1, 0, 1, 0, 1, 0, 1, 1, 0, 1, 0, 1, 0, 1, 0, 1, 0, 1, 0, 1, 0, 1, 0, 1, 0, 1, 0, 1, 0, 1, 0, 1, 0, 1, 0, 0, 1, 0, 1, 0, 1, 0, 0, 0]\n",
    "# size of p has to be at least as big as the limit value here\n",
    "size = calcExponentialLimit(beta*n)+1\n",
    "p, precision_limit = create_p(beta, size, precision)\n",
    "v, limit = calculate_v(x, p, beta, precision, precision_limit, n, I, d)\n",
    "\n",
    "no_show = 0\n",
    "eind = 0\n",
    "\n",
    "alpha_I = 0.2\n",
    "alpha_T = 0.4 # patient doctor centric slider\n",
    "alpha_W = 0.4\n",
    "\n",
    "\n",
    "res = calcResults(x, p, beta, precision, precision_limit, n, no_show, I, d, eind, alpha_W, alpha_I, alpha_T, limit, v)\n",
    "print(x)\n",
    "print(res)\n",
    "\n",
    "while res['objVal'] > 5:\n",
    "    x, res = simpleSearch(x, p, beta, precision, precision_limit, n, no_show, I, d, alpha_W, alpha_I, alpha_T, res, limit,v)\n",
    "print(x)\n",
    "print(res)\n"
   ]
  },
  {
   "cell_type": "markdown",
   "metadata": {},
   "source": [
    "Currently finishing in 55 mins, with the last 20 mins being no progress and just the final iterations.\n",
    "\n",
    "# TODO evaluation metrics bugged when there is 1 or 0 in first interval? probably due to p_min problems\n",
    "\n",
    "# TODO search can be finished but still has to perform I**2 number of probability calculations, introduce sane limit for objval?\n",
    "\n",
    "# TODO optimal schedule is not found after one iteration of simpleSearch, efficiency of first patients moved depend on position of earlier patients in the list"
   ]
  }
 ],
 "metadata": {
  "colab": {
   "collapsed_sections": [],
   "name": "outpatient_scheduling.ipynb",
   "provenance": []
  },
  "interpreter": {
   "hash": "e7370f93d1d0cde622a1f8e1c04877d8463912d04d973331ad4851f04de6915a"
  },
  "kernelspec": {
   "display_name": "Python 3.10.1 64-bit",
   "name": "python3"
  },
  "language_info": {
   "codemirror_mode": {
    "name": "ipython",
    "version": 3
   },
   "file_extension": ".py",
   "mimetype": "text/x-python",
   "name": "python",
   "nbconvert_exporter": "python",
   "pygments_lexer": "ipython3",
   "version": "3.9.0"
  }
 },
 "nbformat": 4,
 "nbformat_minor": 1
}
