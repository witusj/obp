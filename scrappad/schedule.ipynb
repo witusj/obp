{
 "cells": [
  {
   "cell_type": "code",
   "execution_count": 199,
   "metadata": {},
   "outputs": [
    {
     "name": "stderr",
     "output_type": "stream",
     "text": [
      ".\n",
      "----------------------------------------------------------------------\n",
      "Ran 1 test in 0.002s\n",
      "\n",
      "OK\n"
     ]
    }
   ],
   "source": [
    "import numpy as np\n",
    "from scipy.stats import poisson\n",
    "import plotly.graph_objs as go\n",
    "import plotly.offline as pyo\n",
    "import unittest\n",
    "\n",
    "# \"\"\"\n",
    "# Function to calculate the convolution of two arrays.\n",
    "# \n",
    "# Args:\n",
    "#     a (numpy.ndarray): The first array to be convolved.\n",
    "#     b (numpy.ndarray): The second array to be convolved.\n",
    "# \n",
    "# Returns:\n",
    "#     numpy.ndarray: The convolution of the two input arrays.\n",
    "# \"\"\"\n",
    "def convolve(a, b):\n",
    "    \n",
    "    # Initialize an empty array to store the result.\n",
    "    c = np.array([])\n",
    "    \n",
    "    # Compute the convolution of the two arrays.\n",
    "    for i in range(len(a)):\n",
    "        # Get subsets of array expanded to the right.\n",
    "        a_sub = a[0:i + 1].copy()\n",
    "        b_sub = b[0:i + 1].copy()\n",
    "        # Reverse b.\n",
    "        b_rev = b_sub[::-1]\n",
    "        # Compute the dot product of a and b_rev.\n",
    "        c = np.append(c, np.dot(a_sub, b_rev))\n",
    "    \n",
    "    for i in range(1,len(a)):\n",
    "        # Get subsets of array collapse from the right.\n",
    "        a_sub = a[i:].copy()\n",
    "        b_sub = b[i:].copy()\n",
    "        # Reverse b.\n",
    "        b_rev = b_sub[::-1]\n",
    "        # Compute the dot product of a and b_rev.\n",
    "        c = np.append(c, np.dot(a_sub, b_rev))\n",
    "        \n",
    "    return c\n",
    "\n",
    "\n",
    "# \"\"\"\n",
    "# Function to convolve a distribution with itself n times.\n",
    "# \n",
    "# Args:\n",
    "#     a (numpy.ndarray): The distribution to be convolved.\n",
    "#     n (int): The number of times to convolve the distribution with itself.\n",
    "# \n",
    "# Returns:\n",
    "#     numpy.ndarray: The convolution of the input distribution with itself n times.\n",
    "# \"\"\"\n",
    "def convolve_n(a, n):\n",
    "        \n",
    "    # Initialize an empty array to store the result.\n",
    "    c = np.array([])\n",
    "    \n",
    "    # If n is 0, return an array of zeros with length equal to the length of a, except for the first element which is 1.\n",
    "    if n == 0:\n",
    "        c = np.array(np.zeros(len(a)), dtype=np.float64)\n",
    "        c[0] = 1\n",
    "        return c\n",
    "    \n",
    "    # Convolve the distribution with itself n times.\n",
    "    for i in range(n):\n",
    "        # If this is the first iteration, set c equal to a.\n",
    "        if i == 0:\n",
    "            c = a\n",
    "        # Otherwise, convolve c with a.\n",
    "        else:\n",
    "            c = np.convolve(c, a)\n",
    "            \n",
    "    return c\n",
    "# \n",
    "# \"\"\"\n",
    "# Function to create an array of zero arrays according to a given shape array.\n",
    "# \n",
    "# Args:\n",
    "#      num_zeros (numpy.ndarray): The shape array.\n",
    "#      l (int): The length of the zeros array.\n",
    "#  \n",
    "# Returns:\n",
    "#      numpy.ndarray: The convolution of the input distribution with itself n times.\n",
    "# \"\"\"\n",
    "\n",
    "def zero_arrays(num_zeros, l):\n",
    "    result = []\n",
    "    for n in num_zeros:\n",
    "        zeros = np.zeros(l)\n",
    "        result.append([zeros] * n)\n",
    "    return result\n",
    "\n",
    "zero_arrays(np.array([1, 0, 3]), 4)\n",
    "\n",
    "def calc_distr_limit(l):\n",
    "    return int(max(l+4*l**0.5, 100))\n",
    "\n",
    "\n",
    "class TestConvolve(unittest.TestCase):\n",
    "    \n",
    "    def test_convolve(self):\n",
    "        a = np.array([\n",
    "            0.4456796414,\n",
    "            0.160623141,\n",
    "            0.137676978,\n",
    "            0.1032577335])\n",
    "\n",
    "        b = np.array([\n",
    "            0.006737946999,\n",
    "            0.033689735,\n",
    "            0.08422433749,\n",
    "            0.1403738958])\n",
    "\n",
    "        expected_output = np.convolve(a, b)\n",
    "        \n",
    "        self.assertTrue(np.allclose(convolve(a, b), expected_output))\n",
    "        \n",
    "if __name__ == '__main__':\n",
    "    unittest.main(argv=['first-arg-is-ignored'], exit=False)"
   ]
  },
  {
   "cell_type": "code",
   "execution_count": 200,
   "metadata": {},
   "outputs": [
    {
     "data": {
      "text/plain": [
       "[[array([0., 0., 0., 0.])],\n",
       " [],\n",
       " [array([0., 0., 0., 0.]), array([0., 0., 0., 0.]), array([0., 0., 0., 0.])]]"
      ]
     },
     "execution_count": 200,
     "metadata": {},
     "output_type": "execute_result"
    }
   ],
   "source": [
    "zero_arrays(np.array([1, 0, 3]), 4)"
   ]
  },
  {
   "attachments": {},
   "cell_type": "markdown",
   "metadata": {},
   "source": [
    "A schedule with T intervals can have T states. A state of a schedule at interval T is defined by $p^-_t(i)$, the amount of work left at the end of the state at interval $t-1$ and $v_t(i)$, the arriving amount of work in interval $t$."
   ]
  },
  {
   "cell_type": "code",
   "execution_count": 220,
   "metadata": {},
   "outputs": [],
   "source": [
    "\n",
    "\"\"\"\n",
    "A schedule class with a constructor and a method to calculate the system states.\n",
    "\"\"\"\n",
    "class Schedule:\n",
    "    def __init__(self, x, d, s):\n",
    "            # Initialize the parameters dictionary with x, d, and s.\n",
    "            self.parameters = dict({'x': x, 'd': d, 's': s})\n",
    "            # Initialize the system dictionary with p_min and v.\n",
    "            self.system = dict({\n",
    "                'p_min': np.zeros((len(self.parameters['x']), len(self.parameters['s'])), dtype=np.float64),\n",
    "                'p_plus': np.zeros((len(self.parameters['x']), len(self.parameters['s'])), dtype=np.float64)\n",
    "            })\n",
    "            # Set the initial state to 0.\n",
    "            self.state = 0\n",
    "            # Set the first element of p_min in the initial state to 1.\n",
    "            self.system['p_min'][self.state][0] = 1\n",
    "            # Set the first row of v to s.\n",
    "            # self.system['v'][self.state] = convolve_n(self.parameters['s'].copy(), self.parameters['x'][self.state])[:(len(self.parameters['s']))]\n",
    "            # Set p_plus to v.\n",
    "            # self.system['p_plus'] = self.system['v'].copy()\n",
    "            # Initialize array of arrays for saving waiting times distributions per patient\n",
    "            self.system['w'] = zero_arrays(self.parameters['x'].copy(), len(self.parameters['s']))\n",
    "            if(self.parameters['x'][0] > 0): # Only calculate waiting times if there are patients scheduled in the state\n",
    "                     self.system['w'][0][0] = self.system['p_min'][0].copy()\n",
    "                     for i in range(1, self.parameters['x'][0]):\n",
    "                            self.system['w'][0][i] = np.convolve(self.system['w'][0][i-1], self.parameters['s'])[:(len(self.parameters['s']))]\n",
    "            self.system['p_plus'][0] = self.system['p_min'][0].copy() if self.parameters['x'][0] == 0 else np.convolve(self.system['w'][0][-1], self.parameters['s'])[:(len(self.parameters['s']))]\n",
    "            # Initializ array for saving total expected waiting times per state\n",
    "            self.system['ew'] = np.zeros(len(self.parameters['x']), dtype=np.float64)\n",
    "        \n",
    "    def calculate_system_states(self, until = 1):\n",
    "\n",
    "            while self.state < until:\n",
    "                \"\"\"Set state to 1, because state 0 has already been calculated in the constructor.\n",
    "                TO CHECK: WHAT HAPPENS IF SOMETHING CHANGES IN STATE 0?\n",
    "                \"\"\"\n",
    "                \n",
    "                self.state += 1\n",
    "                \n",
    "                \"\"\"The probability that the amount of work left in the system equals zero just before state t starts is the probablity that the total amount work in state t-1 was less than or equal to the interval length d.\"\"\"\n",
    "                \n",
    "                self.system['p_min'][self.state][0] = np.sum(self.system['p_plus'][self.state-1][:(self.parameters['d'] + 1)])\n",
    "                \n",
    "                \"\"\"The probability that the amount of work left in the system equals i just before state t starts is the probablity that the total amount work in state t-1 exceeded the interval length d with amount i.\"\"\"\n",
    "                \n",
    "                self.system['p_min'][self.state][1:(-1*self.parameters['d'])] = self.system['p_plus'][self.state-1][(self.parameters['d'] + 1):]\n",
    "                \n",
    "                \"\"\"Service time distribution are calculated as n times convolutions, where n is the number of clients scheduled. The resulting vector is truncated to the length of the service time distribution.\"\"\"\n",
    "                # self.system['v'][self.state] = convolve_n(self.parameters['s'].copy(), self.parameters['x'][self.state])[:(len(self.parameters['s']))]\n",
    "                \n",
    "                \"\"\"The distribution of waiting times of the first patient in state t equals p_min. \n",
    "                The distribution of waiting times of the second patient in state t equals the convolution of the distribution \n",
    "                of waiting times of the first patient in state t and the service time distribution. \n",
    "                The resulting vector is truncated to the length of the service time distribution.\"\"\"\n",
    "                if(self.parameters['x'][self.state] > 0): # Only calculate waiting times if there are patients scheduled in the state\n",
    "                     self.system['w'][self.state][0] = self.system['p_min'][self.state].copy()\n",
    "                     for i in range(1, self.parameters['x'][self.state]):\n",
    "                            self.system['w'][self.state][i] = np.convolve(self.system['w'][self.state][i-1], self.parameters['s'])[:(len(self.parameters['s']))]\n",
    "\n",
    "                \n",
    "                \n",
    "                \"\"\"The probablitity that the amount of work left in the system equals i just before state t ends equals \n",
    "                the convolution of the waiting time distribution of the last arriving patient and the service time distribution. \n",
    "                Unless there are no patients in the state t. In that case the distributio of total work just before t ends is equal \n",
    "                to the distribution of work at the beginning of t. \n",
    "                The resulting vector is truncated to the length of the service time distribution.\"\"\"\n",
    "                self.system['p_plus'][self.state] = self.system['p_min'][self.state].copy() if self.parameters['x'][self.state] == 0 else np.convolve(self.system['w'][self.state][-1], self.parameters['s'])[:(len(self.parameters['s']))]\n",
    "                # self.system['p_plus'][self.state] = np.convolve(self.system['p_min'][self.state], self.system['v'][self.state])[:(len(self.parameters['s']))]\n",
    "                    \n",
    "    \n",
    "    def calculate_wait_times(self, until = 1):\n",
    "    # Initialize time counter\n",
    "      t = 0\n",
    "      # Calculate the expected waiting time for each time step\n",
    "      for t, w in enumerate(self.system['w']):\n",
    "          ew = 0\n",
    "          for i in w:\n",
    "              # Calculate the weighted sum of the waiting time distribution\n",
    "              a = range(len(i))\n",
    "              b = i\n",
    "              wt = np.dot(a, b)\n",
    "              ew += wt\n",
    "          # Store the expected waiting time for the current time step\n",
    "          self.system['ew'][t] = ew\n",
    "        \n",
    "        \n",
    "    def visualize_p_plus(self):\n",
    "        \"\"\"\n",
    "        Visualize p_plus in the last calculated state.\n",
    "        \"\"\"\n",
    "        \n",
    "        trace = go.Scatter(\n",
    "            x=list(range(len(self.system['p_plus'][self.state]))),\n",
    "            y=self.system['p_plus'][self.state],\n",
    "            mode='lines'\n",
    "        )\n",
    "        \n",
    "        data = [trace]\n",
    "        \n",
    "        layout = go.Layout(\n",
    "            title=f'p_plus in state {self.state}',\n",
    "            xaxis=dict(title='Total amount of work in the system'),\n",
    "            yaxis=dict(title='Probability')\n",
    "        )\n",
    "        \n",
    "        fig = go.Figure(data=data, layout=layout)\n",
    "        pyo.iplot(fig)\n",
    "        \n",
    "    def __str__(self):\n",
    "        \"\"\"\n",
    "        Print all probabilities\n",
    "        \"\"\"\n",
    "        return(\"p_min = % s \\nw = % s \\np_plus = % s \\new = % s\" % (self.system['p_min'], self.system['w'], self.system['p_plus'], self.system['ew']))"
   ]
  },
  {
   "attachments": {},
   "cell_type": "markdown",
   "metadata": {},
   "source": [
    "The code above defines a `Schedule` class that has a constructor and a method to calculate the system states. The constructor initializes the class with three parameters: `x`, `d`, and `s`. These parameters are stored in a dictionary called `parameters`. The constructor also initializes two dictionaries called `system` and `state`. The `system` dictionary contains two numpy arrays called `p_min` and `v`. The `state` dictionary contains a single integer value that is initialized to 0.\n",
    "\n",
    "The `calculate_system_states` method takes an optional parameter called `until` that defaults to 1. This method calculates the system states until the specified `until` value is reached. The method uses a while loop to iterate over the states until the `until` value is reached. The first step in the loop is to increment the `state` value by 1. \n",
    "\n",
    "The next step is to calculate the probability that the amount of work left in the system equals zero just before state `t` starts. This is done by summing the probability of all the previous states that have a total amount of work less than or equal to the interval length `d`. The result is stored in the `p_min` array.\n",
    "\n",
    "The next step is to calculate the probability that the amount of work left in the system equals `i` just before state `t` starts. This is done by taking the probability of all the previous states that have a total amount of work greater than the interval length `d` with an amount of `i`. The result is stored in the `p_min` array.\n",
    "\n",
    "The next step is to calculate the service time distribution. This is done by taking the convolution of the service time distribution `s` with the number of clients scheduled `x` for the current state. The result is stored in the `v` array.\n",
    "\n",
    "The final step is to calculate the probability that the amount of work left in the system equals `i` just before state `t` ends. This is done by taking the convolution of the probability that the amount of work left in the system equals `i` just before state `t` starts and the service time distribution. The result is stored in the `p_plus` array.\n",
    "\n",
    "Overall, this code is well-organized and easy to read. However, there are a few ways to improve the code's readability and performance. For example, the `parameters` dictionary could be replaced with individual variables to make the code more readable. Additionally, the `convolve_n` function used in the code could be replaced with a more efficient implementation to improve performance. Finally, the comments in the code could be improved to provide more context and explanation for the calculations being performed."
   ]
  },
  {
   "cell_type": "code",
   "execution_count": 221,
   "metadata": {},
   "outputs": [],
   "source": [
    "def run_schedule(x, d, s, u=1):\n",
    "  schedule = Schedule(x=x, d=d, s=s)\n",
    "  schedule.calculate_system_states(until=u)\n",
    "  schedule.calculate_wait_times(until=u)\n",
    "  print(schedule)\n",
    "  return(schedule)"
   ]
  },
  {
   "cell_type": "code",
   "execution_count": 223,
   "metadata": {},
   "outputs": [
    {
     "name": "stdout",
     "output_type": "stream",
     "text": [
      "p_min = [[1.         0.         0.         0.         0.         0.\n",
      "  0.         0.         0.         0.         0.         0.\n",
      "  0.         0.        ]\n",
      " [0.31       0.2        0.19       0.15       0.09       0.0425\n",
      "  0.015      0.0025     0.         0.         0.         0.\n",
      "  0.         0.        ]\n",
      " [0.85       0.09       0.0425     0.015      0.0025     0.\n",
      "  0.         0.         0.         0.         0.         0.\n",
      "  0.         0.        ]\n",
      " [0.0691325  0.08326    0.124165   0.15440625 0.16200125 0.14572875\n",
      "  0.11234375 0.07456312 0.04231    0.02028188 0.00818    0.\n",
      "  0.         0.        ]\n",
      " [0.15795212 0.11135275 0.13407363 0.1426495  0.13541313 0.114013\n",
      "  0.08528725 0.056618   0.03298422 0.01658503 0.00679378 0.\n",
      "  0.         0.        ]] \n",
      "w = [[array([1., 0., 0., 0., 0., 0., 0., 0., 0., 0., 0., 0., 0., 0.]), array([0.1 , 0.2 , 0.3 , 0.2 , 0.15, 0.05, 0.  , 0.  , 0.  , 0.  , 0.  ,\n",
      "       0.  , 0.  , 0.  ])], [], [array([0.85  , 0.09  , 0.0425, 0.015 , 0.0025, 0.    , 0.    , 0.    ,\n",
      "       0.    , 0.    , 0.    , 0.    , 0.    , 0.    ]), array([8.5000e-02, 1.7900e-01, 2.7725e-01, 2.0700e-01, 1.6150e-01,\n",
      "       6.9500e-02, 1.4625e-02, 4.8750e-03, 1.1250e-03, 1.2500e-04,\n",
      "       0.0000e+00, 0.0000e+00, 0.0000e+00, 0.0000e+00]), array([8.50000e-03, 3.49000e-02, 8.90250e-02, 1.46850e-01, 1.89275e-01,\n",
      "       1.87900e-01, 1.55750e-01, 1.01475e-01, 5.39500e-02, 2.31250e-02,\n",
      "       7.00625e-03, 1.72500e-03, 4.37500e-04, 7.50000e-05])], [array([0.0691325 , 0.08326   , 0.124165  , 0.15440625, 0.16200125,\n",
      "       0.14572875, 0.11234375, 0.07456312, 0.04231   , 0.02028188,\n",
      "       0.00818   , 0.        , 0.        , 0.        ])], [array([0.15795212, 0.11135275, 0.13407363, 0.1426495 , 0.13541313,\n",
      "       0.114013  , 0.08528725, 0.056618  , 0.03298422, 0.01658503,\n",
      "       0.00679378, 0.        , 0.        , 0.        ])]] \n",
      "p_plus = [[0.01       0.04       0.1        0.16       0.2        0.19\n",
      "  0.15       0.09       0.0425     0.015      0.0025     0.\n",
      "  0.         0.        ]\n",
      " [0.31       0.2        0.19       0.15       0.09       0.0425\n",
      "  0.015      0.0025     0.         0.         0.         0.\n",
      "  0.         0.        ]\n",
      " [0.00085    0.00519    0.0184325  0.04466    0.08326    0.124165\n",
      "  0.15440625 0.16200125 0.14572875 0.11234375 0.07456312 0.04231\n",
      "  0.02028188 0.00818   ]\n",
      " [0.00691325 0.0221525  0.04980825 0.07907813 0.11135275 0.13407363\n",
      "  0.1426495  0.13541313 0.114013   0.08528725 0.056618   0.03298422\n",
      "  0.01658503 0.00679378]\n",
      " [0.01579521 0.0427257  0.08306355 0.10607593 0.12825667 0.13269402\n",
      "  0.12616384 0.11210688 0.09045524 0.0661708  0.04370899 0.02568817\n",
      "  0.01313367 0.00549572]] \n",
      "ew = [2.25       0.         7.4399125  3.97027875 3.30829234]\n"
     ]
    },
    {
     "data": {
      "text/plain": [
       "<__main__.Schedule at 0x1a8d03110>"
      ]
     },
     "execution_count": 223,
     "metadata": {},
     "output_type": "execute_result"
    }
   ],
   "source": [
    "\"\"\"Simple test case\"\"\"\n",
    "\n",
    "x = np.array([2, 0, 3, 1, 1], dtype=np.int64)\n",
    "d = 3\n",
    "s=np.array(\n",
    "    [0.1, 0.2, 0.3, 0.2, 0.15, 0.05, 0, 0, 0, 0, 0, 0, 0, 0], dtype=np.float64)\n",
    "u = 4\n",
    "\n",
    "run_schedule(x, d, s, u)"
   ]
  },
  {
   "cell_type": "code",
   "execution_count": 204,
   "metadata": {},
   "outputs": [
    {
     "name": "stdout",
     "output_type": "stream",
     "text": [
      "p_min = [[1.00000000e+00 0.00000000e+00 0.00000000e+00 0.00000000e+00\n",
      "  0.00000000e+00 0.00000000e+00 0.00000000e+00 0.00000000e+00\n",
      "  0.00000000e+00 0.00000000e+00 0.00000000e+00 0.00000000e+00\n",
      "  0.00000000e+00 0.00000000e+00 0.00000000e+00 0.00000000e+00\n",
      "  0.00000000e+00 0.00000000e+00 0.00000000e+00 0.00000000e+00\n",
      "  0.00000000e+00 0.00000000e+00 0.00000000e+00 0.00000000e+00\n",
      "  0.00000000e+00 0.00000000e+00 0.00000000e+00 0.00000000e+00\n",
      "  0.00000000e+00 0.00000000e+00 0.00000000e+00 0.00000000e+00\n",
      "  0.00000000e+00 0.00000000e+00 0.00000000e+00 0.00000000e+00\n",
      "  0.00000000e+00 0.00000000e+00 0.00000000e+00 0.00000000e+00\n",
      "  0.00000000e+00 0.00000000e+00 0.00000000e+00 0.00000000e+00\n",
      "  0.00000000e+00 0.00000000e+00 0.00000000e+00 0.00000000e+00\n",
      "  0.00000000e+00 0.00000000e+00 0.00000000e+00 0.00000000e+00\n",
      "  0.00000000e+00 0.00000000e+00 0.00000000e+00 0.00000000e+00\n",
      "  0.00000000e+00 0.00000000e+00 0.00000000e+00 0.00000000e+00\n",
      "  0.00000000e+00 0.00000000e+00 0.00000000e+00 0.00000000e+00\n",
      "  0.00000000e+00 0.00000000e+00 0.00000000e+00 0.00000000e+00\n",
      "  0.00000000e+00 0.00000000e+00 0.00000000e+00 0.00000000e+00\n",
      "  0.00000000e+00 0.00000000e+00 0.00000000e+00 0.00000000e+00\n",
      "  0.00000000e+00 0.00000000e+00 0.00000000e+00 0.00000000e+00\n",
      "  0.00000000e+00 0.00000000e+00 0.00000000e+00 0.00000000e+00\n",
      "  0.00000000e+00 0.00000000e+00 0.00000000e+00 0.00000000e+00\n",
      "  0.00000000e+00 0.00000000e+00 0.00000000e+00 0.00000000e+00\n",
      "  0.00000000e+00 0.00000000e+00 0.00000000e+00 0.00000000e+00\n",
      "  0.00000000e+00 0.00000000e+00 0.00000000e+00 0.00000000e+00\n",
      "  0.00000000e+00]\n",
      " [1.51203883e-01 1.33852618e-01 1.60623141e-01 1.60623141e-01\n",
      "  1.37676978e-01 1.03257734e-01 6.88384890e-02 4.13030934e-02\n",
      "  2.25289600e-02 1.12644800e-02 5.19899078e-03 2.22813891e-03\n",
      "  8.91255562e-04 3.34220836e-04 1.17960295e-04 3.93200983e-05\n",
      "  1.24168732e-05 3.72506195e-06 1.06430341e-06 2.90264567e-07\n",
      "  7.57211915e-08 1.89302979e-08 4.54327149e-09 1.04844727e-09\n",
      "  2.32988281e-10 4.99260603e-11 1.03295297e-11 2.06590594e-12\n",
      "  3.99852763e-13 7.49723931e-14 1.36313442e-14 2.40553133e-15\n",
      "  4.12376799e-16 6.87294666e-17 1.11453189e-17 1.75978720e-18\n",
      "  2.70736492e-19 4.06104737e-20 5.94299616e-21 8.48999451e-22\n",
      "  1.18465040e-22 1.61543236e-23 2.15390981e-24 2.80944758e-25\n",
      "  3.58652883e-26 4.48316103e-27 5.48958494e-28 6.58750193e-29\n",
      "  7.75000227e-30 8.94231031e-31 1.01233702e-31 1.12481891e-32\n",
      "  1.22707517e-33 1.31472340e-34 1.38391937e-35 1.43164072e-36\n",
      "  1.45590582e-37 1.45590582e-38 1.43203851e-39 1.38584372e-40\n",
      "  1.31985116e-41 1.23736047e-42 1.14217889e-43 1.03834445e-44\n",
      "  9.29860698e-46 8.20465322e-47 7.13448106e-48 6.11526948e-49\n",
      "  5.16783336e-50 4.30652780e-51 3.53961189e-52 2.86995559e-53\n",
      "  2.29596447e-54 1.81260353e-55 1.41241833e-56 1.08647564e-57\n",
      "  8.25171374e-59 6.18878530e-60 4.58428541e-61 3.35435518e-62\n",
      "  2.42483507e-63 1.73202505e-64 1.22260592e-65 8.52980872e-67\n",
      "  5.88262671e-68 4.01088184e-69 2.70396529e-70 1.80264353e-71\n",
      "  1.18855617e-72 7.75145329e-74 5.00093760e-75 3.19208783e-76\n",
      "  2.01605547e-77 1.26003467e-78 7.79402889e-80 4.77185442e-81\n",
      "  2.89203298e-82 1.73521979e-83 0.00000000e+00 0.00000000e+00\n",
      "  0.00000000e+00]\n",
      " [6.06302782e-01 1.37676978e-01 1.03257734e-01 6.88384890e-02\n",
      "  4.13030934e-02 2.25289600e-02 1.12644800e-02 5.19899078e-03\n",
      "  2.22813891e-03 8.91255562e-04 3.34220836e-04 1.17960295e-04\n",
      "  3.93200983e-05 1.24168732e-05 3.72506195e-06 1.06430341e-06\n",
      "  2.90264567e-07 7.57211915e-08 1.89302979e-08 4.54327149e-09\n",
      "  1.04844727e-09 2.32988281e-10 4.99260603e-11 1.03295297e-11\n",
      "  2.06590594e-12 3.99852763e-13 7.49723931e-14 1.36313442e-14\n",
      "  2.40553133e-15 4.12376799e-16 6.87294666e-17 1.11453189e-17\n",
      "  1.75978720e-18 2.70736492e-19 4.06104737e-20 5.94299616e-21\n",
      "  8.48999451e-22 1.18465040e-22 1.61543236e-23 2.15390981e-24\n",
      "  2.80944758e-25 3.58652883e-26 4.48316103e-27 5.48958494e-28\n",
      "  6.58750193e-29 7.75000227e-30 8.94231031e-31 1.01233702e-31\n",
      "  1.12481891e-32 1.22707517e-33 1.31472340e-34 1.38391937e-35\n",
      "  1.43164072e-36 1.45590582e-37 1.45590582e-38 1.43203851e-39\n",
      "  1.38584372e-40 1.31985116e-41 1.23736047e-42 1.14217889e-43\n",
      "  1.03834445e-44 9.29860698e-46 8.20465322e-47 7.13448106e-48\n",
      "  6.11526948e-49 5.16783336e-50 4.30652780e-51 3.53961189e-52\n",
      "  2.86995559e-53 2.29596447e-54 1.81260353e-55 1.41241833e-56\n",
      "  1.08647564e-57 8.25171374e-59 6.18878530e-60 4.58428541e-61\n",
      "  3.35435518e-62 2.42483507e-63 1.73202505e-64 1.22260592e-65\n",
      "  8.52980872e-67 5.88262671e-68 4.01088184e-69 2.70396529e-70\n",
      "  1.80264353e-71 1.18855617e-72 7.75145329e-74 5.00093760e-75\n",
      "  3.19208783e-76 2.01605547e-77 1.26003467e-78 7.79402889e-80\n",
      "  4.77185442e-81 2.89203298e-82 1.73521979e-83 0.00000000e+00\n",
      "  0.00000000e+00 0.00000000e+00 0.00000000e+00 0.00000000e+00\n",
      "  0.00000000e+00]\n",
      " [0.00000000e+00 0.00000000e+00 0.00000000e+00 0.00000000e+00\n",
      "  0.00000000e+00 0.00000000e+00 0.00000000e+00 0.00000000e+00\n",
      "  0.00000000e+00 0.00000000e+00 0.00000000e+00 0.00000000e+00\n",
      "  0.00000000e+00 0.00000000e+00 0.00000000e+00 0.00000000e+00\n",
      "  0.00000000e+00 0.00000000e+00 0.00000000e+00 0.00000000e+00\n",
      "  0.00000000e+00 0.00000000e+00 0.00000000e+00 0.00000000e+00\n",
      "  0.00000000e+00 0.00000000e+00 0.00000000e+00 0.00000000e+00\n",
      "  0.00000000e+00 0.00000000e+00 0.00000000e+00 0.00000000e+00\n",
      "  0.00000000e+00 0.00000000e+00 0.00000000e+00 0.00000000e+00\n",
      "  0.00000000e+00 0.00000000e+00 0.00000000e+00 0.00000000e+00\n",
      "  0.00000000e+00 0.00000000e+00 0.00000000e+00 0.00000000e+00\n",
      "  0.00000000e+00 0.00000000e+00 0.00000000e+00 0.00000000e+00\n",
      "  0.00000000e+00 0.00000000e+00 0.00000000e+00 0.00000000e+00\n",
      "  0.00000000e+00 0.00000000e+00 0.00000000e+00 0.00000000e+00\n",
      "  0.00000000e+00 0.00000000e+00 0.00000000e+00 0.00000000e+00\n",
      "  0.00000000e+00 0.00000000e+00 0.00000000e+00 0.00000000e+00\n",
      "  0.00000000e+00 0.00000000e+00 0.00000000e+00 0.00000000e+00\n",
      "  0.00000000e+00 0.00000000e+00 0.00000000e+00 0.00000000e+00\n",
      "  0.00000000e+00 0.00000000e+00 0.00000000e+00 0.00000000e+00\n",
      "  0.00000000e+00 0.00000000e+00 0.00000000e+00 0.00000000e+00\n",
      "  0.00000000e+00 0.00000000e+00 0.00000000e+00 0.00000000e+00\n",
      "  0.00000000e+00 0.00000000e+00 0.00000000e+00 0.00000000e+00\n",
      "  0.00000000e+00 0.00000000e+00 0.00000000e+00 0.00000000e+00\n",
      "  0.00000000e+00 0.00000000e+00 0.00000000e+00 0.00000000e+00\n",
      "  0.00000000e+00 0.00000000e+00 0.00000000e+00 0.00000000e+00\n",
      "  0.00000000e+00]\n",
      " [0.00000000e+00 0.00000000e+00 0.00000000e+00 0.00000000e+00\n",
      "  0.00000000e+00 0.00000000e+00 0.00000000e+00 0.00000000e+00\n",
      "  0.00000000e+00 0.00000000e+00 0.00000000e+00 0.00000000e+00\n",
      "  0.00000000e+00 0.00000000e+00 0.00000000e+00 0.00000000e+00\n",
      "  0.00000000e+00 0.00000000e+00 0.00000000e+00 0.00000000e+00\n",
      "  0.00000000e+00 0.00000000e+00 0.00000000e+00 0.00000000e+00\n",
      "  0.00000000e+00 0.00000000e+00 0.00000000e+00 0.00000000e+00\n",
      "  0.00000000e+00 0.00000000e+00 0.00000000e+00 0.00000000e+00\n",
      "  0.00000000e+00 0.00000000e+00 0.00000000e+00 0.00000000e+00\n",
      "  0.00000000e+00 0.00000000e+00 0.00000000e+00 0.00000000e+00\n",
      "  0.00000000e+00 0.00000000e+00 0.00000000e+00 0.00000000e+00\n",
      "  0.00000000e+00 0.00000000e+00 0.00000000e+00 0.00000000e+00\n",
      "  0.00000000e+00 0.00000000e+00 0.00000000e+00 0.00000000e+00\n",
      "  0.00000000e+00 0.00000000e+00 0.00000000e+00 0.00000000e+00\n",
      "  0.00000000e+00 0.00000000e+00 0.00000000e+00 0.00000000e+00\n",
      "  0.00000000e+00 0.00000000e+00 0.00000000e+00 0.00000000e+00\n",
      "  0.00000000e+00 0.00000000e+00 0.00000000e+00 0.00000000e+00\n",
      "  0.00000000e+00 0.00000000e+00 0.00000000e+00 0.00000000e+00\n",
      "  0.00000000e+00 0.00000000e+00 0.00000000e+00 0.00000000e+00\n",
      "  0.00000000e+00 0.00000000e+00 0.00000000e+00 0.00000000e+00\n",
      "  0.00000000e+00 0.00000000e+00 0.00000000e+00 0.00000000e+00\n",
      "  0.00000000e+00 0.00000000e+00 0.00000000e+00 0.00000000e+00\n",
      "  0.00000000e+00 0.00000000e+00 0.00000000e+00 0.00000000e+00\n",
      "  0.00000000e+00 0.00000000e+00 0.00000000e+00 0.00000000e+00\n",
      "  0.00000000e+00 0.00000000e+00 0.00000000e+00 0.00000000e+00\n",
      "  0.00000000e+00]\n",
      " [0.00000000e+00 0.00000000e+00 0.00000000e+00 0.00000000e+00\n",
      "  0.00000000e+00 0.00000000e+00 0.00000000e+00 0.00000000e+00\n",
      "  0.00000000e+00 0.00000000e+00 0.00000000e+00 0.00000000e+00\n",
      "  0.00000000e+00 0.00000000e+00 0.00000000e+00 0.00000000e+00\n",
      "  0.00000000e+00 0.00000000e+00 0.00000000e+00 0.00000000e+00\n",
      "  0.00000000e+00 0.00000000e+00 0.00000000e+00 0.00000000e+00\n",
      "  0.00000000e+00 0.00000000e+00 0.00000000e+00 0.00000000e+00\n",
      "  0.00000000e+00 0.00000000e+00 0.00000000e+00 0.00000000e+00\n",
      "  0.00000000e+00 0.00000000e+00 0.00000000e+00 0.00000000e+00\n",
      "  0.00000000e+00 0.00000000e+00 0.00000000e+00 0.00000000e+00\n",
      "  0.00000000e+00 0.00000000e+00 0.00000000e+00 0.00000000e+00\n",
      "  0.00000000e+00 0.00000000e+00 0.00000000e+00 0.00000000e+00\n",
      "  0.00000000e+00 0.00000000e+00 0.00000000e+00 0.00000000e+00\n",
      "  0.00000000e+00 0.00000000e+00 0.00000000e+00 0.00000000e+00\n",
      "  0.00000000e+00 0.00000000e+00 0.00000000e+00 0.00000000e+00\n",
      "  0.00000000e+00 0.00000000e+00 0.00000000e+00 0.00000000e+00\n",
      "  0.00000000e+00 0.00000000e+00 0.00000000e+00 0.00000000e+00\n",
      "  0.00000000e+00 0.00000000e+00 0.00000000e+00 0.00000000e+00\n",
      "  0.00000000e+00 0.00000000e+00 0.00000000e+00 0.00000000e+00\n",
      "  0.00000000e+00 0.00000000e+00 0.00000000e+00 0.00000000e+00\n",
      "  0.00000000e+00 0.00000000e+00 0.00000000e+00 0.00000000e+00\n",
      "  0.00000000e+00 0.00000000e+00 0.00000000e+00 0.00000000e+00\n",
      "  0.00000000e+00 0.00000000e+00 0.00000000e+00 0.00000000e+00\n",
      "  0.00000000e+00 0.00000000e+00 0.00000000e+00 0.00000000e+00\n",
      "  0.00000000e+00 0.00000000e+00 0.00000000e+00 0.00000000e+00\n",
      "  0.00000000e+00]\n",
      " [0.00000000e+00 0.00000000e+00 0.00000000e+00 0.00000000e+00\n",
      "  0.00000000e+00 0.00000000e+00 0.00000000e+00 0.00000000e+00\n",
      "  0.00000000e+00 0.00000000e+00 0.00000000e+00 0.00000000e+00\n",
      "  0.00000000e+00 0.00000000e+00 0.00000000e+00 0.00000000e+00\n",
      "  0.00000000e+00 0.00000000e+00 0.00000000e+00 0.00000000e+00\n",
      "  0.00000000e+00 0.00000000e+00 0.00000000e+00 0.00000000e+00\n",
      "  0.00000000e+00 0.00000000e+00 0.00000000e+00 0.00000000e+00\n",
      "  0.00000000e+00 0.00000000e+00 0.00000000e+00 0.00000000e+00\n",
      "  0.00000000e+00 0.00000000e+00 0.00000000e+00 0.00000000e+00\n",
      "  0.00000000e+00 0.00000000e+00 0.00000000e+00 0.00000000e+00\n",
      "  0.00000000e+00 0.00000000e+00 0.00000000e+00 0.00000000e+00\n",
      "  0.00000000e+00 0.00000000e+00 0.00000000e+00 0.00000000e+00\n",
      "  0.00000000e+00 0.00000000e+00 0.00000000e+00 0.00000000e+00\n",
      "  0.00000000e+00 0.00000000e+00 0.00000000e+00 0.00000000e+00\n",
      "  0.00000000e+00 0.00000000e+00 0.00000000e+00 0.00000000e+00\n",
      "  0.00000000e+00 0.00000000e+00 0.00000000e+00 0.00000000e+00\n",
      "  0.00000000e+00 0.00000000e+00 0.00000000e+00 0.00000000e+00\n",
      "  0.00000000e+00 0.00000000e+00 0.00000000e+00 0.00000000e+00\n",
      "  0.00000000e+00 0.00000000e+00 0.00000000e+00 0.00000000e+00\n",
      "  0.00000000e+00 0.00000000e+00 0.00000000e+00 0.00000000e+00\n",
      "  0.00000000e+00 0.00000000e+00 0.00000000e+00 0.00000000e+00\n",
      "  0.00000000e+00 0.00000000e+00 0.00000000e+00 0.00000000e+00\n",
      "  0.00000000e+00 0.00000000e+00 0.00000000e+00 0.00000000e+00\n",
      "  0.00000000e+00 0.00000000e+00 0.00000000e+00 0.00000000e+00\n",
      "  0.00000000e+00 0.00000000e+00 0.00000000e+00 0.00000000e+00\n",
      "  0.00000000e+00]] \n",
      "w = [[array([1., 0., 0., 0., 0., 0., 0., 0., 0., 0., 0., 0., 0., 0., 0., 0., 0.,\n",
      "       0., 0., 0., 0., 0., 0., 0., 0., 0., 0., 0., 0., 0., 0., 0., 0., 0.,\n",
      "       0., 0., 0., 0., 0., 0., 0., 0., 0., 0., 0., 0., 0., 0., 0., 0., 0.,\n",
      "       0., 0., 0., 0., 0., 0., 0., 0., 0., 0., 0., 0., 0., 0., 0., 0., 0.,\n",
      "       0., 0., 0., 0., 0., 0., 0., 0., 0., 0., 0., 0., 0., 0., 0., 0., 0.,\n",
      "       0., 0., 0., 0., 0., 0., 0., 0., 0., 0., 0., 0., 0., 0., 0., 0.])], [], [array([6.06302782e-01, 1.37676978e-01, 1.03257734e-01, 6.88384890e-02,\n",
      "       4.13030934e-02, 2.25289600e-02, 1.12644800e-02, 5.19899078e-03,\n",
      "       2.22813891e-03, 8.91255562e-04, 3.34220836e-04, 1.17960295e-04,\n",
      "       3.93200983e-05, 1.24168732e-05, 3.72506195e-06, 1.06430341e-06,\n",
      "       2.90264567e-07, 7.57211915e-08, 1.89302979e-08, 4.54327149e-09,\n",
      "       1.04844727e-09, 2.32988281e-10, 4.99260603e-11, 1.03295297e-11,\n",
      "       2.06590594e-12, 3.99852763e-13, 7.49723931e-14, 1.36313442e-14,\n",
      "       2.40553133e-15, 4.12376799e-16, 6.87294666e-17, 1.11453189e-17,\n",
      "       1.75978720e-18, 2.70736492e-19, 4.06104737e-20, 5.94299616e-21,\n",
      "       8.48999451e-22, 1.18465040e-22, 1.61543236e-23, 2.15390981e-24,\n",
      "       2.80944758e-25, 3.58652883e-26, 4.48316103e-27, 5.48958494e-28,\n",
      "       6.58750193e-29, 7.75000227e-30, 8.94231031e-31, 1.01233702e-31,\n",
      "       1.12481891e-32, 1.22707517e-33, 1.31472340e-34, 1.38391937e-35,\n",
      "       1.43164072e-36, 1.45590582e-37, 1.45590582e-38, 1.43203851e-39,\n",
      "       1.38584372e-40, 1.31985116e-41, 1.23736047e-42, 1.14217889e-43,\n",
      "       1.03834445e-44, 9.29860698e-46, 8.20465322e-47, 7.13448106e-48,\n",
      "       6.11526948e-49, 5.16783336e-50, 4.30652780e-51, 3.53961189e-52,\n",
      "       2.86995559e-53, 2.29596447e-54, 1.81260353e-55, 1.41241833e-56,\n",
      "       1.08647564e-57, 8.25171374e-59, 6.18878530e-60, 4.58428541e-61,\n",
      "       3.35435518e-62, 2.42483507e-63, 1.73202505e-64, 1.22260592e-65,\n",
      "       8.52980872e-67, 5.88262671e-68, 4.01088184e-69, 2.70396529e-70,\n",
      "       1.80264353e-71, 1.18855617e-72, 7.75145329e-74, 5.00093760e-75,\n",
      "       3.19208783e-76, 2.01605547e-77, 1.26003467e-78, 7.79402889e-80,\n",
      "       4.77185442e-81, 2.89203298e-82, 1.73521979e-83, 0.00000000e+00,\n",
      "       0.00000000e+00, 0.00000000e+00, 0.00000000e+00, 0.00000000e+00,\n",
      "       0.00000000e+00])], [], [array([0., 0., 0., 0., 0., 0., 0., 0., 0., 0., 0., 0., 0., 0., 0., 0., 0.,\n",
      "       0., 0., 0., 0., 0., 0., 0., 0., 0., 0., 0., 0., 0., 0., 0., 0., 0.,\n",
      "       0., 0., 0., 0., 0., 0., 0., 0., 0., 0., 0., 0., 0., 0., 0., 0., 0.,\n",
      "       0., 0., 0., 0., 0., 0., 0., 0., 0., 0., 0., 0., 0., 0., 0., 0., 0.,\n",
      "       0., 0., 0., 0., 0., 0., 0., 0., 0., 0., 0., 0., 0., 0., 0., 0., 0.,\n",
      "       0., 0., 0., 0., 0., 0., 0., 0., 0., 0., 0., 0., 0., 0., 0., 0.])], [], [array([0., 0., 0., 0., 0., 0., 0., 0., 0., 0., 0., 0., 0., 0., 0., 0., 0.,\n",
      "       0., 0., 0., 0., 0., 0., 0., 0., 0., 0., 0., 0., 0., 0., 0., 0., 0.,\n",
      "       0., 0., 0., 0., 0., 0., 0., 0., 0., 0., 0., 0., 0., 0., 0., 0., 0.,\n",
      "       0., 0., 0., 0., 0., 0., 0., 0., 0., 0., 0., 0., 0., 0., 0., 0., 0.,\n",
      "       0., 0., 0., 0., 0., 0., 0., 0., 0., 0., 0., 0., 0., 0., 0., 0., 0.,\n",
      "       0., 0., 0., 0., 0., 0., 0., 0., 0., 0., 0., 0., 0., 0., 0., 0.])]] \n",
      "v = [[2.47875218e-03 1.48725131e-02 4.46175392e-02 8.92350784e-02\n",
      "  1.33852618e-01 1.60623141e-01 1.60623141e-01 1.37676978e-01\n",
      "  1.03257734e-01 6.88384890e-02 4.13030934e-02 2.25289600e-02\n",
      "  1.12644800e-02 5.19899078e-03 2.22813891e-03 8.91255562e-04\n",
      "  3.34220836e-04 1.17960295e-04 3.93200983e-05 1.24168732e-05\n",
      "  3.72506195e-06 1.06430341e-06 2.90264567e-07 7.57211915e-08\n",
      "  1.89302979e-08 4.54327149e-09 1.04844727e-09 2.32988281e-10\n",
      "  4.99260603e-11 1.03295297e-11 2.06590594e-12 3.99852763e-13\n",
      "  7.49723931e-14 1.36313442e-14 2.40553133e-15 4.12376799e-16\n",
      "  6.87294666e-17 1.11453189e-17 1.75978720e-18 2.70736492e-19\n",
      "  4.06104737e-20 5.94299616e-21 8.48999451e-22 1.18465040e-22\n",
      "  1.61543236e-23 2.15390981e-24 2.80944758e-25 3.58652883e-26\n",
      "  4.48316103e-27 5.48958494e-28 6.58750193e-29 7.75000227e-30\n",
      "  8.94231031e-31 1.01233702e-31 1.12481891e-32 1.22707517e-33\n",
      "  1.31472340e-34 1.38391937e-35 1.43164072e-36 1.45590582e-37\n",
      "  1.45590582e-38 1.43203851e-39 1.38584372e-40 1.31985116e-41\n",
      "  1.23736047e-42 1.14217889e-43 1.03834445e-44 9.29860698e-46\n",
      "  8.20465322e-47 7.13448106e-48 6.11526948e-49 5.16783336e-50\n",
      "  4.30652780e-51 3.53961189e-52 2.86995559e-53 2.29596447e-54\n",
      "  1.81260353e-55 1.41241833e-56 1.08647564e-57 8.25171374e-59\n",
      "  6.18878530e-60 4.58428541e-61 3.35435518e-62 2.42483507e-63\n",
      "  1.73202505e-64 1.22260592e-65 8.52980872e-67 5.88262671e-68\n",
      "  4.01088184e-69 2.70396529e-70 1.80264353e-71 1.18855617e-72\n",
      "  7.75145329e-74 5.00093760e-75 3.19208783e-76 2.01605547e-77\n",
      "  1.26003467e-78 7.79402889e-80 4.77185442e-81 2.89203298e-82\n",
      "  1.73521979e-83]\n",
      " [0.00000000e+00 0.00000000e+00 0.00000000e+00 0.00000000e+00\n",
      "  0.00000000e+00 0.00000000e+00 0.00000000e+00 0.00000000e+00\n",
      "  0.00000000e+00 0.00000000e+00 0.00000000e+00 0.00000000e+00\n",
      "  0.00000000e+00 0.00000000e+00 0.00000000e+00 0.00000000e+00\n",
      "  0.00000000e+00 0.00000000e+00 0.00000000e+00 0.00000000e+00\n",
      "  0.00000000e+00 0.00000000e+00 0.00000000e+00 0.00000000e+00\n",
      "  0.00000000e+00 0.00000000e+00 0.00000000e+00 0.00000000e+00\n",
      "  0.00000000e+00 0.00000000e+00 0.00000000e+00 0.00000000e+00\n",
      "  0.00000000e+00 0.00000000e+00 0.00000000e+00 0.00000000e+00\n",
      "  0.00000000e+00 0.00000000e+00 0.00000000e+00 0.00000000e+00\n",
      "  0.00000000e+00 0.00000000e+00 0.00000000e+00 0.00000000e+00\n",
      "  0.00000000e+00 0.00000000e+00 0.00000000e+00 0.00000000e+00\n",
      "  0.00000000e+00 0.00000000e+00 0.00000000e+00 0.00000000e+00\n",
      "  0.00000000e+00 0.00000000e+00 0.00000000e+00 0.00000000e+00\n",
      "  0.00000000e+00 0.00000000e+00 0.00000000e+00 0.00000000e+00\n",
      "  0.00000000e+00 0.00000000e+00 0.00000000e+00 0.00000000e+00\n",
      "  0.00000000e+00 0.00000000e+00 0.00000000e+00 0.00000000e+00\n",
      "  0.00000000e+00 0.00000000e+00 0.00000000e+00 0.00000000e+00\n",
      "  0.00000000e+00 0.00000000e+00 0.00000000e+00 0.00000000e+00\n",
      "  0.00000000e+00 0.00000000e+00 0.00000000e+00 0.00000000e+00\n",
      "  0.00000000e+00 0.00000000e+00 0.00000000e+00 0.00000000e+00\n",
      "  0.00000000e+00 0.00000000e+00 0.00000000e+00 0.00000000e+00\n",
      "  0.00000000e+00 0.00000000e+00 0.00000000e+00 0.00000000e+00\n",
      "  0.00000000e+00 0.00000000e+00 0.00000000e+00 0.00000000e+00\n",
      "  0.00000000e+00 0.00000000e+00 0.00000000e+00 0.00000000e+00\n",
      "  0.00000000e+00]\n",
      " [0.00000000e+00 0.00000000e+00 0.00000000e+00 0.00000000e+00\n",
      "  0.00000000e+00 0.00000000e+00 0.00000000e+00 0.00000000e+00\n",
      "  0.00000000e+00 0.00000000e+00 0.00000000e+00 0.00000000e+00\n",
      "  0.00000000e+00 0.00000000e+00 0.00000000e+00 0.00000000e+00\n",
      "  0.00000000e+00 0.00000000e+00 0.00000000e+00 0.00000000e+00\n",
      "  0.00000000e+00 0.00000000e+00 0.00000000e+00 0.00000000e+00\n",
      "  0.00000000e+00 0.00000000e+00 0.00000000e+00 0.00000000e+00\n",
      "  0.00000000e+00 0.00000000e+00 0.00000000e+00 0.00000000e+00\n",
      "  0.00000000e+00 0.00000000e+00 0.00000000e+00 0.00000000e+00\n",
      "  0.00000000e+00 0.00000000e+00 0.00000000e+00 0.00000000e+00\n",
      "  0.00000000e+00 0.00000000e+00 0.00000000e+00 0.00000000e+00\n",
      "  0.00000000e+00 0.00000000e+00 0.00000000e+00 0.00000000e+00\n",
      "  0.00000000e+00 0.00000000e+00 0.00000000e+00 0.00000000e+00\n",
      "  0.00000000e+00 0.00000000e+00 0.00000000e+00 0.00000000e+00\n",
      "  0.00000000e+00 0.00000000e+00 0.00000000e+00 0.00000000e+00\n",
      "  0.00000000e+00 0.00000000e+00 0.00000000e+00 0.00000000e+00\n",
      "  0.00000000e+00 0.00000000e+00 0.00000000e+00 0.00000000e+00\n",
      "  0.00000000e+00 0.00000000e+00 0.00000000e+00 0.00000000e+00\n",
      "  0.00000000e+00 0.00000000e+00 0.00000000e+00 0.00000000e+00\n",
      "  0.00000000e+00 0.00000000e+00 0.00000000e+00 0.00000000e+00\n",
      "  0.00000000e+00 0.00000000e+00 0.00000000e+00 0.00000000e+00\n",
      "  0.00000000e+00 0.00000000e+00 0.00000000e+00 0.00000000e+00\n",
      "  0.00000000e+00 0.00000000e+00 0.00000000e+00 0.00000000e+00\n",
      "  0.00000000e+00 0.00000000e+00 0.00000000e+00 0.00000000e+00\n",
      "  0.00000000e+00 0.00000000e+00 0.00000000e+00 0.00000000e+00\n",
      "  0.00000000e+00]\n",
      " [0.00000000e+00 0.00000000e+00 0.00000000e+00 0.00000000e+00\n",
      "  0.00000000e+00 0.00000000e+00 0.00000000e+00 0.00000000e+00\n",
      "  0.00000000e+00 0.00000000e+00 0.00000000e+00 0.00000000e+00\n",
      "  0.00000000e+00 0.00000000e+00 0.00000000e+00 0.00000000e+00\n",
      "  0.00000000e+00 0.00000000e+00 0.00000000e+00 0.00000000e+00\n",
      "  0.00000000e+00 0.00000000e+00 0.00000000e+00 0.00000000e+00\n",
      "  0.00000000e+00 0.00000000e+00 0.00000000e+00 0.00000000e+00\n",
      "  0.00000000e+00 0.00000000e+00 0.00000000e+00 0.00000000e+00\n",
      "  0.00000000e+00 0.00000000e+00 0.00000000e+00 0.00000000e+00\n",
      "  0.00000000e+00 0.00000000e+00 0.00000000e+00 0.00000000e+00\n",
      "  0.00000000e+00 0.00000000e+00 0.00000000e+00 0.00000000e+00\n",
      "  0.00000000e+00 0.00000000e+00 0.00000000e+00 0.00000000e+00\n",
      "  0.00000000e+00 0.00000000e+00 0.00000000e+00 0.00000000e+00\n",
      "  0.00000000e+00 0.00000000e+00 0.00000000e+00 0.00000000e+00\n",
      "  0.00000000e+00 0.00000000e+00 0.00000000e+00 0.00000000e+00\n",
      "  0.00000000e+00 0.00000000e+00 0.00000000e+00 0.00000000e+00\n",
      "  0.00000000e+00 0.00000000e+00 0.00000000e+00 0.00000000e+00\n",
      "  0.00000000e+00 0.00000000e+00 0.00000000e+00 0.00000000e+00\n",
      "  0.00000000e+00 0.00000000e+00 0.00000000e+00 0.00000000e+00\n",
      "  0.00000000e+00 0.00000000e+00 0.00000000e+00 0.00000000e+00\n",
      "  0.00000000e+00 0.00000000e+00 0.00000000e+00 0.00000000e+00\n",
      "  0.00000000e+00 0.00000000e+00 0.00000000e+00 0.00000000e+00\n",
      "  0.00000000e+00 0.00000000e+00 0.00000000e+00 0.00000000e+00\n",
      "  0.00000000e+00 0.00000000e+00 0.00000000e+00 0.00000000e+00\n",
      "  0.00000000e+00 0.00000000e+00 0.00000000e+00 0.00000000e+00\n",
      "  0.00000000e+00]\n",
      " [0.00000000e+00 0.00000000e+00 0.00000000e+00 0.00000000e+00\n",
      "  0.00000000e+00 0.00000000e+00 0.00000000e+00 0.00000000e+00\n",
      "  0.00000000e+00 0.00000000e+00 0.00000000e+00 0.00000000e+00\n",
      "  0.00000000e+00 0.00000000e+00 0.00000000e+00 0.00000000e+00\n",
      "  0.00000000e+00 0.00000000e+00 0.00000000e+00 0.00000000e+00\n",
      "  0.00000000e+00 0.00000000e+00 0.00000000e+00 0.00000000e+00\n",
      "  0.00000000e+00 0.00000000e+00 0.00000000e+00 0.00000000e+00\n",
      "  0.00000000e+00 0.00000000e+00 0.00000000e+00 0.00000000e+00\n",
      "  0.00000000e+00 0.00000000e+00 0.00000000e+00 0.00000000e+00\n",
      "  0.00000000e+00 0.00000000e+00 0.00000000e+00 0.00000000e+00\n",
      "  0.00000000e+00 0.00000000e+00 0.00000000e+00 0.00000000e+00\n",
      "  0.00000000e+00 0.00000000e+00 0.00000000e+00 0.00000000e+00\n",
      "  0.00000000e+00 0.00000000e+00 0.00000000e+00 0.00000000e+00\n",
      "  0.00000000e+00 0.00000000e+00 0.00000000e+00 0.00000000e+00\n",
      "  0.00000000e+00 0.00000000e+00 0.00000000e+00 0.00000000e+00\n",
      "  0.00000000e+00 0.00000000e+00 0.00000000e+00 0.00000000e+00\n",
      "  0.00000000e+00 0.00000000e+00 0.00000000e+00 0.00000000e+00\n",
      "  0.00000000e+00 0.00000000e+00 0.00000000e+00 0.00000000e+00\n",
      "  0.00000000e+00 0.00000000e+00 0.00000000e+00 0.00000000e+00\n",
      "  0.00000000e+00 0.00000000e+00 0.00000000e+00 0.00000000e+00\n",
      "  0.00000000e+00 0.00000000e+00 0.00000000e+00 0.00000000e+00\n",
      "  0.00000000e+00 0.00000000e+00 0.00000000e+00 0.00000000e+00\n",
      "  0.00000000e+00 0.00000000e+00 0.00000000e+00 0.00000000e+00\n",
      "  0.00000000e+00 0.00000000e+00 0.00000000e+00 0.00000000e+00\n",
      "  0.00000000e+00 0.00000000e+00 0.00000000e+00 0.00000000e+00\n",
      "  0.00000000e+00]\n",
      " [0.00000000e+00 0.00000000e+00 0.00000000e+00 0.00000000e+00\n",
      "  0.00000000e+00 0.00000000e+00 0.00000000e+00 0.00000000e+00\n",
      "  0.00000000e+00 0.00000000e+00 0.00000000e+00 0.00000000e+00\n",
      "  0.00000000e+00 0.00000000e+00 0.00000000e+00 0.00000000e+00\n",
      "  0.00000000e+00 0.00000000e+00 0.00000000e+00 0.00000000e+00\n",
      "  0.00000000e+00 0.00000000e+00 0.00000000e+00 0.00000000e+00\n",
      "  0.00000000e+00 0.00000000e+00 0.00000000e+00 0.00000000e+00\n",
      "  0.00000000e+00 0.00000000e+00 0.00000000e+00 0.00000000e+00\n",
      "  0.00000000e+00 0.00000000e+00 0.00000000e+00 0.00000000e+00\n",
      "  0.00000000e+00 0.00000000e+00 0.00000000e+00 0.00000000e+00\n",
      "  0.00000000e+00 0.00000000e+00 0.00000000e+00 0.00000000e+00\n",
      "  0.00000000e+00 0.00000000e+00 0.00000000e+00 0.00000000e+00\n",
      "  0.00000000e+00 0.00000000e+00 0.00000000e+00 0.00000000e+00\n",
      "  0.00000000e+00 0.00000000e+00 0.00000000e+00 0.00000000e+00\n",
      "  0.00000000e+00 0.00000000e+00 0.00000000e+00 0.00000000e+00\n",
      "  0.00000000e+00 0.00000000e+00 0.00000000e+00 0.00000000e+00\n",
      "  0.00000000e+00 0.00000000e+00 0.00000000e+00 0.00000000e+00\n",
      "  0.00000000e+00 0.00000000e+00 0.00000000e+00 0.00000000e+00\n",
      "  0.00000000e+00 0.00000000e+00 0.00000000e+00 0.00000000e+00\n",
      "  0.00000000e+00 0.00000000e+00 0.00000000e+00 0.00000000e+00\n",
      "  0.00000000e+00 0.00000000e+00 0.00000000e+00 0.00000000e+00\n",
      "  0.00000000e+00 0.00000000e+00 0.00000000e+00 0.00000000e+00\n",
      "  0.00000000e+00 0.00000000e+00 0.00000000e+00 0.00000000e+00\n",
      "  0.00000000e+00 0.00000000e+00 0.00000000e+00 0.00000000e+00\n",
      "  0.00000000e+00 0.00000000e+00 0.00000000e+00 0.00000000e+00\n",
      "  0.00000000e+00]\n",
      " [0.00000000e+00 0.00000000e+00 0.00000000e+00 0.00000000e+00\n",
      "  0.00000000e+00 0.00000000e+00 0.00000000e+00 0.00000000e+00\n",
      "  0.00000000e+00 0.00000000e+00 0.00000000e+00 0.00000000e+00\n",
      "  0.00000000e+00 0.00000000e+00 0.00000000e+00 0.00000000e+00\n",
      "  0.00000000e+00 0.00000000e+00 0.00000000e+00 0.00000000e+00\n",
      "  0.00000000e+00 0.00000000e+00 0.00000000e+00 0.00000000e+00\n",
      "  0.00000000e+00 0.00000000e+00 0.00000000e+00 0.00000000e+00\n",
      "  0.00000000e+00 0.00000000e+00 0.00000000e+00 0.00000000e+00\n",
      "  0.00000000e+00 0.00000000e+00 0.00000000e+00 0.00000000e+00\n",
      "  0.00000000e+00 0.00000000e+00 0.00000000e+00 0.00000000e+00\n",
      "  0.00000000e+00 0.00000000e+00 0.00000000e+00 0.00000000e+00\n",
      "  0.00000000e+00 0.00000000e+00 0.00000000e+00 0.00000000e+00\n",
      "  0.00000000e+00 0.00000000e+00 0.00000000e+00 0.00000000e+00\n",
      "  0.00000000e+00 0.00000000e+00 0.00000000e+00 0.00000000e+00\n",
      "  0.00000000e+00 0.00000000e+00 0.00000000e+00 0.00000000e+00\n",
      "  0.00000000e+00 0.00000000e+00 0.00000000e+00 0.00000000e+00\n",
      "  0.00000000e+00 0.00000000e+00 0.00000000e+00 0.00000000e+00\n",
      "  0.00000000e+00 0.00000000e+00 0.00000000e+00 0.00000000e+00\n",
      "  0.00000000e+00 0.00000000e+00 0.00000000e+00 0.00000000e+00\n",
      "  0.00000000e+00 0.00000000e+00 0.00000000e+00 0.00000000e+00\n",
      "  0.00000000e+00 0.00000000e+00 0.00000000e+00 0.00000000e+00\n",
      "  0.00000000e+00 0.00000000e+00 0.00000000e+00 0.00000000e+00\n",
      "  0.00000000e+00 0.00000000e+00 0.00000000e+00 0.00000000e+00\n",
      "  0.00000000e+00 0.00000000e+00 0.00000000e+00 0.00000000e+00\n",
      "  0.00000000e+00 0.00000000e+00 0.00000000e+00 0.00000000e+00\n",
      "  0.00000000e+00]] \n",
      "p_plus = [[2.47875218e-03 1.48725131e-02 4.46175392e-02 8.92350784e-02\n",
      "  1.33852618e-01 1.60623141e-01 1.60623141e-01 1.37676978e-01\n",
      "  1.03257734e-01 6.88384890e-02 4.13030934e-02 2.25289600e-02\n",
      "  1.12644800e-02 5.19899078e-03 2.22813891e-03 8.91255562e-04\n",
      "  3.34220836e-04 1.17960295e-04 3.93200983e-05 1.24168732e-05\n",
      "  3.72506195e-06 1.06430341e-06 2.90264567e-07 7.57211915e-08\n",
      "  1.89302979e-08 4.54327149e-09 1.04844727e-09 2.32988281e-10\n",
      "  4.99260603e-11 1.03295297e-11 2.06590594e-12 3.99852763e-13\n",
      "  7.49723931e-14 1.36313442e-14 2.40553133e-15 4.12376799e-16\n",
      "  6.87294666e-17 1.11453189e-17 1.75978720e-18 2.70736492e-19\n",
      "  4.06104737e-20 5.94299616e-21 8.48999451e-22 1.18465040e-22\n",
      "  1.61543236e-23 2.15390981e-24 2.80944758e-25 3.58652883e-26\n",
      "  4.48316103e-27 5.48958494e-28 6.58750193e-29 7.75000227e-30\n",
      "  8.94231031e-31 1.01233702e-31 1.12481891e-32 1.22707517e-33\n",
      "  1.31472340e-34 1.38391937e-35 1.43164072e-36 1.45590582e-37\n",
      "  1.45590582e-38 1.43203851e-39 1.38584372e-40 1.31985116e-41\n",
      "  1.23736047e-42 1.14217889e-43 1.03834445e-44 9.29860698e-46\n",
      "  8.20465322e-47 7.13448106e-48 6.11526948e-49 5.16783336e-50\n",
      "  4.30652780e-51 3.53961189e-52 2.86995559e-53 2.29596447e-54\n",
      "  1.81260353e-55 1.41241833e-56 1.08647564e-57 8.25171374e-59\n",
      "  6.18878530e-60 4.58428541e-61 3.35435518e-62 2.42483507e-63\n",
      "  1.73202505e-64 1.22260592e-65 8.52980872e-67 5.88262671e-68\n",
      "  4.01088184e-69 2.70396529e-70 1.80264353e-71 1.18855617e-72\n",
      "  7.75145329e-74 5.00093760e-75 3.19208783e-76 2.01605547e-77\n",
      "  1.26003467e-78 7.79402889e-80 4.77185442e-81 2.89203298e-82\n",
      "  1.73521979e-83]\n",
      " [1.51203883e-01 1.33852618e-01 1.60623141e-01 1.60623141e-01\n",
      "  1.37676978e-01 1.03257734e-01 6.88384890e-02 4.13030934e-02\n",
      "  2.25289600e-02 1.12644800e-02 5.19899078e-03 2.22813891e-03\n",
      "  8.91255562e-04 3.34220836e-04 1.17960295e-04 3.93200983e-05\n",
      "  1.24168732e-05 3.72506195e-06 1.06430341e-06 2.90264567e-07\n",
      "  7.57211915e-08 1.89302979e-08 4.54327149e-09 1.04844727e-09\n",
      "  2.32988281e-10 4.99260603e-11 1.03295297e-11 2.06590594e-12\n",
      "  3.99852763e-13 7.49723931e-14 1.36313442e-14 2.40553133e-15\n",
      "  4.12376799e-16 6.87294666e-17 1.11453189e-17 1.75978720e-18\n",
      "  2.70736492e-19 4.06104737e-20 5.94299616e-21 8.48999451e-22\n",
      "  1.18465040e-22 1.61543236e-23 2.15390981e-24 2.80944758e-25\n",
      "  3.58652883e-26 4.48316103e-27 5.48958494e-28 6.58750193e-29\n",
      "  7.75000227e-30 8.94231031e-31 1.01233702e-31 1.12481891e-32\n",
      "  1.22707517e-33 1.31472340e-34 1.38391937e-35 1.43164072e-36\n",
      "  1.45590582e-37 1.45590582e-38 1.43203851e-39 1.38584372e-40\n",
      "  1.31985116e-41 1.23736047e-42 1.14217889e-43 1.03834445e-44\n",
      "  9.29860698e-46 8.20465322e-47 7.13448106e-48 6.11526948e-49\n",
      "  5.16783336e-50 4.30652780e-51 3.53961189e-52 2.86995559e-53\n",
      "  2.29596447e-54 1.81260353e-55 1.41241833e-56 1.08647564e-57\n",
      "  8.25171374e-59 6.18878530e-60 4.58428541e-61 3.35435518e-62\n",
      "  2.42483507e-63 1.73202505e-64 1.22260592e-65 8.52980872e-67\n",
      "  5.88262671e-68 4.01088184e-69 2.70396529e-70 1.80264353e-71\n",
      "  1.18855617e-72 7.75145329e-74 5.00093760e-75 3.19208783e-76\n",
      "  2.01605547e-77 1.26003467e-78 7.79402889e-80 4.77185442e-81\n",
      "  2.89203298e-82 1.73521979e-83 0.00000000e+00 0.00000000e+00\n",
      "  0.00000000e+00]\n",
      " [2.70517381e-02 6.14280796e-03 4.60710597e-03 3.07140398e-03\n",
      "  1.84284239e-03 1.00518676e-03 5.02593379e-04 2.31966175e-04\n",
      "  9.94140749e-05 3.97656300e-05 1.49121112e-05 5.26309808e-06\n",
      "  1.75436603e-06 5.54010325e-07 1.66203097e-07 4.74865992e-08\n",
      "  1.29508907e-08 3.37849323e-09 8.44623307e-10 2.02709594e-10\n",
      "  4.67791370e-11 1.03953638e-11 2.22757795e-12 4.60878197e-13\n",
      "  9.21756394e-14 1.78404463e-14 3.34508369e-15 6.08197034e-16\n",
      "  1.07328888e-16 1.83992380e-17 3.06653967e-18 4.97276703e-19\n",
      "  7.85173741e-20 1.20795960e-20 1.81193940e-21 2.65161864e-22\n",
      "  3.78802663e-23 5.28561855e-24 7.20766166e-25 9.61021554e-26\n",
      "  1.25350638e-26 1.60022090e-27 2.00027613e-28 2.44931771e-29\n",
      "  2.93918125e-30 3.45786030e-31 3.98983881e-32 4.51679865e-33\n",
      "  5.01866516e-34 5.47490745e-35 5.86597227e-36 6.17470765e-37\n",
      "  6.38762861e-38 6.49589350e-39 6.49589350e-40 6.38940344e-41\n",
      "  6.18329365e-42 5.88885110e-43 5.52079790e-44 5.09612114e-45\n",
      "  4.63283740e-46 4.14880961e-47 3.66071436e-48 3.18322988e-49\n",
      "  2.72848276e-50 2.30576008e-51 1.92146673e-52 1.57928772e-53\n",
      "  1.28050356e-54 1.02440285e-55 8.08739090e-57 6.30186304e-58\n",
      "  4.84758695e-59 3.68171161e-60 2.76128371e-61 2.04539534e-62\n",
      "  1.49663074e-63 1.08190174e-64 7.72786955e-66 5.45496674e-67\n",
      "  3.80579075e-68 2.62468328e-69 1.78955678e-70 1.20644277e-71\n",
      "  8.04295181e-73 5.30304515e-74 3.45850771e-75 2.23129530e-76\n",
      "  1.42423104e-77 8.99514341e-79 5.62196463e-80 3.47750389e-81\n",
      "  2.12908402e-82 1.29035395e-83 7.74212370e-85 0.00000000e+00\n",
      "  0.00000000e+00 0.00000000e+00 0.00000000e+00 0.00000000e+00\n",
      "  0.00000000e+00]\n",
      " [0.00000000e+00 0.00000000e+00 0.00000000e+00 0.00000000e+00\n",
      "  0.00000000e+00 0.00000000e+00 0.00000000e+00 0.00000000e+00\n",
      "  0.00000000e+00 0.00000000e+00 0.00000000e+00 0.00000000e+00\n",
      "  0.00000000e+00 0.00000000e+00 0.00000000e+00 0.00000000e+00\n",
      "  0.00000000e+00 0.00000000e+00 0.00000000e+00 0.00000000e+00\n",
      "  0.00000000e+00 0.00000000e+00 0.00000000e+00 0.00000000e+00\n",
      "  0.00000000e+00 0.00000000e+00 0.00000000e+00 0.00000000e+00\n",
      "  0.00000000e+00 0.00000000e+00 0.00000000e+00 0.00000000e+00\n",
      "  0.00000000e+00 0.00000000e+00 0.00000000e+00 0.00000000e+00\n",
      "  0.00000000e+00 0.00000000e+00 0.00000000e+00 0.00000000e+00\n",
      "  0.00000000e+00 0.00000000e+00 0.00000000e+00 0.00000000e+00\n",
      "  0.00000000e+00 0.00000000e+00 0.00000000e+00 0.00000000e+00\n",
      "  0.00000000e+00 0.00000000e+00 0.00000000e+00 0.00000000e+00\n",
      "  0.00000000e+00 0.00000000e+00 0.00000000e+00 0.00000000e+00\n",
      "  0.00000000e+00 0.00000000e+00 0.00000000e+00 0.00000000e+00\n",
      "  0.00000000e+00 0.00000000e+00 0.00000000e+00 0.00000000e+00\n",
      "  0.00000000e+00 0.00000000e+00 0.00000000e+00 0.00000000e+00\n",
      "  0.00000000e+00 0.00000000e+00 0.00000000e+00 0.00000000e+00\n",
      "  0.00000000e+00 0.00000000e+00 0.00000000e+00 0.00000000e+00\n",
      "  0.00000000e+00 0.00000000e+00 0.00000000e+00 0.00000000e+00\n",
      "  0.00000000e+00 0.00000000e+00 0.00000000e+00 0.00000000e+00\n",
      "  0.00000000e+00 0.00000000e+00 0.00000000e+00 0.00000000e+00\n",
      "  0.00000000e+00 0.00000000e+00 0.00000000e+00 0.00000000e+00\n",
      "  0.00000000e+00 0.00000000e+00 0.00000000e+00 0.00000000e+00\n",
      "  0.00000000e+00 0.00000000e+00 0.00000000e+00 0.00000000e+00\n",
      "  0.00000000e+00]\n",
      " [0.00000000e+00 0.00000000e+00 0.00000000e+00 0.00000000e+00\n",
      "  0.00000000e+00 0.00000000e+00 0.00000000e+00 0.00000000e+00\n",
      "  0.00000000e+00 0.00000000e+00 0.00000000e+00 0.00000000e+00\n",
      "  0.00000000e+00 0.00000000e+00 0.00000000e+00 0.00000000e+00\n",
      "  0.00000000e+00 0.00000000e+00 0.00000000e+00 0.00000000e+00\n",
      "  0.00000000e+00 0.00000000e+00 0.00000000e+00 0.00000000e+00\n",
      "  0.00000000e+00 0.00000000e+00 0.00000000e+00 0.00000000e+00\n",
      "  0.00000000e+00 0.00000000e+00 0.00000000e+00 0.00000000e+00\n",
      "  0.00000000e+00 0.00000000e+00 0.00000000e+00 0.00000000e+00\n",
      "  0.00000000e+00 0.00000000e+00 0.00000000e+00 0.00000000e+00\n",
      "  0.00000000e+00 0.00000000e+00 0.00000000e+00 0.00000000e+00\n",
      "  0.00000000e+00 0.00000000e+00 0.00000000e+00 0.00000000e+00\n",
      "  0.00000000e+00 0.00000000e+00 0.00000000e+00 0.00000000e+00\n",
      "  0.00000000e+00 0.00000000e+00 0.00000000e+00 0.00000000e+00\n",
      "  0.00000000e+00 0.00000000e+00 0.00000000e+00 0.00000000e+00\n",
      "  0.00000000e+00 0.00000000e+00 0.00000000e+00 0.00000000e+00\n",
      "  0.00000000e+00 0.00000000e+00 0.00000000e+00 0.00000000e+00\n",
      "  0.00000000e+00 0.00000000e+00 0.00000000e+00 0.00000000e+00\n",
      "  0.00000000e+00 0.00000000e+00 0.00000000e+00 0.00000000e+00\n",
      "  0.00000000e+00 0.00000000e+00 0.00000000e+00 0.00000000e+00\n",
      "  0.00000000e+00 0.00000000e+00 0.00000000e+00 0.00000000e+00\n",
      "  0.00000000e+00 0.00000000e+00 0.00000000e+00 0.00000000e+00\n",
      "  0.00000000e+00 0.00000000e+00 0.00000000e+00 0.00000000e+00\n",
      "  0.00000000e+00 0.00000000e+00 0.00000000e+00 0.00000000e+00\n",
      "  0.00000000e+00 0.00000000e+00 0.00000000e+00 0.00000000e+00\n",
      "  0.00000000e+00]\n",
      " [0.00000000e+00 0.00000000e+00 0.00000000e+00 0.00000000e+00\n",
      "  0.00000000e+00 0.00000000e+00 0.00000000e+00 0.00000000e+00\n",
      "  0.00000000e+00 0.00000000e+00 0.00000000e+00 0.00000000e+00\n",
      "  0.00000000e+00 0.00000000e+00 0.00000000e+00 0.00000000e+00\n",
      "  0.00000000e+00 0.00000000e+00 0.00000000e+00 0.00000000e+00\n",
      "  0.00000000e+00 0.00000000e+00 0.00000000e+00 0.00000000e+00\n",
      "  0.00000000e+00 0.00000000e+00 0.00000000e+00 0.00000000e+00\n",
      "  0.00000000e+00 0.00000000e+00 0.00000000e+00 0.00000000e+00\n",
      "  0.00000000e+00 0.00000000e+00 0.00000000e+00 0.00000000e+00\n",
      "  0.00000000e+00 0.00000000e+00 0.00000000e+00 0.00000000e+00\n",
      "  0.00000000e+00 0.00000000e+00 0.00000000e+00 0.00000000e+00\n",
      "  0.00000000e+00 0.00000000e+00 0.00000000e+00 0.00000000e+00\n",
      "  0.00000000e+00 0.00000000e+00 0.00000000e+00 0.00000000e+00\n",
      "  0.00000000e+00 0.00000000e+00 0.00000000e+00 0.00000000e+00\n",
      "  0.00000000e+00 0.00000000e+00 0.00000000e+00 0.00000000e+00\n",
      "  0.00000000e+00 0.00000000e+00 0.00000000e+00 0.00000000e+00\n",
      "  0.00000000e+00 0.00000000e+00 0.00000000e+00 0.00000000e+00\n",
      "  0.00000000e+00 0.00000000e+00 0.00000000e+00 0.00000000e+00\n",
      "  0.00000000e+00 0.00000000e+00 0.00000000e+00 0.00000000e+00\n",
      "  0.00000000e+00 0.00000000e+00 0.00000000e+00 0.00000000e+00\n",
      "  0.00000000e+00 0.00000000e+00 0.00000000e+00 0.00000000e+00\n",
      "  0.00000000e+00 0.00000000e+00 0.00000000e+00 0.00000000e+00\n",
      "  0.00000000e+00 0.00000000e+00 0.00000000e+00 0.00000000e+00\n",
      "  0.00000000e+00 0.00000000e+00 0.00000000e+00 0.00000000e+00\n",
      "  0.00000000e+00 0.00000000e+00 0.00000000e+00 0.00000000e+00\n",
      "  0.00000000e+00]\n",
      " [0.00000000e+00 0.00000000e+00 0.00000000e+00 0.00000000e+00\n",
      "  0.00000000e+00 0.00000000e+00 0.00000000e+00 0.00000000e+00\n",
      "  0.00000000e+00 0.00000000e+00 0.00000000e+00 0.00000000e+00\n",
      "  0.00000000e+00 0.00000000e+00 0.00000000e+00 0.00000000e+00\n",
      "  0.00000000e+00 0.00000000e+00 0.00000000e+00 0.00000000e+00\n",
      "  0.00000000e+00 0.00000000e+00 0.00000000e+00 0.00000000e+00\n",
      "  0.00000000e+00 0.00000000e+00 0.00000000e+00 0.00000000e+00\n",
      "  0.00000000e+00 0.00000000e+00 0.00000000e+00 0.00000000e+00\n",
      "  0.00000000e+00 0.00000000e+00 0.00000000e+00 0.00000000e+00\n",
      "  0.00000000e+00 0.00000000e+00 0.00000000e+00 0.00000000e+00\n",
      "  0.00000000e+00 0.00000000e+00 0.00000000e+00 0.00000000e+00\n",
      "  0.00000000e+00 0.00000000e+00 0.00000000e+00 0.00000000e+00\n",
      "  0.00000000e+00 0.00000000e+00 0.00000000e+00 0.00000000e+00\n",
      "  0.00000000e+00 0.00000000e+00 0.00000000e+00 0.00000000e+00\n",
      "  0.00000000e+00 0.00000000e+00 0.00000000e+00 0.00000000e+00\n",
      "  0.00000000e+00 0.00000000e+00 0.00000000e+00 0.00000000e+00\n",
      "  0.00000000e+00 0.00000000e+00 0.00000000e+00 0.00000000e+00\n",
      "  0.00000000e+00 0.00000000e+00 0.00000000e+00 0.00000000e+00\n",
      "  0.00000000e+00 0.00000000e+00 0.00000000e+00 0.00000000e+00\n",
      "  0.00000000e+00 0.00000000e+00 0.00000000e+00 0.00000000e+00\n",
      "  0.00000000e+00 0.00000000e+00 0.00000000e+00 0.00000000e+00\n",
      "  0.00000000e+00 0.00000000e+00 0.00000000e+00 0.00000000e+00\n",
      "  0.00000000e+00 0.00000000e+00 0.00000000e+00 0.00000000e+00\n",
      "  0.00000000e+00 0.00000000e+00 0.00000000e+00 0.00000000e+00\n",
      "  0.00000000e+00 0.00000000e+00 0.00000000e+00 0.00000000e+00\n",
      "  0.00000000e+00]] \n",
      "ew = [0.         0.         0.96373885 0.         0.         0.\n",
      " 0.        ]\n"
     ]
    },
    {
     "data": {
      "text/plain": [
       "<__main__.Schedule at 0x1a9221750>"
      ]
     },
     "execution_count": 204,
     "metadata": {},
     "output_type": "execute_result"
    }
   ],
   "source": [
    "\"\"\"\"Test case with validation in spreadsheet\n",
    "url: https://docs.google.com/spreadsheets/d/1_l9bMqEfLT2-TpZz3MrDFIid30ZsywTVH8Lzc5uHrGw/edit?usp=sharing\"\"\"\n",
    "x = np.array([1, 0, 1, 0, 1, 0, 1], dtype=np.int64)\n",
    "d = 3\n",
    "l = 6\n",
    "limit = calc_distr_limit(l * x.sum())+1\n",
    "service_times = range(0, limit)\n",
    "s = np.array([poisson.pmf(i, l) for i in service_times], dtype=np.float64)\n",
    "u = 2\n",
    "  \n",
    "run_schedule(x, d, s, u)"
   ]
  },
  {
   "cell_type": "code",
   "execution_count": null,
   "metadata": {},
   "outputs": [],
   "source": [
    "\"\"\"\"Test case with more than 1 clients in the system at the same time\n",
    "url: https://docs.google.com/spreadsheets/d/1_l9bMqEfLT2-TpZz3MrDFIid30ZsywTVH8Lzc5uHrGw/edit?usp=sharing\"\"\"\n",
    "x = np.array([2, 0, 1, 0, 1, 1, 1], dtype=np.int64)\n",
    "d = 5\n",
    "l = 6\n",
    "limit = calc_distr_limit(l * x.sum())+1\n",
    "service_times = range(0, limit)\n",
    "s = np.array([poisson.pmf(i, l) for i in service_times], dtype=np.float64)\n",
    "u = 1\n",
    "  \n",
    "schedule = run_schedule(x, d, s, u)\n",
    "\n"
   ]
  },
  {
   "cell_type": "code",
   "execution_count": 210,
   "metadata": {},
   "outputs": [
    {
     "data": {
      "application/vnd.plotly.v1+json": {
       "config": {
        "linkText": "Export to plot.ly",
        "plotlyServerURL": "https://plot.ly",
        "showLink": false
       },
       "data": [
        {
         "mode": "lines",
         "type": "scatter",
         "x": [
          0,
          1,
          2,
          3,
          4,
          5,
          6,
          7,
          8,
          9,
          10,
          11,
          12,
          13,
          14,
          15,
          16,
          17,
          18,
          19,
          20,
          21,
          22,
          23,
          24,
          25,
          26,
          27,
          28,
          29,
          30,
          31,
          32,
          33,
          34,
          35,
          36,
          37,
          38,
          39,
          40,
          41,
          42,
          43,
          44,
          45,
          46,
          47,
          48,
          49,
          50,
          51,
          52,
          53,
          54,
          55,
          56,
          57,
          58,
          59,
          60,
          61,
          62,
          63,
          64,
          65,
          66,
          67,
          68,
          69,
          70,
          71,
          72,
          73,
          74,
          75,
          76,
          77,
          78,
          79,
          80,
          81,
          82,
          83,
          84,
          85,
          86,
          87,
          88,
          89,
          90,
          91,
          92,
          93,
          94,
          95,
          96,
          97,
          98,
          99,
          100
         ],
         "y": [
          0.020341029416928367,
          0.025481277471722748,
          0.043682189951524696,
          0.06552328492728707,
          0.0873643799030494,
          0.1048372558836593,
          0.11436791550944649,
          0.11436791550944647,
          0.10557038354718133,
          0.09048890018329828,
          0.07239112014663861,
          0.054293340109978945,
          0.03832471066586749,
          0.02554980711057833,
          0.016136720280365262,
          0.00968203216821916,
          0.005532589810410948,
          0.0030177762602241536,
          0.0015744919618560804,
          0.0007872459809280401,
          0.00037787807084545917,
          0.000174405263467135,
          0.00007751345042983772,
          0.00003322005018421617,
          0.000013746227662434264,
          0.000005498491064973706,
          0.000002128448154183369,
          7.981680578187629e-7,
          2.902429301159137e-7,
          1.0243868121738125e-7,
          3.5121833560244993e-8,
          1.1707277853414994e-8,
          3.796954979485944e-9,
          1.1990384145745087e-9,
          3.6893489679215646e-10,
          1.1068046903764696e-10,
          3.2394283620774727e-11,
          9.25550960593564e-12,
          2.582932913284365e-12,
          7.044362490775549e-13,
          1.8784966642068142e-13,
          4.900426080539517e-14,
          1.251172616307963e-14,
          3.12793154076991e-15,
          7.660240508007949e-16,
          1.8384577219219095e-16,
          4.325782875110378e-17,
          9.98257586563934e-18,
          2.2602058563711735e-18,
          5.022679680824832e-19,
          1.0958573849072366e-19,
          2.3482658248012227e-20,
          4.943717525897312e-21,
          1.0228381088063407e-21,
          2.0803486958773035e-22,
          4.1606973917546075e-23,
          8.184978475582838e-24,
          1.5841893823708725e-24,
          3.0175035854683297e-25,
          5.657819222753119e-26,
          1.0445204718928837e-26,
          1.8991281307143343e-27,
          3.401423517697316e-28,
          6.002512090054088e-29,
          1.0439151460963633e-29,
          1.78956882187948e-30,
          3.024623360923065e-31,
          5.041038934871774e-32,
          8.286639344994695e-33,
          1.3437793532423825e-33,
          2.1500469651878104e-34,
          3.3948109976649634e-35,
          5.290614541815524e-36,
          8.139406987408492e-37,
          1.2363656183405296e-37,
          1.8545484275107927e-38,
          2.7474791518678393e-39,
          4.020701197855372e-40,
          5.813061972802942e-41,
          8.304374246861339e-42,
          1.1723822466157175e-42,
          1.6358822045800702e-43,
          2.256389247696647e-44,
          3.076894428677244e-45,
          4.148621701587293e-46,
          5.531495602116386e-47,
          7.294279914878749e-48,
          9.514278149841841e-49,
          1.2276487935279788e-49,
          1.5672112257803975e-50,
          1.9796352325647115e-51,
          2.474544040705888e-52,
          3.06129159674955e-53,
          3.748520322550467e-54,
          4.543660997030866e-55,
          5.452393196437034e-56,
          0,
          0,
          0,
          0,
          0
         ]
        }
       ],
       "layout": {
        "template": {
         "data": {
          "bar": [
           {
            "error_x": {
             "color": "#2a3f5f"
            },
            "error_y": {
             "color": "#2a3f5f"
            },
            "marker": {
             "line": {
              "color": "#E5ECF6",
              "width": 0.5
             },
             "pattern": {
              "fillmode": "overlay",
              "size": 10,
              "solidity": 0.2
             }
            },
            "type": "bar"
           }
          ],
          "barpolar": [
           {
            "marker": {
             "line": {
              "color": "#E5ECF6",
              "width": 0.5
             },
             "pattern": {
              "fillmode": "overlay",
              "size": 10,
              "solidity": 0.2
             }
            },
            "type": "barpolar"
           }
          ],
          "carpet": [
           {
            "aaxis": {
             "endlinecolor": "#2a3f5f",
             "gridcolor": "white",
             "linecolor": "white",
             "minorgridcolor": "white",
             "startlinecolor": "#2a3f5f"
            },
            "baxis": {
             "endlinecolor": "#2a3f5f",
             "gridcolor": "white",
             "linecolor": "white",
             "minorgridcolor": "white",
             "startlinecolor": "#2a3f5f"
            },
            "type": "carpet"
           }
          ],
          "choropleth": [
           {
            "colorbar": {
             "outlinewidth": 0,
             "ticks": ""
            },
            "type": "choropleth"
           }
          ],
          "contour": [
           {
            "colorbar": {
             "outlinewidth": 0,
             "ticks": ""
            },
            "colorscale": [
             [
              0,
              "#0d0887"
             ],
             [
              0.1111111111111111,
              "#46039f"
             ],
             [
              0.2222222222222222,
              "#7201a8"
             ],
             [
              0.3333333333333333,
              "#9c179e"
             ],
             [
              0.4444444444444444,
              "#bd3786"
             ],
             [
              0.5555555555555556,
              "#d8576b"
             ],
             [
              0.6666666666666666,
              "#ed7953"
             ],
             [
              0.7777777777777778,
              "#fb9f3a"
             ],
             [
              0.8888888888888888,
              "#fdca26"
             ],
             [
              1,
              "#f0f921"
             ]
            ],
            "type": "contour"
           }
          ],
          "contourcarpet": [
           {
            "colorbar": {
             "outlinewidth": 0,
             "ticks": ""
            },
            "type": "contourcarpet"
           }
          ],
          "heatmap": [
           {
            "colorbar": {
             "outlinewidth": 0,
             "ticks": ""
            },
            "colorscale": [
             [
              0,
              "#0d0887"
             ],
             [
              0.1111111111111111,
              "#46039f"
             ],
             [
              0.2222222222222222,
              "#7201a8"
             ],
             [
              0.3333333333333333,
              "#9c179e"
             ],
             [
              0.4444444444444444,
              "#bd3786"
             ],
             [
              0.5555555555555556,
              "#d8576b"
             ],
             [
              0.6666666666666666,
              "#ed7953"
             ],
             [
              0.7777777777777778,
              "#fb9f3a"
             ],
             [
              0.8888888888888888,
              "#fdca26"
             ],
             [
              1,
              "#f0f921"
             ]
            ],
            "type": "heatmap"
           }
          ],
          "heatmapgl": [
           {
            "colorbar": {
             "outlinewidth": 0,
             "ticks": ""
            },
            "colorscale": [
             [
              0,
              "#0d0887"
             ],
             [
              0.1111111111111111,
              "#46039f"
             ],
             [
              0.2222222222222222,
              "#7201a8"
             ],
             [
              0.3333333333333333,
              "#9c179e"
             ],
             [
              0.4444444444444444,
              "#bd3786"
             ],
             [
              0.5555555555555556,
              "#d8576b"
             ],
             [
              0.6666666666666666,
              "#ed7953"
             ],
             [
              0.7777777777777778,
              "#fb9f3a"
             ],
             [
              0.8888888888888888,
              "#fdca26"
             ],
             [
              1,
              "#f0f921"
             ]
            ],
            "type": "heatmapgl"
           }
          ],
          "histogram": [
           {
            "marker": {
             "pattern": {
              "fillmode": "overlay",
              "size": 10,
              "solidity": 0.2
             }
            },
            "type": "histogram"
           }
          ],
          "histogram2d": [
           {
            "colorbar": {
             "outlinewidth": 0,
             "ticks": ""
            },
            "colorscale": [
             [
              0,
              "#0d0887"
             ],
             [
              0.1111111111111111,
              "#46039f"
             ],
             [
              0.2222222222222222,
              "#7201a8"
             ],
             [
              0.3333333333333333,
              "#9c179e"
             ],
             [
              0.4444444444444444,
              "#bd3786"
             ],
             [
              0.5555555555555556,
              "#d8576b"
             ],
             [
              0.6666666666666666,
              "#ed7953"
             ],
             [
              0.7777777777777778,
              "#fb9f3a"
             ],
             [
              0.8888888888888888,
              "#fdca26"
             ],
             [
              1,
              "#f0f921"
             ]
            ],
            "type": "histogram2d"
           }
          ],
          "histogram2dcontour": [
           {
            "colorbar": {
             "outlinewidth": 0,
             "ticks": ""
            },
            "colorscale": [
             [
              0,
              "#0d0887"
             ],
             [
              0.1111111111111111,
              "#46039f"
             ],
             [
              0.2222222222222222,
              "#7201a8"
             ],
             [
              0.3333333333333333,
              "#9c179e"
             ],
             [
              0.4444444444444444,
              "#bd3786"
             ],
             [
              0.5555555555555556,
              "#d8576b"
             ],
             [
              0.6666666666666666,
              "#ed7953"
             ],
             [
              0.7777777777777778,
              "#fb9f3a"
             ],
             [
              0.8888888888888888,
              "#fdca26"
             ],
             [
              1,
              "#f0f921"
             ]
            ],
            "type": "histogram2dcontour"
           }
          ],
          "mesh3d": [
           {
            "colorbar": {
             "outlinewidth": 0,
             "ticks": ""
            },
            "type": "mesh3d"
           }
          ],
          "parcoords": [
           {
            "line": {
             "colorbar": {
              "outlinewidth": 0,
              "ticks": ""
             }
            },
            "type": "parcoords"
           }
          ],
          "pie": [
           {
            "automargin": true,
            "type": "pie"
           }
          ],
          "scatter": [
           {
            "fillpattern": {
             "fillmode": "overlay",
             "size": 10,
             "solidity": 0.2
            },
            "type": "scatter"
           }
          ],
          "scatter3d": [
           {
            "line": {
             "colorbar": {
              "outlinewidth": 0,
              "ticks": ""
             }
            },
            "marker": {
             "colorbar": {
              "outlinewidth": 0,
              "ticks": ""
             }
            },
            "type": "scatter3d"
           }
          ],
          "scattercarpet": [
           {
            "marker": {
             "colorbar": {
              "outlinewidth": 0,
              "ticks": ""
             }
            },
            "type": "scattercarpet"
           }
          ],
          "scattergeo": [
           {
            "marker": {
             "colorbar": {
              "outlinewidth": 0,
              "ticks": ""
             }
            },
            "type": "scattergeo"
           }
          ],
          "scattergl": [
           {
            "marker": {
             "colorbar": {
              "outlinewidth": 0,
              "ticks": ""
             }
            },
            "type": "scattergl"
           }
          ],
          "scattermapbox": [
           {
            "marker": {
             "colorbar": {
              "outlinewidth": 0,
              "ticks": ""
             }
            },
            "type": "scattermapbox"
           }
          ],
          "scatterpolar": [
           {
            "marker": {
             "colorbar": {
              "outlinewidth": 0,
              "ticks": ""
             }
            },
            "type": "scatterpolar"
           }
          ],
          "scatterpolargl": [
           {
            "marker": {
             "colorbar": {
              "outlinewidth": 0,
              "ticks": ""
             }
            },
            "type": "scatterpolargl"
           }
          ],
          "scatterternary": [
           {
            "marker": {
             "colorbar": {
              "outlinewidth": 0,
              "ticks": ""
             }
            },
            "type": "scatterternary"
           }
          ],
          "surface": [
           {
            "colorbar": {
             "outlinewidth": 0,
             "ticks": ""
            },
            "colorscale": [
             [
              0,
              "#0d0887"
             ],
             [
              0.1111111111111111,
              "#46039f"
             ],
             [
              0.2222222222222222,
              "#7201a8"
             ],
             [
              0.3333333333333333,
              "#9c179e"
             ],
             [
              0.4444444444444444,
              "#bd3786"
             ],
             [
              0.5555555555555556,
              "#d8576b"
             ],
             [
              0.6666666666666666,
              "#ed7953"
             ],
             [
              0.7777777777777778,
              "#fb9f3a"
             ],
             [
              0.8888888888888888,
              "#fdca26"
             ],
             [
              1,
              "#f0f921"
             ]
            ],
            "type": "surface"
           }
          ],
          "table": [
           {
            "cells": {
             "fill": {
              "color": "#EBF0F8"
             },
             "line": {
              "color": "white"
             }
            },
            "header": {
             "fill": {
              "color": "#C8D4E3"
             },
             "line": {
              "color": "white"
             }
            },
            "type": "table"
           }
          ]
         },
         "layout": {
          "annotationdefaults": {
           "arrowcolor": "#2a3f5f",
           "arrowhead": 0,
           "arrowwidth": 1
          },
          "autotypenumbers": "strict",
          "coloraxis": {
           "colorbar": {
            "outlinewidth": 0,
            "ticks": ""
           }
          },
          "colorscale": {
           "diverging": [
            [
             0,
             "#8e0152"
            ],
            [
             0.1,
             "#c51b7d"
            ],
            [
             0.2,
             "#de77ae"
            ],
            [
             0.3,
             "#f1b6da"
            ],
            [
             0.4,
             "#fde0ef"
            ],
            [
             0.5,
             "#f7f7f7"
            ],
            [
             0.6,
             "#e6f5d0"
            ],
            [
             0.7,
             "#b8e186"
            ],
            [
             0.8,
             "#7fbc41"
            ],
            [
             0.9,
             "#4d9221"
            ],
            [
             1,
             "#276419"
            ]
           ],
           "sequential": [
            [
             0,
             "#0d0887"
            ],
            [
             0.1111111111111111,
             "#46039f"
            ],
            [
             0.2222222222222222,
             "#7201a8"
            ],
            [
             0.3333333333333333,
             "#9c179e"
            ],
            [
             0.4444444444444444,
             "#bd3786"
            ],
            [
             0.5555555555555556,
             "#d8576b"
            ],
            [
             0.6666666666666666,
             "#ed7953"
            ],
            [
             0.7777777777777778,
             "#fb9f3a"
            ],
            [
             0.8888888888888888,
             "#fdca26"
            ],
            [
             1,
             "#f0f921"
            ]
           ],
           "sequentialminus": [
            [
             0,
             "#0d0887"
            ],
            [
             0.1111111111111111,
             "#46039f"
            ],
            [
             0.2222222222222222,
             "#7201a8"
            ],
            [
             0.3333333333333333,
             "#9c179e"
            ],
            [
             0.4444444444444444,
             "#bd3786"
            ],
            [
             0.5555555555555556,
             "#d8576b"
            ],
            [
             0.6666666666666666,
             "#ed7953"
            ],
            [
             0.7777777777777778,
             "#fb9f3a"
            ],
            [
             0.8888888888888888,
             "#fdca26"
            ],
            [
             1,
             "#f0f921"
            ]
           ]
          },
          "colorway": [
           "#636efa",
           "#EF553B",
           "#00cc96",
           "#ab63fa",
           "#FFA15A",
           "#19d3f3",
           "#FF6692",
           "#B6E880",
           "#FF97FF",
           "#FECB52"
          ],
          "font": {
           "color": "#2a3f5f"
          },
          "geo": {
           "bgcolor": "white",
           "lakecolor": "white",
           "landcolor": "#E5ECF6",
           "showlakes": true,
           "showland": true,
           "subunitcolor": "white"
          },
          "hoverlabel": {
           "align": "left"
          },
          "hovermode": "closest",
          "mapbox": {
           "style": "light"
          },
          "paper_bgcolor": "white",
          "plot_bgcolor": "#E5ECF6",
          "polar": {
           "angularaxis": {
            "gridcolor": "white",
            "linecolor": "white",
            "ticks": ""
           },
           "bgcolor": "#E5ECF6",
           "radialaxis": {
            "gridcolor": "white",
            "linecolor": "white",
            "ticks": ""
           }
          },
          "scene": {
           "xaxis": {
            "backgroundcolor": "#E5ECF6",
            "gridcolor": "white",
            "gridwidth": 2,
            "linecolor": "white",
            "showbackground": true,
            "ticks": "",
            "zerolinecolor": "white"
           },
           "yaxis": {
            "backgroundcolor": "#E5ECF6",
            "gridcolor": "white",
            "gridwidth": 2,
            "linecolor": "white",
            "showbackground": true,
            "ticks": "",
            "zerolinecolor": "white"
           },
           "zaxis": {
            "backgroundcolor": "#E5ECF6",
            "gridcolor": "white",
            "gridwidth": 2,
            "linecolor": "white",
            "showbackground": true,
            "ticks": "",
            "zerolinecolor": "white"
           }
          },
          "shapedefaults": {
           "line": {
            "color": "#2a3f5f"
           }
          },
          "ternary": {
           "aaxis": {
            "gridcolor": "white",
            "linecolor": "white",
            "ticks": ""
           },
           "baxis": {
            "gridcolor": "white",
            "linecolor": "white",
            "ticks": ""
           },
           "bgcolor": "#E5ECF6",
           "caxis": {
            "gridcolor": "white",
            "linecolor": "white",
            "ticks": ""
           }
          },
          "title": {
           "x": 0.05
          },
          "xaxis": {
           "automargin": true,
           "gridcolor": "white",
           "linecolor": "white",
           "ticks": "",
           "title": {
            "standoff": 15
           },
           "zerolinecolor": "white",
           "zerolinewidth": 2
          },
          "yaxis": {
           "automargin": true,
           "gridcolor": "white",
           "linecolor": "white",
           "ticks": "",
           "title": {
            "standoff": 15
           },
           "zerolinecolor": "white",
           "zerolinewidth": 2
          }
         }
        },
        "title": {
         "text": "p_plus in state 1"
        },
        "xaxis": {
         "title": {
          "text": "Total amount of work in the system"
         }
        },
        "yaxis": {
         "title": {
          "text": "Probability"
         }
        }
       }
      }
     },
     "metadata": {},
     "output_type": "display_data"
    }
   ],
   "source": [
    "schedule.visualize_p_plus()"
   ]
  }
 ],
 "metadata": {
  "kernelspec": {
   "display_name": "scheduling",
   "language": "python",
   "name": "python3"
  },
  "language_info": {
   "codemirror_mode": {
    "name": "ipython",
    "version": 3
   },
   "file_extension": ".py",
   "mimetype": "text/x-python",
   "name": "python",
   "nbconvert_exporter": "python",
   "pygments_lexer": "ipython3",
   "version": "3.11.3"
  },
  "orig_nbformat": 4
 },
 "nbformat": 4,
 "nbformat_minor": 2
}
