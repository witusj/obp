{
 "cells": [
  {
   "cell_type": "code",
   "execution_count": 2,
   "metadata": {},
   "outputs": [],
   "source": [
    "import numpy as np"
   ]
  },
  {
   "attachments": {},
   "cell_type": "markdown",
   "metadata": {},
   "source": [
    "A schedule with T intervals can have T states. A state of a schedule at interval T is defined by $p^-_t(i)$, the amount of work left at the end of the state at interval $t-1$ and $v_t(i)$, the arriving amount of work in interval $t$."
   ]
  },
  {
   "cell_type": "code",
   "execution_count": 41,
   "metadata": {},
   "outputs": [
    {
     "data": {
      "text/plain": [
       "{'p_min': array([[1., 0., 0., 0., 0., 0.],\n",
       "        [0., 0., 0., 0., 0., 0.],\n",
       "        [0., 0., 0., 0., 0., 0.]]),\n",
       " 'v': array([[0.1 , 0.2 , 0.3 , 0.2 , 0.15, 0.05],\n",
       "        [0.  , 0.  , 0.  , 0.  , 0.  , 0.  ],\n",
       "        [0.  , 0.  , 0.  , 0.  , 0.  , 0.  ]]),\n",
       " 'p_plus': array([[0.1 , 0.2 , 0.3 , 0.2 , 0.15, 0.05],\n",
       "        [0.  , 0.  , 0.  , 0.  , 0.  , 0.  ],\n",
       "        [0.  , 0.  , 0.  , 0.  , 0.  , 0.  ]])}"
      ]
     },
     "execution_count": 41,
     "metadata": {},
     "output_type": "execute_result"
    }
   ],
   "source": [
    "# a schedule class with a constructor and a method to print the schedule\n",
    "class Schedule:\n",
    "    def __init__(self, x, d, s):\n",
    "        self.parameters = dict({'x': x, 'd': d, 's': s})\n",
    "        self.system = dict({\n",
    "            'p_min': np.zeros((len(self.parameters['x']), len(self.parameters['s']))),\n",
    "            'v': np.zeros((len(self.parameters['x']), len(self.parameters['s'])))\n",
    "        })\n",
    "        self.system['p_min'][0][0] = 1\n",
    "        self.system['v'][0] = self.parameters['s']\n",
    "        self.system['p_plus'] = self.system['v']\n",
    "        self.state = 0 # 0: initial state\n",
    "\n",
    "schedule = Schedule(x = np.array([1, 0, 2]), d=10, s=np.array([0.1, 0.2, 0.3, 0.2, 0.15, 0.05])) \n",
    "schedule.system\n"
   ]
  }
 ],
 "metadata": {
  "kernelspec": {
   "display_name": "scheduling",
   "language": "python",
   "name": "python3"
  },
  "language_info": {
   "codemirror_mode": {
    "name": "ipython",
    "version": 3
   },
   "file_extension": ".py",
   "mimetype": "text/x-python",
   "name": "python",
   "nbconvert_exporter": "python",
   "pygments_lexer": "ipython3",
   "version": "3.11.3"
  },
  "orig_nbformat": 4
 },
 "nbformat": 4,
 "nbformat_minor": 2
}
