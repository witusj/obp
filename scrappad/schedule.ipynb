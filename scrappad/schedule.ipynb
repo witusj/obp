{
 "cells": [
  {
   "cell_type": "code",
   "execution_count": 23,
   "metadata": {},
   "outputs": [
    {
     "name": "stderr",
     "output_type": "stream",
     "text": [
      ".\n",
      "----------------------------------------------------------------------\n",
      "Ran 1 test in 0.002s\n",
      "\n",
      "OK\n"
     ]
    }
   ],
   "source": [
    "import numpy as np\n",
    "from scipy.stats import poisson\n",
    "import plotly.graph_objs as go\n",
    "import plotly.offline as pyo\n",
    "import unittest\n",
    "\n",
    "# \"\"\"\n",
    "# Function to calculate the convolution of two arrays.\n",
    "# \n",
    "# Args:\n",
    "#     a (numpy.ndarray): The first array to be convolved.\n",
    "#     b (numpy.ndarray): The second array to be convolved.\n",
    "# \n",
    "# Returns:\n",
    "#     numpy.ndarray: The convolution of the two input arrays.\n",
    "# \"\"\"\n",
    "def convolve(a, b):\n",
    "    \n",
    "    # Initialize an empty array to store the result.\n",
    "    c = np.array([])\n",
    "    \n",
    "    # Compute the convolution of the two arrays.\n",
    "    for i in range(len(a)):\n",
    "        # Get subsets of array expanded to the right.\n",
    "        a_sub = a[0:i + 1].copy()\n",
    "        b_sub = b[0:i + 1].copy()\n",
    "        # Reverse b.\n",
    "        b_rev = b_sub[::-1]\n",
    "        # Compute the dot product of a and b_rev.\n",
    "        c = np.append(c, np.dot(a_sub, b_rev))\n",
    "    \n",
    "    for i in range(1,len(a)):\n",
    "        # Get subsets of array collapse from the right.\n",
    "        a_sub = a[i:].copy()\n",
    "        b_sub = b[i:].copy()\n",
    "        # Reverse b.\n",
    "        b_rev = b_sub[::-1]\n",
    "        # Compute the dot product of a and b_rev.\n",
    "        c = np.append(c, np.dot(a_sub, b_rev))\n",
    "        \n",
    "    return c\n",
    "\n",
    "\n",
    "# \"\"\"\n",
    "# Function to convolve a distribution with itself n times.\n",
    "# \n",
    "# Args:\n",
    "#     a (numpy.ndarray): The distribution to be convolved.\n",
    "#     n (int): The number of times to convolve the distribution with itself.\n",
    "# \n",
    "# Returns:\n",
    "#     numpy.ndarray: The convolution of the input distribution with itself n times.\n",
    "# \"\"\"\n",
    "def convolve_n(a, n):\n",
    "        \n",
    "    # Initialize an empty array to store the result.\n",
    "    c = np.array([])\n",
    "    \n",
    "    # If n is 0, return an array of zeros with length equal to the length of a, except for the first element which is 1.\n",
    "    if n == 0:\n",
    "        c = np.array(np.zeros(len(a)), dtype=np.float64)\n",
    "        c[0] = 1\n",
    "        return c\n",
    "    \n",
    "    # Convolve the distribution with itself n times.\n",
    "    for i in range(n):\n",
    "        # If this is the first iteration, set c equal to a.\n",
    "        if i == 0:\n",
    "            c = a\n",
    "        # Otherwise, convolve c with a.\n",
    "        else:\n",
    "            c = np.convolve(c, a)\n",
    "            \n",
    "    return c\n",
    "# \n",
    "# \"\"\"\n",
    "# Function to create an array of zero arrays according to a given shape array.\n",
    "# \n",
    "# Args:\n",
    "#      num_zeros (numpy.ndarray): The shape array.\n",
    "#      l (int): The length of the zeros array.\n",
    "#  \n",
    "# Returns:\n",
    "#      numpy.ndarray: The convolution of the input distribution with itself n times.\n",
    "# \"\"\"\n",
    "\n",
    "def zero_arrays(num_zeros, l):\n",
    "    result = []\n",
    "    for n in num_zeros:\n",
    "        zeros = np.zeros(l)\n",
    "        result.append([zeros] * n)\n",
    "    return result\n",
    "\n",
    "zero_arrays(np.array([1, 0, 3]), 4)\n",
    "\n",
    "\n",
    "def calc_distr_limit(l):\n",
    "    return int(max(l+4*l**0.5, 100))\n",
    "\n",
    "\n",
    "class TestConvolve(unittest.TestCase):\n",
    "    \n",
    "    def test_convolve(self):\n",
    "        a = np.array([\n",
    "            0.4456796414,\n",
    "            0.160623141,\n",
    "            0.137676978,\n",
    "            0.1032577335])\n",
    "\n",
    "        b = np.array([\n",
    "            0.006737946999,\n",
    "            0.033689735,\n",
    "            0.08422433749,\n",
    "            0.1403738958])\n",
    "\n",
    "        expected_output = np.convolve(a, b)\n",
    "        \n",
    "        self.assertTrue(np.allclose(convolve(a, b), expected_output))\n",
    "        \n",
    "if __name__ == '__main__':\n",
    "    unittest.main(argv=['first-arg-is-ignored'], exit=False)"
   ]
  },
  {
   "attachments": {},
   "cell_type": "markdown",
   "metadata": {},
   "source": [
    "A schedule with T intervals can have T states. A state of a schedule at interval T is defined by $p^-_t(i)$, the amount of work left at the end of the state at interval $t-1$ and $v_t(i)$, the arriving amount of work in interval $t$."
   ]
  },
  {
   "cell_type": "code",
   "execution_count": 24,
   "metadata": {},
   "outputs": [],
   "source": [
    "\n",
    "\"\"\"\n",
    "A schedule class with a constructor and a method to calculate the system states.\n",
    "\"\"\"\n",
    "class Schedule:\n",
    "    def __init__(self, x, d, s):\n",
    "            # Initialize the parameters dictionary with x, d, and s.\n",
    "            self.parameters = dict({'x': x, 'd': d, 's': s})\n",
    "            # Initialize the system dictionary with p_min and v.\n",
    "            self.system = dict({\n",
    "                'p_min': np.zeros((len(self.parameters['x']), len(self.parameters['s'])), dtype=np.float64),\n",
    "                'v': np.zeros((len(self.parameters['x']), len(self.parameters['s'])), dtype=np.float64)\n",
    "            })\n",
    "            # Set the initial state to 0.\n",
    "            self.state = 0\n",
    "            # Set the first element of p_min in the initial state to 1.\n",
    "            self.system['p_min'][self.state][0] = 1\n",
    "            # Set the first row of v to s.\n",
    "            self.system['v'][self.state] = convolve_n(self.parameters['s'].copy(), self.parameters['x'][self.state])[:(len(self.parameters['s']))]\n",
    "            # Set p_plus to v.\n",
    "            self.system['p_plus'] = self.system['v'].copy()\n",
    "            # Initialize array of arrays for saving waiting times distributions per patient\n",
    "            self.system['w'] = zero_arrays(self.parameters['x'].copy(), len(self.parameters['s']))\n",
    "            # Initializ array for saving total expected waiting times per state\n",
    "            self.system['ew'] = np.zeros(len(self.parameters['x']), dtype=np.float64)\n",
    "        \n",
    "    def calculate_system_states(self, until = 1):\n",
    "\n",
    "            while self.state < until:\n",
    "                \"\"\"Set state to 1, because state 0 has already been calculated in the constructor.\"\"\"\n",
    "                \n",
    "                self.state += 1\n",
    "                \n",
    "                \"\"\"The probability that the amount of work left in the system equals zero just before state t starts is the probablity that the total amount work in state t-1 was less than or equal to the interval length d.\"\"\"\n",
    "                \n",
    "                self.system['p_min'][self.state][0] = np.sum(self.system['p_plus'][self.state-1][:(self.parameters['d'] + 1)])\n",
    "                \n",
    "                \"\"\"The probability that the amount of work left in the system equals i just before state t starts is the probablity that the total amount work in state t-1 exceeded the interval length d with amount i.\"\"\"\n",
    "                \n",
    "                self.system['p_min'][self.state][1:(-1*self.parameters['d'])] = self.system['p_plus'][self.state-1][(self.parameters['d'] + 1):]\n",
    "                \n",
    "                \"\"\"Service time distribution are calculated as n times convolutions, where n is the number of clients scheduled. The resulting vector is truncated to the length of the service time distribution.\"\"\"\n",
    "                self.system['v'][self.state] = convolve_n(self.parameters['s'].copy(), self.parameters['x'][self.state])[:(len(self.parameters['s']))]\n",
    "                \n",
    "                \"\"\"The probablitity that the amount of work left in the system equals i just before state t ends equals the convolution of the probability that the amount of work left in the system equals i just before state t starts and the service time distribution. The resulting vector is truncated to the length of the service time distribution.\"\"\"\n",
    "                self.system['p_plus'][self.state] = np.convolve(self.system['p_min'][self.state], self.system['v'][self.state])[:(len(self.parameters['s']))]\n",
    "    \n",
    "    def calculate_wait_times(self, until = 1):\n",
    "    # Initialize time counter\n",
    "      t = 0\n",
    "    # Loop until the specified time limit is reached\n",
    "      while t < until:\n",
    "          # Check if there are any patients arriving at time t\n",
    "          if self.parameters['x'][t] > 0:\n",
    "              # For the first patient, the waiting time distribution is the same as the service time distribution\n",
    "              self.system['w'][t][0] = self.system['p_min'][t].copy()\n",
    "\n",
    "              # For subsequent patients, the waiting time distribution is the convolution of the waiting time\n",
    "              # distribution of the previous patient with the service time distribution\n",
    "              for i in range(1, self.parameters['x'][t]):\n",
    "                  w_prev = self.system['w'][t][i - 1].copy()\n",
    "                  self.system['w'][t][i] = np.convolve(w_prev, self.parameters['s'].copy())[:len(self.parameters['s'])]\n",
    "          # Increment the time counter\n",
    "          t += 1\n",
    "      # Calculate the expected waiting time for each time step\n",
    "      for t, w in enumerate(self.system['w']):\n",
    "          ew = 0\n",
    "          for i in w:\n",
    "              # Calculate the weighted sum of the waiting time distribution\n",
    "              a = range(len(i))\n",
    "              b = i\n",
    "              wt = np.dot(a, b)\n",
    "              ew += wt\n",
    "          # Store the expected waiting time for the current time step\n",
    "          self.system['ew'][t] = ew\n",
    "        \n",
    "        \n",
    "    def visualize_p_plus(self):\n",
    "        \"\"\"\n",
    "        Visualize p_plus in the last calculated state.\n",
    "        \"\"\"\n",
    "        \n",
    "        trace = go.Scatter(\n",
    "            x=list(range(len(self.system['p_plus'][self.state]))),\n",
    "            y=self.system['p_plus'][self.state],\n",
    "            mode='lines'\n",
    "        )\n",
    "        \n",
    "        data = [trace]\n",
    "        \n",
    "        layout = go.Layout(\n",
    "            title=f'p_plus in state {self.state}',\n",
    "            xaxis=dict(title='Total amount of work in the system'),\n",
    "            yaxis=dict(title='Probability')\n",
    "        )\n",
    "        \n",
    "        fig = go.Figure(data=data, layout=layout)\n",
    "        pyo.iplot(fig)\n",
    "        \n",
    "    def __str__(self):\n",
    "        \"\"\"\n",
    "        Print all probabilities\n",
    "        \"\"\"\n",
    "        return(\"p_min = % s \\nv = % s \\np_plus = % s \\nw = % s \\new = % s\" % (self.system['p_min'], self.system['v'], self.system['p_plus'], self.system['w'], self.system['ew']))"
   ]
  },
  {
   "attachments": {},
   "cell_type": "markdown",
   "metadata": {},
   "source": [
    "The code above defines a `Schedule` class that has a constructor and a method to calculate the system states. The constructor initializes the class with three parameters: `x`, `d`, and `s`. These parameters are stored in a dictionary called `parameters`. The constructor also initializes two dictionaries called `system` and `state`. The `system` dictionary contains two numpy arrays called `p_min` and `v`. The `state` dictionary contains a single integer value that is initialized to 0.\n",
    "\n",
    "The `calculate_system_states` method takes an optional parameter called `until` that defaults to 1. This method calculates the system states until the specified `until` value is reached. The method uses a while loop to iterate over the states until the `until` value is reached. The first step in the loop is to increment the `state` value by 1. \n",
    "\n",
    "The next step is to calculate the probability that the amount of work left in the system equals zero just before state `t` starts. This is done by summing the probability of all the previous states that have a total amount of work less than or equal to the interval length `d`. The result is stored in the `p_min` array.\n",
    "\n",
    "The next step is to calculate the probability that the amount of work left in the system equals `i` just before state `t` starts. This is done by taking the probability of all the previous states that have a total amount of work greater than the interval length `d` with an amount of `i`. The result is stored in the `p_min` array.\n",
    "\n",
    "The next step is to calculate the service time distribution. This is done by taking the convolution of the service time distribution `s` with the number of clients scheduled `x` for the current state. The result is stored in the `v` array.\n",
    "\n",
    "The final step is to calculate the probability that the amount of work left in the system equals `i` just before state `t` ends. This is done by taking the convolution of the probability that the amount of work left in the system equals `i` just before state `t` starts and the service time distribution. The result is stored in the `p_plus` array.\n",
    "\n",
    "Overall, this code is well-organized and easy to read. However, there are a few ways to improve the code's readability and performance. For example, the `parameters` dictionary could be replaced with individual variables to make the code more readable. Additionally, the `convolve_n` function used in the code could be replaced with a more efficient implementation to improve performance. Finally, the comments in the code could be improved to provide more context and explanation for the calculations being performed."
   ]
  },
  {
   "cell_type": "code",
   "execution_count": 25,
   "metadata": {},
   "outputs": [],
   "source": [
    "def run_schedule(x, d, s, u=1):\n",
    "  schedule = Schedule(x=x, d=d, s=s)\n",
    "  schedule.calculate_system_states(until=u)\n",
    "  schedule.calculate_wait_times(until=u)\n",
    "  print(schedule)\n",
    "  return(schedule)"
   ]
  },
  {
   "cell_type": "code",
   "execution_count": 26,
   "metadata": {},
   "outputs": [
    {
     "name": "stdout",
     "output_type": "stream",
     "text": [
      "p_min = [[1.         0.         0.         0.         0.         0.\n",
      "  0.         0.         0.         0.         0.         0.\n",
      "  0.         0.        ]\n",
      " [0.31       0.2        0.19       0.15       0.09       0.0425\n",
      "  0.015      0.0025     0.         0.         0.         0.\n",
      "  0.         0.        ]\n",
      " [0.85       0.09       0.0425     0.015      0.0025     0.\n",
      "  0.         0.         0.         0.         0.         0.\n",
      "  0.         0.        ]\n",
      " [0.0691325  0.08326    0.124165   0.15440625 0.16200125 0.14572875\n",
      "  0.11234375 0.07456313 0.04231    0.02028188 0.00818    0.\n",
      "  0.         0.        ]\n",
      " [0.15795213 0.11135275 0.13407363 0.1426495  0.13541313 0.114013\n",
      "  0.08528725 0.056618   0.03298422 0.01658503 0.00679378 0.\n",
      "  0.         0.        ]] \n",
      "v = [[0.01     0.04     0.1      0.16     0.2      0.19     0.15     0.09\n",
      "  0.0425   0.015    0.0025   0.       0.       0.      ]\n",
      " [1.       0.       0.       0.       0.       0.       0.       0.\n",
      "  0.       0.       0.       0.       0.       0.      ]\n",
      " [0.001    0.006    0.021    0.05     0.0915   0.1335   0.162    0.165\n",
      "  0.14325  0.1055   0.066    0.0345   0.014625 0.004875]\n",
      " [0.1      0.2      0.3      0.2      0.15     0.05     0.       0.\n",
      "  0.       0.       0.       0.       0.       0.      ]\n",
      " [0.1      0.2      0.3      0.2      0.15     0.05     0.       0.\n",
      "  0.       0.       0.       0.       0.       0.      ]] \n",
      "p_plus = [[0.01       0.04       0.1        0.16       0.2        0.19\n",
      "  0.15       0.09       0.0425     0.015      0.0025     0.\n",
      "  0.         0.        ]\n",
      " [0.31       0.2        0.19       0.15       0.09       0.0425\n",
      "  0.015      0.0025     0.         0.         0.         0.\n",
      "  0.         0.        ]\n",
      " [0.00085    0.00519    0.0184325  0.04466    0.08326    0.124165\n",
      "  0.15440625 0.16200125 0.14572875 0.11234375 0.07456313 0.04231\n",
      "  0.02028188 0.00818   ]\n",
      " [0.00691325 0.0221525  0.04980825 0.07907813 0.11135275 0.13407363\n",
      "  0.1426495  0.13541313 0.114013   0.08528725 0.056618   0.03298422\n",
      "  0.01658503 0.00679378]\n",
      " [0.01579521 0.0427257  0.08306355 0.10607593 0.12825667 0.13269402\n",
      "  0.12616384 0.11210688 0.09045524 0.0661708  0.04370899 0.02568817\n",
      "  0.01313367 0.00549572]] \n",
      "w = [[array([1., 0., 0., 0., 0., 0., 0., 0., 0., 0., 0., 0., 0., 0.]), array([0.1 , 0.2 , 0.3 , 0.2 , 0.15, 0.05, 0.  , 0.  , 0.  , 0.  , 0.  ,\n",
      "       0.  , 0.  , 0.  ])], [], [array([0.85  , 0.09  , 0.0425, 0.015 , 0.0025, 0.    , 0.    , 0.    ,\n",
      "       0.    , 0.    , 0.    , 0.    , 0.    , 0.    ]), array([8.5000e-02, 1.7900e-01, 2.7725e-01, 2.0700e-01, 1.6150e-01,\n",
      "       6.9500e-02, 1.4625e-02, 4.8750e-03, 1.1250e-03, 1.2500e-04,\n",
      "       0.0000e+00, 0.0000e+00, 0.0000e+00, 0.0000e+00]), array([8.50000e-03, 3.49000e-02, 8.90250e-02, 1.46850e-01, 1.89275e-01,\n",
      "       1.87900e-01, 1.55750e-01, 1.01475e-01, 5.39500e-02, 2.31250e-02,\n",
      "       7.00625e-03, 1.72500e-03, 4.37500e-04, 7.50000e-05])], [array([0.0691325 , 0.08326   , 0.124165  , 0.15440625, 0.16200125,\n",
      "       0.14572875, 0.11234375, 0.07456313, 0.04231   , 0.02028188,\n",
      "       0.00818   , 0.        , 0.        , 0.        ])], [array([0., 0., 0., 0., 0., 0., 0., 0., 0., 0., 0., 0., 0., 0.])]] \n",
      "ew = [2.25       0.         7.4399125  3.97027875 0.        ]\n"
     ]
    },
    {
     "data": {
      "text/plain": [
       "<__main__.Schedule at 0x11b69ef90>"
      ]
     },
     "execution_count": 26,
     "metadata": {},
     "output_type": "execute_result"
    }
   ],
   "source": [
    "\"\"\"Simple test case\"\"\"\n",
    "\n",
    "x = np.array([2, 0, 3, 1, 1], dtype=np.int64)\n",
    "d = 3\n",
    "s=np.array(\n",
    "    [0.1, 0.2, 0.3, 0.2, 0.15, 0.05, 0, 0, 0, 0, 0, 0, 0, 0], dtype=np.float64)\n",
    "u = 4\n",
    "\n",
    "run_schedule(x, d, s, u)"
   ]
  },
  {
   "cell_type": "code",
   "execution_count": 27,
   "metadata": {},
   "outputs": [
    {
     "name": "stdout",
     "output_type": "stream",
     "text": [
      "p_min = [[1.00000000e+00 0.00000000e+00 0.00000000e+00 0.00000000e+00\n",
      "  0.00000000e+00 0.00000000e+00 0.00000000e+00 0.00000000e+00\n",
      "  0.00000000e+00 0.00000000e+00 0.00000000e+00 0.00000000e+00\n",
      "  0.00000000e+00 0.00000000e+00 0.00000000e+00 0.00000000e+00\n",
      "  0.00000000e+00 0.00000000e+00 0.00000000e+00 0.00000000e+00\n",
      "  0.00000000e+00 0.00000000e+00 0.00000000e+00 0.00000000e+00\n",
      "  0.00000000e+00 0.00000000e+00 0.00000000e+00 0.00000000e+00\n",
      "  0.00000000e+00 0.00000000e+00 0.00000000e+00 0.00000000e+00\n",
      "  0.00000000e+00 0.00000000e+00 0.00000000e+00 0.00000000e+00\n",
      "  0.00000000e+00 0.00000000e+00 0.00000000e+00 0.00000000e+00\n",
      "  0.00000000e+00 0.00000000e+00 0.00000000e+00 0.00000000e+00\n",
      "  0.00000000e+00 0.00000000e+00 0.00000000e+00 0.00000000e+00\n",
      "  0.00000000e+00 0.00000000e+00 0.00000000e+00 0.00000000e+00\n",
      "  0.00000000e+00 0.00000000e+00 0.00000000e+00 0.00000000e+00\n",
      "  0.00000000e+00 0.00000000e+00 0.00000000e+00 0.00000000e+00\n",
      "  0.00000000e+00 0.00000000e+00 0.00000000e+00 0.00000000e+00\n",
      "  0.00000000e+00 0.00000000e+00 0.00000000e+00 0.00000000e+00\n",
      "  0.00000000e+00 0.00000000e+00 0.00000000e+00 0.00000000e+00\n",
      "  0.00000000e+00 0.00000000e+00 0.00000000e+00 0.00000000e+00\n",
      "  0.00000000e+00 0.00000000e+00 0.00000000e+00 0.00000000e+00\n",
      "  0.00000000e+00 0.00000000e+00 0.00000000e+00 0.00000000e+00\n",
      "  0.00000000e+00 0.00000000e+00 0.00000000e+00 0.00000000e+00\n",
      "  0.00000000e+00 0.00000000e+00 0.00000000e+00 0.00000000e+00\n",
      "  0.00000000e+00 0.00000000e+00 0.00000000e+00 0.00000000e+00\n",
      "  0.00000000e+00 0.00000000e+00 0.00000000e+00 0.00000000e+00\n",
      "  0.00000000e+00]\n",
      " [4.45679641e-01 1.60623141e-01 1.37676978e-01 1.03257734e-01\n",
      "  6.88384890e-02 4.13030934e-02 2.25289600e-02 1.12644800e-02\n",
      "  5.19899078e-03 2.22813891e-03 8.91255562e-04 3.34220836e-04\n",
      "  1.17960295e-04 3.93200983e-05 1.24168732e-05 3.72506195e-06\n",
      "  1.06430341e-06 2.90264567e-07 7.57211915e-08 1.89302979e-08\n",
      "  4.54327149e-09 1.04844727e-09 2.32988281e-10 4.99260603e-11\n",
      "  1.03295297e-11 2.06590594e-12 3.99852763e-13 7.49723931e-14\n",
      "  1.36313442e-14 2.40553133e-15 4.12376799e-16 6.87294666e-17\n",
      "  1.11453189e-17 1.75978720e-18 2.70736492e-19 4.06104737e-20\n",
      "  5.94299616e-21 8.48999451e-22 1.18465040e-22 1.61543236e-23\n",
      "  2.15390981e-24 2.80944758e-25 3.58652883e-26 4.48316103e-27\n",
      "  5.48958494e-28 6.58750193e-29 7.75000227e-30 8.94231031e-31\n",
      "  1.01233702e-31 1.12481891e-32 1.22707517e-33 1.31472340e-34\n",
      "  1.38391937e-35 1.43164072e-36 1.45590582e-37 1.45590582e-38\n",
      "  1.43203851e-39 1.38584372e-40 1.31985116e-41 1.23736047e-42\n",
      "  1.14217889e-43 1.03834445e-44 9.29860698e-46 8.20465322e-47\n",
      "  7.13448106e-48 6.11526948e-49 5.16783336e-50 4.30652780e-51\n",
      "  3.53961189e-52 2.86995559e-53 2.29596447e-54 1.81260353e-55\n",
      "  1.41241833e-56 1.08647564e-57 8.25171374e-59 6.18878530e-60\n",
      "  4.58428541e-61 3.35435518e-62 2.42483507e-63 1.73202505e-64\n",
      "  1.22260592e-65 8.52980872e-67 5.88262671e-68 4.01088184e-69\n",
      "  2.70396529e-70 1.80264353e-71 1.18855617e-72 7.75145329e-74\n",
      "  5.00093760e-75 3.19208783e-76 2.01605547e-77 1.26003467e-78\n",
      "  7.79402889e-80 4.77185442e-81 2.89203298e-82 1.73521979e-83\n",
      "  0.00000000e+00 0.00000000e+00 0.00000000e+00 0.00000000e+00\n",
      "  0.00000000e+00]\n",
      " [9.57379076e-01 2.25289600e-02 1.12644800e-02 5.19899078e-03\n",
      "  2.22813891e-03 8.91255562e-04 3.34220836e-04 1.17960295e-04\n",
      "  3.93200983e-05 1.24168732e-05 3.72506195e-06 1.06430341e-06\n",
      "  2.90264567e-07 7.57211915e-08 1.89302979e-08 4.54327149e-09\n",
      "  1.04844727e-09 2.32988281e-10 4.99260603e-11 1.03295297e-11\n",
      "  2.06590594e-12 3.99852763e-13 7.49723931e-14 1.36313442e-14\n",
      "  2.40553133e-15 4.12376799e-16 6.87294666e-17 1.11453189e-17\n",
      "  1.75978720e-18 2.70736492e-19 4.06104737e-20 5.94299616e-21\n",
      "  8.48999451e-22 1.18465040e-22 1.61543236e-23 2.15390981e-24\n",
      "  2.80944758e-25 3.58652883e-26 4.48316103e-27 5.48958494e-28\n",
      "  6.58750193e-29 7.75000227e-30 8.94231031e-31 1.01233702e-31\n",
      "  1.12481891e-32 1.22707517e-33 1.31472340e-34 1.38391937e-35\n",
      "  1.43164072e-36 1.45590582e-37 1.45590582e-38 1.43203851e-39\n",
      "  1.38584372e-40 1.31985116e-41 1.23736047e-42 1.14217889e-43\n",
      "  1.03834445e-44 9.29860698e-46 8.20465322e-47 7.13448106e-48\n",
      "  6.11526948e-49 5.16783336e-50 4.30652780e-51 3.53961189e-52\n",
      "  2.86995559e-53 2.29596447e-54 1.81260353e-55 1.41241833e-56\n",
      "  1.08647564e-57 8.25171374e-59 6.18878530e-60 4.58428541e-61\n",
      "  3.35435518e-62 2.42483507e-63 1.73202505e-64 1.22260592e-65\n",
      "  8.52980872e-67 5.88262671e-68 4.01088184e-69 2.70396529e-70\n",
      "  1.80264353e-71 1.18855617e-72 7.75145329e-74 5.00093760e-75\n",
      "  3.19208783e-76 2.01605547e-77 1.26003467e-78 7.79402889e-80\n",
      "  4.77185442e-81 2.89203298e-82 1.73521979e-83 0.00000000e+00\n",
      "  0.00000000e+00 0.00000000e+00 0.00000000e+00 0.00000000e+00\n",
      "  0.00000000e+00 0.00000000e+00 0.00000000e+00 0.00000000e+00\n",
      "  0.00000000e+00]\n",
      " [0.00000000e+00 0.00000000e+00 0.00000000e+00 0.00000000e+00\n",
      "  0.00000000e+00 0.00000000e+00 0.00000000e+00 0.00000000e+00\n",
      "  0.00000000e+00 0.00000000e+00 0.00000000e+00 0.00000000e+00\n",
      "  0.00000000e+00 0.00000000e+00 0.00000000e+00 0.00000000e+00\n",
      "  0.00000000e+00 0.00000000e+00 0.00000000e+00 0.00000000e+00\n",
      "  0.00000000e+00 0.00000000e+00 0.00000000e+00 0.00000000e+00\n",
      "  0.00000000e+00 0.00000000e+00 0.00000000e+00 0.00000000e+00\n",
      "  0.00000000e+00 0.00000000e+00 0.00000000e+00 0.00000000e+00\n",
      "  0.00000000e+00 0.00000000e+00 0.00000000e+00 0.00000000e+00\n",
      "  0.00000000e+00 0.00000000e+00 0.00000000e+00 0.00000000e+00\n",
      "  0.00000000e+00 0.00000000e+00 0.00000000e+00 0.00000000e+00\n",
      "  0.00000000e+00 0.00000000e+00 0.00000000e+00 0.00000000e+00\n",
      "  0.00000000e+00 0.00000000e+00 0.00000000e+00 0.00000000e+00\n",
      "  0.00000000e+00 0.00000000e+00 0.00000000e+00 0.00000000e+00\n",
      "  0.00000000e+00 0.00000000e+00 0.00000000e+00 0.00000000e+00\n",
      "  0.00000000e+00 0.00000000e+00 0.00000000e+00 0.00000000e+00\n",
      "  0.00000000e+00 0.00000000e+00 0.00000000e+00 0.00000000e+00\n",
      "  0.00000000e+00 0.00000000e+00 0.00000000e+00 0.00000000e+00\n",
      "  0.00000000e+00 0.00000000e+00 0.00000000e+00 0.00000000e+00\n",
      "  0.00000000e+00 0.00000000e+00 0.00000000e+00 0.00000000e+00\n",
      "  0.00000000e+00 0.00000000e+00 0.00000000e+00 0.00000000e+00\n",
      "  0.00000000e+00 0.00000000e+00 0.00000000e+00 0.00000000e+00\n",
      "  0.00000000e+00 0.00000000e+00 0.00000000e+00 0.00000000e+00\n",
      "  0.00000000e+00 0.00000000e+00 0.00000000e+00 0.00000000e+00\n",
      "  0.00000000e+00 0.00000000e+00 0.00000000e+00 0.00000000e+00\n",
      "  0.00000000e+00]\n",
      " [0.00000000e+00 0.00000000e+00 0.00000000e+00 0.00000000e+00\n",
      "  0.00000000e+00 0.00000000e+00 0.00000000e+00 0.00000000e+00\n",
      "  0.00000000e+00 0.00000000e+00 0.00000000e+00 0.00000000e+00\n",
      "  0.00000000e+00 0.00000000e+00 0.00000000e+00 0.00000000e+00\n",
      "  0.00000000e+00 0.00000000e+00 0.00000000e+00 0.00000000e+00\n",
      "  0.00000000e+00 0.00000000e+00 0.00000000e+00 0.00000000e+00\n",
      "  0.00000000e+00 0.00000000e+00 0.00000000e+00 0.00000000e+00\n",
      "  0.00000000e+00 0.00000000e+00 0.00000000e+00 0.00000000e+00\n",
      "  0.00000000e+00 0.00000000e+00 0.00000000e+00 0.00000000e+00\n",
      "  0.00000000e+00 0.00000000e+00 0.00000000e+00 0.00000000e+00\n",
      "  0.00000000e+00 0.00000000e+00 0.00000000e+00 0.00000000e+00\n",
      "  0.00000000e+00 0.00000000e+00 0.00000000e+00 0.00000000e+00\n",
      "  0.00000000e+00 0.00000000e+00 0.00000000e+00 0.00000000e+00\n",
      "  0.00000000e+00 0.00000000e+00 0.00000000e+00 0.00000000e+00\n",
      "  0.00000000e+00 0.00000000e+00 0.00000000e+00 0.00000000e+00\n",
      "  0.00000000e+00 0.00000000e+00 0.00000000e+00 0.00000000e+00\n",
      "  0.00000000e+00 0.00000000e+00 0.00000000e+00 0.00000000e+00\n",
      "  0.00000000e+00 0.00000000e+00 0.00000000e+00 0.00000000e+00\n",
      "  0.00000000e+00 0.00000000e+00 0.00000000e+00 0.00000000e+00\n",
      "  0.00000000e+00 0.00000000e+00 0.00000000e+00 0.00000000e+00\n",
      "  0.00000000e+00 0.00000000e+00 0.00000000e+00 0.00000000e+00\n",
      "  0.00000000e+00 0.00000000e+00 0.00000000e+00 0.00000000e+00\n",
      "  0.00000000e+00 0.00000000e+00 0.00000000e+00 0.00000000e+00\n",
      "  0.00000000e+00 0.00000000e+00 0.00000000e+00 0.00000000e+00\n",
      "  0.00000000e+00 0.00000000e+00 0.00000000e+00 0.00000000e+00\n",
      "  0.00000000e+00]\n",
      " [0.00000000e+00 0.00000000e+00 0.00000000e+00 0.00000000e+00\n",
      "  0.00000000e+00 0.00000000e+00 0.00000000e+00 0.00000000e+00\n",
      "  0.00000000e+00 0.00000000e+00 0.00000000e+00 0.00000000e+00\n",
      "  0.00000000e+00 0.00000000e+00 0.00000000e+00 0.00000000e+00\n",
      "  0.00000000e+00 0.00000000e+00 0.00000000e+00 0.00000000e+00\n",
      "  0.00000000e+00 0.00000000e+00 0.00000000e+00 0.00000000e+00\n",
      "  0.00000000e+00 0.00000000e+00 0.00000000e+00 0.00000000e+00\n",
      "  0.00000000e+00 0.00000000e+00 0.00000000e+00 0.00000000e+00\n",
      "  0.00000000e+00 0.00000000e+00 0.00000000e+00 0.00000000e+00\n",
      "  0.00000000e+00 0.00000000e+00 0.00000000e+00 0.00000000e+00\n",
      "  0.00000000e+00 0.00000000e+00 0.00000000e+00 0.00000000e+00\n",
      "  0.00000000e+00 0.00000000e+00 0.00000000e+00 0.00000000e+00\n",
      "  0.00000000e+00 0.00000000e+00 0.00000000e+00 0.00000000e+00\n",
      "  0.00000000e+00 0.00000000e+00 0.00000000e+00 0.00000000e+00\n",
      "  0.00000000e+00 0.00000000e+00 0.00000000e+00 0.00000000e+00\n",
      "  0.00000000e+00 0.00000000e+00 0.00000000e+00 0.00000000e+00\n",
      "  0.00000000e+00 0.00000000e+00 0.00000000e+00 0.00000000e+00\n",
      "  0.00000000e+00 0.00000000e+00 0.00000000e+00 0.00000000e+00\n",
      "  0.00000000e+00 0.00000000e+00 0.00000000e+00 0.00000000e+00\n",
      "  0.00000000e+00 0.00000000e+00 0.00000000e+00 0.00000000e+00\n",
      "  0.00000000e+00 0.00000000e+00 0.00000000e+00 0.00000000e+00\n",
      "  0.00000000e+00 0.00000000e+00 0.00000000e+00 0.00000000e+00\n",
      "  0.00000000e+00 0.00000000e+00 0.00000000e+00 0.00000000e+00\n",
      "  0.00000000e+00 0.00000000e+00 0.00000000e+00 0.00000000e+00\n",
      "  0.00000000e+00 0.00000000e+00 0.00000000e+00 0.00000000e+00\n",
      "  0.00000000e+00]\n",
      " [0.00000000e+00 0.00000000e+00 0.00000000e+00 0.00000000e+00\n",
      "  0.00000000e+00 0.00000000e+00 0.00000000e+00 0.00000000e+00\n",
      "  0.00000000e+00 0.00000000e+00 0.00000000e+00 0.00000000e+00\n",
      "  0.00000000e+00 0.00000000e+00 0.00000000e+00 0.00000000e+00\n",
      "  0.00000000e+00 0.00000000e+00 0.00000000e+00 0.00000000e+00\n",
      "  0.00000000e+00 0.00000000e+00 0.00000000e+00 0.00000000e+00\n",
      "  0.00000000e+00 0.00000000e+00 0.00000000e+00 0.00000000e+00\n",
      "  0.00000000e+00 0.00000000e+00 0.00000000e+00 0.00000000e+00\n",
      "  0.00000000e+00 0.00000000e+00 0.00000000e+00 0.00000000e+00\n",
      "  0.00000000e+00 0.00000000e+00 0.00000000e+00 0.00000000e+00\n",
      "  0.00000000e+00 0.00000000e+00 0.00000000e+00 0.00000000e+00\n",
      "  0.00000000e+00 0.00000000e+00 0.00000000e+00 0.00000000e+00\n",
      "  0.00000000e+00 0.00000000e+00 0.00000000e+00 0.00000000e+00\n",
      "  0.00000000e+00 0.00000000e+00 0.00000000e+00 0.00000000e+00\n",
      "  0.00000000e+00 0.00000000e+00 0.00000000e+00 0.00000000e+00\n",
      "  0.00000000e+00 0.00000000e+00 0.00000000e+00 0.00000000e+00\n",
      "  0.00000000e+00 0.00000000e+00 0.00000000e+00 0.00000000e+00\n",
      "  0.00000000e+00 0.00000000e+00 0.00000000e+00 0.00000000e+00\n",
      "  0.00000000e+00 0.00000000e+00 0.00000000e+00 0.00000000e+00\n",
      "  0.00000000e+00 0.00000000e+00 0.00000000e+00 0.00000000e+00\n",
      "  0.00000000e+00 0.00000000e+00 0.00000000e+00 0.00000000e+00\n",
      "  0.00000000e+00 0.00000000e+00 0.00000000e+00 0.00000000e+00\n",
      "  0.00000000e+00 0.00000000e+00 0.00000000e+00 0.00000000e+00\n",
      "  0.00000000e+00 0.00000000e+00 0.00000000e+00 0.00000000e+00\n",
      "  0.00000000e+00 0.00000000e+00 0.00000000e+00 0.00000000e+00\n",
      "  0.00000000e+00]] \n",
      "v = [[2.47875218e-03 1.48725131e-02 4.46175392e-02 8.92350784e-02\n",
      "  1.33852618e-01 1.60623141e-01 1.60623141e-01 1.37676978e-01\n",
      "  1.03257734e-01 6.88384890e-02 4.13030934e-02 2.25289600e-02\n",
      "  1.12644800e-02 5.19899078e-03 2.22813891e-03 8.91255562e-04\n",
      "  3.34220836e-04 1.17960295e-04 3.93200983e-05 1.24168732e-05\n",
      "  3.72506195e-06 1.06430341e-06 2.90264567e-07 7.57211915e-08\n",
      "  1.89302979e-08 4.54327149e-09 1.04844727e-09 2.32988281e-10\n",
      "  4.99260603e-11 1.03295297e-11 2.06590594e-12 3.99852763e-13\n",
      "  7.49723931e-14 1.36313442e-14 2.40553133e-15 4.12376799e-16\n",
      "  6.87294666e-17 1.11453189e-17 1.75978720e-18 2.70736492e-19\n",
      "  4.06104737e-20 5.94299616e-21 8.48999451e-22 1.18465040e-22\n",
      "  1.61543236e-23 2.15390981e-24 2.80944758e-25 3.58652883e-26\n",
      "  4.48316103e-27 5.48958494e-28 6.58750193e-29 7.75000227e-30\n",
      "  8.94231031e-31 1.01233702e-31 1.12481891e-32 1.22707517e-33\n",
      "  1.31472340e-34 1.38391937e-35 1.43164072e-36 1.45590582e-37\n",
      "  1.45590582e-38 1.43203851e-39 1.38584372e-40 1.31985116e-41\n",
      "  1.23736047e-42 1.14217889e-43 1.03834445e-44 9.29860698e-46\n",
      "  8.20465322e-47 7.13448106e-48 6.11526948e-49 5.16783336e-50\n",
      "  4.30652780e-51 3.53961189e-52 2.86995559e-53 2.29596447e-54\n",
      "  1.81260353e-55 1.41241833e-56 1.08647564e-57 8.25171374e-59\n",
      "  6.18878530e-60 4.58428541e-61 3.35435518e-62 2.42483507e-63\n",
      "  1.73202505e-64 1.22260592e-65 8.52980872e-67 5.88262671e-68\n",
      "  4.01088184e-69 2.70396529e-70 1.80264353e-71 1.18855617e-72\n",
      "  7.75145329e-74 5.00093760e-75 3.19208783e-76 2.01605547e-77\n",
      "  1.26003467e-78 7.79402889e-80 4.77185442e-81 2.89203298e-82\n",
      "  1.73521979e-83]\n",
      " [1.00000000e+00 0.00000000e+00 0.00000000e+00 0.00000000e+00\n",
      "  0.00000000e+00 0.00000000e+00 0.00000000e+00 0.00000000e+00\n",
      "  0.00000000e+00 0.00000000e+00 0.00000000e+00 0.00000000e+00\n",
      "  0.00000000e+00 0.00000000e+00 0.00000000e+00 0.00000000e+00\n",
      "  0.00000000e+00 0.00000000e+00 0.00000000e+00 0.00000000e+00\n",
      "  0.00000000e+00 0.00000000e+00 0.00000000e+00 0.00000000e+00\n",
      "  0.00000000e+00 0.00000000e+00 0.00000000e+00 0.00000000e+00\n",
      "  0.00000000e+00 0.00000000e+00 0.00000000e+00 0.00000000e+00\n",
      "  0.00000000e+00 0.00000000e+00 0.00000000e+00 0.00000000e+00\n",
      "  0.00000000e+00 0.00000000e+00 0.00000000e+00 0.00000000e+00\n",
      "  0.00000000e+00 0.00000000e+00 0.00000000e+00 0.00000000e+00\n",
      "  0.00000000e+00 0.00000000e+00 0.00000000e+00 0.00000000e+00\n",
      "  0.00000000e+00 0.00000000e+00 0.00000000e+00 0.00000000e+00\n",
      "  0.00000000e+00 0.00000000e+00 0.00000000e+00 0.00000000e+00\n",
      "  0.00000000e+00 0.00000000e+00 0.00000000e+00 0.00000000e+00\n",
      "  0.00000000e+00 0.00000000e+00 0.00000000e+00 0.00000000e+00\n",
      "  0.00000000e+00 0.00000000e+00 0.00000000e+00 0.00000000e+00\n",
      "  0.00000000e+00 0.00000000e+00 0.00000000e+00 0.00000000e+00\n",
      "  0.00000000e+00 0.00000000e+00 0.00000000e+00 0.00000000e+00\n",
      "  0.00000000e+00 0.00000000e+00 0.00000000e+00 0.00000000e+00\n",
      "  0.00000000e+00 0.00000000e+00 0.00000000e+00 0.00000000e+00\n",
      "  0.00000000e+00 0.00000000e+00 0.00000000e+00 0.00000000e+00\n",
      "  0.00000000e+00 0.00000000e+00 0.00000000e+00 0.00000000e+00\n",
      "  0.00000000e+00 0.00000000e+00 0.00000000e+00 0.00000000e+00\n",
      "  0.00000000e+00 0.00000000e+00 0.00000000e+00 0.00000000e+00\n",
      "  0.00000000e+00]\n",
      " [2.47875218e-03 1.48725131e-02 4.46175392e-02 8.92350784e-02\n",
      "  1.33852618e-01 1.60623141e-01 1.60623141e-01 1.37676978e-01\n",
      "  1.03257734e-01 6.88384890e-02 4.13030934e-02 2.25289600e-02\n",
      "  1.12644800e-02 5.19899078e-03 2.22813891e-03 8.91255562e-04\n",
      "  3.34220836e-04 1.17960295e-04 3.93200983e-05 1.24168732e-05\n",
      "  3.72506195e-06 1.06430341e-06 2.90264567e-07 7.57211915e-08\n",
      "  1.89302979e-08 4.54327149e-09 1.04844727e-09 2.32988281e-10\n",
      "  4.99260603e-11 1.03295297e-11 2.06590594e-12 3.99852763e-13\n",
      "  7.49723931e-14 1.36313442e-14 2.40553133e-15 4.12376799e-16\n",
      "  6.87294666e-17 1.11453189e-17 1.75978720e-18 2.70736492e-19\n",
      "  4.06104737e-20 5.94299616e-21 8.48999451e-22 1.18465040e-22\n",
      "  1.61543236e-23 2.15390981e-24 2.80944758e-25 3.58652883e-26\n",
      "  4.48316103e-27 5.48958494e-28 6.58750193e-29 7.75000227e-30\n",
      "  8.94231031e-31 1.01233702e-31 1.12481891e-32 1.22707517e-33\n",
      "  1.31472340e-34 1.38391937e-35 1.43164072e-36 1.45590582e-37\n",
      "  1.45590582e-38 1.43203851e-39 1.38584372e-40 1.31985116e-41\n",
      "  1.23736047e-42 1.14217889e-43 1.03834445e-44 9.29860698e-46\n",
      "  8.20465322e-47 7.13448106e-48 6.11526948e-49 5.16783336e-50\n",
      "  4.30652780e-51 3.53961189e-52 2.86995559e-53 2.29596447e-54\n",
      "  1.81260353e-55 1.41241833e-56 1.08647564e-57 8.25171374e-59\n",
      "  6.18878530e-60 4.58428541e-61 3.35435518e-62 2.42483507e-63\n",
      "  1.73202505e-64 1.22260592e-65 8.52980872e-67 5.88262671e-68\n",
      "  4.01088184e-69 2.70396529e-70 1.80264353e-71 1.18855617e-72\n",
      "  7.75145329e-74 5.00093760e-75 3.19208783e-76 2.01605547e-77\n",
      "  1.26003467e-78 7.79402889e-80 4.77185442e-81 2.89203298e-82\n",
      "  1.73521979e-83]\n",
      " [0.00000000e+00 0.00000000e+00 0.00000000e+00 0.00000000e+00\n",
      "  0.00000000e+00 0.00000000e+00 0.00000000e+00 0.00000000e+00\n",
      "  0.00000000e+00 0.00000000e+00 0.00000000e+00 0.00000000e+00\n",
      "  0.00000000e+00 0.00000000e+00 0.00000000e+00 0.00000000e+00\n",
      "  0.00000000e+00 0.00000000e+00 0.00000000e+00 0.00000000e+00\n",
      "  0.00000000e+00 0.00000000e+00 0.00000000e+00 0.00000000e+00\n",
      "  0.00000000e+00 0.00000000e+00 0.00000000e+00 0.00000000e+00\n",
      "  0.00000000e+00 0.00000000e+00 0.00000000e+00 0.00000000e+00\n",
      "  0.00000000e+00 0.00000000e+00 0.00000000e+00 0.00000000e+00\n",
      "  0.00000000e+00 0.00000000e+00 0.00000000e+00 0.00000000e+00\n",
      "  0.00000000e+00 0.00000000e+00 0.00000000e+00 0.00000000e+00\n",
      "  0.00000000e+00 0.00000000e+00 0.00000000e+00 0.00000000e+00\n",
      "  0.00000000e+00 0.00000000e+00 0.00000000e+00 0.00000000e+00\n",
      "  0.00000000e+00 0.00000000e+00 0.00000000e+00 0.00000000e+00\n",
      "  0.00000000e+00 0.00000000e+00 0.00000000e+00 0.00000000e+00\n",
      "  0.00000000e+00 0.00000000e+00 0.00000000e+00 0.00000000e+00\n",
      "  0.00000000e+00 0.00000000e+00 0.00000000e+00 0.00000000e+00\n",
      "  0.00000000e+00 0.00000000e+00 0.00000000e+00 0.00000000e+00\n",
      "  0.00000000e+00 0.00000000e+00 0.00000000e+00 0.00000000e+00\n",
      "  0.00000000e+00 0.00000000e+00 0.00000000e+00 0.00000000e+00\n",
      "  0.00000000e+00 0.00000000e+00 0.00000000e+00 0.00000000e+00\n",
      "  0.00000000e+00 0.00000000e+00 0.00000000e+00 0.00000000e+00\n",
      "  0.00000000e+00 0.00000000e+00 0.00000000e+00 0.00000000e+00\n",
      "  0.00000000e+00 0.00000000e+00 0.00000000e+00 0.00000000e+00\n",
      "  0.00000000e+00 0.00000000e+00 0.00000000e+00 0.00000000e+00\n",
      "  0.00000000e+00]\n",
      " [0.00000000e+00 0.00000000e+00 0.00000000e+00 0.00000000e+00\n",
      "  0.00000000e+00 0.00000000e+00 0.00000000e+00 0.00000000e+00\n",
      "  0.00000000e+00 0.00000000e+00 0.00000000e+00 0.00000000e+00\n",
      "  0.00000000e+00 0.00000000e+00 0.00000000e+00 0.00000000e+00\n",
      "  0.00000000e+00 0.00000000e+00 0.00000000e+00 0.00000000e+00\n",
      "  0.00000000e+00 0.00000000e+00 0.00000000e+00 0.00000000e+00\n",
      "  0.00000000e+00 0.00000000e+00 0.00000000e+00 0.00000000e+00\n",
      "  0.00000000e+00 0.00000000e+00 0.00000000e+00 0.00000000e+00\n",
      "  0.00000000e+00 0.00000000e+00 0.00000000e+00 0.00000000e+00\n",
      "  0.00000000e+00 0.00000000e+00 0.00000000e+00 0.00000000e+00\n",
      "  0.00000000e+00 0.00000000e+00 0.00000000e+00 0.00000000e+00\n",
      "  0.00000000e+00 0.00000000e+00 0.00000000e+00 0.00000000e+00\n",
      "  0.00000000e+00 0.00000000e+00 0.00000000e+00 0.00000000e+00\n",
      "  0.00000000e+00 0.00000000e+00 0.00000000e+00 0.00000000e+00\n",
      "  0.00000000e+00 0.00000000e+00 0.00000000e+00 0.00000000e+00\n",
      "  0.00000000e+00 0.00000000e+00 0.00000000e+00 0.00000000e+00\n",
      "  0.00000000e+00 0.00000000e+00 0.00000000e+00 0.00000000e+00\n",
      "  0.00000000e+00 0.00000000e+00 0.00000000e+00 0.00000000e+00\n",
      "  0.00000000e+00 0.00000000e+00 0.00000000e+00 0.00000000e+00\n",
      "  0.00000000e+00 0.00000000e+00 0.00000000e+00 0.00000000e+00\n",
      "  0.00000000e+00 0.00000000e+00 0.00000000e+00 0.00000000e+00\n",
      "  0.00000000e+00 0.00000000e+00 0.00000000e+00 0.00000000e+00\n",
      "  0.00000000e+00 0.00000000e+00 0.00000000e+00 0.00000000e+00\n",
      "  0.00000000e+00 0.00000000e+00 0.00000000e+00 0.00000000e+00\n",
      "  0.00000000e+00 0.00000000e+00 0.00000000e+00 0.00000000e+00\n",
      "  0.00000000e+00]\n",
      " [0.00000000e+00 0.00000000e+00 0.00000000e+00 0.00000000e+00\n",
      "  0.00000000e+00 0.00000000e+00 0.00000000e+00 0.00000000e+00\n",
      "  0.00000000e+00 0.00000000e+00 0.00000000e+00 0.00000000e+00\n",
      "  0.00000000e+00 0.00000000e+00 0.00000000e+00 0.00000000e+00\n",
      "  0.00000000e+00 0.00000000e+00 0.00000000e+00 0.00000000e+00\n",
      "  0.00000000e+00 0.00000000e+00 0.00000000e+00 0.00000000e+00\n",
      "  0.00000000e+00 0.00000000e+00 0.00000000e+00 0.00000000e+00\n",
      "  0.00000000e+00 0.00000000e+00 0.00000000e+00 0.00000000e+00\n",
      "  0.00000000e+00 0.00000000e+00 0.00000000e+00 0.00000000e+00\n",
      "  0.00000000e+00 0.00000000e+00 0.00000000e+00 0.00000000e+00\n",
      "  0.00000000e+00 0.00000000e+00 0.00000000e+00 0.00000000e+00\n",
      "  0.00000000e+00 0.00000000e+00 0.00000000e+00 0.00000000e+00\n",
      "  0.00000000e+00 0.00000000e+00 0.00000000e+00 0.00000000e+00\n",
      "  0.00000000e+00 0.00000000e+00 0.00000000e+00 0.00000000e+00\n",
      "  0.00000000e+00 0.00000000e+00 0.00000000e+00 0.00000000e+00\n",
      "  0.00000000e+00 0.00000000e+00 0.00000000e+00 0.00000000e+00\n",
      "  0.00000000e+00 0.00000000e+00 0.00000000e+00 0.00000000e+00\n",
      "  0.00000000e+00 0.00000000e+00 0.00000000e+00 0.00000000e+00\n",
      "  0.00000000e+00 0.00000000e+00 0.00000000e+00 0.00000000e+00\n",
      "  0.00000000e+00 0.00000000e+00 0.00000000e+00 0.00000000e+00\n",
      "  0.00000000e+00 0.00000000e+00 0.00000000e+00 0.00000000e+00\n",
      "  0.00000000e+00 0.00000000e+00 0.00000000e+00 0.00000000e+00\n",
      "  0.00000000e+00 0.00000000e+00 0.00000000e+00 0.00000000e+00\n",
      "  0.00000000e+00 0.00000000e+00 0.00000000e+00 0.00000000e+00\n",
      "  0.00000000e+00 0.00000000e+00 0.00000000e+00 0.00000000e+00\n",
      "  0.00000000e+00]\n",
      " [0.00000000e+00 0.00000000e+00 0.00000000e+00 0.00000000e+00\n",
      "  0.00000000e+00 0.00000000e+00 0.00000000e+00 0.00000000e+00\n",
      "  0.00000000e+00 0.00000000e+00 0.00000000e+00 0.00000000e+00\n",
      "  0.00000000e+00 0.00000000e+00 0.00000000e+00 0.00000000e+00\n",
      "  0.00000000e+00 0.00000000e+00 0.00000000e+00 0.00000000e+00\n",
      "  0.00000000e+00 0.00000000e+00 0.00000000e+00 0.00000000e+00\n",
      "  0.00000000e+00 0.00000000e+00 0.00000000e+00 0.00000000e+00\n",
      "  0.00000000e+00 0.00000000e+00 0.00000000e+00 0.00000000e+00\n",
      "  0.00000000e+00 0.00000000e+00 0.00000000e+00 0.00000000e+00\n",
      "  0.00000000e+00 0.00000000e+00 0.00000000e+00 0.00000000e+00\n",
      "  0.00000000e+00 0.00000000e+00 0.00000000e+00 0.00000000e+00\n",
      "  0.00000000e+00 0.00000000e+00 0.00000000e+00 0.00000000e+00\n",
      "  0.00000000e+00 0.00000000e+00 0.00000000e+00 0.00000000e+00\n",
      "  0.00000000e+00 0.00000000e+00 0.00000000e+00 0.00000000e+00\n",
      "  0.00000000e+00 0.00000000e+00 0.00000000e+00 0.00000000e+00\n",
      "  0.00000000e+00 0.00000000e+00 0.00000000e+00 0.00000000e+00\n",
      "  0.00000000e+00 0.00000000e+00 0.00000000e+00 0.00000000e+00\n",
      "  0.00000000e+00 0.00000000e+00 0.00000000e+00 0.00000000e+00\n",
      "  0.00000000e+00 0.00000000e+00 0.00000000e+00 0.00000000e+00\n",
      "  0.00000000e+00 0.00000000e+00 0.00000000e+00 0.00000000e+00\n",
      "  0.00000000e+00 0.00000000e+00 0.00000000e+00 0.00000000e+00\n",
      "  0.00000000e+00 0.00000000e+00 0.00000000e+00 0.00000000e+00\n",
      "  0.00000000e+00 0.00000000e+00 0.00000000e+00 0.00000000e+00\n",
      "  0.00000000e+00 0.00000000e+00 0.00000000e+00 0.00000000e+00\n",
      "  0.00000000e+00 0.00000000e+00 0.00000000e+00 0.00000000e+00\n",
      "  0.00000000e+00]] \n",
      "p_plus = [[2.47875218e-03 1.48725131e-02 4.46175392e-02 8.92350784e-02\n",
      "  1.33852618e-01 1.60623141e-01 1.60623141e-01 1.37676978e-01\n",
      "  1.03257734e-01 6.88384890e-02 4.13030934e-02 2.25289600e-02\n",
      "  1.12644800e-02 5.19899078e-03 2.22813891e-03 8.91255562e-04\n",
      "  3.34220836e-04 1.17960295e-04 3.93200983e-05 1.24168732e-05\n",
      "  3.72506195e-06 1.06430341e-06 2.90264567e-07 7.57211915e-08\n",
      "  1.89302979e-08 4.54327149e-09 1.04844727e-09 2.32988281e-10\n",
      "  4.99260603e-11 1.03295297e-11 2.06590594e-12 3.99852763e-13\n",
      "  7.49723931e-14 1.36313442e-14 2.40553133e-15 4.12376799e-16\n",
      "  6.87294666e-17 1.11453189e-17 1.75978720e-18 2.70736492e-19\n",
      "  4.06104737e-20 5.94299616e-21 8.48999451e-22 1.18465040e-22\n",
      "  1.61543236e-23 2.15390981e-24 2.80944758e-25 3.58652883e-26\n",
      "  4.48316103e-27 5.48958494e-28 6.58750193e-29 7.75000227e-30\n",
      "  8.94231031e-31 1.01233702e-31 1.12481891e-32 1.22707517e-33\n",
      "  1.31472340e-34 1.38391937e-35 1.43164072e-36 1.45590582e-37\n",
      "  1.45590582e-38 1.43203851e-39 1.38584372e-40 1.31985116e-41\n",
      "  1.23736047e-42 1.14217889e-43 1.03834445e-44 9.29860698e-46\n",
      "  8.20465322e-47 7.13448106e-48 6.11526948e-49 5.16783336e-50\n",
      "  4.30652780e-51 3.53961189e-52 2.86995559e-53 2.29596447e-54\n",
      "  1.81260353e-55 1.41241833e-56 1.08647564e-57 8.25171374e-59\n",
      "  6.18878530e-60 4.58428541e-61 3.35435518e-62 2.42483507e-63\n",
      "  1.73202505e-64 1.22260592e-65 8.52980872e-67 5.88262671e-68\n",
      "  4.01088184e-69 2.70396529e-70 1.80264353e-71 1.18855617e-72\n",
      "  7.75145329e-74 5.00093760e-75 3.19208783e-76 2.01605547e-77\n",
      "  1.26003467e-78 7.79402889e-80 4.77185442e-81 2.89203298e-82\n",
      "  1.73521979e-83]\n",
      " [4.45679641e-01 1.60623141e-01 1.37676978e-01 1.03257734e-01\n",
      "  6.88384890e-02 4.13030934e-02 2.25289600e-02 1.12644800e-02\n",
      "  5.19899078e-03 2.22813891e-03 8.91255562e-04 3.34220836e-04\n",
      "  1.17960295e-04 3.93200983e-05 1.24168732e-05 3.72506195e-06\n",
      "  1.06430341e-06 2.90264567e-07 7.57211915e-08 1.89302979e-08\n",
      "  4.54327149e-09 1.04844727e-09 2.32988281e-10 4.99260603e-11\n",
      "  1.03295297e-11 2.06590594e-12 3.99852763e-13 7.49723931e-14\n",
      "  1.36313442e-14 2.40553133e-15 4.12376799e-16 6.87294666e-17\n",
      "  1.11453189e-17 1.75978720e-18 2.70736492e-19 4.06104737e-20\n",
      "  5.94299616e-21 8.48999451e-22 1.18465040e-22 1.61543236e-23\n",
      "  2.15390981e-24 2.80944758e-25 3.58652883e-26 4.48316103e-27\n",
      "  5.48958494e-28 6.58750193e-29 7.75000227e-30 8.94231031e-31\n",
      "  1.01233702e-31 1.12481891e-32 1.22707517e-33 1.31472340e-34\n",
      "  1.38391937e-35 1.43164072e-36 1.45590582e-37 1.45590582e-38\n",
      "  1.43203851e-39 1.38584372e-40 1.31985116e-41 1.23736047e-42\n",
      "  1.14217889e-43 1.03834445e-44 9.29860698e-46 8.20465322e-47\n",
      "  7.13448106e-48 6.11526948e-49 5.16783336e-50 4.30652780e-51\n",
      "  3.53961189e-52 2.86995559e-53 2.29596447e-54 1.81260353e-55\n",
      "  1.41241833e-56 1.08647564e-57 8.25171374e-59 6.18878530e-60\n",
      "  4.58428541e-61 3.35435518e-62 2.42483507e-63 1.73202505e-64\n",
      "  1.22260592e-65 8.52980872e-67 5.88262671e-68 4.01088184e-69\n",
      "  2.70396529e-70 1.80264353e-71 1.18855617e-72 7.75145329e-74\n",
      "  5.00093760e-75 3.19208783e-76 2.01605547e-77 1.26003467e-78\n",
      "  7.79402889e-80 4.77185442e-81 2.89203298e-82 1.73521979e-83\n",
      "  0.00000000e+00 0.00000000e+00 0.00000000e+00 0.00000000e+00\n",
      "  0.00000000e+00]\n",
      " [2.37310547e-03 1.42944765e-02 4.30788826e-02 8.66174018e-02\n",
      "  1.30743507e-01 1.58065295e-01 1.59481117e-01 1.38176822e-01\n",
      "  1.04997465e-01 7.11296466e-02 4.35307607e-02 2.43350499e-02\n",
      "  1.25470426e-02 6.01842799e-03 2.70736867e-03 1.15097004e-03\n",
      "  4.65871307e-04 1.80842695e-04 6.77925422e-05 2.46988229e-05\n",
      "  8.79333477e-06 3.07209022e-06 1.05606619e-06 3.57645658e-07\n",
      "  1.19317189e-07 3.91786586e-08 1.26447118e-08 4.00552376e-09\n",
      "  1.24378045e-09 3.78201069e-10 1.12535389e-10 3.27536005e-11\n",
      "  9.32293340e-12 2.59520051e-12 7.06602548e-13 1.88221260e-13\n",
      "  4.90662284e-14 1.25217803e-14 3.12951983e-15 7.66268518e-16\n",
      "  1.83882458e-16 4.32631997e-17 9.98334344e-18 2.26031300e-18\n",
      "  5.02282584e-19 1.09587688e-19 2.34829126e-20 4.94375001e-21\n",
      "  1.02284217e-21 2.08035367e-22 4.16070336e-23 8.18498550e-24\n",
      "  1.58419019e-24 3.01750450e-25 5.65782024e-26 1.04452058e-26\n",
      "  1.89912825e-27 3.40142364e-28 6.00251222e-29 1.04391516e-29\n",
      "  1.78956884e-30 3.02462337e-31 5.04103895e-32 8.28663936e-33\n",
      "  1.34377935e-33 2.15004697e-34 3.39481100e-35 5.29061454e-36\n",
      "  8.13940699e-37 1.23636562e-37 1.85454843e-38 2.74747915e-39\n",
      "  4.02070120e-40 5.81306197e-41 8.30437425e-42 1.17238225e-42\n",
      "  1.63588220e-43 2.25638925e-44 3.07689443e-45 4.14862170e-46\n",
      "  5.53149560e-47 7.29427991e-48 9.51427815e-49 1.22764879e-49\n",
      "  1.56721123e-50 1.97963523e-51 2.47454404e-52 3.06129160e-53\n",
      "  3.74852032e-54 4.54366100e-55 5.45239320e-56 6.47809093e-57\n",
      "  7.62128344e-58 8.87916518e-59 1.02451906e-59 1.17087892e-60\n",
      "  1.32552331e-61 1.48656820e-62 1.65174244e-63 1.81843205e-64\n",
      "  1.98374405e-65]\n",
      " [0.00000000e+00 0.00000000e+00 0.00000000e+00 0.00000000e+00\n",
      "  0.00000000e+00 0.00000000e+00 0.00000000e+00 0.00000000e+00\n",
      "  0.00000000e+00 0.00000000e+00 0.00000000e+00 0.00000000e+00\n",
      "  0.00000000e+00 0.00000000e+00 0.00000000e+00 0.00000000e+00\n",
      "  0.00000000e+00 0.00000000e+00 0.00000000e+00 0.00000000e+00\n",
      "  0.00000000e+00 0.00000000e+00 0.00000000e+00 0.00000000e+00\n",
      "  0.00000000e+00 0.00000000e+00 0.00000000e+00 0.00000000e+00\n",
      "  0.00000000e+00 0.00000000e+00 0.00000000e+00 0.00000000e+00\n",
      "  0.00000000e+00 0.00000000e+00 0.00000000e+00 0.00000000e+00\n",
      "  0.00000000e+00 0.00000000e+00 0.00000000e+00 0.00000000e+00\n",
      "  0.00000000e+00 0.00000000e+00 0.00000000e+00 0.00000000e+00\n",
      "  0.00000000e+00 0.00000000e+00 0.00000000e+00 0.00000000e+00\n",
      "  0.00000000e+00 0.00000000e+00 0.00000000e+00 0.00000000e+00\n",
      "  0.00000000e+00 0.00000000e+00 0.00000000e+00 0.00000000e+00\n",
      "  0.00000000e+00 0.00000000e+00 0.00000000e+00 0.00000000e+00\n",
      "  0.00000000e+00 0.00000000e+00 0.00000000e+00 0.00000000e+00\n",
      "  0.00000000e+00 0.00000000e+00 0.00000000e+00 0.00000000e+00\n",
      "  0.00000000e+00 0.00000000e+00 0.00000000e+00 0.00000000e+00\n",
      "  0.00000000e+00 0.00000000e+00 0.00000000e+00 0.00000000e+00\n",
      "  0.00000000e+00 0.00000000e+00 0.00000000e+00 0.00000000e+00\n",
      "  0.00000000e+00 0.00000000e+00 0.00000000e+00 0.00000000e+00\n",
      "  0.00000000e+00 0.00000000e+00 0.00000000e+00 0.00000000e+00\n",
      "  0.00000000e+00 0.00000000e+00 0.00000000e+00 0.00000000e+00\n",
      "  0.00000000e+00 0.00000000e+00 0.00000000e+00 0.00000000e+00\n",
      "  0.00000000e+00 0.00000000e+00 0.00000000e+00 0.00000000e+00\n",
      "  0.00000000e+00]\n",
      " [0.00000000e+00 0.00000000e+00 0.00000000e+00 0.00000000e+00\n",
      "  0.00000000e+00 0.00000000e+00 0.00000000e+00 0.00000000e+00\n",
      "  0.00000000e+00 0.00000000e+00 0.00000000e+00 0.00000000e+00\n",
      "  0.00000000e+00 0.00000000e+00 0.00000000e+00 0.00000000e+00\n",
      "  0.00000000e+00 0.00000000e+00 0.00000000e+00 0.00000000e+00\n",
      "  0.00000000e+00 0.00000000e+00 0.00000000e+00 0.00000000e+00\n",
      "  0.00000000e+00 0.00000000e+00 0.00000000e+00 0.00000000e+00\n",
      "  0.00000000e+00 0.00000000e+00 0.00000000e+00 0.00000000e+00\n",
      "  0.00000000e+00 0.00000000e+00 0.00000000e+00 0.00000000e+00\n",
      "  0.00000000e+00 0.00000000e+00 0.00000000e+00 0.00000000e+00\n",
      "  0.00000000e+00 0.00000000e+00 0.00000000e+00 0.00000000e+00\n",
      "  0.00000000e+00 0.00000000e+00 0.00000000e+00 0.00000000e+00\n",
      "  0.00000000e+00 0.00000000e+00 0.00000000e+00 0.00000000e+00\n",
      "  0.00000000e+00 0.00000000e+00 0.00000000e+00 0.00000000e+00\n",
      "  0.00000000e+00 0.00000000e+00 0.00000000e+00 0.00000000e+00\n",
      "  0.00000000e+00 0.00000000e+00 0.00000000e+00 0.00000000e+00\n",
      "  0.00000000e+00 0.00000000e+00 0.00000000e+00 0.00000000e+00\n",
      "  0.00000000e+00 0.00000000e+00 0.00000000e+00 0.00000000e+00\n",
      "  0.00000000e+00 0.00000000e+00 0.00000000e+00 0.00000000e+00\n",
      "  0.00000000e+00 0.00000000e+00 0.00000000e+00 0.00000000e+00\n",
      "  0.00000000e+00 0.00000000e+00 0.00000000e+00 0.00000000e+00\n",
      "  0.00000000e+00 0.00000000e+00 0.00000000e+00 0.00000000e+00\n",
      "  0.00000000e+00 0.00000000e+00 0.00000000e+00 0.00000000e+00\n",
      "  0.00000000e+00 0.00000000e+00 0.00000000e+00 0.00000000e+00\n",
      "  0.00000000e+00 0.00000000e+00 0.00000000e+00 0.00000000e+00\n",
      "  0.00000000e+00]\n",
      " [0.00000000e+00 0.00000000e+00 0.00000000e+00 0.00000000e+00\n",
      "  0.00000000e+00 0.00000000e+00 0.00000000e+00 0.00000000e+00\n",
      "  0.00000000e+00 0.00000000e+00 0.00000000e+00 0.00000000e+00\n",
      "  0.00000000e+00 0.00000000e+00 0.00000000e+00 0.00000000e+00\n",
      "  0.00000000e+00 0.00000000e+00 0.00000000e+00 0.00000000e+00\n",
      "  0.00000000e+00 0.00000000e+00 0.00000000e+00 0.00000000e+00\n",
      "  0.00000000e+00 0.00000000e+00 0.00000000e+00 0.00000000e+00\n",
      "  0.00000000e+00 0.00000000e+00 0.00000000e+00 0.00000000e+00\n",
      "  0.00000000e+00 0.00000000e+00 0.00000000e+00 0.00000000e+00\n",
      "  0.00000000e+00 0.00000000e+00 0.00000000e+00 0.00000000e+00\n",
      "  0.00000000e+00 0.00000000e+00 0.00000000e+00 0.00000000e+00\n",
      "  0.00000000e+00 0.00000000e+00 0.00000000e+00 0.00000000e+00\n",
      "  0.00000000e+00 0.00000000e+00 0.00000000e+00 0.00000000e+00\n",
      "  0.00000000e+00 0.00000000e+00 0.00000000e+00 0.00000000e+00\n",
      "  0.00000000e+00 0.00000000e+00 0.00000000e+00 0.00000000e+00\n",
      "  0.00000000e+00 0.00000000e+00 0.00000000e+00 0.00000000e+00\n",
      "  0.00000000e+00 0.00000000e+00 0.00000000e+00 0.00000000e+00\n",
      "  0.00000000e+00 0.00000000e+00 0.00000000e+00 0.00000000e+00\n",
      "  0.00000000e+00 0.00000000e+00 0.00000000e+00 0.00000000e+00\n",
      "  0.00000000e+00 0.00000000e+00 0.00000000e+00 0.00000000e+00\n",
      "  0.00000000e+00 0.00000000e+00 0.00000000e+00 0.00000000e+00\n",
      "  0.00000000e+00 0.00000000e+00 0.00000000e+00 0.00000000e+00\n",
      "  0.00000000e+00 0.00000000e+00 0.00000000e+00 0.00000000e+00\n",
      "  0.00000000e+00 0.00000000e+00 0.00000000e+00 0.00000000e+00\n",
      "  0.00000000e+00 0.00000000e+00 0.00000000e+00 0.00000000e+00\n",
      "  0.00000000e+00]\n",
      " [0.00000000e+00 0.00000000e+00 0.00000000e+00 0.00000000e+00\n",
      "  0.00000000e+00 0.00000000e+00 0.00000000e+00 0.00000000e+00\n",
      "  0.00000000e+00 0.00000000e+00 0.00000000e+00 0.00000000e+00\n",
      "  0.00000000e+00 0.00000000e+00 0.00000000e+00 0.00000000e+00\n",
      "  0.00000000e+00 0.00000000e+00 0.00000000e+00 0.00000000e+00\n",
      "  0.00000000e+00 0.00000000e+00 0.00000000e+00 0.00000000e+00\n",
      "  0.00000000e+00 0.00000000e+00 0.00000000e+00 0.00000000e+00\n",
      "  0.00000000e+00 0.00000000e+00 0.00000000e+00 0.00000000e+00\n",
      "  0.00000000e+00 0.00000000e+00 0.00000000e+00 0.00000000e+00\n",
      "  0.00000000e+00 0.00000000e+00 0.00000000e+00 0.00000000e+00\n",
      "  0.00000000e+00 0.00000000e+00 0.00000000e+00 0.00000000e+00\n",
      "  0.00000000e+00 0.00000000e+00 0.00000000e+00 0.00000000e+00\n",
      "  0.00000000e+00 0.00000000e+00 0.00000000e+00 0.00000000e+00\n",
      "  0.00000000e+00 0.00000000e+00 0.00000000e+00 0.00000000e+00\n",
      "  0.00000000e+00 0.00000000e+00 0.00000000e+00 0.00000000e+00\n",
      "  0.00000000e+00 0.00000000e+00 0.00000000e+00 0.00000000e+00\n",
      "  0.00000000e+00 0.00000000e+00 0.00000000e+00 0.00000000e+00\n",
      "  0.00000000e+00 0.00000000e+00 0.00000000e+00 0.00000000e+00\n",
      "  0.00000000e+00 0.00000000e+00 0.00000000e+00 0.00000000e+00\n",
      "  0.00000000e+00 0.00000000e+00 0.00000000e+00 0.00000000e+00\n",
      "  0.00000000e+00 0.00000000e+00 0.00000000e+00 0.00000000e+00\n",
      "  0.00000000e+00 0.00000000e+00 0.00000000e+00 0.00000000e+00\n",
      "  0.00000000e+00 0.00000000e+00 0.00000000e+00 0.00000000e+00\n",
      "  0.00000000e+00 0.00000000e+00 0.00000000e+00 0.00000000e+00\n",
      "  0.00000000e+00 0.00000000e+00 0.00000000e+00 0.00000000e+00\n",
      "  0.00000000e+00]] \n",
      "w = [[array([1., 0., 0., 0., 0., 0., 0., 0., 0., 0., 0., 0., 0., 0., 0., 0., 0.,\n",
      "       0., 0., 0., 0., 0., 0., 0., 0., 0., 0., 0., 0., 0., 0., 0., 0., 0.,\n",
      "       0., 0., 0., 0., 0., 0., 0., 0., 0., 0., 0., 0., 0., 0., 0., 0., 0.,\n",
      "       0., 0., 0., 0., 0., 0., 0., 0., 0., 0., 0., 0., 0., 0., 0., 0., 0.,\n",
      "       0., 0., 0., 0., 0., 0., 0., 0., 0., 0., 0., 0., 0., 0., 0., 0., 0.,\n",
      "       0., 0., 0., 0., 0., 0., 0., 0., 0., 0., 0., 0., 0., 0., 0., 0.])], [], [array([0., 0., 0., 0., 0., 0., 0., 0., 0., 0., 0., 0., 0., 0., 0., 0., 0.,\n",
      "       0., 0., 0., 0., 0., 0., 0., 0., 0., 0., 0., 0., 0., 0., 0., 0., 0.,\n",
      "       0., 0., 0., 0., 0., 0., 0., 0., 0., 0., 0., 0., 0., 0., 0., 0., 0.,\n",
      "       0., 0., 0., 0., 0., 0., 0., 0., 0., 0., 0., 0., 0., 0., 0., 0., 0.,\n",
      "       0., 0., 0., 0., 0., 0., 0., 0., 0., 0., 0., 0., 0., 0., 0., 0., 0.,\n",
      "       0., 0., 0., 0., 0., 0., 0., 0., 0., 0., 0., 0., 0., 0., 0., 0.])], [], [array([0., 0., 0., 0., 0., 0., 0., 0., 0., 0., 0., 0., 0., 0., 0., 0., 0.,\n",
      "       0., 0., 0., 0., 0., 0., 0., 0., 0., 0., 0., 0., 0., 0., 0., 0., 0.,\n",
      "       0., 0., 0., 0., 0., 0., 0., 0., 0., 0., 0., 0., 0., 0., 0., 0., 0.,\n",
      "       0., 0., 0., 0., 0., 0., 0., 0., 0., 0., 0., 0., 0., 0., 0., 0., 0.,\n",
      "       0., 0., 0., 0., 0., 0., 0., 0., 0., 0., 0., 0., 0., 0., 0., 0., 0.,\n",
      "       0., 0., 0., 0., 0., 0., 0., 0., 0., 0., 0., 0., 0., 0., 0., 0.])], [], [array([0., 0., 0., 0., 0., 0., 0., 0., 0., 0., 0., 0., 0., 0., 0., 0., 0.,\n",
      "       0., 0., 0., 0., 0., 0., 0., 0., 0., 0., 0., 0., 0., 0., 0., 0., 0.,\n",
      "       0., 0., 0., 0., 0., 0., 0., 0., 0., 0., 0., 0., 0., 0., 0., 0., 0.,\n",
      "       0., 0., 0., 0., 0., 0., 0., 0., 0., 0., 0., 0., 0., 0., 0., 0., 0.,\n",
      "       0., 0., 0., 0., 0., 0., 0., 0., 0., 0., 0., 0., 0., 0., 0., 0., 0.,\n",
      "       0., 0., 0., 0., 0., 0., 0., 0., 0., 0., 0., 0., 0., 0., 0., 0.])]] \n",
      "ew = [0. 0. 0. 0. 0. 0. 0.]\n"
     ]
    },
    {
     "data": {
      "text/plain": [
       "<__main__.Schedule at 0x11af87190>"
      ]
     },
     "execution_count": 27,
     "metadata": {},
     "output_type": "execute_result"
    }
   ],
   "source": [
    "\"\"\"\"Test case with validation in spreadsheet\n",
    "url: https://docs.google.com/spreadsheets/d/1_l9bMqEfLT2-TpZz3MrDFIid30ZsywTVH8Lzc5uHrGw/edit?usp=sharing\"\"\"\n",
    "x = np.array([1, 0, 1, 0, 1, 0, 1], dtype=np.int64)\n",
    "d = 5\n",
    "l = 6\n",
    "limit = calc_distr_limit(l * x.sum())+1\n",
    "service_times = range(0, limit)\n",
    "s = np.array([poisson.pmf(i, l) for i in service_times], dtype=np.float64)\n",
    "u = 2\n",
    "  \n",
    "run_schedule(x, d, s, u)"
   ]
  },
  {
   "cell_type": "code",
   "execution_count": null,
   "metadata": {},
   "outputs": [],
   "source": [
    "\"\"\"\"Test case with more than 1 clients in the system at the same time\n",
    "url: https://docs.google.com/spreadsheets/d/1_l9bMqEfLT2-TpZz3MrDFIid30ZsywTVH8Lzc5uHrGw/edit?usp=sharing\"\"\"\n",
    "x = np.array([2, 0, 1, 0, 1, 1, 1], dtype=np.int64)\n",
    "d = 5\n",
    "l = 6\n",
    "limit = calc_distr_limit(l * x.sum())+1\n",
    "service_times = range(0, limit)\n",
    "s = np.array([poisson.pmf(i, l) for i in service_times], dtype=np.float64)\n",
    "u = 2\n",
    "  \n",
    "schedule = run_schedule(x, d, s, u)\n",
    "\n"
   ]
  },
  {
   "cell_type": "code",
   "execution_count": 35,
   "metadata": {},
   "outputs": [
    {
     "data": {
      "application/vnd.plotly.v1+json": {
       "config": {
        "linkText": "Export to plot.ly",
        "plotlyServerURL": "https://plot.ly",
        "showLink": false
       },
       "data": [
        {
         "mode": "lines",
         "type": "scatter",
         "x": [
          0,
          1,
          2,
          3,
          4,
          5,
          6,
          7,
          8,
          9,
          10,
          11,
          12,
          13,
          14,
          15,
          16,
          17,
          18,
          19,
          20,
          21,
          22,
          23,
          24,
          25,
          26,
          27,
          28,
          29,
          30,
          31,
          32,
          33,
          34,
          35,
          36,
          37,
          38,
          39,
          40,
          41,
          42,
          43,
          44,
          45,
          46,
          47,
          48,
          49,
          50,
          51,
          52,
          53,
          54,
          55,
          56,
          57,
          58,
          59,
          60,
          61,
          62,
          63,
          64,
          65,
          66,
          67,
          68,
          69,
          70,
          71,
          72,
          73,
          74,
          75,
          76,
          77,
          78,
          79,
          80,
          81,
          82,
          83,
          84,
          85,
          86,
          87,
          88,
          89,
          90,
          91,
          92,
          93,
          94,
          95,
          96,
          97,
          98,
          99,
          100
         ],
         "y": [
          0.0008606956745649947,
          0.005447663766899801,
          0.017476950178738744,
          0.03805048037058493,
          0.06358040774638873,
          0.0875226821882559,
          0.10412084950197463,
          0.1108838103246352,
          0.1085548871514665,
          0.09961416159624847,
          0.08681202387510373,
          0.07241452634951256,
          0.05804749739818824,
          0.04478879646167,
          0.03328386477882541,
          0.023828930665877573,
          0.016441879411522888,
          0.010940417486009605,
          0.007025747638780694,
          0.004358351790717859,
          0.002614238323703857,
          0.001517714525529049,
          0.0008536491749321439,
          0.00046560920547756364,
          0.0002464944464552869,
          0.00012676744997429818,
          0.00006338345902816499,
          0.000030835135726649475,
          0.000014606103651138434,
          0.0000067412758042930624,
          0.000003033573540128595,
          0.0000013318126610148347,
          5.707768332271218e-7,
          2.389298331941298e-7,
          9.774402195903353e-8,
          3.909760865994475e-8,
          1.5299064237351543e-8,
          5.859216087470506e-9,
          2.1972060322533562e-9,
          8.071369097220771e-10,
          2.90569287487018e-10,
          1.0255386616997714e-10,
          3.549941521240865e-11,
          1.2056405166439572e-11,
          4.018801722141181e-12,
          1.3152441999727593e-12,
          4.227570642768639e-13,
          1.3350223082426064e-13,
          4.1431726807527643e-14,
          1.2640187839584518e-14,
          3.792056351875333e-15,
          1.1189674480943582e-15,
          3.2486151718868447e-16,
          9.281757633962412e-17,
          2.610494334551929e-17,
          7.229061234143805e-18,
          1.971562154766493e-18,
          5.296734147133867e-19,
          1.402076686006024e-19,
          3.657591354798326e-20,
          9.405234912338559e-21,
          2.3844257524238616e-21,
          5.961064381059659e-22,
          1.4698514912201908e-22,
          3.5753144381031693e-23,
          8.580754651447611e-24,
          2.0322839963954884e-24,
          4.750793757807639e-25,
          1.0963370210325327e-25,
          2.4979830858969113e-26,
          5.620461943268053e-27,
          1.248991542948457e-27,
          2.7416887528136878e-28,
          5.945831030198362e-29,
          1.2741066493282206e-29,
          2.6981081985774102e-30,
          5.647203206324814e-31,
          1.1683868702740996e-31,
          2.389882234651569e-32,
          4.833469688059354e-33,
          9.66693937611871e-34,
          1.9121418546168883e-34,
          3.7411471068591306e-35,
          7.240929884243483e-36,
          1.3865610416636456e-36,
          2.6271682894679605e-37,
          4.925940542752428e-38,
          9.140920594798321e-39,
          1.6789445990445894e-39,
          3.052626543717436e-40,
          5.494727778691385e-41,
          9.792584160044054e-42,
          1.7281030870665982e-42,
          3.0199859773979355e-43,
          5.226898807034832e-44,
          8.960397954916019e-45,
          1.5215770112111627e-45,
          2.5596622618407316e-46,
          4.266103769651144e-47,
          7.044942004308675e-48,
          1.1528086912046907e-48
         ]
        }
       ],
       "layout": {
        "template": {
         "data": {
          "bar": [
           {
            "error_x": {
             "color": "#2a3f5f"
            },
            "error_y": {
             "color": "#2a3f5f"
            },
            "marker": {
             "line": {
              "color": "#E5ECF6",
              "width": 0.5
             },
             "pattern": {
              "fillmode": "overlay",
              "size": 10,
              "solidity": 0.2
             }
            },
            "type": "bar"
           }
          ],
          "barpolar": [
           {
            "marker": {
             "line": {
              "color": "#E5ECF6",
              "width": 0.5
             },
             "pattern": {
              "fillmode": "overlay",
              "size": 10,
              "solidity": 0.2
             }
            },
            "type": "barpolar"
           }
          ],
          "carpet": [
           {
            "aaxis": {
             "endlinecolor": "#2a3f5f",
             "gridcolor": "white",
             "linecolor": "white",
             "minorgridcolor": "white",
             "startlinecolor": "#2a3f5f"
            },
            "baxis": {
             "endlinecolor": "#2a3f5f",
             "gridcolor": "white",
             "linecolor": "white",
             "minorgridcolor": "white",
             "startlinecolor": "#2a3f5f"
            },
            "type": "carpet"
           }
          ],
          "choropleth": [
           {
            "colorbar": {
             "outlinewidth": 0,
             "ticks": ""
            },
            "type": "choropleth"
           }
          ],
          "contour": [
           {
            "colorbar": {
             "outlinewidth": 0,
             "ticks": ""
            },
            "colorscale": [
             [
              0,
              "#0d0887"
             ],
             [
              0.1111111111111111,
              "#46039f"
             ],
             [
              0.2222222222222222,
              "#7201a8"
             ],
             [
              0.3333333333333333,
              "#9c179e"
             ],
             [
              0.4444444444444444,
              "#bd3786"
             ],
             [
              0.5555555555555556,
              "#d8576b"
             ],
             [
              0.6666666666666666,
              "#ed7953"
             ],
             [
              0.7777777777777778,
              "#fb9f3a"
             ],
             [
              0.8888888888888888,
              "#fdca26"
             ],
             [
              1,
              "#f0f921"
             ]
            ],
            "type": "contour"
           }
          ],
          "contourcarpet": [
           {
            "colorbar": {
             "outlinewidth": 0,
             "ticks": ""
            },
            "type": "contourcarpet"
           }
          ],
          "heatmap": [
           {
            "colorbar": {
             "outlinewidth": 0,
             "ticks": ""
            },
            "colorscale": [
             [
              0,
              "#0d0887"
             ],
             [
              0.1111111111111111,
              "#46039f"
             ],
             [
              0.2222222222222222,
              "#7201a8"
             ],
             [
              0.3333333333333333,
              "#9c179e"
             ],
             [
              0.4444444444444444,
              "#bd3786"
             ],
             [
              0.5555555555555556,
              "#d8576b"
             ],
             [
              0.6666666666666666,
              "#ed7953"
             ],
             [
              0.7777777777777778,
              "#fb9f3a"
             ],
             [
              0.8888888888888888,
              "#fdca26"
             ],
             [
              1,
              "#f0f921"
             ]
            ],
            "type": "heatmap"
           }
          ],
          "heatmapgl": [
           {
            "colorbar": {
             "outlinewidth": 0,
             "ticks": ""
            },
            "colorscale": [
             [
              0,
              "#0d0887"
             ],
             [
              0.1111111111111111,
              "#46039f"
             ],
             [
              0.2222222222222222,
              "#7201a8"
             ],
             [
              0.3333333333333333,
              "#9c179e"
             ],
             [
              0.4444444444444444,
              "#bd3786"
             ],
             [
              0.5555555555555556,
              "#d8576b"
             ],
             [
              0.6666666666666666,
              "#ed7953"
             ],
             [
              0.7777777777777778,
              "#fb9f3a"
             ],
             [
              0.8888888888888888,
              "#fdca26"
             ],
             [
              1,
              "#f0f921"
             ]
            ],
            "type": "heatmapgl"
           }
          ],
          "histogram": [
           {
            "marker": {
             "pattern": {
              "fillmode": "overlay",
              "size": 10,
              "solidity": 0.2
             }
            },
            "type": "histogram"
           }
          ],
          "histogram2d": [
           {
            "colorbar": {
             "outlinewidth": 0,
             "ticks": ""
            },
            "colorscale": [
             [
              0,
              "#0d0887"
             ],
             [
              0.1111111111111111,
              "#46039f"
             ],
             [
              0.2222222222222222,
              "#7201a8"
             ],
             [
              0.3333333333333333,
              "#9c179e"
             ],
             [
              0.4444444444444444,
              "#bd3786"
             ],
             [
              0.5555555555555556,
              "#d8576b"
             ],
             [
              0.6666666666666666,
              "#ed7953"
             ],
             [
              0.7777777777777778,
              "#fb9f3a"
             ],
             [
              0.8888888888888888,
              "#fdca26"
             ],
             [
              1,
              "#f0f921"
             ]
            ],
            "type": "histogram2d"
           }
          ],
          "histogram2dcontour": [
           {
            "colorbar": {
             "outlinewidth": 0,
             "ticks": ""
            },
            "colorscale": [
             [
              0,
              "#0d0887"
             ],
             [
              0.1111111111111111,
              "#46039f"
             ],
             [
              0.2222222222222222,
              "#7201a8"
             ],
             [
              0.3333333333333333,
              "#9c179e"
             ],
             [
              0.4444444444444444,
              "#bd3786"
             ],
             [
              0.5555555555555556,
              "#d8576b"
             ],
             [
              0.6666666666666666,
              "#ed7953"
             ],
             [
              0.7777777777777778,
              "#fb9f3a"
             ],
             [
              0.8888888888888888,
              "#fdca26"
             ],
             [
              1,
              "#f0f921"
             ]
            ],
            "type": "histogram2dcontour"
           }
          ],
          "mesh3d": [
           {
            "colorbar": {
             "outlinewidth": 0,
             "ticks": ""
            },
            "type": "mesh3d"
           }
          ],
          "parcoords": [
           {
            "line": {
             "colorbar": {
              "outlinewidth": 0,
              "ticks": ""
             }
            },
            "type": "parcoords"
           }
          ],
          "pie": [
           {
            "automargin": true,
            "type": "pie"
           }
          ],
          "scatter": [
           {
            "fillpattern": {
             "fillmode": "overlay",
             "size": 10,
             "solidity": 0.2
            },
            "type": "scatter"
           }
          ],
          "scatter3d": [
           {
            "line": {
             "colorbar": {
              "outlinewidth": 0,
              "ticks": ""
             }
            },
            "marker": {
             "colorbar": {
              "outlinewidth": 0,
              "ticks": ""
             }
            },
            "type": "scatter3d"
           }
          ],
          "scattercarpet": [
           {
            "marker": {
             "colorbar": {
              "outlinewidth": 0,
              "ticks": ""
             }
            },
            "type": "scattercarpet"
           }
          ],
          "scattergeo": [
           {
            "marker": {
             "colorbar": {
              "outlinewidth": 0,
              "ticks": ""
             }
            },
            "type": "scattergeo"
           }
          ],
          "scattergl": [
           {
            "marker": {
             "colorbar": {
              "outlinewidth": 0,
              "ticks": ""
             }
            },
            "type": "scattergl"
           }
          ],
          "scattermapbox": [
           {
            "marker": {
             "colorbar": {
              "outlinewidth": 0,
              "ticks": ""
             }
            },
            "type": "scattermapbox"
           }
          ],
          "scatterpolar": [
           {
            "marker": {
             "colorbar": {
              "outlinewidth": 0,
              "ticks": ""
             }
            },
            "type": "scatterpolar"
           }
          ],
          "scatterpolargl": [
           {
            "marker": {
             "colorbar": {
              "outlinewidth": 0,
              "ticks": ""
             }
            },
            "type": "scatterpolargl"
           }
          ],
          "scatterternary": [
           {
            "marker": {
             "colorbar": {
              "outlinewidth": 0,
              "ticks": ""
             }
            },
            "type": "scatterternary"
           }
          ],
          "surface": [
           {
            "colorbar": {
             "outlinewidth": 0,
             "ticks": ""
            },
            "colorscale": [
             [
              0,
              "#0d0887"
             ],
             [
              0.1111111111111111,
              "#46039f"
             ],
             [
              0.2222222222222222,
              "#7201a8"
             ],
             [
              0.3333333333333333,
              "#9c179e"
             ],
             [
              0.4444444444444444,
              "#bd3786"
             ],
             [
              0.5555555555555556,
              "#d8576b"
             ],
             [
              0.6666666666666666,
              "#ed7953"
             ],
             [
              0.7777777777777778,
              "#fb9f3a"
             ],
             [
              0.8888888888888888,
              "#fdca26"
             ],
             [
              1,
              "#f0f921"
             ]
            ],
            "type": "surface"
           }
          ],
          "table": [
           {
            "cells": {
             "fill": {
              "color": "#EBF0F8"
             },
             "line": {
              "color": "white"
             }
            },
            "header": {
             "fill": {
              "color": "#C8D4E3"
             },
             "line": {
              "color": "white"
             }
            },
            "type": "table"
           }
          ]
         },
         "layout": {
          "annotationdefaults": {
           "arrowcolor": "#2a3f5f",
           "arrowhead": 0,
           "arrowwidth": 1
          },
          "autotypenumbers": "strict",
          "coloraxis": {
           "colorbar": {
            "outlinewidth": 0,
            "ticks": ""
           }
          },
          "colorscale": {
           "diverging": [
            [
             0,
             "#8e0152"
            ],
            [
             0.1,
             "#c51b7d"
            ],
            [
             0.2,
             "#de77ae"
            ],
            [
             0.3,
             "#f1b6da"
            ],
            [
             0.4,
             "#fde0ef"
            ],
            [
             0.5,
             "#f7f7f7"
            ],
            [
             0.6,
             "#e6f5d0"
            ],
            [
             0.7,
             "#b8e186"
            ],
            [
             0.8,
             "#7fbc41"
            ],
            [
             0.9,
             "#4d9221"
            ],
            [
             1,
             "#276419"
            ]
           ],
           "sequential": [
            [
             0,
             "#0d0887"
            ],
            [
             0.1111111111111111,
             "#46039f"
            ],
            [
             0.2222222222222222,
             "#7201a8"
            ],
            [
             0.3333333333333333,
             "#9c179e"
            ],
            [
             0.4444444444444444,
             "#bd3786"
            ],
            [
             0.5555555555555556,
             "#d8576b"
            ],
            [
             0.6666666666666666,
             "#ed7953"
            ],
            [
             0.7777777777777778,
             "#fb9f3a"
            ],
            [
             0.8888888888888888,
             "#fdca26"
            ],
            [
             1,
             "#f0f921"
            ]
           ],
           "sequentialminus": [
            [
             0,
             "#0d0887"
            ],
            [
             0.1111111111111111,
             "#46039f"
            ],
            [
             0.2222222222222222,
             "#7201a8"
            ],
            [
             0.3333333333333333,
             "#9c179e"
            ],
            [
             0.4444444444444444,
             "#bd3786"
            ],
            [
             0.5555555555555556,
             "#d8576b"
            ],
            [
             0.6666666666666666,
             "#ed7953"
            ],
            [
             0.7777777777777778,
             "#fb9f3a"
            ],
            [
             0.8888888888888888,
             "#fdca26"
            ],
            [
             1,
             "#f0f921"
            ]
           ]
          },
          "colorway": [
           "#636efa",
           "#EF553B",
           "#00cc96",
           "#ab63fa",
           "#FFA15A",
           "#19d3f3",
           "#FF6692",
           "#B6E880",
           "#FF97FF",
           "#FECB52"
          ],
          "font": {
           "color": "#2a3f5f"
          },
          "geo": {
           "bgcolor": "white",
           "lakecolor": "white",
           "landcolor": "#E5ECF6",
           "showlakes": true,
           "showland": true,
           "subunitcolor": "white"
          },
          "hoverlabel": {
           "align": "left"
          },
          "hovermode": "closest",
          "mapbox": {
           "style": "light"
          },
          "paper_bgcolor": "white",
          "plot_bgcolor": "#E5ECF6",
          "polar": {
           "angularaxis": {
            "gridcolor": "white",
            "linecolor": "white",
            "ticks": ""
           },
           "bgcolor": "#E5ECF6",
           "radialaxis": {
            "gridcolor": "white",
            "linecolor": "white",
            "ticks": ""
           }
          },
          "scene": {
           "xaxis": {
            "backgroundcolor": "#E5ECF6",
            "gridcolor": "white",
            "gridwidth": 2,
            "linecolor": "white",
            "showbackground": true,
            "ticks": "",
            "zerolinecolor": "white"
           },
           "yaxis": {
            "backgroundcolor": "#E5ECF6",
            "gridcolor": "white",
            "gridwidth": 2,
            "linecolor": "white",
            "showbackground": true,
            "ticks": "",
            "zerolinecolor": "white"
           },
           "zaxis": {
            "backgroundcolor": "#E5ECF6",
            "gridcolor": "white",
            "gridwidth": 2,
            "linecolor": "white",
            "showbackground": true,
            "ticks": "",
            "zerolinecolor": "white"
           }
          },
          "shapedefaults": {
           "line": {
            "color": "#2a3f5f"
           }
          },
          "ternary": {
           "aaxis": {
            "gridcolor": "white",
            "linecolor": "white",
            "ticks": ""
           },
           "baxis": {
            "gridcolor": "white",
            "linecolor": "white",
            "ticks": ""
           },
           "bgcolor": "#E5ECF6",
           "caxis": {
            "gridcolor": "white",
            "linecolor": "white",
            "ticks": ""
           }
          },
          "title": {
           "x": 0.05
          },
          "xaxis": {
           "automargin": true,
           "gridcolor": "white",
           "linecolor": "white",
           "ticks": "",
           "title": {
            "standoff": 15
           },
           "zerolinecolor": "white",
           "zerolinewidth": 2
          },
          "yaxis": {
           "automargin": true,
           "gridcolor": "white",
           "linecolor": "white",
           "ticks": "",
           "title": {
            "standoff": 15
           },
           "zerolinecolor": "white",
           "zerolinewidth": 2
          }
         }
        },
        "title": {
         "text": "p_plus in state 2"
        },
        "xaxis": {
         "title": {
          "text": "Total amount of work in the system"
         }
        },
        "yaxis": {
         "title": {
          "text": "Probability"
         }
        }
       }
      }
     },
     "metadata": {},
     "output_type": "display_data"
    }
   ],
   "source": [
    "schedule.visualize_p_plus()"
   ]
  }
 ],
 "metadata": {
  "kernelspec": {
   "display_name": "scheduling",
   "language": "python",
   "name": "python3"
  },
  "language_info": {
   "codemirror_mode": {
    "name": "ipython",
    "version": 3
   },
   "file_extension": ".py",
   "mimetype": "text/x-python",
   "name": "python",
   "nbconvert_exporter": "python",
   "pygments_lexer": "ipython3",
   "version": "3.11.3"
  },
  "orig_nbformat": 4
 },
 "nbformat": 4,
 "nbformat_minor": 2
}
