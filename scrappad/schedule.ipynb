{
 "cells": [
  {
   "cell_type": "code",
   "execution_count": 291,
   "metadata": {},
   "outputs": [
    {
     "name": "stderr",
     "output_type": "stream",
     "text": [
      ".\n",
      "----------------------------------------------------------------------\n",
      "Ran 1 test in 0.002s\n",
      "\n",
      "OK\n"
     ]
    }
   ],
   "source": [
    "import numpy as np\n",
    "from scipy.stats import poisson\n",
    "import plotly.graph_objs as go\n",
    "import plotly.offline as pyo\n",
    "import unittest\n",
    "\n",
    "# \"\"\"\n",
    "# Function to calculate the convolution of two arrays.\n",
    "# \n",
    "# Args:\n",
    "#     a (numpy.ndarray): The first array to be convolved.\n",
    "#     b (numpy.ndarray): The second array to be convolved.\n",
    "# \n",
    "# Returns:\n",
    "#     numpy.ndarray: The convolution of the two input arrays.\n",
    "# \"\"\"\n",
    "def convolve(a, b):\n",
    "    \n",
    "    # Initialize an empty array to store the result.\n",
    "    c = np.array([])\n",
    "    \n",
    "    # Compute the convolution of the two arrays.\n",
    "    for i in range(len(a)):\n",
    "        # Get subsets of array expanded to the right.\n",
    "        a_sub = a[0:i + 1].copy()\n",
    "        b_sub = b[0:i + 1].copy()\n",
    "        # Reverse b.\n",
    "        b_rev = b_sub[::-1]\n",
    "        # Compute the dot product of a and b_rev.\n",
    "        c = np.append(c, np.dot(a_sub, b_rev))\n",
    "    \n",
    "    for i in range(1,len(a)):\n",
    "        # Get subsets of array collapse from the right.\n",
    "        a_sub = a[i:].copy()\n",
    "        b_sub = b[i:].copy()\n",
    "        # Reverse b.\n",
    "        b_rev = b_sub[::-1]\n",
    "        # Compute the dot product of a and b_rev.\n",
    "        c = np.append(c, np.dot(a_sub, b_rev))\n",
    "        \n",
    "    return c\n",
    "\n",
    "\n",
    "# \"\"\"\n",
    "# Function to convolve a distribution with itself n times.\n",
    "# \n",
    "# Args:\n",
    "#     a (numpy.ndarray): The distribution to be convolved.\n",
    "#     n (int): The number of times to convolve the distribution with itself.\n",
    "# \n",
    "# Returns:\n",
    "#     numpy.ndarray: The convolution of the input distribution with itself n times.\n",
    "# \"\"\"\n",
    "def convolve_n(a, n):\n",
    "        \n",
    "    # Initialize an empty array to store the result.\n",
    "    c = np.array([])\n",
    "    \n",
    "    # If n is 0, return an array of zeros with length equal to the length of a, except for the first element which is 1.\n",
    "    if n == 0:\n",
    "        c = np.array(np.zeros(len(a)), dtype=np.float64)\n",
    "        c[0] = 1\n",
    "        return c\n",
    "    \n",
    "    # Convolve the distribution with itself n times.\n",
    "    for i in range(n):\n",
    "        # If this is the first iteration, set c equal to a.\n",
    "        if i == 0:\n",
    "            c = a\n",
    "        # Otherwise, convolve c with a.\n",
    "        else:\n",
    "            c = np.convolve(c, a)\n",
    "            \n",
    "    return c\n",
    "# \n",
    "# \"\"\"\n",
    "# Function to create an array of zero arrays according to a given shape array.\n",
    "# \n",
    "# Args:\n",
    "#      num_zeros (numpy.ndarray): The shape array.\n",
    "#      l (int): The length of the zeros array.\n",
    "#  \n",
    "# Returns:\n",
    "#      numpy.ndarray: The convolution of the input distribution with itself n times.\n",
    "# \"\"\"\n",
    "\n",
    "def zero_arrays(num_zeros, l):\n",
    "    result = []\n",
    "    for n in num_zeros:\n",
    "        zeros = np.zeros(l)\n",
    "        result.append([zeros] * n)\n",
    "    return result\n",
    "\n",
    "zero_arrays(np.array([1, 0, 3]), 4)\n",
    "\n",
    "def calc_distr_limit(l):\n",
    "    return int(max(l+4*l**0.5, 100))\n",
    "\n",
    "\n",
    "class TestConvolve(unittest.TestCase):\n",
    "    \n",
    "    def test_convolve(self):\n",
    "        a = np.array([\n",
    "            0.4456796414,\n",
    "            0.160623141,\n",
    "            0.137676978,\n",
    "            0.1032577335])\n",
    "\n",
    "        b = np.array([\n",
    "            0.006737946999,\n",
    "            0.033689735,\n",
    "            0.08422433749,\n",
    "            0.1403738958])\n",
    "\n",
    "        expected_output = np.convolve(a, b)\n",
    "        \n",
    "        self.assertTrue(np.allclose(convolve(a, b), expected_output))\n",
    "        \n",
    "if __name__ == '__main__':\n",
    "    unittest.main(argv=['first-arg-is-ignored'], exit=False)"
   ]
  },
  {
   "cell_type": "code",
   "execution_count": 292,
   "metadata": {},
   "outputs": [
    {
     "data": {
      "text/plain": [
       "[[array([0., 0., 0., 0.])],\n",
       " [],\n",
       " [array([0., 0., 0., 0.]), array([0., 0., 0., 0.]), array([0., 0., 0., 0.])]]"
      ]
     },
     "execution_count": 292,
     "metadata": {},
     "output_type": "execute_result"
    }
   ],
   "source": [
    "zero_arrays(np.array([1, 0, 3]), 4)"
   ]
  },
  {
   "attachments": {},
   "cell_type": "markdown",
   "metadata": {},
   "source": [
    "A schedule with T intervals can have T states. A state of a schedule at interval T is defined by $p^-_t(i)$, the amount of work left at the end of the state at interval $t-1$ and $v_t(i)$, the arriving amount of work in interval $t$."
   ]
  },
  {
   "cell_type": "code",
   "execution_count": 308,
   "metadata": {},
   "outputs": [],
   "source": [
    "\n",
    "\"\"\"\n",
    "A schedule class with a constructor and a method to calculate the system states.\n",
    "\"\"\"\n",
    "class Schedule:\n",
    "    def __init__(self, x, d, s):\n",
    "            # Initialize the parameters dictionary with x, d, and s.\n",
    "            self.parameters = dict({'x': x, 'd': d, 's': s})\n",
    "            # Initialize the system dictionary with p_min and v.\n",
    "            self.system = dict({\n",
    "                'p_min': np.zeros((len(self.parameters['x']), len(self.parameters['s'])), dtype=np.float64),\n",
    "                'p_plus': np.zeros((len(self.parameters['x']), len(self.parameters['s'])), dtype=np.float64)\n",
    "            })\n",
    "            # Set the initial state to 0.\n",
    "            self.state = 0\n",
    "            # Set the first element of p_min in the initial state to 1.\n",
    "            self.system['p_min'][self.state][0] = 1\n",
    "            # Set the first row of v to s.\n",
    "            # self.system['v'][self.state] = convolve_n(self.parameters['s'].copy(), self.parameters['x'][self.state])[:(len(self.parameters['s']))]\n",
    "            # Set p_plus to v.\n",
    "            # self.system['p_plus'] = self.system['v'].copy()\n",
    "            # Initialize array of arrays for saving waiting times distributions per patient\n",
    "            self.system['w'] = zero_arrays(self.parameters['x'].copy(), len(self.parameters['s']))\n",
    "            if(self.parameters['x'][0] > 0): # Only calculate waiting times if there are patients scheduled in the state\n",
    "                     self.system['w'][0][0] = self.system['p_min'][0].copy()\n",
    "                     for i in range(1, self.parameters['x'][0]):\n",
    "                            self.system['w'][0][i] = np.convolve(self.system['w'][0][i-1], self.parameters['s'])[:(len(self.parameters['s']))]\n",
    "            self.system['p_plus'][0] = self.system['p_min'][0].copy() if self.parameters['x'][0] == 0 else np.convolve(self.system['w'][0][-1], self.parameters['s'])[:(len(self.parameters['s']))]\n",
    "            # Initializ array for saving total expected waiting times per state\n",
    "            self.system['ew'] = np.zeros(len(self.parameters['x']), dtype=np.float64)\n",
    "        \n",
    "    def calculate_system_states(self, until = 1):\n",
    "\n",
    "            while self.state < until:\n",
    "                \"\"\"Set state to 1, because state 0 has already been calculated in the constructor.\n",
    "                TO CHECK: WHAT HAPPENS IF SOMETHING CHANGES IN STATE 0?\n",
    "                \"\"\"\n",
    "                \n",
    "                self.state += 1\n",
    "                \n",
    "                \"\"\"The probability that the amount of work left in the system equals zero just before state t starts is the probablity that the total amount work in state t-1 was less than or equal to the interval length d.\"\"\"\n",
    "                \n",
    "                self.system['p_min'][self.state][0] = np.sum(self.system['p_plus'][self.state-1][:(self.parameters['d'] + 1)])\n",
    "                \n",
    "                \"\"\"The probability that the amount of work left in the system equals i just before state t starts is the probablity that the total amount work in state t-1 exceeded the interval length d with amount i.\"\"\"\n",
    "                \n",
    "                self.system['p_min'][self.state][1:(-1*self.parameters['d'])] = self.system['p_plus'][self.state-1][(self.parameters['d'] + 1):]\n",
    "                \n",
    "                \"\"\"Service time distribution are calculated as n times convolutions, where n is the number of clients scheduled. The resulting vector is truncated to the length of the service time distribution.\"\"\"\n",
    "                # self.system['v'][self.state] = convolve_n(self.parameters['s'].copy(), self.parameters['x'][self.state])[:(len(self.parameters['s']))]\n",
    "                \n",
    "                \"\"\"The distribution of waiting times of the first patient in state t equals p_min. \n",
    "                The distribution of waiting times of the second patient in state t equals the convolution of the distribution \n",
    "                of waiting times of the first patient in state t and the service time distribution. \n",
    "                The resulting vector is truncated to the length of the service time distribution.\"\"\"\n",
    "                if(self.parameters['x'][self.state] > 0): # Only calculate waiting times if there are patients scheduled in the state\n",
    "                     self.system['w'][self.state][0] = self.system['p_min'][self.state].copy()\n",
    "                     for i in range(1, self.parameters['x'][self.state]):\n",
    "                            self.system['w'][self.state][i] = np.convolve(self.system['w'][self.state][i-1], self.parameters['s'])[:(len(self.parameters['s']))]\n",
    "\n",
    "                \n",
    "                \n",
    "                \"\"\"The probablitity that the amount of work left in the system equals i just before state t ends equals \n",
    "                the convolution of the waiting time distribution of the last arriving patient and the service time distribution. \n",
    "                Unless there are no patients in the state t. In that case the distributio of total work just before t ends is equal \n",
    "                to the distribution of work at the beginning of t. \n",
    "                The resulting vector is truncated to the length of the service time distribution.\"\"\"\n",
    "                self.system['p_plus'][self.state] = self.system['p_min'][self.state].copy() if self.parameters['x'][self.state] == 0 else np.convolve(self.system['w'][self.state][-1], self.parameters['s'])[:(len(self.parameters['s']))]\n",
    "    \n",
    "    def calculate_wait_times(self, until = 1):\n",
    "    # Initialize time counter\n",
    "      t = 0\n",
    "      # Calculate the expected waiting time for each time step\n",
    "      for t, w in enumerate(self.system['w']):\n",
    "          ew = 0\n",
    "          for i in w:\n",
    "              # Calculate the weighted sum of the waiting time distribution\n",
    "              a = range(len(i))\n",
    "              b = i\n",
    "              wt = np.dot(a, b)\n",
    "              ew += wt\n",
    "          # Store the expected waiting time for the current time step\n",
    "          self.system['ew'][t] = ew\n",
    "        \n",
    "        \n",
    "    def visualize_state(self, state=-1, dist='p_plus'):\n",
    "        \"\"\"\n",
    "        Visualize a distribution in the last given state.\n",
    "        \"\"\"\n",
    "        if state == -1:\n",
    "            state = self.state\n",
    "        trace = go.Scatter(\n",
    "            x=list(range(len(self.system[dist][state]))),\n",
    "            y=self.system[dist][state],\n",
    "            mode='lines'\n",
    "        )\n",
    "        \n",
    "        data = [trace]\n",
    "        \n",
    "        layout = go.Layout(\n",
    "            title=f'{dist} in state {state}',\n",
    "            xaxis=dict(title='Time'),\n",
    "            yaxis=dict(title='Probability')\n",
    "        )\n",
    "        \n",
    "        fig = go.Figure(data=data, layout=layout)\n",
    "        pyo.iplot(fig)\n",
    "    \n",
    "    def visualize_system(self, dist='p_plus'):\n",
    "         \n",
    "         trace = go.Heatmap(\n",
    "                    z=self.system[dist],\n",
    "                    text=np.around(self.system[dist], 2),\n",
    "                    texttemplate=\"%{text}\",\n",
    "                    textfont={\"size\":10}\n",
    "                    )\n",
    "         data = [trace]\n",
    "\n",
    "         layout = go.Layout(\n",
    "            title=f'{dist}',\n",
    "            xaxis=dict(title='Time'),\n",
    "            yaxis=dict(title='Probability')\n",
    "        )\n",
    "         fig = go.Figure(data=data, layout=layout)\n",
    "         fig.show()\n",
    "        \n",
    "    def __str__(self):\n",
    "        \"\"\"\n",
    "        Print all probabilities\n",
    "        \"\"\"\n",
    "        return(\"p_min = % s \\nw = % s \\np_plus = % s \\new = % s\" % (self.system['p_min'], self.system['w'], self.system['p_plus'], self.system['ew']))"
   ]
  },
  {
   "cell_type": "markdown",
   "metadata": {},
   "source": [
    "The code above defines a `Schedule` class that is used to calculate the probability distributions of the amount of work in a system at different states. The class has a constructor that takes three parameters `x`, `d`, and `s`, which represent the number of clients scheduled, the interval length, and the service time distribution, respectively. \n",
    "\n",
    "The constructor initializes the `parameters` dictionary with the input parameters, and the `system` dictionary with two NumPy arrays `p_min` and `p_plus`. The `p_min` array represents the probability distribution of the amount of work in the system just before a state starts, and the `p_plus` array represents the probability distribution of the total amount of work in the system until a state ends. The constructor also initializes the `state` variable to 0, and sets the first element of `p_min` in the initial state to 1. Additionally, the constructor initializes an array of arrays for saving waiting times distributions per patient, `w`, and an array for saving total expected waiting times per state, `ew`.\n",
    "\n",
    "The `Schedule` class has two methods `calculate_system_states` and `calculate_wait_times`. The `calculate_system_states` method calculates the probability distributions of the amount of work in the system at different states. The method uses a while loop to iterate over the states, starting from state 1. For each state, the method calculates the probability distribution of the amount of work in the system just before the state starts (`p_min`), and the probability distribution of the amount of work in the system just after the state ends (`p_plus`). The method also calculates the waiting time distribution of the patients in the state (`w`). The `calculate_wait_times` method calculates the expected waiting time for each time step.\n",
    "\n",
    "The `Schedule` class also has a `visualize_p_plus` method that visualizes the `p_plus` array in the last calculated state. The method uses the Plotly library to create a scatter plot of the `p_plus` array.\n",
    "\n",
    "Finally, the `Schedule` class has a `__str__` method that returns a string representation of the `p_min`, `w`, `p_plus`, and `ew` arrays. \n",
    "\n",
    "To improve the readability of the code, the `Schedule` class could be refactored to use more descriptive variable names. Additionally, the `calculate_system_states` method could be split into smaller methods to improve its readability and maintainability. Finally, the `visualize_p_plus` method could be modified to take a state parameter, allowing the user to visualize the `p_plus` array for any state."
   ]
  },
  {
   "cell_type": "code",
   "execution_count": 309,
   "metadata": {},
   "outputs": [],
   "source": [
    "def run_schedule(x, d, s, u=1, print_schedule=True):\n",
    "  schedule = Schedule(x=x, d=d, s=s)\n",
    "  schedule.calculate_system_states(until=u)\n",
    "  schedule.calculate_wait_times(until=u)\n",
    "  if(print_schedule): print(schedule)\n",
    "  return(schedule)"
   ]
  },
  {
   "cell_type": "code",
   "execution_count": 311,
   "metadata": {},
   "outputs": [
    {
     "data": {
      "application/vnd.plotly.v1+json": {
       "config": {
        "plotlyServerURL": "https://plot.ly"
       },
       "data": [
        {
         "text": [
          [
           1,
           0,
           0,
           0,
           0,
           0,
           0,
           0,
           0,
           0,
           0,
           0,
           0,
           0
          ],
          [
           0.31,
           0.2,
           0.19,
           0.15,
           0.09,
           0.04,
           0.02,
           0,
           0,
           0,
           0,
           0,
           0,
           0
          ],
          [
           0.85,
           0.09,
           0.04,
           0.02,
           0,
           0,
           0,
           0,
           0,
           0,
           0,
           0,
           0,
           0
          ],
          [
           0.07,
           0.08,
           0.12,
           0.15,
           0.16,
           0.15,
           0.11,
           0.07,
           0.04,
           0.02,
           0.01,
           0,
           0,
           0
          ],
          [
           0.16,
           0.11,
           0.13,
           0.14,
           0.14,
           0.11,
           0.09,
           0.06,
           0.03,
           0.02,
           0.01,
           0,
           0,
           0
          ]
         ],
         "textfont": {
          "size": 10
         },
         "texttemplate": "%{text}",
         "type": "heatmap",
         "z": [
          [
           1,
           0,
           0,
           0,
           0,
           0,
           0,
           0,
           0,
           0,
           0,
           0,
           0,
           0
          ],
          [
           0.31000000000000005,
           0.2,
           0.19,
           0.15000000000000002,
           0.09,
           0.0425,
           0.015,
           0.0025000000000000005,
           0,
           0,
           0,
           0,
           0,
           0
          ],
          [
           0.85,
           0.09,
           0.0425,
           0.015,
           0.0025000000000000005,
           0,
           0,
           0,
           0,
           0,
           0,
           0,
           0,
           0
          ],
          [
           0.06913250000000001,
           0.08326,
           0.124165,
           0.15440625000000002,
           0.16200125,
           0.14572875000000002,
           0.11234375,
           0.074563125,
           0.04231,
           0.020281875,
           0.008180000000000003,
           0,
           0,
           0
          ],
          [
           0.157952125,
           0.11135275,
           0.134073625,
           0.1426495,
           0.13541312500000002,
           0.114013,
           0.08528725000000001,
           0.056618,
           0.032984218749999995,
           0.01658503125,
           0.00679378125,
           0,
           0,
           0
          ]
         ]
        }
       ],
       "layout": {
        "template": {
         "data": {
          "bar": [
           {
            "error_x": {
             "color": "#2a3f5f"
            },
            "error_y": {
             "color": "#2a3f5f"
            },
            "marker": {
             "line": {
              "color": "#E5ECF6",
              "width": 0.5
             },
             "pattern": {
              "fillmode": "overlay",
              "size": 10,
              "solidity": 0.2
             }
            },
            "type": "bar"
           }
          ],
          "barpolar": [
           {
            "marker": {
             "line": {
              "color": "#E5ECF6",
              "width": 0.5
             },
             "pattern": {
              "fillmode": "overlay",
              "size": 10,
              "solidity": 0.2
             }
            },
            "type": "barpolar"
           }
          ],
          "carpet": [
           {
            "aaxis": {
             "endlinecolor": "#2a3f5f",
             "gridcolor": "white",
             "linecolor": "white",
             "minorgridcolor": "white",
             "startlinecolor": "#2a3f5f"
            },
            "baxis": {
             "endlinecolor": "#2a3f5f",
             "gridcolor": "white",
             "linecolor": "white",
             "minorgridcolor": "white",
             "startlinecolor": "#2a3f5f"
            },
            "type": "carpet"
           }
          ],
          "choropleth": [
           {
            "colorbar": {
             "outlinewidth": 0,
             "ticks": ""
            },
            "type": "choropleth"
           }
          ],
          "contour": [
           {
            "colorbar": {
             "outlinewidth": 0,
             "ticks": ""
            },
            "colorscale": [
             [
              0,
              "#0d0887"
             ],
             [
              0.1111111111111111,
              "#46039f"
             ],
             [
              0.2222222222222222,
              "#7201a8"
             ],
             [
              0.3333333333333333,
              "#9c179e"
             ],
             [
              0.4444444444444444,
              "#bd3786"
             ],
             [
              0.5555555555555556,
              "#d8576b"
             ],
             [
              0.6666666666666666,
              "#ed7953"
             ],
             [
              0.7777777777777778,
              "#fb9f3a"
             ],
             [
              0.8888888888888888,
              "#fdca26"
             ],
             [
              1,
              "#f0f921"
             ]
            ],
            "type": "contour"
           }
          ],
          "contourcarpet": [
           {
            "colorbar": {
             "outlinewidth": 0,
             "ticks": ""
            },
            "type": "contourcarpet"
           }
          ],
          "heatmap": [
           {
            "colorbar": {
             "outlinewidth": 0,
             "ticks": ""
            },
            "colorscale": [
             [
              0,
              "#0d0887"
             ],
             [
              0.1111111111111111,
              "#46039f"
             ],
             [
              0.2222222222222222,
              "#7201a8"
             ],
             [
              0.3333333333333333,
              "#9c179e"
             ],
             [
              0.4444444444444444,
              "#bd3786"
             ],
             [
              0.5555555555555556,
              "#d8576b"
             ],
             [
              0.6666666666666666,
              "#ed7953"
             ],
             [
              0.7777777777777778,
              "#fb9f3a"
             ],
             [
              0.8888888888888888,
              "#fdca26"
             ],
             [
              1,
              "#f0f921"
             ]
            ],
            "type": "heatmap"
           }
          ],
          "heatmapgl": [
           {
            "colorbar": {
             "outlinewidth": 0,
             "ticks": ""
            },
            "colorscale": [
             [
              0,
              "#0d0887"
             ],
             [
              0.1111111111111111,
              "#46039f"
             ],
             [
              0.2222222222222222,
              "#7201a8"
             ],
             [
              0.3333333333333333,
              "#9c179e"
             ],
             [
              0.4444444444444444,
              "#bd3786"
             ],
             [
              0.5555555555555556,
              "#d8576b"
             ],
             [
              0.6666666666666666,
              "#ed7953"
             ],
             [
              0.7777777777777778,
              "#fb9f3a"
             ],
             [
              0.8888888888888888,
              "#fdca26"
             ],
             [
              1,
              "#f0f921"
             ]
            ],
            "type": "heatmapgl"
           }
          ],
          "histogram": [
           {
            "marker": {
             "pattern": {
              "fillmode": "overlay",
              "size": 10,
              "solidity": 0.2
             }
            },
            "type": "histogram"
           }
          ],
          "histogram2d": [
           {
            "colorbar": {
             "outlinewidth": 0,
             "ticks": ""
            },
            "colorscale": [
             [
              0,
              "#0d0887"
             ],
             [
              0.1111111111111111,
              "#46039f"
             ],
             [
              0.2222222222222222,
              "#7201a8"
             ],
             [
              0.3333333333333333,
              "#9c179e"
             ],
             [
              0.4444444444444444,
              "#bd3786"
             ],
             [
              0.5555555555555556,
              "#d8576b"
             ],
             [
              0.6666666666666666,
              "#ed7953"
             ],
             [
              0.7777777777777778,
              "#fb9f3a"
             ],
             [
              0.8888888888888888,
              "#fdca26"
             ],
             [
              1,
              "#f0f921"
             ]
            ],
            "type": "histogram2d"
           }
          ],
          "histogram2dcontour": [
           {
            "colorbar": {
             "outlinewidth": 0,
             "ticks": ""
            },
            "colorscale": [
             [
              0,
              "#0d0887"
             ],
             [
              0.1111111111111111,
              "#46039f"
             ],
             [
              0.2222222222222222,
              "#7201a8"
             ],
             [
              0.3333333333333333,
              "#9c179e"
             ],
             [
              0.4444444444444444,
              "#bd3786"
             ],
             [
              0.5555555555555556,
              "#d8576b"
             ],
             [
              0.6666666666666666,
              "#ed7953"
             ],
             [
              0.7777777777777778,
              "#fb9f3a"
             ],
             [
              0.8888888888888888,
              "#fdca26"
             ],
             [
              1,
              "#f0f921"
             ]
            ],
            "type": "histogram2dcontour"
           }
          ],
          "mesh3d": [
           {
            "colorbar": {
             "outlinewidth": 0,
             "ticks": ""
            },
            "type": "mesh3d"
           }
          ],
          "parcoords": [
           {
            "line": {
             "colorbar": {
              "outlinewidth": 0,
              "ticks": ""
             }
            },
            "type": "parcoords"
           }
          ],
          "pie": [
           {
            "automargin": true,
            "type": "pie"
           }
          ],
          "scatter": [
           {
            "fillpattern": {
             "fillmode": "overlay",
             "size": 10,
             "solidity": 0.2
            },
            "type": "scatter"
           }
          ],
          "scatter3d": [
           {
            "line": {
             "colorbar": {
              "outlinewidth": 0,
              "ticks": ""
             }
            },
            "marker": {
             "colorbar": {
              "outlinewidth": 0,
              "ticks": ""
             }
            },
            "type": "scatter3d"
           }
          ],
          "scattercarpet": [
           {
            "marker": {
             "colorbar": {
              "outlinewidth": 0,
              "ticks": ""
             }
            },
            "type": "scattercarpet"
           }
          ],
          "scattergeo": [
           {
            "marker": {
             "colorbar": {
              "outlinewidth": 0,
              "ticks": ""
             }
            },
            "type": "scattergeo"
           }
          ],
          "scattergl": [
           {
            "marker": {
             "colorbar": {
              "outlinewidth": 0,
              "ticks": ""
             }
            },
            "type": "scattergl"
           }
          ],
          "scattermapbox": [
           {
            "marker": {
             "colorbar": {
              "outlinewidth": 0,
              "ticks": ""
             }
            },
            "type": "scattermapbox"
           }
          ],
          "scatterpolar": [
           {
            "marker": {
             "colorbar": {
              "outlinewidth": 0,
              "ticks": ""
             }
            },
            "type": "scatterpolar"
           }
          ],
          "scatterpolargl": [
           {
            "marker": {
             "colorbar": {
              "outlinewidth": 0,
              "ticks": ""
             }
            },
            "type": "scatterpolargl"
           }
          ],
          "scatterternary": [
           {
            "marker": {
             "colorbar": {
              "outlinewidth": 0,
              "ticks": ""
             }
            },
            "type": "scatterternary"
           }
          ],
          "surface": [
           {
            "colorbar": {
             "outlinewidth": 0,
             "ticks": ""
            },
            "colorscale": [
             [
              0,
              "#0d0887"
             ],
             [
              0.1111111111111111,
              "#46039f"
             ],
             [
              0.2222222222222222,
              "#7201a8"
             ],
             [
              0.3333333333333333,
              "#9c179e"
             ],
             [
              0.4444444444444444,
              "#bd3786"
             ],
             [
              0.5555555555555556,
              "#d8576b"
             ],
             [
              0.6666666666666666,
              "#ed7953"
             ],
             [
              0.7777777777777778,
              "#fb9f3a"
             ],
             [
              0.8888888888888888,
              "#fdca26"
             ],
             [
              1,
              "#f0f921"
             ]
            ],
            "type": "surface"
           }
          ],
          "table": [
           {
            "cells": {
             "fill": {
              "color": "#EBF0F8"
             },
             "line": {
              "color": "white"
             }
            },
            "header": {
             "fill": {
              "color": "#C8D4E3"
             },
             "line": {
              "color": "white"
             }
            },
            "type": "table"
           }
          ]
         },
         "layout": {
          "annotationdefaults": {
           "arrowcolor": "#2a3f5f",
           "arrowhead": 0,
           "arrowwidth": 1
          },
          "autotypenumbers": "strict",
          "coloraxis": {
           "colorbar": {
            "outlinewidth": 0,
            "ticks": ""
           }
          },
          "colorscale": {
           "diverging": [
            [
             0,
             "#8e0152"
            ],
            [
             0.1,
             "#c51b7d"
            ],
            [
             0.2,
             "#de77ae"
            ],
            [
             0.3,
             "#f1b6da"
            ],
            [
             0.4,
             "#fde0ef"
            ],
            [
             0.5,
             "#f7f7f7"
            ],
            [
             0.6,
             "#e6f5d0"
            ],
            [
             0.7,
             "#b8e186"
            ],
            [
             0.8,
             "#7fbc41"
            ],
            [
             0.9,
             "#4d9221"
            ],
            [
             1,
             "#276419"
            ]
           ],
           "sequential": [
            [
             0,
             "#0d0887"
            ],
            [
             0.1111111111111111,
             "#46039f"
            ],
            [
             0.2222222222222222,
             "#7201a8"
            ],
            [
             0.3333333333333333,
             "#9c179e"
            ],
            [
             0.4444444444444444,
             "#bd3786"
            ],
            [
             0.5555555555555556,
             "#d8576b"
            ],
            [
             0.6666666666666666,
             "#ed7953"
            ],
            [
             0.7777777777777778,
             "#fb9f3a"
            ],
            [
             0.8888888888888888,
             "#fdca26"
            ],
            [
             1,
             "#f0f921"
            ]
           ],
           "sequentialminus": [
            [
             0,
             "#0d0887"
            ],
            [
             0.1111111111111111,
             "#46039f"
            ],
            [
             0.2222222222222222,
             "#7201a8"
            ],
            [
             0.3333333333333333,
             "#9c179e"
            ],
            [
             0.4444444444444444,
             "#bd3786"
            ],
            [
             0.5555555555555556,
             "#d8576b"
            ],
            [
             0.6666666666666666,
             "#ed7953"
            ],
            [
             0.7777777777777778,
             "#fb9f3a"
            ],
            [
             0.8888888888888888,
             "#fdca26"
            ],
            [
             1,
             "#f0f921"
            ]
           ]
          },
          "colorway": [
           "#636efa",
           "#EF553B",
           "#00cc96",
           "#ab63fa",
           "#FFA15A",
           "#19d3f3",
           "#FF6692",
           "#B6E880",
           "#FF97FF",
           "#FECB52"
          ],
          "font": {
           "color": "#2a3f5f"
          },
          "geo": {
           "bgcolor": "white",
           "lakecolor": "white",
           "landcolor": "#E5ECF6",
           "showlakes": true,
           "showland": true,
           "subunitcolor": "white"
          },
          "hoverlabel": {
           "align": "left"
          },
          "hovermode": "closest",
          "mapbox": {
           "style": "light"
          },
          "paper_bgcolor": "white",
          "plot_bgcolor": "#E5ECF6",
          "polar": {
           "angularaxis": {
            "gridcolor": "white",
            "linecolor": "white",
            "ticks": ""
           },
           "bgcolor": "#E5ECF6",
           "radialaxis": {
            "gridcolor": "white",
            "linecolor": "white",
            "ticks": ""
           }
          },
          "scene": {
           "xaxis": {
            "backgroundcolor": "#E5ECF6",
            "gridcolor": "white",
            "gridwidth": 2,
            "linecolor": "white",
            "showbackground": true,
            "ticks": "",
            "zerolinecolor": "white"
           },
           "yaxis": {
            "backgroundcolor": "#E5ECF6",
            "gridcolor": "white",
            "gridwidth": 2,
            "linecolor": "white",
            "showbackground": true,
            "ticks": "",
            "zerolinecolor": "white"
           },
           "zaxis": {
            "backgroundcolor": "#E5ECF6",
            "gridcolor": "white",
            "gridwidth": 2,
            "linecolor": "white",
            "showbackground": true,
            "ticks": "",
            "zerolinecolor": "white"
           }
          },
          "shapedefaults": {
           "line": {
            "color": "#2a3f5f"
           }
          },
          "ternary": {
           "aaxis": {
            "gridcolor": "white",
            "linecolor": "white",
            "ticks": ""
           },
           "baxis": {
            "gridcolor": "white",
            "linecolor": "white",
            "ticks": ""
           },
           "bgcolor": "#E5ECF6",
           "caxis": {
            "gridcolor": "white",
            "linecolor": "white",
            "ticks": ""
           }
          },
          "title": {
           "x": 0.05
          },
          "xaxis": {
           "automargin": true,
           "gridcolor": "white",
           "linecolor": "white",
           "ticks": "",
           "title": {
            "standoff": 15
           },
           "zerolinecolor": "white",
           "zerolinewidth": 2
          },
          "yaxis": {
           "automargin": true,
           "gridcolor": "white",
           "linecolor": "white",
           "ticks": "",
           "title": {
            "standoff": 15
           },
           "zerolinecolor": "white",
           "zerolinewidth": 2
          }
         }
        },
        "title": {
         "text": "p_min"
        },
        "xaxis": {
         "title": {
          "text": "Time"
         }
        },
        "yaxis": {
         "title": {
          "text": "Probability"
         }
        }
       }
      }
     },
     "metadata": {},
     "output_type": "display_data"
    }
   ],
   "source": [
    "\"\"\"Simple test case\"\"\"\n",
    "\n",
    "x = np.array([2, 0, 3, 1, 1], dtype=np.int64)\n",
    "d = 3\n",
    "s=np.array(\n",
    "    [0.1, 0.2, 0.3, 0.2, 0.15, 0.05, 0, 0, 0, 0, 0, 0, 0, 0], dtype=np.float64)\n",
    "u = 4\n",
    "\n",
    "sch = run_schedule(x, d, s, u, False)\n",
    "\n",
    "sch.visualize_system('p_min')"
   ]
  },
  {
   "cell_type": "code",
   "execution_count": 312,
   "metadata": {},
   "outputs": [
    {
     "data": {
      "application/vnd.plotly.v1+json": {
       "config": {
        "plotlyServerURL": "https://plot.ly"
       },
       "data": [
        {
         "text": [
          [
           1,
           0,
           0,
           0,
           0,
           0,
           0,
           0,
           0,
           0,
           0,
           0,
           0,
           0,
           0,
           0,
           0,
           0,
           0,
           0,
           0,
           0,
           0,
           0,
           0,
           0,
           0,
           0,
           0,
           0,
           0,
           0,
           0,
           0,
           0,
           0,
           0,
           0,
           0,
           0,
           0,
           0,
           0,
           0,
           0,
           0,
           0,
           0,
           0,
           0,
           0,
           0,
           0,
           0,
           0,
           0,
           0,
           0,
           0,
           0,
           0,
           0,
           0,
           0,
           0,
           0,
           0,
           0,
           0,
           0,
           0,
           0,
           0,
           0,
           0,
           0,
           0,
           0,
           0,
           0,
           0,
           0,
           0,
           0,
           0,
           0,
           0,
           0,
           0,
           0,
           0,
           0,
           0,
           0,
           0,
           0,
           0,
           0,
           0,
           0,
           0
          ],
          [
           0.15,
           0.13,
           0.16,
           0.16,
           0.14,
           0.1,
           0.07,
           0.04,
           0.02,
           0.01,
           0.01,
           0,
           0,
           0,
           0,
           0,
           0,
           0,
           0,
           0,
           0,
           0,
           0,
           0,
           0,
           0,
           0,
           0,
           0,
           0,
           0,
           0,
           0,
           0,
           0,
           0,
           0,
           0,
           0,
           0,
           0,
           0,
           0,
           0,
           0,
           0,
           0,
           0,
           0,
           0,
           0,
           0,
           0,
           0,
           0,
           0,
           0,
           0,
           0,
           0,
           0,
           0,
           0,
           0,
           0,
           0,
           0,
           0,
           0,
           0,
           0,
           0,
           0,
           0,
           0,
           0,
           0,
           0,
           0,
           0,
           0,
           0,
           0,
           0,
           0,
           0,
           0,
           0,
           0,
           0,
           0,
           0,
           0,
           0,
           0,
           0,
           0,
           0,
           0,
           0,
           0
          ],
          [
           0.61,
           0.14,
           0.1,
           0.07,
           0.04,
           0.02,
           0.01,
           0.01,
           0,
           0,
           0,
           0,
           0,
           0,
           0,
           0,
           0,
           0,
           0,
           0,
           0,
           0,
           0,
           0,
           0,
           0,
           0,
           0,
           0,
           0,
           0,
           0,
           0,
           0,
           0,
           0,
           0,
           0,
           0,
           0,
           0,
           0,
           0,
           0,
           0,
           0,
           0,
           0,
           0,
           0,
           0,
           0,
           0,
           0,
           0,
           0,
           0,
           0,
           0,
           0,
           0,
           0,
           0,
           0,
           0,
           0,
           0,
           0,
           0,
           0,
           0,
           0,
           0,
           0,
           0,
           0,
           0,
           0,
           0,
           0,
           0,
           0,
           0,
           0,
           0,
           0,
           0,
           0,
           0,
           0,
           0,
           0,
           0,
           0,
           0,
           0,
           0,
           0,
           0,
           0,
           0
          ],
          [
           0,
           0,
           0,
           0,
           0,
           0,
           0,
           0,
           0,
           0,
           0,
           0,
           0,
           0,
           0,
           0,
           0,
           0,
           0,
           0,
           0,
           0,
           0,
           0,
           0,
           0,
           0,
           0,
           0,
           0,
           0,
           0,
           0,
           0,
           0,
           0,
           0,
           0,
           0,
           0,
           0,
           0,
           0,
           0,
           0,
           0,
           0,
           0,
           0,
           0,
           0,
           0,
           0,
           0,
           0,
           0,
           0,
           0,
           0,
           0,
           0,
           0,
           0,
           0,
           0,
           0,
           0,
           0,
           0,
           0,
           0,
           0,
           0,
           0,
           0,
           0,
           0,
           0,
           0,
           0,
           0,
           0,
           0,
           0,
           0,
           0,
           0,
           0,
           0,
           0,
           0,
           0,
           0,
           0,
           0,
           0,
           0,
           0,
           0,
           0,
           0
          ],
          [
           0,
           0,
           0,
           0,
           0,
           0,
           0,
           0,
           0,
           0,
           0,
           0,
           0,
           0,
           0,
           0,
           0,
           0,
           0,
           0,
           0,
           0,
           0,
           0,
           0,
           0,
           0,
           0,
           0,
           0,
           0,
           0,
           0,
           0,
           0,
           0,
           0,
           0,
           0,
           0,
           0,
           0,
           0,
           0,
           0,
           0,
           0,
           0,
           0,
           0,
           0,
           0,
           0,
           0,
           0,
           0,
           0,
           0,
           0,
           0,
           0,
           0,
           0,
           0,
           0,
           0,
           0,
           0,
           0,
           0,
           0,
           0,
           0,
           0,
           0,
           0,
           0,
           0,
           0,
           0,
           0,
           0,
           0,
           0,
           0,
           0,
           0,
           0,
           0,
           0,
           0,
           0,
           0,
           0,
           0,
           0,
           0,
           0,
           0,
           0,
           0
          ],
          [
           0,
           0,
           0,
           0,
           0,
           0,
           0,
           0,
           0,
           0,
           0,
           0,
           0,
           0,
           0,
           0,
           0,
           0,
           0,
           0,
           0,
           0,
           0,
           0,
           0,
           0,
           0,
           0,
           0,
           0,
           0,
           0,
           0,
           0,
           0,
           0,
           0,
           0,
           0,
           0,
           0,
           0,
           0,
           0,
           0,
           0,
           0,
           0,
           0,
           0,
           0,
           0,
           0,
           0,
           0,
           0,
           0,
           0,
           0,
           0,
           0,
           0,
           0,
           0,
           0,
           0,
           0,
           0,
           0,
           0,
           0,
           0,
           0,
           0,
           0,
           0,
           0,
           0,
           0,
           0,
           0,
           0,
           0,
           0,
           0,
           0,
           0,
           0,
           0,
           0,
           0,
           0,
           0,
           0,
           0,
           0,
           0,
           0,
           0,
           0,
           0
          ],
          [
           0,
           0,
           0,
           0,
           0,
           0,
           0,
           0,
           0,
           0,
           0,
           0,
           0,
           0,
           0,
           0,
           0,
           0,
           0,
           0,
           0,
           0,
           0,
           0,
           0,
           0,
           0,
           0,
           0,
           0,
           0,
           0,
           0,
           0,
           0,
           0,
           0,
           0,
           0,
           0,
           0,
           0,
           0,
           0,
           0,
           0,
           0,
           0,
           0,
           0,
           0,
           0,
           0,
           0,
           0,
           0,
           0,
           0,
           0,
           0,
           0,
           0,
           0,
           0,
           0,
           0,
           0,
           0,
           0,
           0,
           0,
           0,
           0,
           0,
           0,
           0,
           0,
           0,
           0,
           0,
           0,
           0,
           0,
           0,
           0,
           0,
           0,
           0,
           0,
           0,
           0,
           0,
           0,
           0,
           0,
           0,
           0,
           0,
           0,
           0,
           0
          ]
         ],
         "textfont": {
          "size": 10
         },
         "texttemplate": "%{text}",
         "type": "heatmap",
         "z": [
          [
           1,
           0,
           0,
           0,
           0,
           0,
           0,
           0,
           0,
           0,
           0,
           0,
           0,
           0,
           0,
           0,
           0,
           0,
           0,
           0,
           0,
           0,
           0,
           0,
           0,
           0,
           0,
           0,
           0,
           0,
           0,
           0,
           0,
           0,
           0,
           0,
           0,
           0,
           0,
           0,
           0,
           0,
           0,
           0,
           0,
           0,
           0,
           0,
           0,
           0,
           0,
           0,
           0,
           0,
           0,
           0,
           0,
           0,
           0,
           0,
           0,
           0,
           0,
           0,
           0,
           0,
           0,
           0,
           0,
           0,
           0,
           0,
           0,
           0,
           0,
           0,
           0,
           0,
           0,
           0,
           0,
           0,
           0,
           0,
           0,
           0,
           0,
           0,
           0,
           0,
           0,
           0,
           0,
           0,
           0,
           0,
           0,
           0,
           0,
           0,
           0
          ],
          [
           0.15120388277664787,
           0.13385261753998332,
           0.16062314104797995,
           0.1606231410479801,
           0.1376769780411257,
           0.1032577335308442,
           0.06883848902056285,
           0.04130309341233764,
           0.022528960043093245,
           0.011264480021546681,
           0.005198990779175391,
           0.0022281389053608724,
           0.0008912555621443482,
           0.00033422083580413026,
           0.00011796029498969308,
           0.00003932009832989778,
           0.000012416873156809801,
           0.0000037250619470429406,
           0.0000010643034134408401,
           2.902645673020461e-7,
           7.572119147009894e-8,
           1.8930297867524934e-8,
           4.543271488205989e-9,
           1.0484472665090723e-9,
           2.32988281446462e-10,
           4.992606030995549e-11,
           1.0329529719301272e-11,
           2.0659059438602488e-12,
           3.9985276332778877e-13,
           7.497239312396073e-14,
           1.3631344204356205e-14,
           2.4055313301805628e-15,
           4.1237679945952585e-16,
           6.87294665765867e-17,
           1.1145318904311653e-17,
           1.759787195417585e-18,
           2.7073649160270795e-19,
           4.061047374040583e-20,
           5.942996157132594e-21,
           8.489994510189464e-22,
           1.1846503967705976e-22,
           1.6154323592326577e-23,
           2.1539098123101216e-24,
           2.8094475812742048e-25,
           3.58652882715844e-26,
           4.4831610339482165e-27,
           5.489584939528482e-28,
           6.587501927434127e-29,
           7.750002267569333e-30,
           8.942310308733877e-31,
           1.0123370160830702e-31,
           1.1248189067589723e-32,
           1.2270751710097727e-33,
           1.3147233975104883e-34,
           1.383919365800544e-35,
           1.4316407232419175e-36,
           1.455905820246049e-37,
           1.45590582024598e-38,
           1.4320385117173733e-39,
           1.3858437210168648e-40,
           1.3198511628731983e-41,
           1.237360465193609e-42,
           1.142178890947968e-43,
           1.0383444463163103e-44,
           9.298606981936949e-46,
           8.204653219356074e-47,
           7.134481060309592e-48,
           6.115269480265713e-49,
           5.16783336360472e-50,
           4.3065278030038044e-51,
           3.5396118928798574e-52,
           2.8699555888216585e-53,
           2.295964471057253e-54,
           1.8126035297820186e-55,
           1.4124183348950732e-56,
           1.0864756422270185e-57,
           8.251713738433421e-59,
           6.188785303824384e-60,
           4.584285410240326e-61,
           3.3543551782245456e-62,
           2.424835068596197e-63,
           1.732025048997314e-64,
           1.2226059169392906e-65,
           8.529808722832305e-67,
           5.882626705401346e-68,
           4.0108818445919375e-69,
           2.7039652884890752e-70,
           1.802643525659306e-71,
           1.1885561707643076e-72,
           7.751453287593223e-74,
           5.000937604899062e-75,
           3.192087832914365e-76,
           2.0160554734196607e-77,
           1.2600346708872426e-78,
           7.794028892085978e-80,
           4.771854423726283e-81,
           2.89203298407648e-82,
           1.7352197904459205e-83,
           0,
           0,
           0
          ],
          [
           0.6063027824125913,
           0.1376769780411257,
           0.1032577335308442,
           0.06883848902056285,
           0.04130309341233764,
           0.022528960043093245,
           0.011264480021546681,
           0.005198990779175391,
           0.0022281389053608724,
           0.0008912555621443482,
           0.00033422083580413026,
           0.00011796029498969308,
           0.00003932009832989778,
           0.000012416873156809801,
           0.0000037250619470429406,
           0.0000010643034134408401,
           2.902645673020461e-7,
           7.572119147009894e-8,
           1.8930297867524934e-8,
           4.543271488205989e-9,
           1.0484472665090723e-9,
           2.32988281446462e-10,
           4.992606030995549e-11,
           1.0329529719301272e-11,
           2.0659059438602488e-12,
           3.9985276332778877e-13,
           7.497239312396073e-14,
           1.3631344204356205e-14,
           2.4055313301805628e-15,
           4.1237679945952585e-16,
           6.87294665765867e-17,
           1.1145318904311653e-17,
           1.759787195417585e-18,
           2.7073649160270795e-19,
           4.061047374040583e-20,
           5.942996157132594e-21,
           8.489994510189464e-22,
           1.1846503967705976e-22,
           1.6154323592326577e-23,
           2.1539098123101216e-24,
           2.8094475812742048e-25,
           3.58652882715844e-26,
           4.4831610339482165e-27,
           5.489584939528482e-28,
           6.587501927434127e-29,
           7.750002267569333e-30,
           8.942310308733877e-31,
           1.0123370160830702e-31,
           1.1248189067589723e-32,
           1.2270751710097727e-33,
           1.3147233975104883e-34,
           1.383919365800544e-35,
           1.4316407232419175e-36,
           1.455905820246049e-37,
           1.45590582024598e-38,
           1.4320385117173733e-39,
           1.3858437210168648e-40,
           1.3198511628731983e-41,
           1.237360465193609e-42,
           1.142178890947968e-43,
           1.0383444463163103e-44,
           9.298606981936949e-46,
           8.204653219356074e-47,
           7.134481060309592e-48,
           6.115269480265713e-49,
           5.16783336360472e-50,
           4.3065278030038044e-51,
           3.5396118928798574e-52,
           2.8699555888216585e-53,
           2.295964471057253e-54,
           1.8126035297820186e-55,
           1.4124183348950732e-56,
           1.0864756422270185e-57,
           8.251713738433421e-59,
           6.188785303824384e-60,
           4.584285410240326e-61,
           3.3543551782245456e-62,
           2.424835068596197e-63,
           1.732025048997314e-64,
           1.2226059169392906e-65,
           8.529808722832305e-67,
           5.882626705401346e-68,
           4.0108818445919375e-69,
           2.7039652884890752e-70,
           1.802643525659306e-71,
           1.1885561707643076e-72,
           7.751453287593223e-74,
           5.000937604899062e-75,
           3.192087832914365e-76,
           2.0160554734196607e-77,
           1.2600346708872426e-78,
           7.794028892085978e-80,
           4.771854423726283e-81,
           2.89203298407648e-82,
           1.7352197904459205e-83,
           0,
           0,
           0,
           0,
           0,
           0
          ],
          [
           0,
           0,
           0,
           0,
           0,
           0,
           0,
           0,
           0,
           0,
           0,
           0,
           0,
           0,
           0,
           0,
           0,
           0,
           0,
           0,
           0,
           0,
           0,
           0,
           0,
           0,
           0,
           0,
           0,
           0,
           0,
           0,
           0,
           0,
           0,
           0,
           0,
           0,
           0,
           0,
           0,
           0,
           0,
           0,
           0,
           0,
           0,
           0,
           0,
           0,
           0,
           0,
           0,
           0,
           0,
           0,
           0,
           0,
           0,
           0,
           0,
           0,
           0,
           0,
           0,
           0,
           0,
           0,
           0,
           0,
           0,
           0,
           0,
           0,
           0,
           0,
           0,
           0,
           0,
           0,
           0,
           0,
           0,
           0,
           0,
           0,
           0,
           0,
           0,
           0,
           0,
           0,
           0,
           0,
           0,
           0,
           0,
           0,
           0,
           0,
           0
          ],
          [
           0,
           0,
           0,
           0,
           0,
           0,
           0,
           0,
           0,
           0,
           0,
           0,
           0,
           0,
           0,
           0,
           0,
           0,
           0,
           0,
           0,
           0,
           0,
           0,
           0,
           0,
           0,
           0,
           0,
           0,
           0,
           0,
           0,
           0,
           0,
           0,
           0,
           0,
           0,
           0,
           0,
           0,
           0,
           0,
           0,
           0,
           0,
           0,
           0,
           0,
           0,
           0,
           0,
           0,
           0,
           0,
           0,
           0,
           0,
           0,
           0,
           0,
           0,
           0,
           0,
           0,
           0,
           0,
           0,
           0,
           0,
           0,
           0,
           0,
           0,
           0,
           0,
           0,
           0,
           0,
           0,
           0,
           0,
           0,
           0,
           0,
           0,
           0,
           0,
           0,
           0,
           0,
           0,
           0,
           0,
           0,
           0,
           0,
           0,
           0,
           0
          ],
          [
           0,
           0,
           0,
           0,
           0,
           0,
           0,
           0,
           0,
           0,
           0,
           0,
           0,
           0,
           0,
           0,
           0,
           0,
           0,
           0,
           0,
           0,
           0,
           0,
           0,
           0,
           0,
           0,
           0,
           0,
           0,
           0,
           0,
           0,
           0,
           0,
           0,
           0,
           0,
           0,
           0,
           0,
           0,
           0,
           0,
           0,
           0,
           0,
           0,
           0,
           0,
           0,
           0,
           0,
           0,
           0,
           0,
           0,
           0,
           0,
           0,
           0,
           0,
           0,
           0,
           0,
           0,
           0,
           0,
           0,
           0,
           0,
           0,
           0,
           0,
           0,
           0,
           0,
           0,
           0,
           0,
           0,
           0,
           0,
           0,
           0,
           0,
           0,
           0,
           0,
           0,
           0,
           0,
           0,
           0,
           0,
           0,
           0,
           0,
           0,
           0
          ],
          [
           0,
           0,
           0,
           0,
           0,
           0,
           0,
           0,
           0,
           0,
           0,
           0,
           0,
           0,
           0,
           0,
           0,
           0,
           0,
           0,
           0,
           0,
           0,
           0,
           0,
           0,
           0,
           0,
           0,
           0,
           0,
           0,
           0,
           0,
           0,
           0,
           0,
           0,
           0,
           0,
           0,
           0,
           0,
           0,
           0,
           0,
           0,
           0,
           0,
           0,
           0,
           0,
           0,
           0,
           0,
           0,
           0,
           0,
           0,
           0,
           0,
           0,
           0,
           0,
           0,
           0,
           0,
           0,
           0,
           0,
           0,
           0,
           0,
           0,
           0,
           0,
           0,
           0,
           0,
           0,
           0,
           0,
           0,
           0,
           0,
           0,
           0,
           0,
           0,
           0,
           0,
           0,
           0,
           0,
           0,
           0,
           0,
           0,
           0,
           0,
           0
          ]
         ]
        }
       ],
       "layout": {
        "template": {
         "data": {
          "bar": [
           {
            "error_x": {
             "color": "#2a3f5f"
            },
            "error_y": {
             "color": "#2a3f5f"
            },
            "marker": {
             "line": {
              "color": "#E5ECF6",
              "width": 0.5
             },
             "pattern": {
              "fillmode": "overlay",
              "size": 10,
              "solidity": 0.2
             }
            },
            "type": "bar"
           }
          ],
          "barpolar": [
           {
            "marker": {
             "line": {
              "color": "#E5ECF6",
              "width": 0.5
             },
             "pattern": {
              "fillmode": "overlay",
              "size": 10,
              "solidity": 0.2
             }
            },
            "type": "barpolar"
           }
          ],
          "carpet": [
           {
            "aaxis": {
             "endlinecolor": "#2a3f5f",
             "gridcolor": "white",
             "linecolor": "white",
             "minorgridcolor": "white",
             "startlinecolor": "#2a3f5f"
            },
            "baxis": {
             "endlinecolor": "#2a3f5f",
             "gridcolor": "white",
             "linecolor": "white",
             "minorgridcolor": "white",
             "startlinecolor": "#2a3f5f"
            },
            "type": "carpet"
           }
          ],
          "choropleth": [
           {
            "colorbar": {
             "outlinewidth": 0,
             "ticks": ""
            },
            "type": "choropleth"
           }
          ],
          "contour": [
           {
            "colorbar": {
             "outlinewidth": 0,
             "ticks": ""
            },
            "colorscale": [
             [
              0,
              "#0d0887"
             ],
             [
              0.1111111111111111,
              "#46039f"
             ],
             [
              0.2222222222222222,
              "#7201a8"
             ],
             [
              0.3333333333333333,
              "#9c179e"
             ],
             [
              0.4444444444444444,
              "#bd3786"
             ],
             [
              0.5555555555555556,
              "#d8576b"
             ],
             [
              0.6666666666666666,
              "#ed7953"
             ],
             [
              0.7777777777777778,
              "#fb9f3a"
             ],
             [
              0.8888888888888888,
              "#fdca26"
             ],
             [
              1,
              "#f0f921"
             ]
            ],
            "type": "contour"
           }
          ],
          "contourcarpet": [
           {
            "colorbar": {
             "outlinewidth": 0,
             "ticks": ""
            },
            "type": "contourcarpet"
           }
          ],
          "heatmap": [
           {
            "colorbar": {
             "outlinewidth": 0,
             "ticks": ""
            },
            "colorscale": [
             [
              0,
              "#0d0887"
             ],
             [
              0.1111111111111111,
              "#46039f"
             ],
             [
              0.2222222222222222,
              "#7201a8"
             ],
             [
              0.3333333333333333,
              "#9c179e"
             ],
             [
              0.4444444444444444,
              "#bd3786"
             ],
             [
              0.5555555555555556,
              "#d8576b"
             ],
             [
              0.6666666666666666,
              "#ed7953"
             ],
             [
              0.7777777777777778,
              "#fb9f3a"
             ],
             [
              0.8888888888888888,
              "#fdca26"
             ],
             [
              1,
              "#f0f921"
             ]
            ],
            "type": "heatmap"
           }
          ],
          "heatmapgl": [
           {
            "colorbar": {
             "outlinewidth": 0,
             "ticks": ""
            },
            "colorscale": [
             [
              0,
              "#0d0887"
             ],
             [
              0.1111111111111111,
              "#46039f"
             ],
             [
              0.2222222222222222,
              "#7201a8"
             ],
             [
              0.3333333333333333,
              "#9c179e"
             ],
             [
              0.4444444444444444,
              "#bd3786"
             ],
             [
              0.5555555555555556,
              "#d8576b"
             ],
             [
              0.6666666666666666,
              "#ed7953"
             ],
             [
              0.7777777777777778,
              "#fb9f3a"
             ],
             [
              0.8888888888888888,
              "#fdca26"
             ],
             [
              1,
              "#f0f921"
             ]
            ],
            "type": "heatmapgl"
           }
          ],
          "histogram": [
           {
            "marker": {
             "pattern": {
              "fillmode": "overlay",
              "size": 10,
              "solidity": 0.2
             }
            },
            "type": "histogram"
           }
          ],
          "histogram2d": [
           {
            "colorbar": {
             "outlinewidth": 0,
             "ticks": ""
            },
            "colorscale": [
             [
              0,
              "#0d0887"
             ],
             [
              0.1111111111111111,
              "#46039f"
             ],
             [
              0.2222222222222222,
              "#7201a8"
             ],
             [
              0.3333333333333333,
              "#9c179e"
             ],
             [
              0.4444444444444444,
              "#bd3786"
             ],
             [
              0.5555555555555556,
              "#d8576b"
             ],
             [
              0.6666666666666666,
              "#ed7953"
             ],
             [
              0.7777777777777778,
              "#fb9f3a"
             ],
             [
              0.8888888888888888,
              "#fdca26"
             ],
             [
              1,
              "#f0f921"
             ]
            ],
            "type": "histogram2d"
           }
          ],
          "histogram2dcontour": [
           {
            "colorbar": {
             "outlinewidth": 0,
             "ticks": ""
            },
            "colorscale": [
             [
              0,
              "#0d0887"
             ],
             [
              0.1111111111111111,
              "#46039f"
             ],
             [
              0.2222222222222222,
              "#7201a8"
             ],
             [
              0.3333333333333333,
              "#9c179e"
             ],
             [
              0.4444444444444444,
              "#bd3786"
             ],
             [
              0.5555555555555556,
              "#d8576b"
             ],
             [
              0.6666666666666666,
              "#ed7953"
             ],
             [
              0.7777777777777778,
              "#fb9f3a"
             ],
             [
              0.8888888888888888,
              "#fdca26"
             ],
             [
              1,
              "#f0f921"
             ]
            ],
            "type": "histogram2dcontour"
           }
          ],
          "mesh3d": [
           {
            "colorbar": {
             "outlinewidth": 0,
             "ticks": ""
            },
            "type": "mesh3d"
           }
          ],
          "parcoords": [
           {
            "line": {
             "colorbar": {
              "outlinewidth": 0,
              "ticks": ""
             }
            },
            "type": "parcoords"
           }
          ],
          "pie": [
           {
            "automargin": true,
            "type": "pie"
           }
          ],
          "scatter": [
           {
            "fillpattern": {
             "fillmode": "overlay",
             "size": 10,
             "solidity": 0.2
            },
            "type": "scatter"
           }
          ],
          "scatter3d": [
           {
            "line": {
             "colorbar": {
              "outlinewidth": 0,
              "ticks": ""
             }
            },
            "marker": {
             "colorbar": {
              "outlinewidth": 0,
              "ticks": ""
             }
            },
            "type": "scatter3d"
           }
          ],
          "scattercarpet": [
           {
            "marker": {
             "colorbar": {
              "outlinewidth": 0,
              "ticks": ""
             }
            },
            "type": "scattercarpet"
           }
          ],
          "scattergeo": [
           {
            "marker": {
             "colorbar": {
              "outlinewidth": 0,
              "ticks": ""
             }
            },
            "type": "scattergeo"
           }
          ],
          "scattergl": [
           {
            "marker": {
             "colorbar": {
              "outlinewidth": 0,
              "ticks": ""
             }
            },
            "type": "scattergl"
           }
          ],
          "scattermapbox": [
           {
            "marker": {
             "colorbar": {
              "outlinewidth": 0,
              "ticks": ""
             }
            },
            "type": "scattermapbox"
           }
          ],
          "scatterpolar": [
           {
            "marker": {
             "colorbar": {
              "outlinewidth": 0,
              "ticks": ""
             }
            },
            "type": "scatterpolar"
           }
          ],
          "scatterpolargl": [
           {
            "marker": {
             "colorbar": {
              "outlinewidth": 0,
              "ticks": ""
             }
            },
            "type": "scatterpolargl"
           }
          ],
          "scatterternary": [
           {
            "marker": {
             "colorbar": {
              "outlinewidth": 0,
              "ticks": ""
             }
            },
            "type": "scatterternary"
           }
          ],
          "surface": [
           {
            "colorbar": {
             "outlinewidth": 0,
             "ticks": ""
            },
            "colorscale": [
             [
              0,
              "#0d0887"
             ],
             [
              0.1111111111111111,
              "#46039f"
             ],
             [
              0.2222222222222222,
              "#7201a8"
             ],
             [
              0.3333333333333333,
              "#9c179e"
             ],
             [
              0.4444444444444444,
              "#bd3786"
             ],
             [
              0.5555555555555556,
              "#d8576b"
             ],
             [
              0.6666666666666666,
              "#ed7953"
             ],
             [
              0.7777777777777778,
              "#fb9f3a"
             ],
             [
              0.8888888888888888,
              "#fdca26"
             ],
             [
              1,
              "#f0f921"
             ]
            ],
            "type": "surface"
           }
          ],
          "table": [
           {
            "cells": {
             "fill": {
              "color": "#EBF0F8"
             },
             "line": {
              "color": "white"
             }
            },
            "header": {
             "fill": {
              "color": "#C8D4E3"
             },
             "line": {
              "color": "white"
             }
            },
            "type": "table"
           }
          ]
         },
         "layout": {
          "annotationdefaults": {
           "arrowcolor": "#2a3f5f",
           "arrowhead": 0,
           "arrowwidth": 1
          },
          "autotypenumbers": "strict",
          "coloraxis": {
           "colorbar": {
            "outlinewidth": 0,
            "ticks": ""
           }
          },
          "colorscale": {
           "diverging": [
            [
             0,
             "#8e0152"
            ],
            [
             0.1,
             "#c51b7d"
            ],
            [
             0.2,
             "#de77ae"
            ],
            [
             0.3,
             "#f1b6da"
            ],
            [
             0.4,
             "#fde0ef"
            ],
            [
             0.5,
             "#f7f7f7"
            ],
            [
             0.6,
             "#e6f5d0"
            ],
            [
             0.7,
             "#b8e186"
            ],
            [
             0.8,
             "#7fbc41"
            ],
            [
             0.9,
             "#4d9221"
            ],
            [
             1,
             "#276419"
            ]
           ],
           "sequential": [
            [
             0,
             "#0d0887"
            ],
            [
             0.1111111111111111,
             "#46039f"
            ],
            [
             0.2222222222222222,
             "#7201a8"
            ],
            [
             0.3333333333333333,
             "#9c179e"
            ],
            [
             0.4444444444444444,
             "#bd3786"
            ],
            [
             0.5555555555555556,
             "#d8576b"
            ],
            [
             0.6666666666666666,
             "#ed7953"
            ],
            [
             0.7777777777777778,
             "#fb9f3a"
            ],
            [
             0.8888888888888888,
             "#fdca26"
            ],
            [
             1,
             "#f0f921"
            ]
           ],
           "sequentialminus": [
            [
             0,
             "#0d0887"
            ],
            [
             0.1111111111111111,
             "#46039f"
            ],
            [
             0.2222222222222222,
             "#7201a8"
            ],
            [
             0.3333333333333333,
             "#9c179e"
            ],
            [
             0.4444444444444444,
             "#bd3786"
            ],
            [
             0.5555555555555556,
             "#d8576b"
            ],
            [
             0.6666666666666666,
             "#ed7953"
            ],
            [
             0.7777777777777778,
             "#fb9f3a"
            ],
            [
             0.8888888888888888,
             "#fdca26"
            ],
            [
             1,
             "#f0f921"
            ]
           ]
          },
          "colorway": [
           "#636efa",
           "#EF553B",
           "#00cc96",
           "#ab63fa",
           "#FFA15A",
           "#19d3f3",
           "#FF6692",
           "#B6E880",
           "#FF97FF",
           "#FECB52"
          ],
          "font": {
           "color": "#2a3f5f"
          },
          "geo": {
           "bgcolor": "white",
           "lakecolor": "white",
           "landcolor": "#E5ECF6",
           "showlakes": true,
           "showland": true,
           "subunitcolor": "white"
          },
          "hoverlabel": {
           "align": "left"
          },
          "hovermode": "closest",
          "mapbox": {
           "style": "light"
          },
          "paper_bgcolor": "white",
          "plot_bgcolor": "#E5ECF6",
          "polar": {
           "angularaxis": {
            "gridcolor": "white",
            "linecolor": "white",
            "ticks": ""
           },
           "bgcolor": "#E5ECF6",
           "radialaxis": {
            "gridcolor": "white",
            "linecolor": "white",
            "ticks": ""
           }
          },
          "scene": {
           "xaxis": {
            "backgroundcolor": "#E5ECF6",
            "gridcolor": "white",
            "gridwidth": 2,
            "linecolor": "white",
            "showbackground": true,
            "ticks": "",
            "zerolinecolor": "white"
           },
           "yaxis": {
            "backgroundcolor": "#E5ECF6",
            "gridcolor": "white",
            "gridwidth": 2,
            "linecolor": "white",
            "showbackground": true,
            "ticks": "",
            "zerolinecolor": "white"
           },
           "zaxis": {
            "backgroundcolor": "#E5ECF6",
            "gridcolor": "white",
            "gridwidth": 2,
            "linecolor": "white",
            "showbackground": true,
            "ticks": "",
            "zerolinecolor": "white"
           }
          },
          "shapedefaults": {
           "line": {
            "color": "#2a3f5f"
           }
          },
          "ternary": {
           "aaxis": {
            "gridcolor": "white",
            "linecolor": "white",
            "ticks": ""
           },
           "baxis": {
            "gridcolor": "white",
            "linecolor": "white",
            "ticks": ""
           },
           "bgcolor": "#E5ECF6",
           "caxis": {
            "gridcolor": "white",
            "linecolor": "white",
            "ticks": ""
           }
          },
          "title": {
           "x": 0.05
          },
          "xaxis": {
           "automargin": true,
           "gridcolor": "white",
           "linecolor": "white",
           "ticks": "",
           "title": {
            "standoff": 15
           },
           "zerolinecolor": "white",
           "zerolinewidth": 2
          },
          "yaxis": {
           "automargin": true,
           "gridcolor": "white",
           "linecolor": "white",
           "ticks": "",
           "title": {
            "standoff": 15
           },
           "zerolinecolor": "white",
           "zerolinewidth": 2
          }
         }
        },
        "title": {
         "text": "p_min"
        },
        "xaxis": {
         "title": {
          "text": "Time"
         }
        },
        "yaxis": {
         "title": {
          "text": "Probability"
         }
        }
       }
      }
     },
     "metadata": {},
     "output_type": "display_data"
    }
   ],
   "source": [
    "\"\"\"\"Test case with validation in spreadsheet\n",
    "url: https://docs.google.com/spreadsheets/d/1_l9bMqEfLT2-TpZz3MrDFIid30ZsywTVH8Lzc5uHrGw/edit?usp=sharing\"\"\"\n",
    "x = np.array([1, 0, 1, 0, 1, 0, 1], dtype=np.int64)\n",
    "d = 3\n",
    "l = 6\n",
    "limit = calc_distr_limit(l * x.sum())+1\n",
    "service_times = range(0, limit)\n",
    "s = np.array([poisson.pmf(i, l) for i in service_times], dtype=np.float64)\n",
    "u = 2\n",
    "  \n",
    "sch = run_schedule(x, d, s, u, False)\n",
    "\n",
    "sch.visualize_system('p_min')"
   ]
  },
  {
   "cell_type": "code",
   "execution_count": 317,
   "metadata": {},
   "outputs": [
    {
     "name": "stdout",
     "output_type": "stream",
     "text": [
      "p_min = [[1.00000000e+00 0.00000000e+00 0.00000000e+00 0.00000000e+00\n",
      "  0.00000000e+00 0.00000000e+00 0.00000000e+00 0.00000000e+00\n",
      "  0.00000000e+00 0.00000000e+00 0.00000000e+00 0.00000000e+00\n",
      "  0.00000000e+00 0.00000000e+00 0.00000000e+00 0.00000000e+00\n",
      "  0.00000000e+00 0.00000000e+00 0.00000000e+00 0.00000000e+00\n",
      "  0.00000000e+00 0.00000000e+00 0.00000000e+00 0.00000000e+00\n",
      "  0.00000000e+00 0.00000000e+00 0.00000000e+00 0.00000000e+00\n",
      "  0.00000000e+00 0.00000000e+00 0.00000000e+00 0.00000000e+00\n",
      "  0.00000000e+00 0.00000000e+00 0.00000000e+00 0.00000000e+00\n",
      "  0.00000000e+00 0.00000000e+00 0.00000000e+00 0.00000000e+00\n",
      "  0.00000000e+00 0.00000000e+00 0.00000000e+00 0.00000000e+00\n",
      "  0.00000000e+00 0.00000000e+00 0.00000000e+00 0.00000000e+00\n",
      "  0.00000000e+00 0.00000000e+00 0.00000000e+00 0.00000000e+00\n",
      "  0.00000000e+00 0.00000000e+00 0.00000000e+00 0.00000000e+00\n",
      "  0.00000000e+00 0.00000000e+00 0.00000000e+00 0.00000000e+00\n",
      "  0.00000000e+00 0.00000000e+00 0.00000000e+00 0.00000000e+00\n",
      "  0.00000000e+00 0.00000000e+00 0.00000000e+00 0.00000000e+00\n",
      "  0.00000000e+00 0.00000000e+00 0.00000000e+00 0.00000000e+00\n",
      "  0.00000000e+00 0.00000000e+00 0.00000000e+00 0.00000000e+00\n",
      "  0.00000000e+00 0.00000000e+00 0.00000000e+00 0.00000000e+00\n",
      "  0.00000000e+00 0.00000000e+00 0.00000000e+00 0.00000000e+00\n",
      "  0.00000000e+00 0.00000000e+00 0.00000000e+00 0.00000000e+00\n",
      "  0.00000000e+00 0.00000000e+00 0.00000000e+00 0.00000000e+00\n",
      "  0.00000000e+00 0.00000000e+00 0.00000000e+00 0.00000000e+00\n",
      "  0.00000000e+00 0.00000000e+00 0.00000000e+00 0.00000000e+00\n",
      "  0.00000000e+00]\n",
      " [4.45679641e-01 1.60623141e-01 1.37676978e-01 1.03257734e-01\n",
      "  6.88384890e-02 4.13030934e-02 2.25289600e-02 1.12644800e-02\n",
      "  5.19899078e-03 2.22813891e-03 8.91255562e-04 3.34220836e-04\n",
      "  1.17960295e-04 3.93200983e-05 1.24168732e-05 3.72506195e-06\n",
      "  1.06430341e-06 2.90264567e-07 7.57211915e-08 1.89302979e-08\n",
      "  4.54327149e-09 1.04844727e-09 2.32988281e-10 4.99260603e-11\n",
      "  1.03295297e-11 2.06590594e-12 3.99852763e-13 7.49723931e-14\n",
      "  1.36313442e-14 2.40553133e-15 4.12376799e-16 6.87294666e-17\n",
      "  1.11453189e-17 1.75978720e-18 2.70736492e-19 4.06104737e-20\n",
      "  5.94299616e-21 8.48999451e-22 1.18465040e-22 1.61543236e-23\n",
      "  2.15390981e-24 2.80944758e-25 3.58652883e-26 4.48316103e-27\n",
      "  5.48958494e-28 6.58750193e-29 7.75000227e-30 8.94231031e-31\n",
      "  1.01233702e-31 1.12481891e-32 1.22707517e-33 1.31472340e-34\n",
      "  1.38391937e-35 1.43164072e-36 1.45590582e-37 1.45590582e-38\n",
      "  1.43203851e-39 1.38584372e-40 1.31985116e-41 1.23736047e-42\n",
      "  1.14217889e-43 1.03834445e-44 9.29860698e-46 8.20465322e-47\n",
      "  7.13448106e-48 6.11526948e-49 5.16783336e-50 4.30652780e-51\n",
      "  3.53961189e-52 2.86995559e-53 2.29596447e-54 1.81260353e-55\n",
      "  1.41241833e-56 1.08647564e-57 8.25171374e-59 6.18878530e-60\n",
      "  4.58428541e-61 3.35435518e-62 2.42483507e-63 1.73202505e-64\n",
      "  1.22260592e-65 8.52980872e-67 5.88262671e-68 4.01088184e-69\n",
      "  2.70396529e-70 1.80264353e-71 1.18855617e-72 7.75145329e-74\n",
      "  5.00093760e-75 3.19208783e-76 2.01605547e-77 1.26003467e-78\n",
      "  7.79402889e-80 4.77185442e-81 2.89203298e-82 1.73521979e-83\n",
      "  0.00000000e+00 0.00000000e+00 0.00000000e+00 0.00000000e+00\n",
      "  0.00000000e+00]\n",
      " [9.57379076e-01 2.25289600e-02 1.12644800e-02 5.19899078e-03\n",
      "  2.22813891e-03 8.91255562e-04 3.34220836e-04 1.17960295e-04\n",
      "  3.93200983e-05 1.24168732e-05 3.72506195e-06 1.06430341e-06\n",
      "  2.90264567e-07 7.57211915e-08 1.89302979e-08 4.54327149e-09\n",
      "  1.04844727e-09 2.32988281e-10 4.99260603e-11 1.03295297e-11\n",
      "  2.06590594e-12 3.99852763e-13 7.49723931e-14 1.36313442e-14\n",
      "  2.40553133e-15 4.12376799e-16 6.87294666e-17 1.11453189e-17\n",
      "  1.75978720e-18 2.70736492e-19 4.06104737e-20 5.94299616e-21\n",
      "  8.48999451e-22 1.18465040e-22 1.61543236e-23 2.15390981e-24\n",
      "  2.80944758e-25 3.58652883e-26 4.48316103e-27 5.48958494e-28\n",
      "  6.58750193e-29 7.75000227e-30 8.94231031e-31 1.01233702e-31\n",
      "  1.12481891e-32 1.22707517e-33 1.31472340e-34 1.38391937e-35\n",
      "  1.43164072e-36 1.45590582e-37 1.45590582e-38 1.43203851e-39\n",
      "  1.38584372e-40 1.31985116e-41 1.23736047e-42 1.14217889e-43\n",
      "  1.03834445e-44 9.29860698e-46 8.20465322e-47 7.13448106e-48\n",
      "  6.11526948e-49 5.16783336e-50 4.30652780e-51 3.53961189e-52\n",
      "  2.86995559e-53 2.29596447e-54 1.81260353e-55 1.41241833e-56\n",
      "  1.08647564e-57 8.25171374e-59 6.18878530e-60 4.58428541e-61\n",
      "  3.35435518e-62 2.42483507e-63 1.73202505e-64 1.22260592e-65\n",
      "  8.52980872e-67 5.88262671e-68 4.01088184e-69 2.70396529e-70\n",
      "  1.80264353e-71 1.18855617e-72 7.75145329e-74 5.00093760e-75\n",
      "  3.19208783e-76 2.01605547e-77 1.26003467e-78 7.79402889e-80\n",
      "  4.77185442e-81 2.89203298e-82 1.73521979e-83 0.00000000e+00\n",
      "  0.00000000e+00 0.00000000e+00 0.00000000e+00 0.00000000e+00\n",
      "  0.00000000e+00 0.00000000e+00 0.00000000e+00 0.00000000e+00\n",
      "  0.00000000e+00]\n",
      " [4.35172669e-01 1.59481117e-01 1.38176822e-01 1.04997465e-01\n",
      "  7.11296466e-02 4.35307607e-02 2.43350499e-02 1.25470426e-02\n",
      "  6.01842799e-03 2.70736867e-03 1.15097004e-03 4.65871307e-04\n",
      "  1.80842695e-04 6.77925422e-05 2.46988229e-05 8.79333477e-06\n",
      "  3.07209022e-06 1.05606619e-06 3.57645658e-07 1.19317189e-07\n",
      "  3.91786586e-08 1.26447118e-08 4.00552376e-09 1.24378045e-09\n",
      "  3.78201069e-10 1.12535389e-10 3.27536005e-11 9.32293340e-12\n",
      "  2.59520051e-12 7.06602548e-13 1.88221260e-13 4.90662284e-14\n",
      "  1.25217803e-14 3.12951983e-15 7.66268518e-16 1.83882458e-16\n",
      "  4.32631997e-17 9.98334344e-18 2.26031300e-18 5.02282584e-19\n",
      "  1.09587688e-19 2.34829126e-20 4.94375001e-21 1.02284217e-21\n",
      "  2.08035367e-22 4.16070336e-23 8.18498550e-24 1.58419019e-24\n",
      "  3.01750450e-25 5.65782024e-26 1.04452058e-26 1.89912825e-27\n",
      "  3.40142364e-28 6.00251222e-29 1.04391516e-29 1.78956884e-30\n",
      "  3.02462337e-31 5.04103895e-32 8.28663936e-33 1.34377935e-33\n",
      "  2.15004697e-34 3.39481100e-35 5.29061454e-36 8.13940699e-37\n",
      "  1.23636562e-37 1.85454843e-38 2.74747915e-39 4.02070120e-40\n",
      "  5.81306197e-41 8.30437425e-42 1.17238225e-42 1.63588220e-43\n",
      "  2.25638925e-44 3.07689443e-45 4.14862170e-46 5.53149560e-47\n",
      "  7.29427991e-48 9.51427815e-49 1.22764879e-49 1.56721123e-50\n",
      "  1.97963523e-51 2.47454404e-52 3.06129160e-53 3.74852032e-54\n",
      "  4.54366100e-55 5.45239320e-56 6.47809093e-57 7.62128344e-58\n",
      "  8.87916518e-59 1.02451906e-59 1.17087892e-60 1.32552331e-61\n",
      "  1.48656820e-62 1.65174244e-63 1.81843205e-64 1.98374405e-65\n",
      "  0.00000000e+00 0.00000000e+00 0.00000000e+00 0.00000000e+00\n",
      "  0.00000000e+00]\n",
      " [9.52488479e-01 2.43350499e-02 1.25470426e-02 6.01842799e-03\n",
      "  2.70736867e-03 1.15097004e-03 4.65871307e-04 1.80842695e-04\n",
      "  6.77925422e-05 2.46988229e-05 8.79333477e-06 3.07209022e-06\n",
      "  1.05606619e-06 3.57645658e-07 1.19317189e-07 3.91786586e-08\n",
      "  1.26447118e-08 4.00552376e-09 1.24378045e-09 3.78201069e-10\n",
      "  1.12535389e-10 3.27536005e-11 9.32293340e-12 2.59520051e-12\n",
      "  7.06602548e-13 1.88221260e-13 4.90662284e-14 1.25217803e-14\n",
      "  3.12951983e-15 7.66268518e-16 1.83882458e-16 4.32631997e-17\n",
      "  9.98334344e-18 2.26031300e-18 5.02282584e-19 1.09587688e-19\n",
      "  2.34829126e-20 4.94375001e-21 1.02284217e-21 2.08035367e-22\n",
      "  4.16070336e-23 8.18498550e-24 1.58419019e-24 3.01750450e-25\n",
      "  5.65782024e-26 1.04452058e-26 1.89912825e-27 3.40142364e-28\n",
      "  6.00251222e-29 1.04391516e-29 1.78956884e-30 3.02462337e-31\n",
      "  5.04103895e-32 8.28663936e-33 1.34377935e-33 2.15004697e-34\n",
      "  3.39481100e-35 5.29061454e-36 8.13940699e-37 1.23636562e-37\n",
      "  1.85454843e-38 2.74747915e-39 4.02070120e-40 5.81306197e-41\n",
      "  8.30437425e-42 1.17238225e-42 1.63588220e-43 2.25638925e-44\n",
      "  3.07689443e-45 4.14862170e-46 5.53149560e-47 7.29427991e-48\n",
      "  9.51427815e-49 1.22764879e-49 1.56721123e-50 1.97963523e-51\n",
      "  2.47454404e-52 3.06129160e-53 3.74852032e-54 4.54366100e-55\n",
      "  5.45239320e-56 6.47809093e-57 7.62128344e-58 8.87916518e-59\n",
      "  1.02451906e-59 1.17087892e-60 1.32552331e-61 1.48656820e-62\n",
      "  1.65174244e-63 1.81843205e-64 1.98374405e-65 0.00000000e+00\n",
      "  0.00000000e+00 0.00000000e+00 0.00000000e+00 0.00000000e+00\n",
      "  0.00000000e+00 0.00000000e+00 0.00000000e+00 0.00000000e+00\n",
      "  0.00000000e+00]\n",
      " [0.00000000e+00 0.00000000e+00 0.00000000e+00 0.00000000e+00\n",
      "  0.00000000e+00 0.00000000e+00 0.00000000e+00 0.00000000e+00\n",
      "  0.00000000e+00 0.00000000e+00 0.00000000e+00 0.00000000e+00\n",
      "  0.00000000e+00 0.00000000e+00 0.00000000e+00 0.00000000e+00\n",
      "  0.00000000e+00 0.00000000e+00 0.00000000e+00 0.00000000e+00\n",
      "  0.00000000e+00 0.00000000e+00 0.00000000e+00 0.00000000e+00\n",
      "  0.00000000e+00 0.00000000e+00 0.00000000e+00 0.00000000e+00\n",
      "  0.00000000e+00 0.00000000e+00 0.00000000e+00 0.00000000e+00\n",
      "  0.00000000e+00 0.00000000e+00 0.00000000e+00 0.00000000e+00\n",
      "  0.00000000e+00 0.00000000e+00 0.00000000e+00 0.00000000e+00\n",
      "  0.00000000e+00 0.00000000e+00 0.00000000e+00 0.00000000e+00\n",
      "  0.00000000e+00 0.00000000e+00 0.00000000e+00 0.00000000e+00\n",
      "  0.00000000e+00 0.00000000e+00 0.00000000e+00 0.00000000e+00\n",
      "  0.00000000e+00 0.00000000e+00 0.00000000e+00 0.00000000e+00\n",
      "  0.00000000e+00 0.00000000e+00 0.00000000e+00 0.00000000e+00\n",
      "  0.00000000e+00 0.00000000e+00 0.00000000e+00 0.00000000e+00\n",
      "  0.00000000e+00 0.00000000e+00 0.00000000e+00 0.00000000e+00\n",
      "  0.00000000e+00 0.00000000e+00 0.00000000e+00 0.00000000e+00\n",
      "  0.00000000e+00 0.00000000e+00 0.00000000e+00 0.00000000e+00\n",
      "  0.00000000e+00 0.00000000e+00 0.00000000e+00 0.00000000e+00\n",
      "  0.00000000e+00 0.00000000e+00 0.00000000e+00 0.00000000e+00\n",
      "  0.00000000e+00 0.00000000e+00 0.00000000e+00 0.00000000e+00\n",
      "  0.00000000e+00 0.00000000e+00 0.00000000e+00 0.00000000e+00\n",
      "  0.00000000e+00 0.00000000e+00 0.00000000e+00 0.00000000e+00\n",
      "  0.00000000e+00 0.00000000e+00 0.00000000e+00 0.00000000e+00\n",
      "  0.00000000e+00]\n",
      " [0.00000000e+00 0.00000000e+00 0.00000000e+00 0.00000000e+00\n",
      "  0.00000000e+00 0.00000000e+00 0.00000000e+00 0.00000000e+00\n",
      "  0.00000000e+00 0.00000000e+00 0.00000000e+00 0.00000000e+00\n",
      "  0.00000000e+00 0.00000000e+00 0.00000000e+00 0.00000000e+00\n",
      "  0.00000000e+00 0.00000000e+00 0.00000000e+00 0.00000000e+00\n",
      "  0.00000000e+00 0.00000000e+00 0.00000000e+00 0.00000000e+00\n",
      "  0.00000000e+00 0.00000000e+00 0.00000000e+00 0.00000000e+00\n",
      "  0.00000000e+00 0.00000000e+00 0.00000000e+00 0.00000000e+00\n",
      "  0.00000000e+00 0.00000000e+00 0.00000000e+00 0.00000000e+00\n",
      "  0.00000000e+00 0.00000000e+00 0.00000000e+00 0.00000000e+00\n",
      "  0.00000000e+00 0.00000000e+00 0.00000000e+00 0.00000000e+00\n",
      "  0.00000000e+00 0.00000000e+00 0.00000000e+00 0.00000000e+00\n",
      "  0.00000000e+00 0.00000000e+00 0.00000000e+00 0.00000000e+00\n",
      "  0.00000000e+00 0.00000000e+00 0.00000000e+00 0.00000000e+00\n",
      "  0.00000000e+00 0.00000000e+00 0.00000000e+00 0.00000000e+00\n",
      "  0.00000000e+00 0.00000000e+00 0.00000000e+00 0.00000000e+00\n",
      "  0.00000000e+00 0.00000000e+00 0.00000000e+00 0.00000000e+00\n",
      "  0.00000000e+00 0.00000000e+00 0.00000000e+00 0.00000000e+00\n",
      "  0.00000000e+00 0.00000000e+00 0.00000000e+00 0.00000000e+00\n",
      "  0.00000000e+00 0.00000000e+00 0.00000000e+00 0.00000000e+00\n",
      "  0.00000000e+00 0.00000000e+00 0.00000000e+00 0.00000000e+00\n",
      "  0.00000000e+00 0.00000000e+00 0.00000000e+00 0.00000000e+00\n",
      "  0.00000000e+00 0.00000000e+00 0.00000000e+00 0.00000000e+00\n",
      "  0.00000000e+00 0.00000000e+00 0.00000000e+00 0.00000000e+00\n",
      "  0.00000000e+00 0.00000000e+00 0.00000000e+00 0.00000000e+00\n",
      "  0.00000000e+00]] \n",
      "w = [[array([1., 0., 0., 0., 0., 0., 0., 0., 0., 0., 0., 0., 0., 0., 0., 0., 0.,\n",
      "       0., 0., 0., 0., 0., 0., 0., 0., 0., 0., 0., 0., 0., 0., 0., 0., 0.,\n",
      "       0., 0., 0., 0., 0., 0., 0., 0., 0., 0., 0., 0., 0., 0., 0., 0., 0.,\n",
      "       0., 0., 0., 0., 0., 0., 0., 0., 0., 0., 0., 0., 0., 0., 0., 0., 0.,\n",
      "       0., 0., 0., 0., 0., 0., 0., 0., 0., 0., 0., 0., 0., 0., 0., 0., 0.,\n",
      "       0., 0., 0., 0., 0., 0., 0., 0., 0., 0., 0., 0., 0., 0., 0., 0.])], [], [array([9.57379076e-01, 2.25289600e-02, 1.12644800e-02, 5.19899078e-03,\n",
      "       2.22813891e-03, 8.91255562e-04, 3.34220836e-04, 1.17960295e-04,\n",
      "       3.93200983e-05, 1.24168732e-05, 3.72506195e-06, 1.06430341e-06,\n",
      "       2.90264567e-07, 7.57211915e-08, 1.89302979e-08, 4.54327149e-09,\n",
      "       1.04844727e-09, 2.32988281e-10, 4.99260603e-11, 1.03295297e-11,\n",
      "       2.06590594e-12, 3.99852763e-13, 7.49723931e-14, 1.36313442e-14,\n",
      "       2.40553133e-15, 4.12376799e-16, 6.87294666e-17, 1.11453189e-17,\n",
      "       1.75978720e-18, 2.70736492e-19, 4.06104737e-20, 5.94299616e-21,\n",
      "       8.48999451e-22, 1.18465040e-22, 1.61543236e-23, 2.15390981e-24,\n",
      "       2.80944758e-25, 3.58652883e-26, 4.48316103e-27, 5.48958494e-28,\n",
      "       6.58750193e-29, 7.75000227e-30, 8.94231031e-31, 1.01233702e-31,\n",
      "       1.12481891e-32, 1.22707517e-33, 1.31472340e-34, 1.38391937e-35,\n",
      "       1.43164072e-36, 1.45590582e-37, 1.45590582e-38, 1.43203851e-39,\n",
      "       1.38584372e-40, 1.31985116e-41, 1.23736047e-42, 1.14217889e-43,\n",
      "       1.03834445e-44, 9.29860698e-46, 8.20465322e-47, 7.13448106e-48,\n",
      "       6.11526948e-49, 5.16783336e-50, 4.30652780e-51, 3.53961189e-52,\n",
      "       2.86995559e-53, 2.29596447e-54, 1.81260353e-55, 1.41241833e-56,\n",
      "       1.08647564e-57, 8.25171374e-59, 6.18878530e-60, 4.58428541e-61,\n",
      "       3.35435518e-62, 2.42483507e-63, 1.73202505e-64, 1.22260592e-65,\n",
      "       8.52980872e-67, 5.88262671e-68, 4.01088184e-69, 2.70396529e-70,\n",
      "       1.80264353e-71, 1.18855617e-72, 7.75145329e-74, 5.00093760e-75,\n",
      "       3.19208783e-76, 2.01605547e-77, 1.26003467e-78, 7.79402889e-80,\n",
      "       4.77185442e-81, 2.89203298e-82, 1.73521979e-83, 0.00000000e+00,\n",
      "       0.00000000e+00, 0.00000000e+00, 0.00000000e+00, 0.00000000e+00,\n",
      "       0.00000000e+00, 0.00000000e+00, 0.00000000e+00, 0.00000000e+00,\n",
      "       0.00000000e+00])], [], [array([9.52488479e-01, 2.43350499e-02, 1.25470426e-02, 6.01842799e-03,\n",
      "       2.70736867e-03, 1.15097004e-03, 4.65871307e-04, 1.80842695e-04,\n",
      "       6.77925422e-05, 2.46988229e-05, 8.79333477e-06, 3.07209022e-06,\n",
      "       1.05606619e-06, 3.57645658e-07, 1.19317189e-07, 3.91786586e-08,\n",
      "       1.26447118e-08, 4.00552376e-09, 1.24378045e-09, 3.78201069e-10,\n",
      "       1.12535389e-10, 3.27536005e-11, 9.32293340e-12, 2.59520051e-12,\n",
      "       7.06602548e-13, 1.88221260e-13, 4.90662284e-14, 1.25217803e-14,\n",
      "       3.12951983e-15, 7.66268518e-16, 1.83882458e-16, 4.32631997e-17,\n",
      "       9.98334344e-18, 2.26031300e-18, 5.02282584e-19, 1.09587688e-19,\n",
      "       2.34829126e-20, 4.94375001e-21, 1.02284217e-21, 2.08035367e-22,\n",
      "       4.16070336e-23, 8.18498550e-24, 1.58419019e-24, 3.01750450e-25,\n",
      "       5.65782024e-26, 1.04452058e-26, 1.89912825e-27, 3.40142364e-28,\n",
      "       6.00251222e-29, 1.04391516e-29, 1.78956884e-30, 3.02462337e-31,\n",
      "       5.04103895e-32, 8.28663936e-33, 1.34377935e-33, 2.15004697e-34,\n",
      "       3.39481100e-35, 5.29061454e-36, 8.13940699e-37, 1.23636562e-37,\n",
      "       1.85454843e-38, 2.74747915e-39, 4.02070120e-40, 5.81306197e-41,\n",
      "       8.30437425e-42, 1.17238225e-42, 1.63588220e-43, 2.25638925e-44,\n",
      "       3.07689443e-45, 4.14862170e-46, 5.53149560e-47, 7.29427991e-48,\n",
      "       9.51427815e-49, 1.22764879e-49, 1.56721123e-50, 1.97963523e-51,\n",
      "       2.47454404e-52, 3.06129160e-53, 3.74852032e-54, 4.54366100e-55,\n",
      "       5.45239320e-56, 6.47809093e-57, 7.62128344e-58, 8.87916518e-59,\n",
      "       1.02451906e-59, 1.17087892e-60, 1.32552331e-61, 1.48656820e-62,\n",
      "       1.65174244e-63, 1.81843205e-64, 1.98374405e-65, 0.00000000e+00,\n",
      "       0.00000000e+00, 0.00000000e+00, 0.00000000e+00, 0.00000000e+00,\n",
      "       0.00000000e+00, 0.00000000e+00, 0.00000000e+00, 0.00000000e+00,\n",
      "       0.00000000e+00])], [array([0., 0., 0., 0., 0., 0., 0., 0., 0., 0., 0., 0., 0., 0., 0., 0., 0.,\n",
      "       0., 0., 0., 0., 0., 0., 0., 0., 0., 0., 0., 0., 0., 0., 0., 0., 0.,\n",
      "       0., 0., 0., 0., 0., 0., 0., 0., 0., 0., 0., 0., 0., 0., 0., 0., 0.,\n",
      "       0., 0., 0., 0., 0., 0., 0., 0., 0., 0., 0., 0., 0., 0., 0., 0., 0.,\n",
      "       0., 0., 0., 0., 0., 0., 0., 0., 0., 0., 0., 0., 0., 0., 0., 0., 0.,\n",
      "       0., 0., 0., 0., 0., 0., 0., 0., 0., 0., 0., 0., 0., 0., 0., 0.])], [array([0., 0., 0., 0., 0., 0., 0., 0., 0., 0., 0., 0., 0., 0., 0., 0., 0.,\n",
      "       0., 0., 0., 0., 0., 0., 0., 0., 0., 0., 0., 0., 0., 0., 0., 0., 0.,\n",
      "       0., 0., 0., 0., 0., 0., 0., 0., 0., 0., 0., 0., 0., 0., 0., 0., 0.,\n",
      "       0., 0., 0., 0., 0., 0., 0., 0., 0., 0., 0., 0., 0., 0., 0., 0., 0.,\n",
      "       0., 0., 0., 0., 0., 0., 0., 0., 0., 0., 0., 0., 0., 0., 0., 0., 0.,\n",
      "       0., 0., 0., 0., 0., 0., 0., 0., 0., 0., 0., 0., 0., 0., 0., 0.])]] \n",
      "p_plus = [[2.47875218e-03 1.48725131e-02 4.46175392e-02 8.92350784e-02\n",
      "  1.33852618e-01 1.60623141e-01 1.60623141e-01 1.37676978e-01\n",
      "  1.03257734e-01 6.88384890e-02 4.13030934e-02 2.25289600e-02\n",
      "  1.12644800e-02 5.19899078e-03 2.22813891e-03 8.91255562e-04\n",
      "  3.34220836e-04 1.17960295e-04 3.93200983e-05 1.24168732e-05\n",
      "  3.72506195e-06 1.06430341e-06 2.90264567e-07 7.57211915e-08\n",
      "  1.89302979e-08 4.54327149e-09 1.04844727e-09 2.32988281e-10\n",
      "  4.99260603e-11 1.03295297e-11 2.06590594e-12 3.99852763e-13\n",
      "  7.49723931e-14 1.36313442e-14 2.40553133e-15 4.12376799e-16\n",
      "  6.87294666e-17 1.11453189e-17 1.75978720e-18 2.70736492e-19\n",
      "  4.06104737e-20 5.94299616e-21 8.48999451e-22 1.18465040e-22\n",
      "  1.61543236e-23 2.15390981e-24 2.80944758e-25 3.58652883e-26\n",
      "  4.48316103e-27 5.48958494e-28 6.58750193e-29 7.75000227e-30\n",
      "  8.94231031e-31 1.01233702e-31 1.12481891e-32 1.22707517e-33\n",
      "  1.31472340e-34 1.38391937e-35 1.43164072e-36 1.45590582e-37\n",
      "  1.45590582e-38 1.43203851e-39 1.38584372e-40 1.31985116e-41\n",
      "  1.23736047e-42 1.14217889e-43 1.03834445e-44 9.29860698e-46\n",
      "  8.20465322e-47 7.13448106e-48 6.11526948e-49 5.16783336e-50\n",
      "  4.30652780e-51 3.53961189e-52 2.86995559e-53 2.29596447e-54\n",
      "  1.81260353e-55 1.41241833e-56 1.08647564e-57 8.25171374e-59\n",
      "  6.18878530e-60 4.58428541e-61 3.35435518e-62 2.42483507e-63\n",
      "  1.73202505e-64 1.22260592e-65 8.52980872e-67 5.88262671e-68\n",
      "  4.01088184e-69 2.70396529e-70 1.80264353e-71 1.18855617e-72\n",
      "  7.75145329e-74 5.00093760e-75 3.19208783e-76 2.01605547e-77\n",
      "  1.26003467e-78 7.79402889e-80 4.77185442e-81 2.89203298e-82\n",
      "  1.73521979e-83]\n",
      " [4.45679641e-01 1.60623141e-01 1.37676978e-01 1.03257734e-01\n",
      "  6.88384890e-02 4.13030934e-02 2.25289600e-02 1.12644800e-02\n",
      "  5.19899078e-03 2.22813891e-03 8.91255562e-04 3.34220836e-04\n",
      "  1.17960295e-04 3.93200983e-05 1.24168732e-05 3.72506195e-06\n",
      "  1.06430341e-06 2.90264567e-07 7.57211915e-08 1.89302979e-08\n",
      "  4.54327149e-09 1.04844727e-09 2.32988281e-10 4.99260603e-11\n",
      "  1.03295297e-11 2.06590594e-12 3.99852763e-13 7.49723931e-14\n",
      "  1.36313442e-14 2.40553133e-15 4.12376799e-16 6.87294666e-17\n",
      "  1.11453189e-17 1.75978720e-18 2.70736492e-19 4.06104737e-20\n",
      "  5.94299616e-21 8.48999451e-22 1.18465040e-22 1.61543236e-23\n",
      "  2.15390981e-24 2.80944758e-25 3.58652883e-26 4.48316103e-27\n",
      "  5.48958494e-28 6.58750193e-29 7.75000227e-30 8.94231031e-31\n",
      "  1.01233702e-31 1.12481891e-32 1.22707517e-33 1.31472340e-34\n",
      "  1.38391937e-35 1.43164072e-36 1.45590582e-37 1.45590582e-38\n",
      "  1.43203851e-39 1.38584372e-40 1.31985116e-41 1.23736047e-42\n",
      "  1.14217889e-43 1.03834445e-44 9.29860698e-46 8.20465322e-47\n",
      "  7.13448106e-48 6.11526948e-49 5.16783336e-50 4.30652780e-51\n",
      "  3.53961189e-52 2.86995559e-53 2.29596447e-54 1.81260353e-55\n",
      "  1.41241833e-56 1.08647564e-57 8.25171374e-59 6.18878530e-60\n",
      "  4.58428541e-61 3.35435518e-62 2.42483507e-63 1.73202505e-64\n",
      "  1.22260592e-65 8.52980872e-67 5.88262671e-68 4.01088184e-69\n",
      "  2.70396529e-70 1.80264353e-71 1.18855617e-72 7.75145329e-74\n",
      "  5.00093760e-75 3.19208783e-76 2.01605547e-77 1.26003467e-78\n",
      "  7.79402889e-80 4.77185442e-81 2.89203298e-82 1.73521979e-83\n",
      "  0.00000000e+00 0.00000000e+00 0.00000000e+00 0.00000000e+00\n",
      "  0.00000000e+00]\n",
      " [2.37310547e-03 1.42944765e-02 4.30788826e-02 8.66174018e-02\n",
      "  1.30743507e-01 1.58065295e-01 1.59481117e-01 1.38176822e-01\n",
      "  1.04997465e-01 7.11296466e-02 4.35307607e-02 2.43350499e-02\n",
      "  1.25470426e-02 6.01842799e-03 2.70736867e-03 1.15097004e-03\n",
      "  4.65871307e-04 1.80842695e-04 6.77925422e-05 2.46988229e-05\n",
      "  8.79333477e-06 3.07209022e-06 1.05606619e-06 3.57645658e-07\n",
      "  1.19317189e-07 3.91786586e-08 1.26447118e-08 4.00552376e-09\n",
      "  1.24378045e-09 3.78201069e-10 1.12535389e-10 3.27536005e-11\n",
      "  9.32293340e-12 2.59520051e-12 7.06602548e-13 1.88221260e-13\n",
      "  4.90662284e-14 1.25217803e-14 3.12951983e-15 7.66268518e-16\n",
      "  1.83882458e-16 4.32631997e-17 9.98334344e-18 2.26031300e-18\n",
      "  5.02282584e-19 1.09587688e-19 2.34829126e-20 4.94375001e-21\n",
      "  1.02284217e-21 2.08035367e-22 4.16070336e-23 8.18498550e-24\n",
      "  1.58419019e-24 3.01750450e-25 5.65782024e-26 1.04452058e-26\n",
      "  1.89912825e-27 3.40142364e-28 6.00251222e-29 1.04391516e-29\n",
      "  1.78956884e-30 3.02462337e-31 5.04103895e-32 8.28663936e-33\n",
      "  1.34377935e-33 2.15004697e-34 3.39481100e-35 5.29061454e-36\n",
      "  8.13940699e-37 1.23636562e-37 1.85454843e-38 2.74747915e-39\n",
      "  4.02070120e-40 5.81306197e-41 8.30437425e-42 1.17238225e-42\n",
      "  1.63588220e-43 2.25638925e-44 3.07689443e-45 4.14862170e-46\n",
      "  5.53149560e-47 7.29427991e-48 9.51427815e-49 1.22764879e-49\n",
      "  1.56721123e-50 1.97963523e-51 2.47454404e-52 3.06129160e-53\n",
      "  3.74852032e-54 4.54366100e-55 5.45239320e-56 6.47809093e-57\n",
      "  7.62128344e-58 8.87916518e-59 1.02451906e-59 1.17087892e-60\n",
      "  1.32552331e-61 1.48656820e-62 1.65174244e-63 1.81843205e-64\n",
      "  1.98374405e-65]\n",
      " [4.35172669e-01 1.59481117e-01 1.38176822e-01 1.04997465e-01\n",
      "  7.11296466e-02 4.35307607e-02 2.43350499e-02 1.25470426e-02\n",
      "  6.01842799e-03 2.70736867e-03 1.15097004e-03 4.65871307e-04\n",
      "  1.80842695e-04 6.77925422e-05 2.46988229e-05 8.79333477e-06\n",
      "  3.07209022e-06 1.05606619e-06 3.57645658e-07 1.19317189e-07\n",
      "  3.91786586e-08 1.26447118e-08 4.00552376e-09 1.24378045e-09\n",
      "  3.78201069e-10 1.12535389e-10 3.27536005e-11 9.32293340e-12\n",
      "  2.59520051e-12 7.06602548e-13 1.88221260e-13 4.90662284e-14\n",
      "  1.25217803e-14 3.12951983e-15 7.66268518e-16 1.83882458e-16\n",
      "  4.32631997e-17 9.98334344e-18 2.26031300e-18 5.02282584e-19\n",
      "  1.09587688e-19 2.34829126e-20 4.94375001e-21 1.02284217e-21\n",
      "  2.08035367e-22 4.16070336e-23 8.18498550e-24 1.58419019e-24\n",
      "  3.01750450e-25 5.65782024e-26 1.04452058e-26 1.89912825e-27\n",
      "  3.40142364e-28 6.00251222e-29 1.04391516e-29 1.78956884e-30\n",
      "  3.02462337e-31 5.04103895e-32 8.28663936e-33 1.34377935e-33\n",
      "  2.15004697e-34 3.39481100e-35 5.29061454e-36 8.13940699e-37\n",
      "  1.23636562e-37 1.85454843e-38 2.74747915e-39 4.02070120e-40\n",
      "  5.81306197e-41 8.30437425e-42 1.17238225e-42 1.63588220e-43\n",
      "  2.25638925e-44 3.07689443e-45 4.14862170e-46 5.53149560e-47\n",
      "  7.29427991e-48 9.51427815e-49 1.22764879e-49 1.56721123e-50\n",
      "  1.97963523e-51 2.47454404e-52 3.06129160e-53 3.74852032e-54\n",
      "  4.54366100e-55 5.45239320e-56 6.47809093e-57 7.62128344e-58\n",
      "  8.87916518e-59 1.02451906e-59 1.17087892e-60 1.32552331e-61\n",
      "  1.48656820e-62 1.65174244e-63 1.81843205e-64 1.98374405e-65\n",
      "  0.00000000e+00 0.00000000e+00 0.00000000e+00 0.00000000e+00\n",
      "  0.00000000e+00]\n",
      " [2.36098289e-03 1.42262179e-02 4.28907164e-02 8.62826784e-02\n",
      "  1.30320654e-01 1.57680284e-01 1.59256042e-01 1.38165758e-01\n",
      "  1.05172961e-01 7.14144242e-02 4.38417348e-02 2.46127970e-02\n",
      "  1.27636769e-02 6.17089041e-03 2.80613574e-03 1.21067142e-03\n",
      "  4.99880307e-04 1.99238503e-04 7.72965988e-05 2.94105083e-05\n",
      "  1.10430358e-05 4.10972817e-06 1.51950251e-06 5.58473295e-07\n",
      "  2.03897769e-07 7.38481659e-08 2.64927037e-08 9.40131178e-09\n",
      "  3.29667519e-09 1.14150005e-09 3.90107737e-10 1.31544903e-10\n",
      "  4.37582368e-11 1.43574632e-11 4.64589862e-12 1.48244193e-12\n",
      "  4.66382365e-13 1.44645257e-13 4.42190092e-14 1.33232091e-14\n",
      "  3.95608776e-15 1.15758838e-15 3.33779813e-16 9.48380886e-17\n",
      "  2.65542203e-17 7.32714287e-18 1.99259149e-18 5.34103033e-19\n",
      "  1.41124615e-19 3.67625032e-20 9.44257050e-21 2.39177379e-21\n",
      "  5.97529256e-22 1.47256275e-22 3.58040008e-23 8.59014712e-24\n",
      "  2.03399235e-24 4.75385458e-25 1.09687735e-25 2.49892310e-26\n",
      "  5.62207390e-27 1.24926407e-27 2.74214310e-28 5.94657811e-29\n",
      "  1.27422783e-29 2.69830214e-30 5.64750951e-31 1.16843462e-31\n",
      "  2.38995571e-32 4.83358132e-33 9.66710686e-34 1.91216667e-34\n",
      "  3.74118343e-35 7.24098242e-36 1.38656855e-36 2.62717889e-37\n",
      "  4.92595533e-38 9.14094100e-39 1.67894738e-39 3.05263030e-40\n",
      "  5.49473278e-41 9.79259076e-42 1.72810395e-42 3.01998709e-43\n",
      "  5.22690023e-44 8.96039975e-45 1.52157724e-45 2.55966254e-46\n",
      "  4.26610411e-47 7.04494242e-48 1.15280874e-48 1.86941956e-49\n",
      "  3.00442427e-50 4.78580854e-51 7.55653976e-52 1.18276274e-52\n",
      "  1.83532149e-53 2.82357152e-54 4.30714299e-55 6.51500619e-56\n",
      "  9.77250928e-57]\n",
      " [0.00000000e+00 0.00000000e+00 0.00000000e+00 0.00000000e+00\n",
      "  0.00000000e+00 0.00000000e+00 0.00000000e+00 0.00000000e+00\n",
      "  0.00000000e+00 0.00000000e+00 0.00000000e+00 0.00000000e+00\n",
      "  0.00000000e+00 0.00000000e+00 0.00000000e+00 0.00000000e+00\n",
      "  0.00000000e+00 0.00000000e+00 0.00000000e+00 0.00000000e+00\n",
      "  0.00000000e+00 0.00000000e+00 0.00000000e+00 0.00000000e+00\n",
      "  0.00000000e+00 0.00000000e+00 0.00000000e+00 0.00000000e+00\n",
      "  0.00000000e+00 0.00000000e+00 0.00000000e+00 0.00000000e+00\n",
      "  0.00000000e+00 0.00000000e+00 0.00000000e+00 0.00000000e+00\n",
      "  0.00000000e+00 0.00000000e+00 0.00000000e+00 0.00000000e+00\n",
      "  0.00000000e+00 0.00000000e+00 0.00000000e+00 0.00000000e+00\n",
      "  0.00000000e+00 0.00000000e+00 0.00000000e+00 0.00000000e+00\n",
      "  0.00000000e+00 0.00000000e+00 0.00000000e+00 0.00000000e+00\n",
      "  0.00000000e+00 0.00000000e+00 0.00000000e+00 0.00000000e+00\n",
      "  0.00000000e+00 0.00000000e+00 0.00000000e+00 0.00000000e+00\n",
      "  0.00000000e+00 0.00000000e+00 0.00000000e+00 0.00000000e+00\n",
      "  0.00000000e+00 0.00000000e+00 0.00000000e+00 0.00000000e+00\n",
      "  0.00000000e+00 0.00000000e+00 0.00000000e+00 0.00000000e+00\n",
      "  0.00000000e+00 0.00000000e+00 0.00000000e+00 0.00000000e+00\n",
      "  0.00000000e+00 0.00000000e+00 0.00000000e+00 0.00000000e+00\n",
      "  0.00000000e+00 0.00000000e+00 0.00000000e+00 0.00000000e+00\n",
      "  0.00000000e+00 0.00000000e+00 0.00000000e+00 0.00000000e+00\n",
      "  0.00000000e+00 0.00000000e+00 0.00000000e+00 0.00000000e+00\n",
      "  0.00000000e+00 0.00000000e+00 0.00000000e+00 0.00000000e+00\n",
      "  0.00000000e+00 0.00000000e+00 0.00000000e+00 0.00000000e+00\n",
      "  0.00000000e+00]\n",
      " [0.00000000e+00 0.00000000e+00 0.00000000e+00 0.00000000e+00\n",
      "  0.00000000e+00 0.00000000e+00 0.00000000e+00 0.00000000e+00\n",
      "  0.00000000e+00 0.00000000e+00 0.00000000e+00 0.00000000e+00\n",
      "  0.00000000e+00 0.00000000e+00 0.00000000e+00 0.00000000e+00\n",
      "  0.00000000e+00 0.00000000e+00 0.00000000e+00 0.00000000e+00\n",
      "  0.00000000e+00 0.00000000e+00 0.00000000e+00 0.00000000e+00\n",
      "  0.00000000e+00 0.00000000e+00 0.00000000e+00 0.00000000e+00\n",
      "  0.00000000e+00 0.00000000e+00 0.00000000e+00 0.00000000e+00\n",
      "  0.00000000e+00 0.00000000e+00 0.00000000e+00 0.00000000e+00\n",
      "  0.00000000e+00 0.00000000e+00 0.00000000e+00 0.00000000e+00\n",
      "  0.00000000e+00 0.00000000e+00 0.00000000e+00 0.00000000e+00\n",
      "  0.00000000e+00 0.00000000e+00 0.00000000e+00 0.00000000e+00\n",
      "  0.00000000e+00 0.00000000e+00 0.00000000e+00 0.00000000e+00\n",
      "  0.00000000e+00 0.00000000e+00 0.00000000e+00 0.00000000e+00\n",
      "  0.00000000e+00 0.00000000e+00 0.00000000e+00 0.00000000e+00\n",
      "  0.00000000e+00 0.00000000e+00 0.00000000e+00 0.00000000e+00\n",
      "  0.00000000e+00 0.00000000e+00 0.00000000e+00 0.00000000e+00\n",
      "  0.00000000e+00 0.00000000e+00 0.00000000e+00 0.00000000e+00\n",
      "  0.00000000e+00 0.00000000e+00 0.00000000e+00 0.00000000e+00\n",
      "  0.00000000e+00 0.00000000e+00 0.00000000e+00 0.00000000e+00\n",
      "  0.00000000e+00 0.00000000e+00 0.00000000e+00 0.00000000e+00\n",
      "  0.00000000e+00 0.00000000e+00 0.00000000e+00 0.00000000e+00\n",
      "  0.00000000e+00 0.00000000e+00 0.00000000e+00 0.00000000e+00\n",
      "  0.00000000e+00 0.00000000e+00 0.00000000e+00 0.00000000e+00\n",
      "  0.00000000e+00 0.00000000e+00 0.00000000e+00 0.00000000e+00\n",
      "  0.00000000e+00]] \n",
      "ew = [0.         0.         0.07733487 0.         0.08903611 0.\n",
      " 0.        ]\n"
     ]
    },
    {
     "data": {
      "application/vnd.plotly.v1+json": {
       "config": {
        "plotlyServerURL": "https://plot.ly"
       },
       "data": [
        {
         "text": [
          [
           1,
           0,
           0,
           0,
           0,
           0,
           0,
           0,
           0,
           0,
           0,
           0,
           0,
           0,
           0,
           0,
           0,
           0,
           0,
           0,
           0,
           0,
           0,
           0,
           0,
           0,
           0,
           0,
           0,
           0,
           0,
           0,
           0,
           0,
           0,
           0,
           0,
           0,
           0,
           0,
           0,
           0,
           0,
           0,
           0,
           0,
           0,
           0,
           0,
           0,
           0,
           0,
           0,
           0,
           0,
           0,
           0,
           0,
           0,
           0,
           0,
           0,
           0,
           0,
           0,
           0,
           0,
           0,
           0,
           0,
           0,
           0,
           0,
           0,
           0,
           0,
           0,
           0,
           0,
           0,
           0,
           0,
           0,
           0,
           0,
           0,
           0,
           0,
           0,
           0,
           0,
           0,
           0,
           0,
           0,
           0,
           0,
           0,
           0,
           0,
           0
          ],
          [
           0.45,
           0.16,
           0.14,
           0.1,
           0.07,
           0.04,
           0.02,
           0.01,
           0.01,
           0,
           0,
           0,
           0,
           0,
           0,
           0,
           0,
           0,
           0,
           0,
           0,
           0,
           0,
           0,
           0,
           0,
           0,
           0,
           0,
           0,
           0,
           0,
           0,
           0,
           0,
           0,
           0,
           0,
           0,
           0,
           0,
           0,
           0,
           0,
           0,
           0,
           0,
           0,
           0,
           0,
           0,
           0,
           0,
           0,
           0,
           0,
           0,
           0,
           0,
           0,
           0,
           0,
           0,
           0,
           0,
           0,
           0,
           0,
           0,
           0,
           0,
           0,
           0,
           0,
           0,
           0,
           0,
           0,
           0,
           0,
           0,
           0,
           0,
           0,
           0,
           0,
           0,
           0,
           0,
           0,
           0,
           0,
           0,
           0,
           0,
           0,
           0,
           0,
           0,
           0,
           0
          ],
          [
           0.96,
           0.02,
           0.01,
           0.01,
           0,
           0,
           0,
           0,
           0,
           0,
           0,
           0,
           0,
           0,
           0,
           0,
           0,
           0,
           0,
           0,
           0,
           0,
           0,
           0,
           0,
           0,
           0,
           0,
           0,
           0,
           0,
           0,
           0,
           0,
           0,
           0,
           0,
           0,
           0,
           0,
           0,
           0,
           0,
           0,
           0,
           0,
           0,
           0,
           0,
           0,
           0,
           0,
           0,
           0,
           0,
           0,
           0,
           0,
           0,
           0,
           0,
           0,
           0,
           0,
           0,
           0,
           0,
           0,
           0,
           0,
           0,
           0,
           0,
           0,
           0,
           0,
           0,
           0,
           0,
           0,
           0,
           0,
           0,
           0,
           0,
           0,
           0,
           0,
           0,
           0,
           0,
           0,
           0,
           0,
           0,
           0,
           0,
           0,
           0,
           0,
           0
          ],
          [
           0.44,
           0.16,
           0.14,
           0.1,
           0.07,
           0.04,
           0.02,
           0.01,
           0.01,
           0,
           0,
           0,
           0,
           0,
           0,
           0,
           0,
           0,
           0,
           0,
           0,
           0,
           0,
           0,
           0,
           0,
           0,
           0,
           0,
           0,
           0,
           0,
           0,
           0,
           0,
           0,
           0,
           0,
           0,
           0,
           0,
           0,
           0,
           0,
           0,
           0,
           0,
           0,
           0,
           0,
           0,
           0,
           0,
           0,
           0,
           0,
           0,
           0,
           0,
           0,
           0,
           0,
           0,
           0,
           0,
           0,
           0,
           0,
           0,
           0,
           0,
           0,
           0,
           0,
           0,
           0,
           0,
           0,
           0,
           0,
           0,
           0,
           0,
           0,
           0,
           0,
           0,
           0,
           0,
           0,
           0,
           0,
           0,
           0,
           0,
           0,
           0,
           0,
           0,
           0,
           0
          ],
          [
           0.95,
           0.02,
           0.01,
           0.01,
           0,
           0,
           0,
           0,
           0,
           0,
           0,
           0,
           0,
           0,
           0,
           0,
           0,
           0,
           0,
           0,
           0,
           0,
           0,
           0,
           0,
           0,
           0,
           0,
           0,
           0,
           0,
           0,
           0,
           0,
           0,
           0,
           0,
           0,
           0,
           0,
           0,
           0,
           0,
           0,
           0,
           0,
           0,
           0,
           0,
           0,
           0,
           0,
           0,
           0,
           0,
           0,
           0,
           0,
           0,
           0,
           0,
           0,
           0,
           0,
           0,
           0,
           0,
           0,
           0,
           0,
           0,
           0,
           0,
           0,
           0,
           0,
           0,
           0,
           0,
           0,
           0,
           0,
           0,
           0,
           0,
           0,
           0,
           0,
           0,
           0,
           0,
           0,
           0,
           0,
           0,
           0,
           0,
           0,
           0,
           0,
           0
          ],
          [
           0,
           0,
           0,
           0,
           0,
           0,
           0,
           0,
           0,
           0,
           0,
           0,
           0,
           0,
           0,
           0,
           0,
           0,
           0,
           0,
           0,
           0,
           0,
           0,
           0,
           0,
           0,
           0,
           0,
           0,
           0,
           0,
           0,
           0,
           0,
           0,
           0,
           0,
           0,
           0,
           0,
           0,
           0,
           0,
           0,
           0,
           0,
           0,
           0,
           0,
           0,
           0,
           0,
           0,
           0,
           0,
           0,
           0,
           0,
           0,
           0,
           0,
           0,
           0,
           0,
           0,
           0,
           0,
           0,
           0,
           0,
           0,
           0,
           0,
           0,
           0,
           0,
           0,
           0,
           0,
           0,
           0,
           0,
           0,
           0,
           0,
           0,
           0,
           0,
           0,
           0,
           0,
           0,
           0,
           0,
           0,
           0,
           0,
           0,
           0,
           0
          ],
          [
           0,
           0,
           0,
           0,
           0,
           0,
           0,
           0,
           0,
           0,
           0,
           0,
           0,
           0,
           0,
           0,
           0,
           0,
           0,
           0,
           0,
           0,
           0,
           0,
           0,
           0,
           0,
           0,
           0,
           0,
           0,
           0,
           0,
           0,
           0,
           0,
           0,
           0,
           0,
           0,
           0,
           0,
           0,
           0,
           0,
           0,
           0,
           0,
           0,
           0,
           0,
           0,
           0,
           0,
           0,
           0,
           0,
           0,
           0,
           0,
           0,
           0,
           0,
           0,
           0,
           0,
           0,
           0,
           0,
           0,
           0,
           0,
           0,
           0,
           0,
           0,
           0,
           0,
           0,
           0,
           0,
           0,
           0,
           0,
           0,
           0,
           0,
           0,
           0,
           0,
           0,
           0,
           0,
           0,
           0,
           0,
           0,
           0,
           0,
           0,
           0
          ]
         ],
         "textfont": {
          "size": 10
         },
         "texttemplate": "%{text}",
         "type": "heatmap",
         "z": [
          [
           1,
           0,
           0,
           0,
           0,
           0,
           0,
           0,
           0,
           0,
           0,
           0,
           0,
           0,
           0,
           0,
           0,
           0,
           0,
           0,
           0,
           0,
           0,
           0,
           0,
           0,
           0,
           0,
           0,
           0,
           0,
           0,
           0,
           0,
           0,
           0,
           0,
           0,
           0,
           0,
           0,
           0,
           0,
           0,
           0,
           0,
           0,
           0,
           0,
           0,
           0,
           0,
           0,
           0,
           0,
           0,
           0,
           0,
           0,
           0,
           0,
           0,
           0,
           0,
           0,
           0,
           0,
           0,
           0,
           0,
           0,
           0,
           0,
           0,
           0,
           0,
           0,
           0,
           0,
           0,
           0,
           0,
           0,
           0,
           0,
           0,
           0,
           0,
           0,
           0,
           0,
           0,
           0,
           0,
           0,
           0,
           0,
           0,
           0,
           0,
           0
          ],
          [
           0.44567964136461113,
           0.1606231410479801,
           0.1376769780411257,
           0.1032577335308442,
           0.06883848902056285,
           0.04130309341233764,
           0.022528960043093245,
           0.011264480021546681,
           0.005198990779175391,
           0.0022281389053608724,
           0.0008912555621443482,
           0.00033422083580413026,
           0.00011796029498969308,
           0.00003932009832989778,
           0.000012416873156809801,
           0.0000037250619470429406,
           0.0000010643034134408401,
           2.902645673020461e-7,
           7.572119147009894e-8,
           1.8930297867524934e-8,
           4.543271488205989e-9,
           1.0484472665090723e-9,
           2.32988281446462e-10,
           4.992606030995549e-11,
           1.0329529719301272e-11,
           2.0659059438602488e-12,
           3.9985276332778877e-13,
           7.497239312396073e-14,
           1.3631344204356205e-14,
           2.4055313301805628e-15,
           4.1237679945952585e-16,
           6.87294665765867e-17,
           1.1145318904311653e-17,
           1.759787195417585e-18,
           2.7073649160270795e-19,
           4.061047374040583e-20,
           5.942996157132594e-21,
           8.489994510189464e-22,
           1.1846503967705976e-22,
           1.6154323592326577e-23,
           2.1539098123101216e-24,
           2.8094475812742048e-25,
           3.58652882715844e-26,
           4.4831610339482165e-27,
           5.489584939528482e-28,
           6.587501927434127e-29,
           7.750002267569333e-30,
           8.942310308733877e-31,
           1.0123370160830702e-31,
           1.1248189067589723e-32,
           1.2270751710097727e-33,
           1.3147233975104883e-34,
           1.383919365800544e-35,
           1.4316407232419175e-36,
           1.455905820246049e-37,
           1.45590582024598e-38,
           1.4320385117173733e-39,
           1.3858437210168648e-40,
           1.3198511628731983e-41,
           1.237360465193609e-42,
           1.142178890947968e-43,
           1.0383444463163103e-44,
           9.298606981936949e-46,
           8.204653219356074e-47,
           7.134481060309592e-48,
           6.115269480265713e-49,
           5.16783336360472e-50,
           4.3065278030038044e-51,
           3.5396118928798574e-52,
           2.8699555888216585e-53,
           2.295964471057253e-54,
           1.8126035297820186e-55,
           1.4124183348950732e-56,
           1.0864756422270185e-57,
           8.251713738433421e-59,
           6.188785303824384e-60,
           4.584285410240326e-61,
           3.3543551782245456e-62,
           2.424835068596197e-63,
           1.732025048997314e-64,
           1.2226059169392906e-65,
           8.529808722832305e-67,
           5.882626705401346e-68,
           4.0108818445919375e-69,
           2.7039652884890752e-70,
           1.802643525659306e-71,
           1.1885561707643076e-72,
           7.751453287593223e-74,
           5.000937604899062e-75,
           3.192087832914365e-76,
           2.0160554734196607e-77,
           1.2600346708872426e-78,
           7.794028892085978e-80,
           4.771854423726283e-81,
           2.89203298407648e-82,
           1.7352197904459205e-83,
           0,
           0,
           0,
           0,
           0
          ],
          [
           0.9573790764174617,
           0.022528960043093245,
           0.011264480021546681,
           0.005198990779175391,
           0.0022281389053608724,
           0.0008912555621443482,
           0.00033422083580413026,
           0.00011796029498969308,
           0.00003932009832989778,
           0.000012416873156809801,
           0.0000037250619470429406,
           0.0000010643034134408401,
           2.902645673020461e-7,
           7.572119147009894e-8,
           1.8930297867524934e-8,
           4.543271488205989e-9,
           1.0484472665090723e-9,
           2.32988281446462e-10,
           4.992606030995549e-11,
           1.0329529719301272e-11,
           2.0659059438602488e-12,
           3.9985276332778877e-13,
           7.497239312396073e-14,
           1.3631344204356205e-14,
           2.4055313301805628e-15,
           4.1237679945952585e-16,
           6.87294665765867e-17,
           1.1145318904311653e-17,
           1.759787195417585e-18,
           2.7073649160270795e-19,
           4.061047374040583e-20,
           5.942996157132594e-21,
           8.489994510189464e-22,
           1.1846503967705976e-22,
           1.6154323592326577e-23,
           2.1539098123101216e-24,
           2.8094475812742048e-25,
           3.58652882715844e-26,
           4.4831610339482165e-27,
           5.489584939528482e-28,
           6.587501927434127e-29,
           7.750002267569333e-30,
           8.942310308733877e-31,
           1.0123370160830702e-31,
           1.1248189067589723e-32,
           1.2270751710097727e-33,
           1.3147233975104883e-34,
           1.383919365800544e-35,
           1.4316407232419175e-36,
           1.455905820246049e-37,
           1.45590582024598e-38,
           1.4320385117173733e-39,
           1.3858437210168648e-40,
           1.3198511628731983e-41,
           1.237360465193609e-42,
           1.142178890947968e-43,
           1.0383444463163103e-44,
           9.298606981936949e-46,
           8.204653219356074e-47,
           7.134481060309592e-48,
           6.115269480265713e-49,
           5.16783336360472e-50,
           4.3065278030038044e-51,
           3.5396118928798574e-52,
           2.8699555888216585e-53,
           2.295964471057253e-54,
           1.8126035297820186e-55,
           1.4124183348950732e-56,
           1.0864756422270185e-57,
           8.251713738433421e-59,
           6.188785303824384e-60,
           4.584285410240326e-61,
           3.3543551782245456e-62,
           2.424835068596197e-63,
           1.732025048997314e-64,
           1.2226059169392906e-65,
           8.529808722832305e-67,
           5.882626705401346e-68,
           4.0108818445919375e-69,
           2.7039652884890752e-70,
           1.802643525659306e-71,
           1.1885561707643076e-72,
           7.751453287593223e-74,
           5.000937604899062e-75,
           3.192087832914365e-76,
           2.0160554734196607e-77,
           1.2600346708872426e-78,
           7.794028892085978e-80,
           4.771854423726283e-81,
           2.89203298407648e-82,
           1.7352197904459205e-83,
           0,
           0,
           0,
           0,
           0,
           0,
           0,
           0,
           0,
           0
          ],
          [
           0.43517266852364656,
           0.15948111697565678,
           0.1381768219731816,
           0.10499746451712136,
           0.07112964663828218,
           0.0435307607456834,
           0.024335049863907988,
           0.01254704262977503,
           0.006018427991709521,
           0.00270736866841459,
           0.0011509700424939743,
           0.00046587130652857626,
           0.00018084269543904352,
           0.00006779254215629255,
           0.000024698822932675454,
           0.000008793334771961216,
           0.0000030720902175503205,
           0.0000010560661896908166,
           3.5764565839096516e-7,
           1.1931718888579503e-7,
           3.917865856791507e-8,
           1.264471183900291e-8,
           4.005523755765675e-9,
           1.2437804450143874e-9,
           3.7820106942926844e-10,
           1.1253538949616669e-10,
           3.2753600481382204e-11,
           9.322933397669236e-12,
           2.595200510625631e-12,
           7.066025477020294e-13,
           1.8822125966112697e-13,
           4.906622840378831e-14,
           1.2521780325845038e-14,
           3.1295198331398317e-15,
           7.662685179488023e-16,
           1.838824584075596e-16,
           4.326319969048088e-17,
           9.983343442549885e-18,
           2.2603129996615375e-18,
           5.022825836330819e-19,
           1.0958768787548486e-19,
           2.3482912595390317e-20,
           4.943750005455731e-21,
           1.0228421699024007e-21,
           2.0803536699907906e-22,
           4.1607033622274145e-23,
           8.18498550139429e-24,
           1.5841901932317199e-24,
           3.017504503630078e-25,
           5.657820243152076e-26,
           1.0445205832320538e-26,
           1.8991282500298574e-27,
           3.401423643316406e-28,
           6.002512220028527e-29,
           1.0439151593164164e-29,
           1.7895688351017584e-30,
           3.0246233739306927e-31,
           5.041038947461767e-32,
           8.286639356986969e-33,
           1.3437793543668215e-33,
           2.1500469662259003e-34,
           3.3948109986088085e-35,
           5.290614542660869e-36,
           8.13940698815448e-37,
           1.236365618405406e-37,
           1.8545484275664077e-38,
           2.747479151914843e-39,
           4.020701197894545e-40,
           5.813061972835142e-41,
           8.304374246887452e-42,
           1.1723822466178067e-42,
           1.6358822045817194e-43,
           2.256389247697932e-44,
           3.0768944286782324e-45,
           4.148621701588044e-46,
           5.531495602116951e-47,
           7.294279914879166e-48,
           9.514278149842147e-49,
           1.2276487935280008e-49,
           1.5672112257804132e-50,
           1.9796352325647228e-51,
           2.4745440407058957e-52,
           3.061291596749555e-53,
           3.7485203225504706e-54,
           4.5436609970308674e-55,
           5.452393196437036e-56,
           6.478090926459838e-57,
           7.621283442893922e-58,
           8.879165176187087e-59,
           1.0245190587908168e-59,
           1.1708789243323615e-60,
           1.3255233105649365e-61,
           1.4865681987644142e-62,
           1.6517424430715703e-63,
           1.818432047418242e-64,
           1.9837440517289903e-65,
           0,
           0,
           0,
           0,
           0
          ],
          [
           0.9524884793735718,
           0.024335049863907988,
           0.01254704262977503,
           0.006018427991709521,
           0.00270736866841459,
           0.0011509700424939743,
           0.00046587130652857626,
           0.00018084269543904352,
           0.00006779254215629255,
           0.000024698822932675454,
           0.000008793334771961216,
           0.0000030720902175503205,
           0.0000010560661896908166,
           3.5764565839096516e-7,
           1.1931718888579503e-7,
           3.917865856791507e-8,
           1.264471183900291e-8,
           4.005523755765675e-9,
           1.2437804450143874e-9,
           3.7820106942926844e-10,
           1.1253538949616669e-10,
           3.2753600481382204e-11,
           9.322933397669236e-12,
           2.595200510625631e-12,
           7.066025477020294e-13,
           1.8822125966112697e-13,
           4.906622840378831e-14,
           1.2521780325845038e-14,
           3.1295198331398317e-15,
           7.662685179488023e-16,
           1.838824584075596e-16,
           4.326319969048088e-17,
           9.983343442549885e-18,
           2.2603129996615375e-18,
           5.022825836330819e-19,
           1.0958768787548486e-19,
           2.3482912595390317e-20,
           4.943750005455731e-21,
           1.0228421699024007e-21,
           2.0803536699907906e-22,
           4.1607033622274145e-23,
           8.18498550139429e-24,
           1.5841901932317199e-24,
           3.017504503630078e-25,
           5.657820243152076e-26,
           1.0445205832320538e-26,
           1.8991282500298574e-27,
           3.401423643316406e-28,
           6.002512220028527e-29,
           1.0439151593164164e-29,
           1.7895688351017584e-30,
           3.0246233739306927e-31,
           5.041038947461767e-32,
           8.286639356986969e-33,
           1.3437793543668215e-33,
           2.1500469662259003e-34,
           3.3948109986088085e-35,
           5.290614542660869e-36,
           8.13940698815448e-37,
           1.236365618405406e-37,
           1.8545484275664077e-38,
           2.747479151914843e-39,
           4.020701197894545e-40,
           5.813061972835142e-41,
           8.304374246887452e-42,
           1.1723822466178067e-42,
           1.6358822045817194e-43,
           2.256389247697932e-44,
           3.0768944286782324e-45,
           4.148621701588044e-46,
           5.531495602116951e-47,
           7.294279914879166e-48,
           9.514278149842147e-49,
           1.2276487935280008e-49,
           1.5672112257804132e-50,
           1.9796352325647228e-51,
           2.4745440407058957e-52,
           3.061291596749555e-53,
           3.7485203225504706e-54,
           4.5436609970308674e-55,
           5.452393196437036e-56,
           6.478090926459838e-57,
           7.621283442893922e-58,
           8.879165176187087e-59,
           1.0245190587908168e-59,
           1.1708789243323615e-60,
           1.3255233105649365e-61,
           1.4865681987644142e-62,
           1.6517424430715703e-63,
           1.818432047418242e-64,
           1.9837440517289903e-65,
           0,
           0,
           0,
           0,
           0,
           0,
           0,
           0,
           0,
           0
          ],
          [
           0,
           0,
           0,
           0,
           0,
           0,
           0,
           0,
           0,
           0,
           0,
           0,
           0,
           0,
           0,
           0,
           0,
           0,
           0,
           0,
           0,
           0,
           0,
           0,
           0,
           0,
           0,
           0,
           0,
           0,
           0,
           0,
           0,
           0,
           0,
           0,
           0,
           0,
           0,
           0,
           0,
           0,
           0,
           0,
           0,
           0,
           0,
           0,
           0,
           0,
           0,
           0,
           0,
           0,
           0,
           0,
           0,
           0,
           0,
           0,
           0,
           0,
           0,
           0,
           0,
           0,
           0,
           0,
           0,
           0,
           0,
           0,
           0,
           0,
           0,
           0,
           0,
           0,
           0,
           0,
           0,
           0,
           0,
           0,
           0,
           0,
           0,
           0,
           0,
           0,
           0,
           0,
           0,
           0,
           0,
           0,
           0,
           0,
           0,
           0,
           0
          ],
          [
           0,
           0,
           0,
           0,
           0,
           0,
           0,
           0,
           0,
           0,
           0,
           0,
           0,
           0,
           0,
           0,
           0,
           0,
           0,
           0,
           0,
           0,
           0,
           0,
           0,
           0,
           0,
           0,
           0,
           0,
           0,
           0,
           0,
           0,
           0,
           0,
           0,
           0,
           0,
           0,
           0,
           0,
           0,
           0,
           0,
           0,
           0,
           0,
           0,
           0,
           0,
           0,
           0,
           0,
           0,
           0,
           0,
           0,
           0,
           0,
           0,
           0,
           0,
           0,
           0,
           0,
           0,
           0,
           0,
           0,
           0,
           0,
           0,
           0,
           0,
           0,
           0,
           0,
           0,
           0,
           0,
           0,
           0,
           0,
           0,
           0,
           0,
           0,
           0,
           0,
           0,
           0,
           0,
           0,
           0,
           0,
           0,
           0,
           0,
           0,
           0
          ]
         ]
        }
       ],
       "layout": {
        "template": {
         "data": {
          "bar": [
           {
            "error_x": {
             "color": "#2a3f5f"
            },
            "error_y": {
             "color": "#2a3f5f"
            },
            "marker": {
             "line": {
              "color": "#E5ECF6",
              "width": 0.5
             },
             "pattern": {
              "fillmode": "overlay",
              "size": 10,
              "solidity": 0.2
             }
            },
            "type": "bar"
           }
          ],
          "barpolar": [
           {
            "marker": {
             "line": {
              "color": "#E5ECF6",
              "width": 0.5
             },
             "pattern": {
              "fillmode": "overlay",
              "size": 10,
              "solidity": 0.2
             }
            },
            "type": "barpolar"
           }
          ],
          "carpet": [
           {
            "aaxis": {
             "endlinecolor": "#2a3f5f",
             "gridcolor": "white",
             "linecolor": "white",
             "minorgridcolor": "white",
             "startlinecolor": "#2a3f5f"
            },
            "baxis": {
             "endlinecolor": "#2a3f5f",
             "gridcolor": "white",
             "linecolor": "white",
             "minorgridcolor": "white",
             "startlinecolor": "#2a3f5f"
            },
            "type": "carpet"
           }
          ],
          "choropleth": [
           {
            "colorbar": {
             "outlinewidth": 0,
             "ticks": ""
            },
            "type": "choropleth"
           }
          ],
          "contour": [
           {
            "colorbar": {
             "outlinewidth": 0,
             "ticks": ""
            },
            "colorscale": [
             [
              0,
              "#0d0887"
             ],
             [
              0.1111111111111111,
              "#46039f"
             ],
             [
              0.2222222222222222,
              "#7201a8"
             ],
             [
              0.3333333333333333,
              "#9c179e"
             ],
             [
              0.4444444444444444,
              "#bd3786"
             ],
             [
              0.5555555555555556,
              "#d8576b"
             ],
             [
              0.6666666666666666,
              "#ed7953"
             ],
             [
              0.7777777777777778,
              "#fb9f3a"
             ],
             [
              0.8888888888888888,
              "#fdca26"
             ],
             [
              1,
              "#f0f921"
             ]
            ],
            "type": "contour"
           }
          ],
          "contourcarpet": [
           {
            "colorbar": {
             "outlinewidth": 0,
             "ticks": ""
            },
            "type": "contourcarpet"
           }
          ],
          "heatmap": [
           {
            "colorbar": {
             "outlinewidth": 0,
             "ticks": ""
            },
            "colorscale": [
             [
              0,
              "#0d0887"
             ],
             [
              0.1111111111111111,
              "#46039f"
             ],
             [
              0.2222222222222222,
              "#7201a8"
             ],
             [
              0.3333333333333333,
              "#9c179e"
             ],
             [
              0.4444444444444444,
              "#bd3786"
             ],
             [
              0.5555555555555556,
              "#d8576b"
             ],
             [
              0.6666666666666666,
              "#ed7953"
             ],
             [
              0.7777777777777778,
              "#fb9f3a"
             ],
             [
              0.8888888888888888,
              "#fdca26"
             ],
             [
              1,
              "#f0f921"
             ]
            ],
            "type": "heatmap"
           }
          ],
          "heatmapgl": [
           {
            "colorbar": {
             "outlinewidth": 0,
             "ticks": ""
            },
            "colorscale": [
             [
              0,
              "#0d0887"
             ],
             [
              0.1111111111111111,
              "#46039f"
             ],
             [
              0.2222222222222222,
              "#7201a8"
             ],
             [
              0.3333333333333333,
              "#9c179e"
             ],
             [
              0.4444444444444444,
              "#bd3786"
             ],
             [
              0.5555555555555556,
              "#d8576b"
             ],
             [
              0.6666666666666666,
              "#ed7953"
             ],
             [
              0.7777777777777778,
              "#fb9f3a"
             ],
             [
              0.8888888888888888,
              "#fdca26"
             ],
             [
              1,
              "#f0f921"
             ]
            ],
            "type": "heatmapgl"
           }
          ],
          "histogram": [
           {
            "marker": {
             "pattern": {
              "fillmode": "overlay",
              "size": 10,
              "solidity": 0.2
             }
            },
            "type": "histogram"
           }
          ],
          "histogram2d": [
           {
            "colorbar": {
             "outlinewidth": 0,
             "ticks": ""
            },
            "colorscale": [
             [
              0,
              "#0d0887"
             ],
             [
              0.1111111111111111,
              "#46039f"
             ],
             [
              0.2222222222222222,
              "#7201a8"
             ],
             [
              0.3333333333333333,
              "#9c179e"
             ],
             [
              0.4444444444444444,
              "#bd3786"
             ],
             [
              0.5555555555555556,
              "#d8576b"
             ],
             [
              0.6666666666666666,
              "#ed7953"
             ],
             [
              0.7777777777777778,
              "#fb9f3a"
             ],
             [
              0.8888888888888888,
              "#fdca26"
             ],
             [
              1,
              "#f0f921"
             ]
            ],
            "type": "histogram2d"
           }
          ],
          "histogram2dcontour": [
           {
            "colorbar": {
             "outlinewidth": 0,
             "ticks": ""
            },
            "colorscale": [
             [
              0,
              "#0d0887"
             ],
             [
              0.1111111111111111,
              "#46039f"
             ],
             [
              0.2222222222222222,
              "#7201a8"
             ],
             [
              0.3333333333333333,
              "#9c179e"
             ],
             [
              0.4444444444444444,
              "#bd3786"
             ],
             [
              0.5555555555555556,
              "#d8576b"
             ],
             [
              0.6666666666666666,
              "#ed7953"
             ],
             [
              0.7777777777777778,
              "#fb9f3a"
             ],
             [
              0.8888888888888888,
              "#fdca26"
             ],
             [
              1,
              "#f0f921"
             ]
            ],
            "type": "histogram2dcontour"
           }
          ],
          "mesh3d": [
           {
            "colorbar": {
             "outlinewidth": 0,
             "ticks": ""
            },
            "type": "mesh3d"
           }
          ],
          "parcoords": [
           {
            "line": {
             "colorbar": {
              "outlinewidth": 0,
              "ticks": ""
             }
            },
            "type": "parcoords"
           }
          ],
          "pie": [
           {
            "automargin": true,
            "type": "pie"
           }
          ],
          "scatter": [
           {
            "fillpattern": {
             "fillmode": "overlay",
             "size": 10,
             "solidity": 0.2
            },
            "type": "scatter"
           }
          ],
          "scatter3d": [
           {
            "line": {
             "colorbar": {
              "outlinewidth": 0,
              "ticks": ""
             }
            },
            "marker": {
             "colorbar": {
              "outlinewidth": 0,
              "ticks": ""
             }
            },
            "type": "scatter3d"
           }
          ],
          "scattercarpet": [
           {
            "marker": {
             "colorbar": {
              "outlinewidth": 0,
              "ticks": ""
             }
            },
            "type": "scattercarpet"
           }
          ],
          "scattergeo": [
           {
            "marker": {
             "colorbar": {
              "outlinewidth": 0,
              "ticks": ""
             }
            },
            "type": "scattergeo"
           }
          ],
          "scattergl": [
           {
            "marker": {
             "colorbar": {
              "outlinewidth": 0,
              "ticks": ""
             }
            },
            "type": "scattergl"
           }
          ],
          "scattermapbox": [
           {
            "marker": {
             "colorbar": {
              "outlinewidth": 0,
              "ticks": ""
             }
            },
            "type": "scattermapbox"
           }
          ],
          "scatterpolar": [
           {
            "marker": {
             "colorbar": {
              "outlinewidth": 0,
              "ticks": ""
             }
            },
            "type": "scatterpolar"
           }
          ],
          "scatterpolargl": [
           {
            "marker": {
             "colorbar": {
              "outlinewidth": 0,
              "ticks": ""
             }
            },
            "type": "scatterpolargl"
           }
          ],
          "scatterternary": [
           {
            "marker": {
             "colorbar": {
              "outlinewidth": 0,
              "ticks": ""
             }
            },
            "type": "scatterternary"
           }
          ],
          "surface": [
           {
            "colorbar": {
             "outlinewidth": 0,
             "ticks": ""
            },
            "colorscale": [
             [
              0,
              "#0d0887"
             ],
             [
              0.1111111111111111,
              "#46039f"
             ],
             [
              0.2222222222222222,
              "#7201a8"
             ],
             [
              0.3333333333333333,
              "#9c179e"
             ],
             [
              0.4444444444444444,
              "#bd3786"
             ],
             [
              0.5555555555555556,
              "#d8576b"
             ],
             [
              0.6666666666666666,
              "#ed7953"
             ],
             [
              0.7777777777777778,
              "#fb9f3a"
             ],
             [
              0.8888888888888888,
              "#fdca26"
             ],
             [
              1,
              "#f0f921"
             ]
            ],
            "type": "surface"
           }
          ],
          "table": [
           {
            "cells": {
             "fill": {
              "color": "#EBF0F8"
             },
             "line": {
              "color": "white"
             }
            },
            "header": {
             "fill": {
              "color": "#C8D4E3"
             },
             "line": {
              "color": "white"
             }
            },
            "type": "table"
           }
          ]
         },
         "layout": {
          "annotationdefaults": {
           "arrowcolor": "#2a3f5f",
           "arrowhead": 0,
           "arrowwidth": 1
          },
          "autotypenumbers": "strict",
          "coloraxis": {
           "colorbar": {
            "outlinewidth": 0,
            "ticks": ""
           }
          },
          "colorscale": {
           "diverging": [
            [
             0,
             "#8e0152"
            ],
            [
             0.1,
             "#c51b7d"
            ],
            [
             0.2,
             "#de77ae"
            ],
            [
             0.3,
             "#f1b6da"
            ],
            [
             0.4,
             "#fde0ef"
            ],
            [
             0.5,
             "#f7f7f7"
            ],
            [
             0.6,
             "#e6f5d0"
            ],
            [
             0.7,
             "#b8e186"
            ],
            [
             0.8,
             "#7fbc41"
            ],
            [
             0.9,
             "#4d9221"
            ],
            [
             1,
             "#276419"
            ]
           ],
           "sequential": [
            [
             0,
             "#0d0887"
            ],
            [
             0.1111111111111111,
             "#46039f"
            ],
            [
             0.2222222222222222,
             "#7201a8"
            ],
            [
             0.3333333333333333,
             "#9c179e"
            ],
            [
             0.4444444444444444,
             "#bd3786"
            ],
            [
             0.5555555555555556,
             "#d8576b"
            ],
            [
             0.6666666666666666,
             "#ed7953"
            ],
            [
             0.7777777777777778,
             "#fb9f3a"
            ],
            [
             0.8888888888888888,
             "#fdca26"
            ],
            [
             1,
             "#f0f921"
            ]
           ],
           "sequentialminus": [
            [
             0,
             "#0d0887"
            ],
            [
             0.1111111111111111,
             "#46039f"
            ],
            [
             0.2222222222222222,
             "#7201a8"
            ],
            [
             0.3333333333333333,
             "#9c179e"
            ],
            [
             0.4444444444444444,
             "#bd3786"
            ],
            [
             0.5555555555555556,
             "#d8576b"
            ],
            [
             0.6666666666666666,
             "#ed7953"
            ],
            [
             0.7777777777777778,
             "#fb9f3a"
            ],
            [
             0.8888888888888888,
             "#fdca26"
            ],
            [
             1,
             "#f0f921"
            ]
           ]
          },
          "colorway": [
           "#636efa",
           "#EF553B",
           "#00cc96",
           "#ab63fa",
           "#FFA15A",
           "#19d3f3",
           "#FF6692",
           "#B6E880",
           "#FF97FF",
           "#FECB52"
          ],
          "font": {
           "color": "#2a3f5f"
          },
          "geo": {
           "bgcolor": "white",
           "lakecolor": "white",
           "landcolor": "#E5ECF6",
           "showlakes": true,
           "showland": true,
           "subunitcolor": "white"
          },
          "hoverlabel": {
           "align": "left"
          },
          "hovermode": "closest",
          "mapbox": {
           "style": "light"
          },
          "paper_bgcolor": "white",
          "plot_bgcolor": "#E5ECF6",
          "polar": {
           "angularaxis": {
            "gridcolor": "white",
            "linecolor": "white",
            "ticks": ""
           },
           "bgcolor": "#E5ECF6",
           "radialaxis": {
            "gridcolor": "white",
            "linecolor": "white",
            "ticks": ""
           }
          },
          "scene": {
           "xaxis": {
            "backgroundcolor": "#E5ECF6",
            "gridcolor": "white",
            "gridwidth": 2,
            "linecolor": "white",
            "showbackground": true,
            "ticks": "",
            "zerolinecolor": "white"
           },
           "yaxis": {
            "backgroundcolor": "#E5ECF6",
            "gridcolor": "white",
            "gridwidth": 2,
            "linecolor": "white",
            "showbackground": true,
            "ticks": "",
            "zerolinecolor": "white"
           },
           "zaxis": {
            "backgroundcolor": "#E5ECF6",
            "gridcolor": "white",
            "gridwidth": 2,
            "linecolor": "white",
            "showbackground": true,
            "ticks": "",
            "zerolinecolor": "white"
           }
          },
          "shapedefaults": {
           "line": {
            "color": "#2a3f5f"
           }
          },
          "ternary": {
           "aaxis": {
            "gridcolor": "white",
            "linecolor": "white",
            "ticks": ""
           },
           "baxis": {
            "gridcolor": "white",
            "linecolor": "white",
            "ticks": ""
           },
           "bgcolor": "#E5ECF6",
           "caxis": {
            "gridcolor": "white",
            "linecolor": "white",
            "ticks": ""
           }
          },
          "title": {
           "x": 0.05
          },
          "xaxis": {
           "automargin": true,
           "gridcolor": "white",
           "linecolor": "white",
           "ticks": "",
           "title": {
            "standoff": 15
           },
           "zerolinecolor": "white",
           "zerolinewidth": 2
          },
          "yaxis": {
           "automargin": true,
           "gridcolor": "white",
           "linecolor": "white",
           "ticks": "",
           "title": {
            "standoff": 15
           },
           "zerolinecolor": "white",
           "zerolinewidth": 2
          }
         }
        },
        "title": {
         "text": "p_min"
        },
        "xaxis": {
         "title": {
          "text": "Time"
         }
        },
        "yaxis": {
         "title": {
          "text": "Probability"
         }
        }
       }
      }
     },
     "metadata": {},
     "output_type": "display_data"
    }
   ],
   "source": [
    "\"\"\"\"Test case with more than 1 clients in the system at the same time\n",
    "url: https://docs.google.com/spreadsheets/d/1_l9bMqEfLT2-TpZz3MrDFIid30ZsywTVH8Lzc5uHrGw/edit?usp=sharing\"\"\"\n",
    "x = np.array([1, 0, 1, 0, 1, 1, 1], dtype=np.int64)\n",
    "d = 5\n",
    "l = 6\n",
    "limit = calc_distr_limit(l * x.sum())+1\n",
    "service_times = range(0, limit)\n",
    "s = np.array([poisson.pmf(i, l) for i in service_times], dtype=np.float64)\n",
    "u = 4\n",
    "  \n",
    "sch = run_schedule(x, d, s, u, True)\n",
    "\n",
    "sch.visualize_system('p_min')\n",
    "\n"
   ]
  },
  {
   "cell_type": "code",
   "execution_count": 314,
   "metadata": {},
   "outputs": [
    {
     "data": {
      "application/vnd.plotly.v1+json": {
       "config": {
        "linkText": "Export to plot.ly",
        "plotlyServerURL": "https://plot.ly",
        "showLink": false
       },
       "data": [
        {
         "mode": "lines",
         "type": "scatter",
         "x": [
          0,
          1,
          2,
          3,
          4,
          5,
          6,
          7,
          8,
          9,
          10,
          11,
          12,
          13,
          14,
          15,
          16,
          17,
          18,
          19,
          20,
          21,
          22,
          23,
          24,
          25,
          26,
          27,
          28,
          29,
          30,
          31,
          32,
          33,
          34,
          35,
          36,
          37,
          38,
          39,
          40,
          41,
          42,
          43,
          44,
          45,
          46,
          47,
          48,
          49,
          50,
          51,
          52,
          53,
          54,
          55,
          56,
          57,
          58,
          59,
          60,
          61,
          62,
          63,
          64,
          65,
          66,
          67,
          68,
          69,
          70,
          71,
          72,
          73,
          74,
          75,
          76,
          77,
          78,
          79,
          80,
          81,
          82,
          83,
          84,
          85,
          86,
          87,
          88,
          89,
          90,
          91,
          92,
          93,
          94,
          95,
          96,
          97,
          98,
          99,
          100
         ],
         "y": [
          0.0023609828914968713,
          0.014226217906800665,
          0.042890716403089627,
          0.08628267838149765,
          0.1303206544333453,
          0.1576802836156008,
          0.15925604163166415,
          0.13816575799162106,
          0.10517296086873308,
          0.0714144242434137,
          0.0438417348188929,
          0.02461279702955184,
          0.012763676894861326,
          0.006170890410929235,
          0.002806135739707883,
          0.0012106714170110379,
          0.0004998803068688157,
          0.00019923850336227237,
          0.00007729659877529866,
          0.000029410508299331104,
          0.00001104303581121529,
          0.000004109728167726332,
          0.0000015195025051080362,
          5.584732953594853e-7,
          2.03897769308411e-7,
          7.384816590534373e-8,
          2.6492703672775273e-8,
          9.401311779260338e-9,
          3.2966751944641313e-9,
          1.1415000505494105e-9,
          3.901077365325288e-10,
          1.3154490314007726e-10,
          4.375823681786644e-11,
          1.4357463163548542e-11,
          4.645898619034161e-12,
          1.482441931775404e-12,
          4.663823649640785e-13,
          1.4464525741669936e-13,
          4.421900919192238e-14,
          1.3323209052531933e-14,
          3.956087759262805e-15,
          1.15758837587299e-15,
          3.337798133903167e-16,
          9.483808862083553e-17,
          2.6554220262840022e-17,
          7.327142872027623e-18,
          1.9925914912614835e-18,
          5.341030325687593e-19,
          1.4112461460265268e-19,
          3.676250321948968e-20,
          9.442570502750582e-21,
          2.391773786655182e-21,
          5.975292557878838e-22,
          1.4725627485034083e-22,
          3.5804000765568894e-23,
          8.590147124626514e-24,
          2.0339923484298422e-24,
          4.753854577695724e-25,
          1.096877350030914e-25,
          2.498923097297264e-26,
          5.622073901675469e-27,
          1.249264069815318e-27,
          2.742143098084338e-28,
          5.946578111590265e-29,
          1.2742278309533167e-29,
          2.698302140677786e-30,
          5.647509509356813e-31,
          1.1684346176769541e-31,
          2.3899557098715356e-32,
          4.833581322003318e-33,
          9.667106864859583e-34,
          1.9121666731979508e-34,
          3.7411834344494805e-35,
          7.240982416888343e-36,
          1.3865685478291912e-36,
          2.6271788884674693e-37,
          4.925955334847424e-38,
          9.140941001433841e-39,
          1.6789473822644154e-39,
          3.052630297025108e-40,
          5.494732783947389e-41,
          9.792590761467558e-42,
          1.728103948259794e-42,
          3.019987088788402e-43,
          5.226900226047021e-44,
          8.96039974761908e-45,
          1.5215772353324748e-45,
          2.559662539153643e-46,
          4.2661041093532986e-47,
          7.044942416789202e-48,
          1.1528087411527549e-48,
          1.869419558836134e-49,
          3.004424265709782e-50,
          4.785808535299367e-51,
          7.556539758371444e-52,
          1.1827627408666149e-52,
          1.8353214899941475e-53,
          2.8235715180569325e-54,
          4.307142988059054e-55,
          6.515006194238582e-56,
          9.77250928447486e-57
         ]
        }
       ],
       "layout": {
        "template": {
         "data": {
          "bar": [
           {
            "error_x": {
             "color": "#2a3f5f"
            },
            "error_y": {
             "color": "#2a3f5f"
            },
            "marker": {
             "line": {
              "color": "#E5ECF6",
              "width": 0.5
             },
             "pattern": {
              "fillmode": "overlay",
              "size": 10,
              "solidity": 0.2
             }
            },
            "type": "bar"
           }
          ],
          "barpolar": [
           {
            "marker": {
             "line": {
              "color": "#E5ECF6",
              "width": 0.5
             },
             "pattern": {
              "fillmode": "overlay",
              "size": 10,
              "solidity": 0.2
             }
            },
            "type": "barpolar"
           }
          ],
          "carpet": [
           {
            "aaxis": {
             "endlinecolor": "#2a3f5f",
             "gridcolor": "white",
             "linecolor": "white",
             "minorgridcolor": "white",
             "startlinecolor": "#2a3f5f"
            },
            "baxis": {
             "endlinecolor": "#2a3f5f",
             "gridcolor": "white",
             "linecolor": "white",
             "minorgridcolor": "white",
             "startlinecolor": "#2a3f5f"
            },
            "type": "carpet"
           }
          ],
          "choropleth": [
           {
            "colorbar": {
             "outlinewidth": 0,
             "ticks": ""
            },
            "type": "choropleth"
           }
          ],
          "contour": [
           {
            "colorbar": {
             "outlinewidth": 0,
             "ticks": ""
            },
            "colorscale": [
             [
              0,
              "#0d0887"
             ],
             [
              0.1111111111111111,
              "#46039f"
             ],
             [
              0.2222222222222222,
              "#7201a8"
             ],
             [
              0.3333333333333333,
              "#9c179e"
             ],
             [
              0.4444444444444444,
              "#bd3786"
             ],
             [
              0.5555555555555556,
              "#d8576b"
             ],
             [
              0.6666666666666666,
              "#ed7953"
             ],
             [
              0.7777777777777778,
              "#fb9f3a"
             ],
             [
              0.8888888888888888,
              "#fdca26"
             ],
             [
              1,
              "#f0f921"
             ]
            ],
            "type": "contour"
           }
          ],
          "contourcarpet": [
           {
            "colorbar": {
             "outlinewidth": 0,
             "ticks": ""
            },
            "type": "contourcarpet"
           }
          ],
          "heatmap": [
           {
            "colorbar": {
             "outlinewidth": 0,
             "ticks": ""
            },
            "colorscale": [
             [
              0,
              "#0d0887"
             ],
             [
              0.1111111111111111,
              "#46039f"
             ],
             [
              0.2222222222222222,
              "#7201a8"
             ],
             [
              0.3333333333333333,
              "#9c179e"
             ],
             [
              0.4444444444444444,
              "#bd3786"
             ],
             [
              0.5555555555555556,
              "#d8576b"
             ],
             [
              0.6666666666666666,
              "#ed7953"
             ],
             [
              0.7777777777777778,
              "#fb9f3a"
             ],
             [
              0.8888888888888888,
              "#fdca26"
             ],
             [
              1,
              "#f0f921"
             ]
            ],
            "type": "heatmap"
           }
          ],
          "heatmapgl": [
           {
            "colorbar": {
             "outlinewidth": 0,
             "ticks": ""
            },
            "colorscale": [
             [
              0,
              "#0d0887"
             ],
             [
              0.1111111111111111,
              "#46039f"
             ],
             [
              0.2222222222222222,
              "#7201a8"
             ],
             [
              0.3333333333333333,
              "#9c179e"
             ],
             [
              0.4444444444444444,
              "#bd3786"
             ],
             [
              0.5555555555555556,
              "#d8576b"
             ],
             [
              0.6666666666666666,
              "#ed7953"
             ],
             [
              0.7777777777777778,
              "#fb9f3a"
             ],
             [
              0.8888888888888888,
              "#fdca26"
             ],
             [
              1,
              "#f0f921"
             ]
            ],
            "type": "heatmapgl"
           }
          ],
          "histogram": [
           {
            "marker": {
             "pattern": {
              "fillmode": "overlay",
              "size": 10,
              "solidity": 0.2
             }
            },
            "type": "histogram"
           }
          ],
          "histogram2d": [
           {
            "colorbar": {
             "outlinewidth": 0,
             "ticks": ""
            },
            "colorscale": [
             [
              0,
              "#0d0887"
             ],
             [
              0.1111111111111111,
              "#46039f"
             ],
             [
              0.2222222222222222,
              "#7201a8"
             ],
             [
              0.3333333333333333,
              "#9c179e"
             ],
             [
              0.4444444444444444,
              "#bd3786"
             ],
             [
              0.5555555555555556,
              "#d8576b"
             ],
             [
              0.6666666666666666,
              "#ed7953"
             ],
             [
              0.7777777777777778,
              "#fb9f3a"
             ],
             [
              0.8888888888888888,
              "#fdca26"
             ],
             [
              1,
              "#f0f921"
             ]
            ],
            "type": "histogram2d"
           }
          ],
          "histogram2dcontour": [
           {
            "colorbar": {
             "outlinewidth": 0,
             "ticks": ""
            },
            "colorscale": [
             [
              0,
              "#0d0887"
             ],
             [
              0.1111111111111111,
              "#46039f"
             ],
             [
              0.2222222222222222,
              "#7201a8"
             ],
             [
              0.3333333333333333,
              "#9c179e"
             ],
             [
              0.4444444444444444,
              "#bd3786"
             ],
             [
              0.5555555555555556,
              "#d8576b"
             ],
             [
              0.6666666666666666,
              "#ed7953"
             ],
             [
              0.7777777777777778,
              "#fb9f3a"
             ],
             [
              0.8888888888888888,
              "#fdca26"
             ],
             [
              1,
              "#f0f921"
             ]
            ],
            "type": "histogram2dcontour"
           }
          ],
          "mesh3d": [
           {
            "colorbar": {
             "outlinewidth": 0,
             "ticks": ""
            },
            "type": "mesh3d"
           }
          ],
          "parcoords": [
           {
            "line": {
             "colorbar": {
              "outlinewidth": 0,
              "ticks": ""
             }
            },
            "type": "parcoords"
           }
          ],
          "pie": [
           {
            "automargin": true,
            "type": "pie"
           }
          ],
          "scatter": [
           {
            "fillpattern": {
             "fillmode": "overlay",
             "size": 10,
             "solidity": 0.2
            },
            "type": "scatter"
           }
          ],
          "scatter3d": [
           {
            "line": {
             "colorbar": {
              "outlinewidth": 0,
              "ticks": ""
             }
            },
            "marker": {
             "colorbar": {
              "outlinewidth": 0,
              "ticks": ""
             }
            },
            "type": "scatter3d"
           }
          ],
          "scattercarpet": [
           {
            "marker": {
             "colorbar": {
              "outlinewidth": 0,
              "ticks": ""
             }
            },
            "type": "scattercarpet"
           }
          ],
          "scattergeo": [
           {
            "marker": {
             "colorbar": {
              "outlinewidth": 0,
              "ticks": ""
             }
            },
            "type": "scattergeo"
           }
          ],
          "scattergl": [
           {
            "marker": {
             "colorbar": {
              "outlinewidth": 0,
              "ticks": ""
             }
            },
            "type": "scattergl"
           }
          ],
          "scattermapbox": [
           {
            "marker": {
             "colorbar": {
              "outlinewidth": 0,
              "ticks": ""
             }
            },
            "type": "scattermapbox"
           }
          ],
          "scatterpolar": [
           {
            "marker": {
             "colorbar": {
              "outlinewidth": 0,
              "ticks": ""
             }
            },
            "type": "scatterpolar"
           }
          ],
          "scatterpolargl": [
           {
            "marker": {
             "colorbar": {
              "outlinewidth": 0,
              "ticks": ""
             }
            },
            "type": "scatterpolargl"
           }
          ],
          "scatterternary": [
           {
            "marker": {
             "colorbar": {
              "outlinewidth": 0,
              "ticks": ""
             }
            },
            "type": "scatterternary"
           }
          ],
          "surface": [
           {
            "colorbar": {
             "outlinewidth": 0,
             "ticks": ""
            },
            "colorscale": [
             [
              0,
              "#0d0887"
             ],
             [
              0.1111111111111111,
              "#46039f"
             ],
             [
              0.2222222222222222,
              "#7201a8"
             ],
             [
              0.3333333333333333,
              "#9c179e"
             ],
             [
              0.4444444444444444,
              "#bd3786"
             ],
             [
              0.5555555555555556,
              "#d8576b"
             ],
             [
              0.6666666666666666,
              "#ed7953"
             ],
             [
              0.7777777777777778,
              "#fb9f3a"
             ],
             [
              0.8888888888888888,
              "#fdca26"
             ],
             [
              1,
              "#f0f921"
             ]
            ],
            "type": "surface"
           }
          ],
          "table": [
           {
            "cells": {
             "fill": {
              "color": "#EBF0F8"
             },
             "line": {
              "color": "white"
             }
            },
            "header": {
             "fill": {
              "color": "#C8D4E3"
             },
             "line": {
              "color": "white"
             }
            },
            "type": "table"
           }
          ]
         },
         "layout": {
          "annotationdefaults": {
           "arrowcolor": "#2a3f5f",
           "arrowhead": 0,
           "arrowwidth": 1
          },
          "autotypenumbers": "strict",
          "coloraxis": {
           "colorbar": {
            "outlinewidth": 0,
            "ticks": ""
           }
          },
          "colorscale": {
           "diverging": [
            [
             0,
             "#8e0152"
            ],
            [
             0.1,
             "#c51b7d"
            ],
            [
             0.2,
             "#de77ae"
            ],
            [
             0.3,
             "#f1b6da"
            ],
            [
             0.4,
             "#fde0ef"
            ],
            [
             0.5,
             "#f7f7f7"
            ],
            [
             0.6,
             "#e6f5d0"
            ],
            [
             0.7,
             "#b8e186"
            ],
            [
             0.8,
             "#7fbc41"
            ],
            [
             0.9,
             "#4d9221"
            ],
            [
             1,
             "#276419"
            ]
           ],
           "sequential": [
            [
             0,
             "#0d0887"
            ],
            [
             0.1111111111111111,
             "#46039f"
            ],
            [
             0.2222222222222222,
             "#7201a8"
            ],
            [
             0.3333333333333333,
             "#9c179e"
            ],
            [
             0.4444444444444444,
             "#bd3786"
            ],
            [
             0.5555555555555556,
             "#d8576b"
            ],
            [
             0.6666666666666666,
             "#ed7953"
            ],
            [
             0.7777777777777778,
             "#fb9f3a"
            ],
            [
             0.8888888888888888,
             "#fdca26"
            ],
            [
             1,
             "#f0f921"
            ]
           ],
           "sequentialminus": [
            [
             0,
             "#0d0887"
            ],
            [
             0.1111111111111111,
             "#46039f"
            ],
            [
             0.2222222222222222,
             "#7201a8"
            ],
            [
             0.3333333333333333,
             "#9c179e"
            ],
            [
             0.4444444444444444,
             "#bd3786"
            ],
            [
             0.5555555555555556,
             "#d8576b"
            ],
            [
             0.6666666666666666,
             "#ed7953"
            ],
            [
             0.7777777777777778,
             "#fb9f3a"
            ],
            [
             0.8888888888888888,
             "#fdca26"
            ],
            [
             1,
             "#f0f921"
            ]
           ]
          },
          "colorway": [
           "#636efa",
           "#EF553B",
           "#00cc96",
           "#ab63fa",
           "#FFA15A",
           "#19d3f3",
           "#FF6692",
           "#B6E880",
           "#FF97FF",
           "#FECB52"
          ],
          "font": {
           "color": "#2a3f5f"
          },
          "geo": {
           "bgcolor": "white",
           "lakecolor": "white",
           "landcolor": "#E5ECF6",
           "showlakes": true,
           "showland": true,
           "subunitcolor": "white"
          },
          "hoverlabel": {
           "align": "left"
          },
          "hovermode": "closest",
          "mapbox": {
           "style": "light"
          },
          "paper_bgcolor": "white",
          "plot_bgcolor": "#E5ECF6",
          "polar": {
           "angularaxis": {
            "gridcolor": "white",
            "linecolor": "white",
            "ticks": ""
           },
           "bgcolor": "#E5ECF6",
           "radialaxis": {
            "gridcolor": "white",
            "linecolor": "white",
            "ticks": ""
           }
          },
          "scene": {
           "xaxis": {
            "backgroundcolor": "#E5ECF6",
            "gridcolor": "white",
            "gridwidth": 2,
            "linecolor": "white",
            "showbackground": true,
            "ticks": "",
            "zerolinecolor": "white"
           },
           "yaxis": {
            "backgroundcolor": "#E5ECF6",
            "gridcolor": "white",
            "gridwidth": 2,
            "linecolor": "white",
            "showbackground": true,
            "ticks": "",
            "zerolinecolor": "white"
           },
           "zaxis": {
            "backgroundcolor": "#E5ECF6",
            "gridcolor": "white",
            "gridwidth": 2,
            "linecolor": "white",
            "showbackground": true,
            "ticks": "",
            "zerolinecolor": "white"
           }
          },
          "shapedefaults": {
           "line": {
            "color": "#2a3f5f"
           }
          },
          "ternary": {
           "aaxis": {
            "gridcolor": "white",
            "linecolor": "white",
            "ticks": ""
           },
           "baxis": {
            "gridcolor": "white",
            "linecolor": "white",
            "ticks": ""
           },
           "bgcolor": "#E5ECF6",
           "caxis": {
            "gridcolor": "white",
            "linecolor": "white",
            "ticks": ""
           }
          },
          "title": {
           "x": 0.05
          },
          "xaxis": {
           "automargin": true,
           "gridcolor": "white",
           "linecolor": "white",
           "ticks": "",
           "title": {
            "standoff": 15
           },
           "zerolinecolor": "white",
           "zerolinewidth": 2
          },
          "yaxis": {
           "automargin": true,
           "gridcolor": "white",
           "linecolor": "white",
           "ticks": "",
           "title": {
            "standoff": 15
           },
           "zerolinecolor": "white",
           "zerolinewidth": 2
          }
         }
        },
        "title": {
         "text": "p_plus in state 4"
        },
        "xaxis": {
         "title": {
          "text": "Time"
         }
        },
        "yaxis": {
         "title": {
          "text": "Probability"
         }
        }
       }
      }
     },
     "metadata": {},
     "output_type": "display_data"
    }
   ],
   "source": [
    "sch.visualize_state()"
   ]
  },
  {
   "cell_type": "code",
   "execution_count": 320,
   "metadata": {},
   "outputs": [
    {
     "data": {
      "application/vnd.plotly.v1+json": {
       "config": {
        "plotlyServerURL": "https://plot.ly"
       },
       "data": [
        {
         "text": [
          [
           1,
           0,
           0,
           0,
           0,
           0,
           0,
           0,
           0,
           0,
           0,
           0,
           0,
           0,
           0,
           0,
           0,
           0,
           0,
           0,
           0,
           0,
           0,
           0,
           0,
           0,
           0,
           0,
           0,
           0,
           0,
           0,
           0,
           0,
           0,
           0,
           0,
           0,
           0,
           0,
           0,
           0,
           0,
           0,
           0,
           0,
           0,
           0,
           0,
           0,
           0,
           0,
           0,
           0,
           0,
           0,
           0,
           0,
           0,
           0,
           0,
           0,
           0,
           0,
           0,
           0,
           0,
           0,
           0,
           0,
           0,
           0,
           0,
           0,
           0,
           0,
           0,
           0,
           0,
           0,
           0,
           0,
           0,
           0,
           0,
           0,
           0,
           0,
           0,
           0,
           0,
           0,
           0,
           0,
           0,
           0,
           0,
           0,
           0,
           0,
           0
          ],
          [
           0.45,
           0.16,
           0.14,
           0.1,
           0.07,
           0.04,
           0.02,
           0.01,
           0.01,
           0,
           0,
           0,
           0,
           0,
           0,
           0,
           0,
           0,
           0,
           0,
           0,
           0,
           0,
           0,
           0,
           0,
           0,
           0,
           0,
           0,
           0,
           0,
           0,
           0,
           0,
           0,
           0,
           0,
           0,
           0,
           0,
           0,
           0,
           0,
           0,
           0,
           0,
           0,
           0,
           0,
           0,
           0,
           0,
           0,
           0,
           0,
           0,
           0,
           0,
           0,
           0,
           0,
           0,
           0,
           0,
           0,
           0,
           0,
           0,
           0,
           0,
           0,
           0,
           0,
           0,
           0,
           0,
           0,
           0,
           0,
           0,
           0,
           0,
           0,
           0,
           0,
           0,
           0,
           0,
           0,
           0,
           0,
           0,
           0,
           0,
           0,
           0,
           0,
           0,
           0,
           0
          ],
          [
           0.96,
           0.02,
           0.01,
           0.01,
           0,
           0,
           0,
           0,
           0,
           0,
           0,
           0,
           0,
           0,
           0,
           0,
           0,
           0,
           0,
           0,
           0,
           0,
           0,
           0,
           0,
           0,
           0,
           0,
           0,
           0,
           0,
           0,
           0,
           0,
           0,
           0,
           0,
           0,
           0,
           0,
           0,
           0,
           0,
           0,
           0,
           0,
           0,
           0,
           0,
           0,
           0,
           0,
           0,
           0,
           0,
           0,
           0,
           0,
           0,
           0,
           0,
           0,
           0,
           0,
           0,
           0,
           0,
           0,
           0,
           0,
           0,
           0,
           0,
           0,
           0,
           0,
           0,
           0,
           0,
           0,
           0,
           0,
           0,
           0,
           0,
           0,
           0,
           0,
           0,
           0,
           0,
           0,
           0,
           0,
           0,
           0,
           0,
           0,
           0,
           0,
           0
          ],
          [
           0.44,
           0.16,
           0.14,
           0.1,
           0.07,
           0.04,
           0.02,
           0.01,
           0.01,
           0,
           0,
           0,
           0,
           0,
           0,
           0,
           0,
           0,
           0,
           0,
           0,
           0,
           0,
           0,
           0,
           0,
           0,
           0,
           0,
           0,
           0,
           0,
           0,
           0,
           0,
           0,
           0,
           0,
           0,
           0,
           0,
           0,
           0,
           0,
           0,
           0,
           0,
           0,
           0,
           0,
           0,
           0,
           0,
           0,
           0,
           0,
           0,
           0,
           0,
           0,
           0,
           0,
           0,
           0,
           0,
           0,
           0,
           0,
           0,
           0,
           0,
           0,
           0,
           0,
           0,
           0,
           0,
           0,
           0,
           0,
           0,
           0,
           0,
           0,
           0,
           0,
           0,
           0,
           0,
           0,
           0,
           0,
           0,
           0,
           0,
           0,
           0,
           0,
           0,
           0,
           0
          ],
          [
           0.95,
           0.02,
           0.01,
           0.01,
           0,
           0,
           0,
           0,
           0,
           0,
           0,
           0,
           0,
           0,
           0,
           0,
           0,
           0,
           0,
           0,
           0,
           0,
           0,
           0,
           0,
           0,
           0,
           0,
           0,
           0,
           0,
           0,
           0,
           0,
           0,
           0,
           0,
           0,
           0,
           0,
           0,
           0,
           0,
           0,
           0,
           0,
           0,
           0,
           0,
           0,
           0,
           0,
           0,
           0,
           0,
           0,
           0,
           0,
           0,
           0,
           0,
           0,
           0,
           0,
           0,
           0,
           0,
           0,
           0,
           0,
           0,
           0,
           0,
           0,
           0,
           0,
           0,
           0,
           0,
           0,
           0,
           0,
           0,
           0,
           0,
           0,
           0,
           0,
           0,
           0,
           0,
           0,
           0,
           0,
           0,
           0,
           0,
           0,
           0,
           0,
           0
          ],
          [
           0,
           0,
           0,
           0,
           0,
           0,
           0,
           0,
           0,
           0,
           0,
           0,
           0,
           0,
           0,
           0,
           0,
           0,
           0,
           0,
           0,
           0,
           0,
           0,
           0,
           0,
           0,
           0,
           0,
           0,
           0,
           0,
           0,
           0,
           0,
           0,
           0,
           0,
           0,
           0,
           0,
           0,
           0,
           0,
           0,
           0,
           0,
           0,
           0,
           0,
           0,
           0,
           0,
           0,
           0,
           0,
           0,
           0,
           0,
           0,
           0,
           0,
           0,
           0,
           0,
           0,
           0,
           0,
           0,
           0,
           0,
           0,
           0,
           0,
           0,
           0,
           0,
           0,
           0,
           0,
           0,
           0,
           0,
           0,
           0,
           0,
           0,
           0,
           0,
           0,
           0,
           0,
           0,
           0,
           0,
           0,
           0,
           0,
           0,
           0,
           0
          ],
          [
           0,
           0,
           0,
           0,
           0,
           0,
           0,
           0,
           0,
           0,
           0,
           0,
           0,
           0,
           0,
           0,
           0,
           0,
           0,
           0,
           0,
           0,
           0,
           0,
           0,
           0,
           0,
           0,
           0,
           0,
           0,
           0,
           0,
           0,
           0,
           0,
           0,
           0,
           0,
           0,
           0,
           0,
           0,
           0,
           0,
           0,
           0,
           0,
           0,
           0,
           0,
           0,
           0,
           0,
           0,
           0,
           0,
           0,
           0,
           0,
           0,
           0,
           0,
           0,
           0,
           0,
           0,
           0,
           0,
           0,
           0,
           0,
           0,
           0,
           0,
           0,
           0,
           0,
           0,
           0,
           0,
           0,
           0,
           0,
           0,
           0,
           0,
           0,
           0,
           0,
           0,
           0,
           0,
           0,
           0,
           0,
           0,
           0,
           0,
           0,
           0
          ]
         ],
         "textfont": {
          "size": 10
         },
         "texttemplate": "%{text}",
         "type": "heatmap",
         "z": [
          [
           1,
           0,
           0,
           0,
           0,
           0,
           0,
           0,
           0,
           0,
           0,
           0,
           0,
           0,
           0,
           0,
           0,
           0,
           0,
           0,
           0,
           0,
           0,
           0,
           0,
           0,
           0,
           0,
           0,
           0,
           0,
           0,
           0,
           0,
           0,
           0,
           0,
           0,
           0,
           0,
           0,
           0,
           0,
           0,
           0,
           0,
           0,
           0,
           0,
           0,
           0,
           0,
           0,
           0,
           0,
           0,
           0,
           0,
           0,
           0,
           0,
           0,
           0,
           0,
           0,
           0,
           0,
           0,
           0,
           0,
           0,
           0,
           0,
           0,
           0,
           0,
           0,
           0,
           0,
           0,
           0,
           0,
           0,
           0,
           0,
           0,
           0,
           0,
           0,
           0,
           0,
           0,
           0,
           0,
           0,
           0,
           0,
           0,
           0,
           0,
           0
          ],
          [
           0.44567964136461113,
           0.1606231410479801,
           0.1376769780411257,
           0.1032577335308442,
           0.06883848902056285,
           0.04130309341233764,
           0.022528960043093245,
           0.011264480021546681,
           0.005198990779175391,
           0.0022281389053608724,
           0.0008912555621443482,
           0.00033422083580413026,
           0.00011796029498969308,
           0.00003932009832989778,
           0.000012416873156809801,
           0.0000037250619470429406,
           0.0000010643034134408401,
           2.902645673020461e-7,
           7.572119147009894e-8,
           1.8930297867524934e-8,
           4.543271488205989e-9,
           1.0484472665090723e-9,
           2.32988281446462e-10,
           4.992606030995549e-11,
           1.0329529719301272e-11,
           2.0659059438602488e-12,
           3.9985276332778877e-13,
           7.497239312396073e-14,
           1.3631344204356205e-14,
           2.4055313301805628e-15,
           4.1237679945952585e-16,
           6.87294665765867e-17,
           1.1145318904311653e-17,
           1.759787195417585e-18,
           2.7073649160270795e-19,
           4.061047374040583e-20,
           5.942996157132594e-21,
           8.489994510189464e-22,
           1.1846503967705976e-22,
           1.6154323592326577e-23,
           2.1539098123101216e-24,
           2.8094475812742048e-25,
           3.58652882715844e-26,
           4.4831610339482165e-27,
           5.489584939528482e-28,
           6.587501927434127e-29,
           7.750002267569333e-30,
           8.942310308733877e-31,
           1.0123370160830702e-31,
           1.1248189067589723e-32,
           1.2270751710097727e-33,
           1.3147233975104883e-34,
           1.383919365800544e-35,
           1.4316407232419175e-36,
           1.455905820246049e-37,
           1.45590582024598e-38,
           1.4320385117173733e-39,
           1.3858437210168648e-40,
           1.3198511628731983e-41,
           1.237360465193609e-42,
           1.142178890947968e-43,
           1.0383444463163103e-44,
           9.298606981936949e-46,
           8.204653219356074e-47,
           7.134481060309592e-48,
           6.115269480265713e-49,
           5.16783336360472e-50,
           4.3065278030038044e-51,
           3.5396118928798574e-52,
           2.8699555888216585e-53,
           2.295964471057253e-54,
           1.8126035297820186e-55,
           1.4124183348950732e-56,
           1.0864756422270185e-57,
           8.251713738433421e-59,
           6.188785303824384e-60,
           4.584285410240326e-61,
           3.3543551782245456e-62,
           2.424835068596197e-63,
           1.732025048997314e-64,
           1.2226059169392906e-65,
           8.529808722832305e-67,
           5.882626705401346e-68,
           4.0108818445919375e-69,
           2.7039652884890752e-70,
           1.802643525659306e-71,
           1.1885561707643076e-72,
           7.751453287593223e-74,
           5.000937604899062e-75,
           3.192087832914365e-76,
           2.0160554734196607e-77,
           1.2600346708872426e-78,
           7.794028892085978e-80,
           4.771854423726283e-81,
           2.89203298407648e-82,
           1.7352197904459205e-83,
           0,
           0,
           0,
           0,
           0
          ],
          [
           0.9573790764174617,
           0.022528960043093245,
           0.011264480021546681,
           0.005198990779175391,
           0.0022281389053608724,
           0.0008912555621443482,
           0.00033422083580413026,
           0.00011796029498969308,
           0.00003932009832989778,
           0.000012416873156809801,
           0.0000037250619470429406,
           0.0000010643034134408401,
           2.902645673020461e-7,
           7.572119147009894e-8,
           1.8930297867524934e-8,
           4.543271488205989e-9,
           1.0484472665090723e-9,
           2.32988281446462e-10,
           4.992606030995549e-11,
           1.0329529719301272e-11,
           2.0659059438602488e-12,
           3.9985276332778877e-13,
           7.497239312396073e-14,
           1.3631344204356205e-14,
           2.4055313301805628e-15,
           4.1237679945952585e-16,
           6.87294665765867e-17,
           1.1145318904311653e-17,
           1.759787195417585e-18,
           2.7073649160270795e-19,
           4.061047374040583e-20,
           5.942996157132594e-21,
           8.489994510189464e-22,
           1.1846503967705976e-22,
           1.6154323592326577e-23,
           2.1539098123101216e-24,
           2.8094475812742048e-25,
           3.58652882715844e-26,
           4.4831610339482165e-27,
           5.489584939528482e-28,
           6.587501927434127e-29,
           7.750002267569333e-30,
           8.942310308733877e-31,
           1.0123370160830702e-31,
           1.1248189067589723e-32,
           1.2270751710097727e-33,
           1.3147233975104883e-34,
           1.383919365800544e-35,
           1.4316407232419175e-36,
           1.455905820246049e-37,
           1.45590582024598e-38,
           1.4320385117173733e-39,
           1.3858437210168648e-40,
           1.3198511628731983e-41,
           1.237360465193609e-42,
           1.142178890947968e-43,
           1.0383444463163103e-44,
           9.298606981936949e-46,
           8.204653219356074e-47,
           7.134481060309592e-48,
           6.115269480265713e-49,
           5.16783336360472e-50,
           4.3065278030038044e-51,
           3.5396118928798574e-52,
           2.8699555888216585e-53,
           2.295964471057253e-54,
           1.8126035297820186e-55,
           1.4124183348950732e-56,
           1.0864756422270185e-57,
           8.251713738433421e-59,
           6.188785303824384e-60,
           4.584285410240326e-61,
           3.3543551782245456e-62,
           2.424835068596197e-63,
           1.732025048997314e-64,
           1.2226059169392906e-65,
           8.529808722832305e-67,
           5.882626705401346e-68,
           4.0108818445919375e-69,
           2.7039652884890752e-70,
           1.802643525659306e-71,
           1.1885561707643076e-72,
           7.751453287593223e-74,
           5.000937604899062e-75,
           3.192087832914365e-76,
           2.0160554734196607e-77,
           1.2600346708872426e-78,
           7.794028892085978e-80,
           4.771854423726283e-81,
           2.89203298407648e-82,
           1.7352197904459205e-83,
           0,
           0,
           0,
           0,
           0,
           0,
           0,
           0,
           0,
           0
          ],
          [
           0.43517266852364656,
           0.15948111697565678,
           0.1381768219731816,
           0.10499746451712136,
           0.07112964663828218,
           0.0435307607456834,
           0.024335049863907988,
           0.01254704262977503,
           0.006018427991709521,
           0.00270736866841459,
           0.0011509700424939743,
           0.00046587130652857626,
           0.00018084269543904352,
           0.00006779254215629255,
           0.000024698822932675454,
           0.000008793334771961216,
           0.0000030720902175503205,
           0.0000010560661896908166,
           3.5764565839096516e-7,
           1.1931718888579503e-7,
           3.917865856791507e-8,
           1.264471183900291e-8,
           4.005523755765675e-9,
           1.2437804450143874e-9,
           3.7820106942926844e-10,
           1.1253538949616669e-10,
           3.2753600481382204e-11,
           9.322933397669236e-12,
           2.595200510625631e-12,
           7.066025477020294e-13,
           1.8822125966112697e-13,
           4.906622840378831e-14,
           1.2521780325845038e-14,
           3.1295198331398317e-15,
           7.662685179488023e-16,
           1.838824584075596e-16,
           4.326319969048088e-17,
           9.983343442549885e-18,
           2.2603129996615375e-18,
           5.022825836330819e-19,
           1.0958768787548486e-19,
           2.3482912595390317e-20,
           4.943750005455731e-21,
           1.0228421699024007e-21,
           2.0803536699907906e-22,
           4.1607033622274145e-23,
           8.18498550139429e-24,
           1.5841901932317199e-24,
           3.017504503630078e-25,
           5.657820243152076e-26,
           1.0445205832320538e-26,
           1.8991282500298574e-27,
           3.401423643316406e-28,
           6.002512220028527e-29,
           1.0439151593164164e-29,
           1.7895688351017584e-30,
           3.0246233739306927e-31,
           5.041038947461767e-32,
           8.286639356986969e-33,
           1.3437793543668215e-33,
           2.1500469662259003e-34,
           3.3948109986088085e-35,
           5.290614542660869e-36,
           8.13940698815448e-37,
           1.236365618405406e-37,
           1.8545484275664077e-38,
           2.747479151914843e-39,
           4.020701197894545e-40,
           5.813061972835142e-41,
           8.304374246887452e-42,
           1.1723822466178067e-42,
           1.6358822045817194e-43,
           2.256389247697932e-44,
           3.0768944286782324e-45,
           4.148621701588044e-46,
           5.531495602116951e-47,
           7.294279914879166e-48,
           9.514278149842147e-49,
           1.2276487935280008e-49,
           1.5672112257804132e-50,
           1.9796352325647228e-51,
           2.4745440407058957e-52,
           3.061291596749555e-53,
           3.7485203225504706e-54,
           4.5436609970308674e-55,
           5.452393196437036e-56,
           6.478090926459838e-57,
           7.621283442893922e-58,
           8.879165176187087e-59,
           1.0245190587908168e-59,
           1.1708789243323615e-60,
           1.3255233105649365e-61,
           1.4865681987644142e-62,
           1.6517424430715703e-63,
           1.818432047418242e-64,
           1.9837440517289903e-65,
           0,
           0,
           0,
           0,
           0
          ],
          [
           0.9524884793735718,
           0.024335049863907988,
           0.01254704262977503,
           0.006018427991709521,
           0.00270736866841459,
           0.0011509700424939743,
           0.00046587130652857626,
           0.00018084269543904352,
           0.00006779254215629255,
           0.000024698822932675454,
           0.000008793334771961216,
           0.0000030720902175503205,
           0.0000010560661896908166,
           3.5764565839096516e-7,
           1.1931718888579503e-7,
           3.917865856791507e-8,
           1.264471183900291e-8,
           4.005523755765675e-9,
           1.2437804450143874e-9,
           3.7820106942926844e-10,
           1.1253538949616669e-10,
           3.2753600481382204e-11,
           9.322933397669236e-12,
           2.595200510625631e-12,
           7.066025477020294e-13,
           1.8822125966112697e-13,
           4.906622840378831e-14,
           1.2521780325845038e-14,
           3.1295198331398317e-15,
           7.662685179488023e-16,
           1.838824584075596e-16,
           4.326319969048088e-17,
           9.983343442549885e-18,
           2.2603129996615375e-18,
           5.022825836330819e-19,
           1.0958768787548486e-19,
           2.3482912595390317e-20,
           4.943750005455731e-21,
           1.0228421699024007e-21,
           2.0803536699907906e-22,
           4.1607033622274145e-23,
           8.18498550139429e-24,
           1.5841901932317199e-24,
           3.017504503630078e-25,
           5.657820243152076e-26,
           1.0445205832320538e-26,
           1.8991282500298574e-27,
           3.401423643316406e-28,
           6.002512220028527e-29,
           1.0439151593164164e-29,
           1.7895688351017584e-30,
           3.0246233739306927e-31,
           5.041038947461767e-32,
           8.286639356986969e-33,
           1.3437793543668215e-33,
           2.1500469662259003e-34,
           3.3948109986088085e-35,
           5.290614542660869e-36,
           8.13940698815448e-37,
           1.236365618405406e-37,
           1.8545484275664077e-38,
           2.747479151914843e-39,
           4.020701197894545e-40,
           5.813061972835142e-41,
           8.304374246887452e-42,
           1.1723822466178067e-42,
           1.6358822045817194e-43,
           2.256389247697932e-44,
           3.0768944286782324e-45,
           4.148621701588044e-46,
           5.531495602116951e-47,
           7.294279914879166e-48,
           9.514278149842147e-49,
           1.2276487935280008e-49,
           1.5672112257804132e-50,
           1.9796352325647228e-51,
           2.4745440407058957e-52,
           3.061291596749555e-53,
           3.7485203225504706e-54,
           4.5436609970308674e-55,
           5.452393196437036e-56,
           6.478090926459838e-57,
           7.621283442893922e-58,
           8.879165176187087e-59,
           1.0245190587908168e-59,
           1.1708789243323615e-60,
           1.3255233105649365e-61,
           1.4865681987644142e-62,
           1.6517424430715703e-63,
           1.818432047418242e-64,
           1.9837440517289903e-65,
           0,
           0,
           0,
           0,
           0,
           0,
           0,
           0,
           0,
           0
          ],
          [
           0,
           0,
           0,
           0,
           0,
           0,
           0,
           0,
           0,
           0,
           0,
           0,
           0,
           0,
           0,
           0,
           0,
           0,
           0,
           0,
           0,
           0,
           0,
           0,
           0,
           0,
           0,
           0,
           0,
           0,
           0,
           0,
           0,
           0,
           0,
           0,
           0,
           0,
           0,
           0,
           0,
           0,
           0,
           0,
           0,
           0,
           0,
           0,
           0,
           0,
           0,
           0,
           0,
           0,
           0,
           0,
           0,
           0,
           0,
           0,
           0,
           0,
           0,
           0,
           0,
           0,
           0,
           0,
           0,
           0,
           0,
           0,
           0,
           0,
           0,
           0,
           0,
           0,
           0,
           0,
           0,
           0,
           0,
           0,
           0,
           0,
           0,
           0,
           0,
           0,
           0,
           0,
           0,
           0,
           0,
           0,
           0,
           0,
           0,
           0,
           0
          ],
          [
           0,
           0,
           0,
           0,
           0,
           0,
           0,
           0,
           0,
           0,
           0,
           0,
           0,
           0,
           0,
           0,
           0,
           0,
           0,
           0,
           0,
           0,
           0,
           0,
           0,
           0,
           0,
           0,
           0,
           0,
           0,
           0,
           0,
           0,
           0,
           0,
           0,
           0,
           0,
           0,
           0,
           0,
           0,
           0,
           0,
           0,
           0,
           0,
           0,
           0,
           0,
           0,
           0,
           0,
           0,
           0,
           0,
           0,
           0,
           0,
           0,
           0,
           0,
           0,
           0,
           0,
           0,
           0,
           0,
           0,
           0,
           0,
           0,
           0,
           0,
           0,
           0,
           0,
           0,
           0,
           0,
           0,
           0,
           0,
           0,
           0,
           0,
           0,
           0,
           0,
           0,
           0,
           0,
           0,
           0,
           0,
           0,
           0,
           0,
           0,
           0
          ]
         ]
        }
       ],
       "layout": {
        "template": {
         "data": {
          "bar": [
           {
            "error_x": {
             "color": "#2a3f5f"
            },
            "error_y": {
             "color": "#2a3f5f"
            },
            "marker": {
             "line": {
              "color": "#E5ECF6",
              "width": 0.5
             },
             "pattern": {
              "fillmode": "overlay",
              "size": 10,
              "solidity": 0.2
             }
            },
            "type": "bar"
           }
          ],
          "barpolar": [
           {
            "marker": {
             "line": {
              "color": "#E5ECF6",
              "width": 0.5
             },
             "pattern": {
              "fillmode": "overlay",
              "size": 10,
              "solidity": 0.2
             }
            },
            "type": "barpolar"
           }
          ],
          "carpet": [
           {
            "aaxis": {
             "endlinecolor": "#2a3f5f",
             "gridcolor": "white",
             "linecolor": "white",
             "minorgridcolor": "white",
             "startlinecolor": "#2a3f5f"
            },
            "baxis": {
             "endlinecolor": "#2a3f5f",
             "gridcolor": "white",
             "linecolor": "white",
             "minorgridcolor": "white",
             "startlinecolor": "#2a3f5f"
            },
            "type": "carpet"
           }
          ],
          "choropleth": [
           {
            "colorbar": {
             "outlinewidth": 0,
             "ticks": ""
            },
            "type": "choropleth"
           }
          ],
          "contour": [
           {
            "colorbar": {
             "outlinewidth": 0,
             "ticks": ""
            },
            "colorscale": [
             [
              0,
              "#0d0887"
             ],
             [
              0.1111111111111111,
              "#46039f"
             ],
             [
              0.2222222222222222,
              "#7201a8"
             ],
             [
              0.3333333333333333,
              "#9c179e"
             ],
             [
              0.4444444444444444,
              "#bd3786"
             ],
             [
              0.5555555555555556,
              "#d8576b"
             ],
             [
              0.6666666666666666,
              "#ed7953"
             ],
             [
              0.7777777777777778,
              "#fb9f3a"
             ],
             [
              0.8888888888888888,
              "#fdca26"
             ],
             [
              1,
              "#f0f921"
             ]
            ],
            "type": "contour"
           }
          ],
          "contourcarpet": [
           {
            "colorbar": {
             "outlinewidth": 0,
             "ticks": ""
            },
            "type": "contourcarpet"
           }
          ],
          "heatmap": [
           {
            "colorbar": {
             "outlinewidth": 0,
             "ticks": ""
            },
            "colorscale": [
             [
              0,
              "#0d0887"
             ],
             [
              0.1111111111111111,
              "#46039f"
             ],
             [
              0.2222222222222222,
              "#7201a8"
             ],
             [
              0.3333333333333333,
              "#9c179e"
             ],
             [
              0.4444444444444444,
              "#bd3786"
             ],
             [
              0.5555555555555556,
              "#d8576b"
             ],
             [
              0.6666666666666666,
              "#ed7953"
             ],
             [
              0.7777777777777778,
              "#fb9f3a"
             ],
             [
              0.8888888888888888,
              "#fdca26"
             ],
             [
              1,
              "#f0f921"
             ]
            ],
            "type": "heatmap"
           }
          ],
          "heatmapgl": [
           {
            "colorbar": {
             "outlinewidth": 0,
             "ticks": ""
            },
            "colorscale": [
             [
              0,
              "#0d0887"
             ],
             [
              0.1111111111111111,
              "#46039f"
             ],
             [
              0.2222222222222222,
              "#7201a8"
             ],
             [
              0.3333333333333333,
              "#9c179e"
             ],
             [
              0.4444444444444444,
              "#bd3786"
             ],
             [
              0.5555555555555556,
              "#d8576b"
             ],
             [
              0.6666666666666666,
              "#ed7953"
             ],
             [
              0.7777777777777778,
              "#fb9f3a"
             ],
             [
              0.8888888888888888,
              "#fdca26"
             ],
             [
              1,
              "#f0f921"
             ]
            ],
            "type": "heatmapgl"
           }
          ],
          "histogram": [
           {
            "marker": {
             "pattern": {
              "fillmode": "overlay",
              "size": 10,
              "solidity": 0.2
             }
            },
            "type": "histogram"
           }
          ],
          "histogram2d": [
           {
            "colorbar": {
             "outlinewidth": 0,
             "ticks": ""
            },
            "colorscale": [
             [
              0,
              "#0d0887"
             ],
             [
              0.1111111111111111,
              "#46039f"
             ],
             [
              0.2222222222222222,
              "#7201a8"
             ],
             [
              0.3333333333333333,
              "#9c179e"
             ],
             [
              0.4444444444444444,
              "#bd3786"
             ],
             [
              0.5555555555555556,
              "#d8576b"
             ],
             [
              0.6666666666666666,
              "#ed7953"
             ],
             [
              0.7777777777777778,
              "#fb9f3a"
             ],
             [
              0.8888888888888888,
              "#fdca26"
             ],
             [
              1,
              "#f0f921"
             ]
            ],
            "type": "histogram2d"
           }
          ],
          "histogram2dcontour": [
           {
            "colorbar": {
             "outlinewidth": 0,
             "ticks": ""
            },
            "colorscale": [
             [
              0,
              "#0d0887"
             ],
             [
              0.1111111111111111,
              "#46039f"
             ],
             [
              0.2222222222222222,
              "#7201a8"
             ],
             [
              0.3333333333333333,
              "#9c179e"
             ],
             [
              0.4444444444444444,
              "#bd3786"
             ],
             [
              0.5555555555555556,
              "#d8576b"
             ],
             [
              0.6666666666666666,
              "#ed7953"
             ],
             [
              0.7777777777777778,
              "#fb9f3a"
             ],
             [
              0.8888888888888888,
              "#fdca26"
             ],
             [
              1,
              "#f0f921"
             ]
            ],
            "type": "histogram2dcontour"
           }
          ],
          "mesh3d": [
           {
            "colorbar": {
             "outlinewidth": 0,
             "ticks": ""
            },
            "type": "mesh3d"
           }
          ],
          "parcoords": [
           {
            "line": {
             "colorbar": {
              "outlinewidth": 0,
              "ticks": ""
             }
            },
            "type": "parcoords"
           }
          ],
          "pie": [
           {
            "automargin": true,
            "type": "pie"
           }
          ],
          "scatter": [
           {
            "fillpattern": {
             "fillmode": "overlay",
             "size": 10,
             "solidity": 0.2
            },
            "type": "scatter"
           }
          ],
          "scatter3d": [
           {
            "line": {
             "colorbar": {
              "outlinewidth": 0,
              "ticks": ""
             }
            },
            "marker": {
             "colorbar": {
              "outlinewidth": 0,
              "ticks": ""
             }
            },
            "type": "scatter3d"
           }
          ],
          "scattercarpet": [
           {
            "marker": {
             "colorbar": {
              "outlinewidth": 0,
              "ticks": ""
             }
            },
            "type": "scattercarpet"
           }
          ],
          "scattergeo": [
           {
            "marker": {
             "colorbar": {
              "outlinewidth": 0,
              "ticks": ""
             }
            },
            "type": "scattergeo"
           }
          ],
          "scattergl": [
           {
            "marker": {
             "colorbar": {
              "outlinewidth": 0,
              "ticks": ""
             }
            },
            "type": "scattergl"
           }
          ],
          "scattermapbox": [
           {
            "marker": {
             "colorbar": {
              "outlinewidth": 0,
              "ticks": ""
             }
            },
            "type": "scattermapbox"
           }
          ],
          "scatterpolar": [
           {
            "marker": {
             "colorbar": {
              "outlinewidth": 0,
              "ticks": ""
             }
            },
            "type": "scatterpolar"
           }
          ],
          "scatterpolargl": [
           {
            "marker": {
             "colorbar": {
              "outlinewidth": 0,
              "ticks": ""
             }
            },
            "type": "scatterpolargl"
           }
          ],
          "scatterternary": [
           {
            "marker": {
             "colorbar": {
              "outlinewidth": 0,
              "ticks": ""
             }
            },
            "type": "scatterternary"
           }
          ],
          "surface": [
           {
            "colorbar": {
             "outlinewidth": 0,
             "ticks": ""
            },
            "colorscale": [
             [
              0,
              "#0d0887"
             ],
             [
              0.1111111111111111,
              "#46039f"
             ],
             [
              0.2222222222222222,
              "#7201a8"
             ],
             [
              0.3333333333333333,
              "#9c179e"
             ],
             [
              0.4444444444444444,
              "#bd3786"
             ],
             [
              0.5555555555555556,
              "#d8576b"
             ],
             [
              0.6666666666666666,
              "#ed7953"
             ],
             [
              0.7777777777777778,
              "#fb9f3a"
             ],
             [
              0.8888888888888888,
              "#fdca26"
             ],
             [
              1,
              "#f0f921"
             ]
            ],
            "type": "surface"
           }
          ],
          "table": [
           {
            "cells": {
             "fill": {
              "color": "#EBF0F8"
             },
             "line": {
              "color": "white"
             }
            },
            "header": {
             "fill": {
              "color": "#C8D4E3"
             },
             "line": {
              "color": "white"
             }
            },
            "type": "table"
           }
          ]
         },
         "layout": {
          "annotationdefaults": {
           "arrowcolor": "#2a3f5f",
           "arrowhead": 0,
           "arrowwidth": 1
          },
          "autotypenumbers": "strict",
          "coloraxis": {
           "colorbar": {
            "outlinewidth": 0,
            "ticks": ""
           }
          },
          "colorscale": {
           "diverging": [
            [
             0,
             "#8e0152"
            ],
            [
             0.1,
             "#c51b7d"
            ],
            [
             0.2,
             "#de77ae"
            ],
            [
             0.3,
             "#f1b6da"
            ],
            [
             0.4,
             "#fde0ef"
            ],
            [
             0.5,
             "#f7f7f7"
            ],
            [
             0.6,
             "#e6f5d0"
            ],
            [
             0.7,
             "#b8e186"
            ],
            [
             0.8,
             "#7fbc41"
            ],
            [
             0.9,
             "#4d9221"
            ],
            [
             1,
             "#276419"
            ]
           ],
           "sequential": [
            [
             0,
             "#0d0887"
            ],
            [
             0.1111111111111111,
             "#46039f"
            ],
            [
             0.2222222222222222,
             "#7201a8"
            ],
            [
             0.3333333333333333,
             "#9c179e"
            ],
            [
             0.4444444444444444,
             "#bd3786"
            ],
            [
             0.5555555555555556,
             "#d8576b"
            ],
            [
             0.6666666666666666,
             "#ed7953"
            ],
            [
             0.7777777777777778,
             "#fb9f3a"
            ],
            [
             0.8888888888888888,
             "#fdca26"
            ],
            [
             1,
             "#f0f921"
            ]
           ],
           "sequentialminus": [
            [
             0,
             "#0d0887"
            ],
            [
             0.1111111111111111,
             "#46039f"
            ],
            [
             0.2222222222222222,
             "#7201a8"
            ],
            [
             0.3333333333333333,
             "#9c179e"
            ],
            [
             0.4444444444444444,
             "#bd3786"
            ],
            [
             0.5555555555555556,
             "#d8576b"
            ],
            [
             0.6666666666666666,
             "#ed7953"
            ],
            [
             0.7777777777777778,
             "#fb9f3a"
            ],
            [
             0.8888888888888888,
             "#fdca26"
            ],
            [
             1,
             "#f0f921"
            ]
           ]
          },
          "colorway": [
           "#636efa",
           "#EF553B",
           "#00cc96",
           "#ab63fa",
           "#FFA15A",
           "#19d3f3",
           "#FF6692",
           "#B6E880",
           "#FF97FF",
           "#FECB52"
          ],
          "font": {
           "color": "#2a3f5f"
          },
          "geo": {
           "bgcolor": "white",
           "lakecolor": "white",
           "landcolor": "#E5ECF6",
           "showlakes": true,
           "showland": true,
           "subunitcolor": "white"
          },
          "hoverlabel": {
           "align": "left"
          },
          "hovermode": "closest",
          "mapbox": {
           "style": "light"
          },
          "paper_bgcolor": "white",
          "plot_bgcolor": "#E5ECF6",
          "polar": {
           "angularaxis": {
            "gridcolor": "white",
            "linecolor": "white",
            "ticks": ""
           },
           "bgcolor": "#E5ECF6",
           "radialaxis": {
            "gridcolor": "white",
            "linecolor": "white",
            "ticks": ""
           }
          },
          "scene": {
           "xaxis": {
            "backgroundcolor": "#E5ECF6",
            "gridcolor": "white",
            "gridwidth": 2,
            "linecolor": "white",
            "showbackground": true,
            "ticks": "",
            "zerolinecolor": "white"
           },
           "yaxis": {
            "backgroundcolor": "#E5ECF6",
            "gridcolor": "white",
            "gridwidth": 2,
            "linecolor": "white",
            "showbackground": true,
            "ticks": "",
            "zerolinecolor": "white"
           },
           "zaxis": {
            "backgroundcolor": "#E5ECF6",
            "gridcolor": "white",
            "gridwidth": 2,
            "linecolor": "white",
            "showbackground": true,
            "ticks": "",
            "zerolinecolor": "white"
           }
          },
          "shapedefaults": {
           "line": {
            "color": "#2a3f5f"
           }
          },
          "ternary": {
           "aaxis": {
            "gridcolor": "white",
            "linecolor": "white",
            "ticks": ""
           },
           "baxis": {
            "gridcolor": "white",
            "linecolor": "white",
            "ticks": ""
           },
           "bgcolor": "#E5ECF6",
           "caxis": {
            "gridcolor": "white",
            "linecolor": "white",
            "ticks": ""
           }
          },
          "title": {
           "x": 0.05
          },
          "xaxis": {
           "automargin": true,
           "gridcolor": "white",
           "linecolor": "white",
           "ticks": "",
           "title": {
            "standoff": 15
           },
           "zerolinecolor": "white",
           "zerolinewidth": 2
          },
          "yaxis": {
           "automargin": true,
           "gridcolor": "white",
           "linecolor": "white",
           "ticks": "",
           "title": {
            "standoff": 15
           },
           "zerolinecolor": "white",
           "zerolinewidth": 2
          }
         }
        },
        "title": {
         "text": "p_min"
        },
        "xaxis": {
         "title": {
          "text": "Time"
         }
        },
        "yaxis": {
         "title": {
          "text": "Probability"
         }
        }
       }
      }
     },
     "metadata": {},
     "output_type": "display_data"
    }
   ],
   "source": [
    "sch.visualize_system('p_min')"
   ]
  },
  {
   "cell_type": "code",
   "execution_count": 319,
   "metadata": {},
   "outputs": [
    {
     "data": {
      "application/vnd.plotly.v1+json": {
       "config": {
        "plotlyServerURL": "https://plot.ly"
       },
       "data": [
        {
         "text": [
          [
           0,
           0.01,
           0.04,
           0.09,
           0.13,
           0.16,
           0.16,
           0.14,
           0.1,
           0.07,
           0.04,
           0.02,
           0.01,
           0.01,
           0,
           0,
           0,
           0,
           0,
           0,
           0,
           0,
           0,
           0,
           0,
           0,
           0,
           0,
           0,
           0,
           0,
           0,
           0,
           0,
           0,
           0,
           0,
           0,
           0,
           0,
           0,
           0,
           0,
           0,
           0,
           0,
           0,
           0,
           0,
           0,
           0,
           0,
           0,
           0,
           0,
           0,
           0,
           0,
           0,
           0,
           0,
           0,
           0,
           0,
           0,
           0,
           0,
           0,
           0,
           0,
           0,
           0,
           0,
           0,
           0,
           0,
           0,
           0,
           0,
           0,
           0,
           0,
           0,
           0,
           0,
           0,
           0,
           0,
           0,
           0,
           0,
           0,
           0,
           0,
           0,
           0,
           0,
           0,
           0,
           0,
           0
          ],
          [
           0.45,
           0.16,
           0.14,
           0.1,
           0.07,
           0.04,
           0.02,
           0.01,
           0.01,
           0,
           0,
           0,
           0,
           0,
           0,
           0,
           0,
           0,
           0,
           0,
           0,
           0,
           0,
           0,
           0,
           0,
           0,
           0,
           0,
           0,
           0,
           0,
           0,
           0,
           0,
           0,
           0,
           0,
           0,
           0,
           0,
           0,
           0,
           0,
           0,
           0,
           0,
           0,
           0,
           0,
           0,
           0,
           0,
           0,
           0,
           0,
           0,
           0,
           0,
           0,
           0,
           0,
           0,
           0,
           0,
           0,
           0,
           0,
           0,
           0,
           0,
           0,
           0,
           0,
           0,
           0,
           0,
           0,
           0,
           0,
           0,
           0,
           0,
           0,
           0,
           0,
           0,
           0,
           0,
           0,
           0,
           0,
           0,
           0,
           0,
           0,
           0,
           0,
           0,
           0,
           0
          ],
          [
           0,
           0.01,
           0.04,
           0.09,
           0.13,
           0.16,
           0.16,
           0.14,
           0.1,
           0.07,
           0.04,
           0.02,
           0.01,
           0.01,
           0,
           0,
           0,
           0,
           0,
           0,
           0,
           0,
           0,
           0,
           0,
           0,
           0,
           0,
           0,
           0,
           0,
           0,
           0,
           0,
           0,
           0,
           0,
           0,
           0,
           0,
           0,
           0,
           0,
           0,
           0,
           0,
           0,
           0,
           0,
           0,
           0,
           0,
           0,
           0,
           0,
           0,
           0,
           0,
           0,
           0,
           0,
           0,
           0,
           0,
           0,
           0,
           0,
           0,
           0,
           0,
           0,
           0,
           0,
           0,
           0,
           0,
           0,
           0,
           0,
           0,
           0,
           0,
           0,
           0,
           0,
           0,
           0,
           0,
           0,
           0,
           0,
           0,
           0,
           0,
           0,
           0,
           0,
           0,
           0,
           0,
           0
          ],
          [
           0.44,
           0.16,
           0.14,
           0.1,
           0.07,
           0.04,
           0.02,
           0.01,
           0.01,
           0,
           0,
           0,
           0,
           0,
           0,
           0,
           0,
           0,
           0,
           0,
           0,
           0,
           0,
           0,
           0,
           0,
           0,
           0,
           0,
           0,
           0,
           0,
           0,
           0,
           0,
           0,
           0,
           0,
           0,
           0,
           0,
           0,
           0,
           0,
           0,
           0,
           0,
           0,
           0,
           0,
           0,
           0,
           0,
           0,
           0,
           0,
           0,
           0,
           0,
           0,
           0,
           0,
           0,
           0,
           0,
           0,
           0,
           0,
           0,
           0,
           0,
           0,
           0,
           0,
           0,
           0,
           0,
           0,
           0,
           0,
           0,
           0,
           0,
           0,
           0,
           0,
           0,
           0,
           0,
           0,
           0,
           0,
           0,
           0,
           0,
           0,
           0,
           0,
           0,
           0,
           0
          ],
          [
           0,
           0.01,
           0.04,
           0.09,
           0.13,
           0.16,
           0.16,
           0.14,
           0.11,
           0.07,
           0.04,
           0.02,
           0.01,
           0.01,
           0,
           0,
           0,
           0,
           0,
           0,
           0,
           0,
           0,
           0,
           0,
           0,
           0,
           0,
           0,
           0,
           0,
           0,
           0,
           0,
           0,
           0,
           0,
           0,
           0,
           0,
           0,
           0,
           0,
           0,
           0,
           0,
           0,
           0,
           0,
           0,
           0,
           0,
           0,
           0,
           0,
           0,
           0,
           0,
           0,
           0,
           0,
           0,
           0,
           0,
           0,
           0,
           0,
           0,
           0,
           0,
           0,
           0,
           0,
           0,
           0,
           0,
           0,
           0,
           0,
           0,
           0,
           0,
           0,
           0,
           0,
           0,
           0,
           0,
           0,
           0,
           0,
           0,
           0,
           0,
           0,
           0,
           0,
           0,
           0,
           0,
           0
          ],
          [
           0,
           0,
           0,
           0,
           0,
           0,
           0,
           0,
           0,
           0,
           0,
           0,
           0,
           0,
           0,
           0,
           0,
           0,
           0,
           0,
           0,
           0,
           0,
           0,
           0,
           0,
           0,
           0,
           0,
           0,
           0,
           0,
           0,
           0,
           0,
           0,
           0,
           0,
           0,
           0,
           0,
           0,
           0,
           0,
           0,
           0,
           0,
           0,
           0,
           0,
           0,
           0,
           0,
           0,
           0,
           0,
           0,
           0,
           0,
           0,
           0,
           0,
           0,
           0,
           0,
           0,
           0,
           0,
           0,
           0,
           0,
           0,
           0,
           0,
           0,
           0,
           0,
           0,
           0,
           0,
           0,
           0,
           0,
           0,
           0,
           0,
           0,
           0,
           0,
           0,
           0,
           0,
           0,
           0,
           0,
           0,
           0,
           0,
           0,
           0,
           0
          ],
          [
           0,
           0,
           0,
           0,
           0,
           0,
           0,
           0,
           0,
           0,
           0,
           0,
           0,
           0,
           0,
           0,
           0,
           0,
           0,
           0,
           0,
           0,
           0,
           0,
           0,
           0,
           0,
           0,
           0,
           0,
           0,
           0,
           0,
           0,
           0,
           0,
           0,
           0,
           0,
           0,
           0,
           0,
           0,
           0,
           0,
           0,
           0,
           0,
           0,
           0,
           0,
           0,
           0,
           0,
           0,
           0,
           0,
           0,
           0,
           0,
           0,
           0,
           0,
           0,
           0,
           0,
           0,
           0,
           0,
           0,
           0,
           0,
           0,
           0,
           0,
           0,
           0,
           0,
           0,
           0,
           0,
           0,
           0,
           0,
           0,
           0,
           0,
           0,
           0,
           0,
           0,
           0,
           0,
           0,
           0,
           0,
           0,
           0,
           0,
           0,
           0
          ]
         ],
         "textfont": {
          "size": 10
         },
         "texttemplate": "%{text}",
         "type": "heatmap",
         "z": [
          [
           0.0024787521766663585,
           0.014872513059998144,
           0.04461753917999444,
           0.08923507835998894,
           0.13385261753998332,
           0.16062314104797995,
           0.1606231410479801,
           0.1376769780411257,
           0.1032577335308442,
           0.06883848902056285,
           0.04130309341233764,
           0.022528960043093245,
           0.011264480021546681,
           0.005198990779175391,
           0.0022281389053608724,
           0.0008912555621443482,
           0.00033422083580413026,
           0.00011796029498969308,
           0.00003932009832989778,
           0.000012416873156809801,
           0.0000037250619470429406,
           0.0000010643034134408401,
           2.902645673020461e-7,
           7.572119147009894e-8,
           1.8930297867524934e-8,
           4.543271488205989e-9,
           1.0484472665090723e-9,
           2.32988281446462e-10,
           4.992606030995549e-11,
           1.0329529719301272e-11,
           2.0659059438602488e-12,
           3.9985276332778877e-13,
           7.497239312396073e-14,
           1.3631344204356205e-14,
           2.4055313301805628e-15,
           4.1237679945952585e-16,
           6.87294665765867e-17,
           1.1145318904311653e-17,
           1.759787195417585e-18,
           2.7073649160270795e-19,
           4.061047374040583e-20,
           5.942996157132594e-21,
           8.489994510189464e-22,
           1.1846503967705976e-22,
           1.6154323592326577e-23,
           2.1539098123101216e-24,
           2.8094475812742048e-25,
           3.58652882715844e-26,
           4.4831610339482165e-27,
           5.489584939528482e-28,
           6.587501927434127e-29,
           7.750002267569333e-30,
           8.942310308733877e-31,
           1.0123370160830702e-31,
           1.1248189067589723e-32,
           1.2270751710097727e-33,
           1.3147233975104883e-34,
           1.383919365800544e-35,
           1.4316407232419175e-36,
           1.455905820246049e-37,
           1.45590582024598e-38,
           1.4320385117173733e-39,
           1.3858437210168648e-40,
           1.3198511628731983e-41,
           1.237360465193609e-42,
           1.142178890947968e-43,
           1.0383444463163103e-44,
           9.298606981936949e-46,
           8.204653219356074e-47,
           7.134481060309592e-48,
           6.115269480265713e-49,
           5.16783336360472e-50,
           4.3065278030038044e-51,
           3.5396118928798574e-52,
           2.8699555888216585e-53,
           2.295964471057253e-54,
           1.8126035297820186e-55,
           1.4124183348950732e-56,
           1.0864756422270185e-57,
           8.251713738433421e-59,
           6.188785303824384e-60,
           4.584285410240326e-61,
           3.3543551782245456e-62,
           2.424835068596197e-63,
           1.732025048997314e-64,
           1.2226059169392906e-65,
           8.529808722832305e-67,
           5.882626705401346e-68,
           4.0108818445919375e-69,
           2.7039652884890752e-70,
           1.802643525659306e-71,
           1.1885561707643076e-72,
           7.751453287593223e-74,
           5.000937604899062e-75,
           3.192087832914365e-76,
           2.0160554734196607e-77,
           1.2600346708872426e-78,
           7.794028892085978e-80,
           4.771854423726283e-81,
           2.89203298407648e-82,
           1.7352197904459205e-83
          ],
          [
           0.44567964136461113,
           0.1606231410479801,
           0.1376769780411257,
           0.1032577335308442,
           0.06883848902056285,
           0.04130309341233764,
           0.022528960043093245,
           0.011264480021546681,
           0.005198990779175391,
           0.0022281389053608724,
           0.0008912555621443482,
           0.00033422083580413026,
           0.00011796029498969308,
           0.00003932009832989778,
           0.000012416873156809801,
           0.0000037250619470429406,
           0.0000010643034134408401,
           2.902645673020461e-7,
           7.572119147009894e-8,
           1.8930297867524934e-8,
           4.543271488205989e-9,
           1.0484472665090723e-9,
           2.32988281446462e-10,
           4.992606030995549e-11,
           1.0329529719301272e-11,
           2.0659059438602488e-12,
           3.9985276332778877e-13,
           7.497239312396073e-14,
           1.3631344204356205e-14,
           2.4055313301805628e-15,
           4.1237679945952585e-16,
           6.87294665765867e-17,
           1.1145318904311653e-17,
           1.759787195417585e-18,
           2.7073649160270795e-19,
           4.061047374040583e-20,
           5.942996157132594e-21,
           8.489994510189464e-22,
           1.1846503967705976e-22,
           1.6154323592326577e-23,
           2.1539098123101216e-24,
           2.8094475812742048e-25,
           3.58652882715844e-26,
           4.4831610339482165e-27,
           5.489584939528482e-28,
           6.587501927434127e-29,
           7.750002267569333e-30,
           8.942310308733877e-31,
           1.0123370160830702e-31,
           1.1248189067589723e-32,
           1.2270751710097727e-33,
           1.3147233975104883e-34,
           1.383919365800544e-35,
           1.4316407232419175e-36,
           1.455905820246049e-37,
           1.45590582024598e-38,
           1.4320385117173733e-39,
           1.3858437210168648e-40,
           1.3198511628731983e-41,
           1.237360465193609e-42,
           1.142178890947968e-43,
           1.0383444463163103e-44,
           9.298606981936949e-46,
           8.204653219356074e-47,
           7.134481060309592e-48,
           6.115269480265713e-49,
           5.16783336360472e-50,
           4.3065278030038044e-51,
           3.5396118928798574e-52,
           2.8699555888216585e-53,
           2.295964471057253e-54,
           1.8126035297820186e-55,
           1.4124183348950732e-56,
           1.0864756422270185e-57,
           8.251713738433421e-59,
           6.188785303824384e-60,
           4.584285410240326e-61,
           3.3543551782245456e-62,
           2.424835068596197e-63,
           1.732025048997314e-64,
           1.2226059169392906e-65,
           8.529808722832305e-67,
           5.882626705401346e-68,
           4.0108818445919375e-69,
           2.7039652884890752e-70,
           1.802643525659306e-71,
           1.1885561707643076e-72,
           7.751453287593223e-74,
           5.000937604899062e-75,
           3.192087832914365e-76,
           2.0160554734196607e-77,
           1.2600346708872426e-78,
           7.794028892085978e-80,
           4.771854423726283e-81,
           2.89203298407648e-82,
           1.7352197904459205e-83,
           0,
           0,
           0,
           0,
           0
          ],
          [
           0.002373105469564611,
           0.014294476526132508,
           0.04307888255900449,
           0.08661740179767816,
           0.13074350731243073,
           0.15806529485883608,
           0.15948111697565678,
           0.1381768219731816,
           0.10499746451712136,
           0.07112964663828218,
           0.0435307607456834,
           0.024335049863907988,
           0.01254704262977503,
           0.006018427991709521,
           0.00270736866841459,
           0.0011509700424939743,
           0.00046587130652857626,
           0.00018084269543904352,
           0.00006779254215629255,
           0.000024698822932675454,
           0.000008793334771961216,
           0.0000030720902175503205,
           0.0000010560661896908166,
           3.5764565839096516e-7,
           1.1931718888579503e-7,
           3.917865856791507e-8,
           1.264471183900291e-8,
           4.005523755765675e-9,
           1.2437804450143874e-9,
           3.7820106942926844e-10,
           1.1253538949616669e-10,
           3.2753600481382204e-11,
           9.322933397669236e-12,
           2.595200510625631e-12,
           7.066025477020294e-13,
           1.8822125966112697e-13,
           4.906622840378831e-14,
           1.2521780325845038e-14,
           3.1295198331398317e-15,
           7.662685179488023e-16,
           1.838824584075596e-16,
           4.326319969048088e-17,
           9.983343442549885e-18,
           2.2603129996615375e-18,
           5.022825836330819e-19,
           1.0958768787548486e-19,
           2.3482912595390317e-20,
           4.943750005455731e-21,
           1.0228421699024007e-21,
           2.0803536699907906e-22,
           4.1607033622274145e-23,
           8.18498550139429e-24,
           1.5841901932317199e-24,
           3.017504503630078e-25,
           5.657820243152076e-26,
           1.0445205832320538e-26,
           1.8991282500298574e-27,
           3.401423643316406e-28,
           6.002512220028527e-29,
           1.0439151593164164e-29,
           1.7895688351017584e-30,
           3.0246233739306927e-31,
           5.041038947461767e-32,
           8.286639356986969e-33,
           1.3437793543668215e-33,
           2.1500469662259003e-34,
           3.3948109986088085e-35,
           5.290614542660869e-36,
           8.13940698815448e-37,
           1.236365618405406e-37,
           1.8545484275664077e-38,
           2.747479151914843e-39,
           4.020701197894545e-40,
           5.813061972835142e-41,
           8.304374246887452e-42,
           1.1723822466178067e-42,
           1.6358822045817194e-43,
           2.256389247697932e-44,
           3.0768944286782324e-45,
           4.148621701588044e-46,
           5.531495602116951e-47,
           7.294279914879166e-48,
           9.514278149842147e-49,
           1.2276487935280008e-49,
           1.5672112257804132e-50,
           1.9796352325647228e-51,
           2.4745440407058957e-52,
           3.061291596749555e-53,
           3.7485203225504706e-54,
           4.5436609970308674e-55,
           5.452393196437036e-56,
           6.478090926459838e-57,
           7.621283442893922e-58,
           8.879165176187087e-59,
           1.0245190587908168e-59,
           1.1708789243323615e-60,
           1.3255233105649365e-61,
           1.4865681987644142e-62,
           1.6517424430715703e-63,
           1.818432047418242e-64,
           1.9837440517289903e-65
          ],
          [
           0.43517266852364656,
           0.15948111697565678,
           0.1381768219731816,
           0.10499746451712136,
           0.07112964663828218,
           0.0435307607456834,
           0.024335049863907988,
           0.01254704262977503,
           0.006018427991709521,
           0.00270736866841459,
           0.0011509700424939743,
           0.00046587130652857626,
           0.00018084269543904352,
           0.00006779254215629255,
           0.000024698822932675454,
           0.000008793334771961216,
           0.0000030720902175503205,
           0.0000010560661896908166,
           3.5764565839096516e-7,
           1.1931718888579503e-7,
           3.917865856791507e-8,
           1.264471183900291e-8,
           4.005523755765675e-9,
           1.2437804450143874e-9,
           3.7820106942926844e-10,
           1.1253538949616669e-10,
           3.2753600481382204e-11,
           9.322933397669236e-12,
           2.595200510625631e-12,
           7.066025477020294e-13,
           1.8822125966112697e-13,
           4.906622840378831e-14,
           1.2521780325845038e-14,
           3.1295198331398317e-15,
           7.662685179488023e-16,
           1.838824584075596e-16,
           4.326319969048088e-17,
           9.983343442549885e-18,
           2.2603129996615375e-18,
           5.022825836330819e-19,
           1.0958768787548486e-19,
           2.3482912595390317e-20,
           4.943750005455731e-21,
           1.0228421699024007e-21,
           2.0803536699907906e-22,
           4.1607033622274145e-23,
           8.18498550139429e-24,
           1.5841901932317199e-24,
           3.017504503630078e-25,
           5.657820243152076e-26,
           1.0445205832320538e-26,
           1.8991282500298574e-27,
           3.401423643316406e-28,
           6.002512220028527e-29,
           1.0439151593164164e-29,
           1.7895688351017584e-30,
           3.0246233739306927e-31,
           5.041038947461767e-32,
           8.286639356986969e-33,
           1.3437793543668215e-33,
           2.1500469662259003e-34,
           3.3948109986088085e-35,
           5.290614542660869e-36,
           8.13940698815448e-37,
           1.236365618405406e-37,
           1.8545484275664077e-38,
           2.747479151914843e-39,
           4.020701197894545e-40,
           5.813061972835142e-41,
           8.304374246887452e-42,
           1.1723822466178067e-42,
           1.6358822045817194e-43,
           2.256389247697932e-44,
           3.0768944286782324e-45,
           4.148621701588044e-46,
           5.531495602116951e-47,
           7.294279914879166e-48,
           9.514278149842147e-49,
           1.2276487935280008e-49,
           1.5672112257804132e-50,
           1.9796352325647228e-51,
           2.4745440407058957e-52,
           3.061291596749555e-53,
           3.7485203225504706e-54,
           4.5436609970308674e-55,
           5.452393196437036e-56,
           6.478090926459838e-57,
           7.621283442893922e-58,
           8.879165176187087e-59,
           1.0245190587908168e-59,
           1.1708789243323615e-60,
           1.3255233105649365e-61,
           1.4865681987644142e-62,
           1.6517424430715703e-63,
           1.818432047418242e-64,
           1.9837440517289903e-65,
           0,
           0,
           0,
           0,
           0
          ],
          [
           0.0023609828914968713,
           0.014226217906800665,
           0.042890716403089627,
           0.08628267838149765,
           0.1303206544333453,
           0.1576802836156008,
           0.15925604163166415,
           0.13816575799162106,
           0.10517296086873308,
           0.0714144242434137,
           0.0438417348188929,
           0.02461279702955184,
           0.012763676894861326,
           0.006170890410929235,
           0.002806135739707883,
           0.0012106714170110379,
           0.0004998803068688157,
           0.00019923850336227237,
           0.00007729659877529866,
           0.000029410508299331104,
           0.00001104303581121529,
           0.000004109728167726332,
           0.0000015195025051080362,
           5.584732953594853e-7,
           2.03897769308411e-7,
           7.384816590534373e-8,
           2.6492703672775273e-8,
           9.401311779260338e-9,
           3.2966751944641313e-9,
           1.1415000505494105e-9,
           3.901077365325288e-10,
           1.3154490314007726e-10,
           4.375823681786644e-11,
           1.4357463163548542e-11,
           4.645898619034161e-12,
           1.482441931775404e-12,
           4.663823649640785e-13,
           1.4464525741669936e-13,
           4.421900919192238e-14,
           1.3323209052531933e-14,
           3.956087759262805e-15,
           1.15758837587299e-15,
           3.337798133903167e-16,
           9.483808862083553e-17,
           2.6554220262840022e-17,
           7.327142872027623e-18,
           1.9925914912614835e-18,
           5.341030325687593e-19,
           1.4112461460265268e-19,
           3.676250321948968e-20,
           9.442570502750582e-21,
           2.391773786655182e-21,
           5.975292557878838e-22,
           1.4725627485034083e-22,
           3.5804000765568894e-23,
           8.590147124626514e-24,
           2.0339923484298422e-24,
           4.753854577695724e-25,
           1.096877350030914e-25,
           2.498923097297264e-26,
           5.622073901675469e-27,
           1.249264069815318e-27,
           2.742143098084338e-28,
           5.946578111590265e-29,
           1.2742278309533167e-29,
           2.698302140677786e-30,
           5.647509509356813e-31,
           1.1684346176769541e-31,
           2.3899557098715356e-32,
           4.833581322003318e-33,
           9.667106864859583e-34,
           1.9121666731979508e-34,
           3.7411834344494805e-35,
           7.240982416888343e-36,
           1.3865685478291912e-36,
           2.6271788884674693e-37,
           4.925955334847424e-38,
           9.140941001433841e-39,
           1.6789473822644154e-39,
           3.052630297025108e-40,
           5.494732783947389e-41,
           9.792590761467558e-42,
           1.728103948259794e-42,
           3.019987088788402e-43,
           5.226900226047021e-44,
           8.96039974761908e-45,
           1.5215772353324748e-45,
           2.559662539153643e-46,
           4.2661041093532986e-47,
           7.044942416789202e-48,
           1.1528087411527549e-48,
           1.869419558836134e-49,
           3.004424265709782e-50,
           4.785808535299367e-51,
           7.556539758371444e-52,
           1.1827627408666149e-52,
           1.8353214899941475e-53,
           2.8235715180569325e-54,
           4.307142988059054e-55,
           6.515006194238582e-56,
           9.77250928447486e-57
          ],
          [
           0,
           0,
           0,
           0,
           0,
           0,
           0,
           0,
           0,
           0,
           0,
           0,
           0,
           0,
           0,
           0,
           0,
           0,
           0,
           0,
           0,
           0,
           0,
           0,
           0,
           0,
           0,
           0,
           0,
           0,
           0,
           0,
           0,
           0,
           0,
           0,
           0,
           0,
           0,
           0,
           0,
           0,
           0,
           0,
           0,
           0,
           0,
           0,
           0,
           0,
           0,
           0,
           0,
           0,
           0,
           0,
           0,
           0,
           0,
           0,
           0,
           0,
           0,
           0,
           0,
           0,
           0,
           0,
           0,
           0,
           0,
           0,
           0,
           0,
           0,
           0,
           0,
           0,
           0,
           0,
           0,
           0,
           0,
           0,
           0,
           0,
           0,
           0,
           0,
           0,
           0,
           0,
           0,
           0,
           0,
           0,
           0,
           0,
           0,
           0,
           0
          ],
          [
           0,
           0,
           0,
           0,
           0,
           0,
           0,
           0,
           0,
           0,
           0,
           0,
           0,
           0,
           0,
           0,
           0,
           0,
           0,
           0,
           0,
           0,
           0,
           0,
           0,
           0,
           0,
           0,
           0,
           0,
           0,
           0,
           0,
           0,
           0,
           0,
           0,
           0,
           0,
           0,
           0,
           0,
           0,
           0,
           0,
           0,
           0,
           0,
           0,
           0,
           0,
           0,
           0,
           0,
           0,
           0,
           0,
           0,
           0,
           0,
           0,
           0,
           0,
           0,
           0,
           0,
           0,
           0,
           0,
           0,
           0,
           0,
           0,
           0,
           0,
           0,
           0,
           0,
           0,
           0,
           0,
           0,
           0,
           0,
           0,
           0,
           0,
           0,
           0,
           0,
           0,
           0,
           0,
           0,
           0,
           0,
           0,
           0,
           0,
           0,
           0
          ]
         ]
        }
       ],
       "layout": {
        "template": {
         "data": {
          "bar": [
           {
            "error_x": {
             "color": "#2a3f5f"
            },
            "error_y": {
             "color": "#2a3f5f"
            },
            "marker": {
             "line": {
              "color": "#E5ECF6",
              "width": 0.5
             },
             "pattern": {
              "fillmode": "overlay",
              "size": 10,
              "solidity": 0.2
             }
            },
            "type": "bar"
           }
          ],
          "barpolar": [
           {
            "marker": {
             "line": {
              "color": "#E5ECF6",
              "width": 0.5
             },
             "pattern": {
              "fillmode": "overlay",
              "size": 10,
              "solidity": 0.2
             }
            },
            "type": "barpolar"
           }
          ],
          "carpet": [
           {
            "aaxis": {
             "endlinecolor": "#2a3f5f",
             "gridcolor": "white",
             "linecolor": "white",
             "minorgridcolor": "white",
             "startlinecolor": "#2a3f5f"
            },
            "baxis": {
             "endlinecolor": "#2a3f5f",
             "gridcolor": "white",
             "linecolor": "white",
             "minorgridcolor": "white",
             "startlinecolor": "#2a3f5f"
            },
            "type": "carpet"
           }
          ],
          "choropleth": [
           {
            "colorbar": {
             "outlinewidth": 0,
             "ticks": ""
            },
            "type": "choropleth"
           }
          ],
          "contour": [
           {
            "colorbar": {
             "outlinewidth": 0,
             "ticks": ""
            },
            "colorscale": [
             [
              0,
              "#0d0887"
             ],
             [
              0.1111111111111111,
              "#46039f"
             ],
             [
              0.2222222222222222,
              "#7201a8"
             ],
             [
              0.3333333333333333,
              "#9c179e"
             ],
             [
              0.4444444444444444,
              "#bd3786"
             ],
             [
              0.5555555555555556,
              "#d8576b"
             ],
             [
              0.6666666666666666,
              "#ed7953"
             ],
             [
              0.7777777777777778,
              "#fb9f3a"
             ],
             [
              0.8888888888888888,
              "#fdca26"
             ],
             [
              1,
              "#f0f921"
             ]
            ],
            "type": "contour"
           }
          ],
          "contourcarpet": [
           {
            "colorbar": {
             "outlinewidth": 0,
             "ticks": ""
            },
            "type": "contourcarpet"
           }
          ],
          "heatmap": [
           {
            "colorbar": {
             "outlinewidth": 0,
             "ticks": ""
            },
            "colorscale": [
             [
              0,
              "#0d0887"
             ],
             [
              0.1111111111111111,
              "#46039f"
             ],
             [
              0.2222222222222222,
              "#7201a8"
             ],
             [
              0.3333333333333333,
              "#9c179e"
             ],
             [
              0.4444444444444444,
              "#bd3786"
             ],
             [
              0.5555555555555556,
              "#d8576b"
             ],
             [
              0.6666666666666666,
              "#ed7953"
             ],
             [
              0.7777777777777778,
              "#fb9f3a"
             ],
             [
              0.8888888888888888,
              "#fdca26"
             ],
             [
              1,
              "#f0f921"
             ]
            ],
            "type": "heatmap"
           }
          ],
          "heatmapgl": [
           {
            "colorbar": {
             "outlinewidth": 0,
             "ticks": ""
            },
            "colorscale": [
             [
              0,
              "#0d0887"
             ],
             [
              0.1111111111111111,
              "#46039f"
             ],
             [
              0.2222222222222222,
              "#7201a8"
             ],
             [
              0.3333333333333333,
              "#9c179e"
             ],
             [
              0.4444444444444444,
              "#bd3786"
             ],
             [
              0.5555555555555556,
              "#d8576b"
             ],
             [
              0.6666666666666666,
              "#ed7953"
             ],
             [
              0.7777777777777778,
              "#fb9f3a"
             ],
             [
              0.8888888888888888,
              "#fdca26"
             ],
             [
              1,
              "#f0f921"
             ]
            ],
            "type": "heatmapgl"
           }
          ],
          "histogram": [
           {
            "marker": {
             "pattern": {
              "fillmode": "overlay",
              "size": 10,
              "solidity": 0.2
             }
            },
            "type": "histogram"
           }
          ],
          "histogram2d": [
           {
            "colorbar": {
             "outlinewidth": 0,
             "ticks": ""
            },
            "colorscale": [
             [
              0,
              "#0d0887"
             ],
             [
              0.1111111111111111,
              "#46039f"
             ],
             [
              0.2222222222222222,
              "#7201a8"
             ],
             [
              0.3333333333333333,
              "#9c179e"
             ],
             [
              0.4444444444444444,
              "#bd3786"
             ],
             [
              0.5555555555555556,
              "#d8576b"
             ],
             [
              0.6666666666666666,
              "#ed7953"
             ],
             [
              0.7777777777777778,
              "#fb9f3a"
             ],
             [
              0.8888888888888888,
              "#fdca26"
             ],
             [
              1,
              "#f0f921"
             ]
            ],
            "type": "histogram2d"
           }
          ],
          "histogram2dcontour": [
           {
            "colorbar": {
             "outlinewidth": 0,
             "ticks": ""
            },
            "colorscale": [
             [
              0,
              "#0d0887"
             ],
             [
              0.1111111111111111,
              "#46039f"
             ],
             [
              0.2222222222222222,
              "#7201a8"
             ],
             [
              0.3333333333333333,
              "#9c179e"
             ],
             [
              0.4444444444444444,
              "#bd3786"
             ],
             [
              0.5555555555555556,
              "#d8576b"
             ],
             [
              0.6666666666666666,
              "#ed7953"
             ],
             [
              0.7777777777777778,
              "#fb9f3a"
             ],
             [
              0.8888888888888888,
              "#fdca26"
             ],
             [
              1,
              "#f0f921"
             ]
            ],
            "type": "histogram2dcontour"
           }
          ],
          "mesh3d": [
           {
            "colorbar": {
             "outlinewidth": 0,
             "ticks": ""
            },
            "type": "mesh3d"
           }
          ],
          "parcoords": [
           {
            "line": {
             "colorbar": {
              "outlinewidth": 0,
              "ticks": ""
             }
            },
            "type": "parcoords"
           }
          ],
          "pie": [
           {
            "automargin": true,
            "type": "pie"
           }
          ],
          "scatter": [
           {
            "fillpattern": {
             "fillmode": "overlay",
             "size": 10,
             "solidity": 0.2
            },
            "type": "scatter"
           }
          ],
          "scatter3d": [
           {
            "line": {
             "colorbar": {
              "outlinewidth": 0,
              "ticks": ""
             }
            },
            "marker": {
             "colorbar": {
              "outlinewidth": 0,
              "ticks": ""
             }
            },
            "type": "scatter3d"
           }
          ],
          "scattercarpet": [
           {
            "marker": {
             "colorbar": {
              "outlinewidth": 0,
              "ticks": ""
             }
            },
            "type": "scattercarpet"
           }
          ],
          "scattergeo": [
           {
            "marker": {
             "colorbar": {
              "outlinewidth": 0,
              "ticks": ""
             }
            },
            "type": "scattergeo"
           }
          ],
          "scattergl": [
           {
            "marker": {
             "colorbar": {
              "outlinewidth": 0,
              "ticks": ""
             }
            },
            "type": "scattergl"
           }
          ],
          "scattermapbox": [
           {
            "marker": {
             "colorbar": {
              "outlinewidth": 0,
              "ticks": ""
             }
            },
            "type": "scattermapbox"
           }
          ],
          "scatterpolar": [
           {
            "marker": {
             "colorbar": {
              "outlinewidth": 0,
              "ticks": ""
             }
            },
            "type": "scatterpolar"
           }
          ],
          "scatterpolargl": [
           {
            "marker": {
             "colorbar": {
              "outlinewidth": 0,
              "ticks": ""
             }
            },
            "type": "scatterpolargl"
           }
          ],
          "scatterternary": [
           {
            "marker": {
             "colorbar": {
              "outlinewidth": 0,
              "ticks": ""
             }
            },
            "type": "scatterternary"
           }
          ],
          "surface": [
           {
            "colorbar": {
             "outlinewidth": 0,
             "ticks": ""
            },
            "colorscale": [
             [
              0,
              "#0d0887"
             ],
             [
              0.1111111111111111,
              "#46039f"
             ],
             [
              0.2222222222222222,
              "#7201a8"
             ],
             [
              0.3333333333333333,
              "#9c179e"
             ],
             [
              0.4444444444444444,
              "#bd3786"
             ],
             [
              0.5555555555555556,
              "#d8576b"
             ],
             [
              0.6666666666666666,
              "#ed7953"
             ],
             [
              0.7777777777777778,
              "#fb9f3a"
             ],
             [
              0.8888888888888888,
              "#fdca26"
             ],
             [
              1,
              "#f0f921"
             ]
            ],
            "type": "surface"
           }
          ],
          "table": [
           {
            "cells": {
             "fill": {
              "color": "#EBF0F8"
             },
             "line": {
              "color": "white"
             }
            },
            "header": {
             "fill": {
              "color": "#C8D4E3"
             },
             "line": {
              "color": "white"
             }
            },
            "type": "table"
           }
          ]
         },
         "layout": {
          "annotationdefaults": {
           "arrowcolor": "#2a3f5f",
           "arrowhead": 0,
           "arrowwidth": 1
          },
          "autotypenumbers": "strict",
          "coloraxis": {
           "colorbar": {
            "outlinewidth": 0,
            "ticks": ""
           }
          },
          "colorscale": {
           "diverging": [
            [
             0,
             "#8e0152"
            ],
            [
             0.1,
             "#c51b7d"
            ],
            [
             0.2,
             "#de77ae"
            ],
            [
             0.3,
             "#f1b6da"
            ],
            [
             0.4,
             "#fde0ef"
            ],
            [
             0.5,
             "#f7f7f7"
            ],
            [
             0.6,
             "#e6f5d0"
            ],
            [
             0.7,
             "#b8e186"
            ],
            [
             0.8,
             "#7fbc41"
            ],
            [
             0.9,
             "#4d9221"
            ],
            [
             1,
             "#276419"
            ]
           ],
           "sequential": [
            [
             0,
             "#0d0887"
            ],
            [
             0.1111111111111111,
             "#46039f"
            ],
            [
             0.2222222222222222,
             "#7201a8"
            ],
            [
             0.3333333333333333,
             "#9c179e"
            ],
            [
             0.4444444444444444,
             "#bd3786"
            ],
            [
             0.5555555555555556,
             "#d8576b"
            ],
            [
             0.6666666666666666,
             "#ed7953"
            ],
            [
             0.7777777777777778,
             "#fb9f3a"
            ],
            [
             0.8888888888888888,
             "#fdca26"
            ],
            [
             1,
             "#f0f921"
            ]
           ],
           "sequentialminus": [
            [
             0,
             "#0d0887"
            ],
            [
             0.1111111111111111,
             "#46039f"
            ],
            [
             0.2222222222222222,
             "#7201a8"
            ],
            [
             0.3333333333333333,
             "#9c179e"
            ],
            [
             0.4444444444444444,
             "#bd3786"
            ],
            [
             0.5555555555555556,
             "#d8576b"
            ],
            [
             0.6666666666666666,
             "#ed7953"
            ],
            [
             0.7777777777777778,
             "#fb9f3a"
            ],
            [
             0.8888888888888888,
             "#fdca26"
            ],
            [
             1,
             "#f0f921"
            ]
           ]
          },
          "colorway": [
           "#636efa",
           "#EF553B",
           "#00cc96",
           "#ab63fa",
           "#FFA15A",
           "#19d3f3",
           "#FF6692",
           "#B6E880",
           "#FF97FF",
           "#FECB52"
          ],
          "font": {
           "color": "#2a3f5f"
          },
          "geo": {
           "bgcolor": "white",
           "lakecolor": "white",
           "landcolor": "#E5ECF6",
           "showlakes": true,
           "showland": true,
           "subunitcolor": "white"
          },
          "hoverlabel": {
           "align": "left"
          },
          "hovermode": "closest",
          "mapbox": {
           "style": "light"
          },
          "paper_bgcolor": "white",
          "plot_bgcolor": "#E5ECF6",
          "polar": {
           "angularaxis": {
            "gridcolor": "white",
            "linecolor": "white",
            "ticks": ""
           },
           "bgcolor": "#E5ECF6",
           "radialaxis": {
            "gridcolor": "white",
            "linecolor": "white",
            "ticks": ""
           }
          },
          "scene": {
           "xaxis": {
            "backgroundcolor": "#E5ECF6",
            "gridcolor": "white",
            "gridwidth": 2,
            "linecolor": "white",
            "showbackground": true,
            "ticks": "",
            "zerolinecolor": "white"
           },
           "yaxis": {
            "backgroundcolor": "#E5ECF6",
            "gridcolor": "white",
            "gridwidth": 2,
            "linecolor": "white",
            "showbackground": true,
            "ticks": "",
            "zerolinecolor": "white"
           },
           "zaxis": {
            "backgroundcolor": "#E5ECF6",
            "gridcolor": "white",
            "gridwidth": 2,
            "linecolor": "white",
            "showbackground": true,
            "ticks": "",
            "zerolinecolor": "white"
           }
          },
          "shapedefaults": {
           "line": {
            "color": "#2a3f5f"
           }
          },
          "ternary": {
           "aaxis": {
            "gridcolor": "white",
            "linecolor": "white",
            "ticks": ""
           },
           "baxis": {
            "gridcolor": "white",
            "linecolor": "white",
            "ticks": ""
           },
           "bgcolor": "#E5ECF6",
           "caxis": {
            "gridcolor": "white",
            "linecolor": "white",
            "ticks": ""
           }
          },
          "title": {
           "x": 0.05
          },
          "xaxis": {
           "automargin": true,
           "gridcolor": "white",
           "linecolor": "white",
           "ticks": "",
           "title": {
            "standoff": 15
           },
           "zerolinecolor": "white",
           "zerolinewidth": 2
          },
          "yaxis": {
           "automargin": true,
           "gridcolor": "white",
           "linecolor": "white",
           "ticks": "",
           "title": {
            "standoff": 15
           },
           "zerolinecolor": "white",
           "zerolinewidth": 2
          }
         }
        },
        "title": {
         "text": "p_plus"
        },
        "xaxis": {
         "title": {
          "text": "Time"
         }
        },
        "yaxis": {
         "title": {
          "text": "Probability"
         }
        }
       }
      }
     },
     "metadata": {},
     "output_type": "display_data"
    }
   ],
   "source": [
    "sch.visualize_system('p_plus')"
   ]
  }
 ],
 "metadata": {
  "kernelspec": {
   "display_name": "scheduling",
   "language": "python",
   "name": "python3"
  },
  "language_info": {
   "codemirror_mode": {
    "name": "ipython",
    "version": 3
   },
   "file_extension": ".py",
   "mimetype": "text/x-python",
   "name": "python",
   "nbconvert_exporter": "python",
   "pygments_lexer": "ipython3",
   "version": "3.11.3"
  },
  "orig_nbformat": 4
 },
 "nbformat": 4,
 "nbformat_minor": 2
}
