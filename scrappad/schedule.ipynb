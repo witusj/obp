{
 "cells": [
  {
   "cell_type": "code",
   "execution_count": 2,
   "metadata": {},
   "outputs": [],
   "source": [
    "import numpy as np"
   ]
  },
  {
   "attachments": {},
   "cell_type": "markdown",
   "metadata": {},
   "source": [
    "A schedule with T intervals can have T states. A state of a schedule at interval T is defined by $p^-_t(i)$, the amount of work left at the end of the state at interval $t-1$ and $v_t(i)$, the arriving amount of work in interval $t$."
   ]
  },
  {
   "cell_type": "code",
   "execution_count": 125,
   "metadata": {},
   "outputs": [
    {
     "data": {
      "text/plain": [
       "{'p_min': array([[1.  , 0.  , 0.  , 0.  , 0.  , 0.  ],\n",
       "        [0.6 , 0.2 , 0.15, 0.05, 0.  , 0.  ],\n",
       "        [0.95, 0.05, 0.  , 0.  , 0.  , 0.  ]]),\n",
       " 'v': array([[0.1 , 0.2 , 0.3 , 0.2 , 0.15, 0.05],\n",
       "        [0.  , 0.  , 0.  , 0.  , 0.  , 0.  ],\n",
       "        [0.  , 0.  , 0.  , 0.  , 0.  , 0.  ]]),\n",
       " 'p_plus': array([[0.1 , 0.2 , 0.3 , 0.2 , 0.15, 0.05],\n",
       "        [0.6 , 0.2 , 0.15, 0.05, 0.  , 0.  ],\n",
       "        [0.95, 0.05, 0.  , 0.  , 0.  , 0.  ]])}"
      ]
     },
     "execution_count": 125,
     "metadata": {},
     "output_type": "execute_result"
    }
   ],
   "source": [
    "\"\"\"\n",
    "A schedule class with a constructor and a method to calculate the system states.\n",
    "\"\"\"\n",
    "class Schedule:\n",
    "    def __init__(self, x, d, s):\n",
    "        self.parameters = dict({'x': x, 'd': d, 's': s})\n",
    "        self.system = dict({\n",
    "            'p_min': np.zeros((len(self.parameters['x']), len(self.parameters['s'])), dtype=np.float64),\n",
    "            'v': np.zeros((len(self.parameters['x']), len(self.parameters['s'])), dtype=np.float64)\n",
    "        })\n",
    "        self.system['p_min'][0][0] = 1\n",
    "        self.system['v'][0] = self.parameters['s'].copy()\n",
    "        self.system['p_plus'] = self.system['v'].copy()\n",
    "        self.state = 0 # 0: initial state\n",
    "        \n",
    "    def calculate_system_states(self, until = 1):\n",
    "\n",
    "            while self.state < until:\n",
    "                \"\"\"Set state to 1, because state 0 has already been calculated in the constructor.\"\"\"\n",
    "                self.state += 1\n",
    "                \n",
    "                \"\"\"The probability that the amount of work left in the system equals zero just before state t starts \n",
    "                is the probablity that the total amount work in state t-1 was less than or equal to the interval length d.\"\"\"\n",
    "                self.system['p_min'][self.state][0] = np.sum(self.system['p_plus'][self.state-1][:self.parameters['d']])\n",
    "                \n",
    "                \"\"\"The probability that the amount of work left in the system equals i just before state t starts \n",
    "                is the probablity that the total amount work in state t-1 exceeded the interval length d with amount i.\"\"\"\n",
    "                self.system['p_min'][self.state][1:(-1*self.parameters['d']+1)] = self.system['p_plus'][self.state-1][self.parameters['d']:]\n",
    "                \n",
    "                \"\"\"Just a test. This is not the actual calculation.\"\"\"\n",
    "                self.system['p_plus'][self.state] = self.system['p_min'][self.state] # \n",
    "                \n",
    "\n",
    "schedule = Schedule(x=np.array([1, 0, 2], dtype=np.float64), d=3, s=np.array(\n",
    "    [0.1, 0.2, 0.3, 0.2, 0.15, 0.05], dtype=np.float64))\n",
    "schedule.calculate_system_states(until = 2)\n",
    "schedule.system\n"
   ]
  }
 ],
 "metadata": {
  "kernelspec": {
   "display_name": "scheduling",
   "language": "python",
   "name": "python3"
  },
  "language_info": {
   "codemirror_mode": {
    "name": "ipython",
    "version": 3
   },
   "file_extension": ".py",
   "mimetype": "text/x-python",
   "name": "python",
   "nbconvert_exporter": "python",
   "pygments_lexer": "ipython3",
   "version": "3.11.3"
  },
  "orig_nbformat": 4
 },
 "nbformat": 4,
 "nbformat_minor": 2
}
